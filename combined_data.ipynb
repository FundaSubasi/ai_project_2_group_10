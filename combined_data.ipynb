{
 "cells": [
  {
   "cell_type": "markdown",
   "metadata": {},
   "source": [
    "# **Reel Returns**\n",
    "#### *Machine Learning Insights into Movie Profitability*"
   ]
  },
  {
   "cell_type": "code",
   "execution_count": 1,
   "metadata": {},
   "outputs": [],
   "source": [
    "# Importing dependencies\n",
    "import pandas as pd\n",
    "import matplotlib.pyplot as plt\n",
    "from matplotlib.ticker import StrMethodFormatter\n",
    "from sklearn.model_selection import train_test_split\n",
    "from sklearn.preprocessing import StandardScaler, OneHotEncoder, LabelEncoder\n",
    "from sklearn.linear_model import LogisticRegression, LinearRegression\n",
    "from sklearn.neighbors import KNeighborsClassifier\n",
    "from sklearn.model_selection import GridSearchCV #Retained for KNN commented cell\n",
    "from sklearn.decomposition import PCA\n",
    "from sklearn.ensemble import RandomForestClassifier, AdaBoostClassifier\n",
    "from sklearn.metrics import accuracy_score, precision_score, mean_squared_error, r2_score"
   ]
  },
  {
   "cell_type": "code",
   "execution_count": 2,
   "metadata": {},
   "outputs": [
    {
     "name": "stdout",
     "output_type": "stream",
     "text": [
      "Note: you may need to restart the kernel to use updated packages.\n"
     ]
    }
   ],
   "source": [
    "# Installing gdown (comment out if uneeded)\n",
    "%pip install gdown --quiet\n",
    "\n",
    "# Importing gdown\n",
    "import gdown"
   ]
  },
  {
   "cell_type": "markdown",
   "metadata": {},
   "source": [
    "# **Data**"
   ]
  },
  {
   "cell_type": "markdown",
   "metadata": {},
   "source": [
    "## Movie Data"
   ]
  },
  {
   "cell_type": "markdown",
   "metadata": {},
   "source": [
    "Numerous factors contribue to the successes and failures within the film industry, both on critical and financial scales. Using a simplified view to focus on more generalized classifications, as well as to meet the puposes of our modelling, several contributing factors were chosen to highlight and predict each scale of success within our selected dataset. The features ultimately chosen were;\n",
    "\n",
    "* Vote Average (a given movie's rating from zero (0) to ten (10))\n",
    "* Vote Count\n",
    "* Revenue (total earnings in USD for a given movie)\n",
    "* Runtime\n",
    "* Budget (total expenses in USD to produce and promote a given movie)\n",
    "* Title\n",
    "* Original Title\n",
    "* Genres\n",
    "* Production Companies\n",
    "\n",
    "To create our `critical_success` indicator - a classification as to how well recieved a title was by fans and critics - we focused on the `vote_average` feature to create guidelines for ranges of scores.\n",
    "\n",
    "To engineer a `financial_success` indicator - a measure of what level of returns a tital produced - we used the percentage calculated as `budget` subtracted from `revenue`, then divided by `budget`, and compared the results to industry standard breakpoints.\n",
    "\n",
    "---\n",
    "\n",
    "The following dataset is courtesy of __[Kaggle](https://www.kaggle.com/)__.\n",
    "\n",
    "**__[TMDB_all_movies.csv](https://www.kaggle.com/datasets/alanvourch/tmdb-movies-daily-updates?select=TMDB_all_movies.csv)__**\n",
    "\n",
    "Per the dataset description;\n",
    "\n",
    "* This dataset was curated from __[The Movie Database](https://www.themoviedb.org/?language=en-US)__, and inspired by __[asaniczka](https://www.kaggle.com/asaniczka)__'s __[dataset](https://www.kaggle.com/datasets/asaniczka/tmdb-movies-dataset-2023-930k-movies)__\n",
    "* While updated daily, the dataset used in this notebook was downloaded on **7/7/2024**"
   ]
  },
  {
   "cell_type": "code",
   "execution_count": 3,
   "metadata": {},
   "outputs": [
    {
     "data": {
      "text/plain": [
       "'Resources/TMDB_all_movies.csv'"
      ]
     },
     "execution_count": 3,
     "metadata": {},
     "output_type": "execute_result"
    }
   ],
   "source": [
    "# Declaring `url` and `output` for dataset\n",
    "url = 'https://drive.google.com/file/d/1Om73B4In4cHj0Rf6aIGOi3-8iXWbDAWg/view?usp=sharing'\n",
    "output = 'Resources/TMDB_all_movies.csv'\n",
    "\n",
    "# Downloading dataset\n",
    "gdown.download(url, output, fuzzy=True, quiet=True)"
   ]
  },
  {
   "cell_type": "code",
   "execution_count": 4,
   "metadata": {},
   "outputs": [],
   "source": [
    "# Reading in dataset\n",
    "tmdb_data = pd.read_csv(output)"
   ]
  },
  {
   "cell_type": "markdown",
   "metadata": {},
   "source": [
    "### Defining functions\n",
    "\n",
    "The following function will be used code to help streamline the flow of the code."
   ]
  },
  {
   "cell_type": "markdown",
   "metadata": {},
   "source": [
    "#### Universal functions\n",
    "\n",
    "Applicable to all datasets\n",
    "\n",
    "**Null Percentages**\n",
    "\n",
    "Calculating the percentage of null values, by feature, in a given dataset\n",
    "\n",
    "**Records Total**\n",
    "\n",
    "Confirming the total records for a given dataset"
   ]
  },
  {
   "cell_type": "code",
   "execution_count": 5,
   "metadata": {},
   "outputs": [],
   "source": [
    "# Defining a function to calculate the percentage of null values in\n",
    "# each feature of given DF\n",
    "def null_percentages(df):\n",
    "    return df.isnull().sum()/len(df)*100\n",
    "\n",
    "# Defining a function to display the total records for a given DF\n",
    "def records_total(df):\n",
    "    print(f'Total records: {df.shape[0]}')"
   ]
  },
  {
   "cell_type": "markdown",
   "metadata": {},
   "source": [
    "#### Situational functions\n",
    "\n",
    "Applicable to some datasets or situations\n",
    "\n",
    "**Records Total by Feature Value**\n",
    "\n",
    "Confirming the total records for a given dataset based on a stated value for a single selected feature"
   ]
  },
  {
   "cell_type": "code",
   "execution_count": 6,
   "metadata": {},
   "outputs": [],
   "source": [
    "# Defining a function to display the total records for a given DF based on\n",
    "# a stated value for a single selected feature\n",
    "def records_total_feat(df, feature, value):\n",
    "    print(f\"Total selected records for '{feature}' of '{value}': {df.loc[df[feature] == value].shape[0]}\")"
   ]
  },
  {
   "cell_type": "markdown",
   "metadata": {},
   "source": [
    "### Initial EDA"
   ]
  },
  {
   "cell_type": "code",
   "execution_count": 7,
   "metadata": {},
   "outputs": [
    {
     "data": {
      "text/html": [
       "<div>\n",
       "<style scoped>\n",
       "    .dataframe tbody tr th:only-of-type {\n",
       "        vertical-align: middle;\n",
       "    }\n",
       "\n",
       "    .dataframe tbody tr th {\n",
       "        vertical-align: top;\n",
       "    }\n",
       "\n",
       "    .dataframe thead th {\n",
       "        text-align: right;\n",
       "    }\n",
       "</style>\n",
       "<table border=\"1\" class=\"dataframe\">\n",
       "  <thead>\n",
       "    <tr style=\"text-align: right;\">\n",
       "      <th></th>\n",
       "      <th>id</th>\n",
       "      <th>title</th>\n",
       "      <th>vote_average</th>\n",
       "      <th>vote_count</th>\n",
       "      <th>status</th>\n",
       "      <th>release_date</th>\n",
       "      <th>revenue</th>\n",
       "      <th>runtime</th>\n",
       "      <th>budget</th>\n",
       "      <th>imdb_id</th>\n",
       "      <th>...</th>\n",
       "      <th>genres</th>\n",
       "      <th>production_companies</th>\n",
       "      <th>production_countries</th>\n",
       "      <th>spoken_languages</th>\n",
       "      <th>cast</th>\n",
       "      <th>director</th>\n",
       "      <th>director_of_photography</th>\n",
       "      <th>writers</th>\n",
       "      <th>producers</th>\n",
       "      <th>music_composer</th>\n",
       "    </tr>\n",
       "  </thead>\n",
       "  <tbody>\n",
       "    <tr>\n",
       "      <th>0</th>\n",
       "      <td>2</td>\n",
       "      <td>Ariel</td>\n",
       "      <td>7.1</td>\n",
       "      <td>318.0</td>\n",
       "      <td>Released</td>\n",
       "      <td>1988-10-21</td>\n",
       "      <td>0.0</td>\n",
       "      <td>73.0</td>\n",
       "      <td>0.0</td>\n",
       "      <td>tt0094675</td>\n",
       "      <td>...</td>\n",
       "      <td>Drama, Comedy, Romance, Crime</td>\n",
       "      <td>Villealfa Filmproductions</td>\n",
       "      <td>Finland</td>\n",
       "      <td>suomi</td>\n",
       "      <td>Kari Helaseppä, Susanna Haavisto, Hannu Kivisa...</td>\n",
       "      <td>Aki Kaurismäki</td>\n",
       "      <td>Timo Salminen</td>\n",
       "      <td>Aki Kaurismäki</td>\n",
       "      <td>Aki Kaurismäki</td>\n",
       "      <td>NaN</td>\n",
       "    </tr>\n",
       "    <tr>\n",
       "      <th>1</th>\n",
       "      <td>3</td>\n",
       "      <td>Shadows in Paradise</td>\n",
       "      <td>7.3</td>\n",
       "      <td>360.0</td>\n",
       "      <td>Released</td>\n",
       "      <td>1986-10-17</td>\n",
       "      <td>0.0</td>\n",
       "      <td>74.0</td>\n",
       "      <td>0.0</td>\n",
       "      <td>tt0092149</td>\n",
       "      <td>...</td>\n",
       "      <td>Drama, Comedy, Romance</td>\n",
       "      <td>Villealfa Filmproductions</td>\n",
       "      <td>Finland</td>\n",
       "      <td>suomi, English, svenska</td>\n",
       "      <td>Helmeri Pellonpää, Tanja Talaskivi, Esko Nikka...</td>\n",
       "      <td>Aki Kaurismäki</td>\n",
       "      <td>Timo Salminen</td>\n",
       "      <td>Aki Kaurismäki</td>\n",
       "      <td>Mika Kaurismäki</td>\n",
       "      <td>NaN</td>\n",
       "    </tr>\n",
       "    <tr>\n",
       "      <th>2</th>\n",
       "      <td>5</td>\n",
       "      <td>Four Rooms</td>\n",
       "      <td>5.8</td>\n",
       "      <td>2578.0</td>\n",
       "      <td>Released</td>\n",
       "      <td>1995-12-09</td>\n",
       "      <td>4257354.0</td>\n",
       "      <td>98.0</td>\n",
       "      <td>4000000.0</td>\n",
       "      <td>tt0113101</td>\n",
       "      <td>...</td>\n",
       "      <td>Comedy</td>\n",
       "      <td>Miramax, A Band Apart</td>\n",
       "      <td>United States of America</td>\n",
       "      <td>English</td>\n",
       "      <td>Kimberly Blair, Sammi Davis, Paul Skemp, Bruce...</td>\n",
       "      <td>Alexandre Rockwell, Quentin Tarantino, Allison...</td>\n",
       "      <td>Andrzej Sekula, Rodrigo García, Guillermo Nava...</td>\n",
       "      <td>Alexandre Rockwell, Quentin Tarantino, Allison...</td>\n",
       "      <td>Alexandre Rockwell, Lawrence Bender, Quentin T...</td>\n",
       "      <td>Combustible Edison</td>\n",
       "    </tr>\n",
       "    <tr>\n",
       "      <th>3</th>\n",
       "      <td>6</td>\n",
       "      <td>Judgment Night</td>\n",
       "      <td>6.5</td>\n",
       "      <td>326.0</td>\n",
       "      <td>Released</td>\n",
       "      <td>1993-10-15</td>\n",
       "      <td>12136938.0</td>\n",
       "      <td>109.0</td>\n",
       "      <td>21000000.0</td>\n",
       "      <td>tt0107286</td>\n",
       "      <td>...</td>\n",
       "      <td>Action, Crime, Thriller</td>\n",
       "      <td>Largo Entertainment, JVC, Universal Pictures</td>\n",
       "      <td>United States of America</td>\n",
       "      <td>English</td>\n",
       "      <td>Doug Wert, Michael DeLorenzo, Everlast, Christ...</td>\n",
       "      <td>Stephen Hopkins</td>\n",
       "      <td>Peter Levy</td>\n",
       "      <td>Jere Cunningham, Lewis Colick</td>\n",
       "      <td>Marilyn Vance, Gene Levy, Lloyd Segan</td>\n",
       "      <td>Alan Silvestri</td>\n",
       "    </tr>\n",
       "    <tr>\n",
       "      <th>4</th>\n",
       "      <td>8</td>\n",
       "      <td>Life in Loops (A Megacities RMX)</td>\n",
       "      <td>7.5</td>\n",
       "      <td>27.0</td>\n",
       "      <td>Released</td>\n",
       "      <td>2006-01-01</td>\n",
       "      <td>0.0</td>\n",
       "      <td>80.0</td>\n",
       "      <td>42000.0</td>\n",
       "      <td>tt0825671</td>\n",
       "      <td>...</td>\n",
       "      <td>Documentary</td>\n",
       "      <td>inLoops</td>\n",
       "      <td>Austria</td>\n",
       "      <td>English, हिन्दी, 日本語, Pусский, Español</td>\n",
       "      <td>NaN</td>\n",
       "      <td>Timo Novotny</td>\n",
       "      <td>Wolfgang Thaler</td>\n",
       "      <td>Michael Glawogger, Timo Novotny</td>\n",
       "      <td>Ulrich Gehmacher, Timo Novotny</td>\n",
       "      <td>NaN</td>\n",
       "    </tr>\n",
       "  </tbody>\n",
       "</table>\n",
       "<p>5 rows × 25 columns</p>\n",
       "</div>"
      ],
      "text/plain": [
       "   id                             title  vote_average  vote_count    status  \\\n",
       "0   2                             Ariel           7.1       318.0  Released   \n",
       "1   3               Shadows in Paradise           7.3       360.0  Released   \n",
       "2   5                        Four Rooms           5.8      2578.0  Released   \n",
       "3   6                    Judgment Night           6.5       326.0  Released   \n",
       "4   8  Life in Loops (A Megacities RMX)           7.5        27.0  Released   \n",
       "\n",
       "  release_date     revenue  runtime      budget    imdb_id  ...  \\\n",
       "0   1988-10-21         0.0     73.0         0.0  tt0094675  ...   \n",
       "1   1986-10-17         0.0     74.0         0.0  tt0092149  ...   \n",
       "2   1995-12-09   4257354.0     98.0   4000000.0  tt0113101  ...   \n",
       "3   1993-10-15  12136938.0    109.0  21000000.0  tt0107286  ...   \n",
       "4   2006-01-01         0.0     80.0     42000.0  tt0825671  ...   \n",
       "\n",
       "                          genres  \\\n",
       "0  Drama, Comedy, Romance, Crime   \n",
       "1         Drama, Comedy, Romance   \n",
       "2                         Comedy   \n",
       "3        Action, Crime, Thriller   \n",
       "4                    Documentary   \n",
       "\n",
       "                           production_companies      production_countries  \\\n",
       "0                     Villealfa Filmproductions                   Finland   \n",
       "1                     Villealfa Filmproductions                   Finland   \n",
       "2                         Miramax, A Band Apart  United States of America   \n",
       "3  Largo Entertainment, JVC, Universal Pictures  United States of America   \n",
       "4                                       inLoops                   Austria   \n",
       "\n",
       "                         spoken_languages  \\\n",
       "0                                   suomi   \n",
       "1                 suomi, English, svenska   \n",
       "2                                 English   \n",
       "3                                 English   \n",
       "4  English, हिन्दी, 日本語, Pусский, Español   \n",
       "\n",
       "                                                cast  \\\n",
       "0  Kari Helaseppä, Susanna Haavisto, Hannu Kivisa...   \n",
       "1  Helmeri Pellonpää, Tanja Talaskivi, Esko Nikka...   \n",
       "2  Kimberly Blair, Sammi Davis, Paul Skemp, Bruce...   \n",
       "3  Doug Wert, Michael DeLorenzo, Everlast, Christ...   \n",
       "4                                                NaN   \n",
       "\n",
       "                                            director  \\\n",
       "0                                     Aki Kaurismäki   \n",
       "1                                     Aki Kaurismäki   \n",
       "2  Alexandre Rockwell, Quentin Tarantino, Allison...   \n",
       "3                                    Stephen Hopkins   \n",
       "4                                       Timo Novotny   \n",
       "\n",
       "                             director_of_photography  \\\n",
       "0                                      Timo Salminen   \n",
       "1                                      Timo Salminen   \n",
       "2  Andrzej Sekula, Rodrigo García, Guillermo Nava...   \n",
       "3                                         Peter Levy   \n",
       "4                                    Wolfgang Thaler   \n",
       "\n",
       "                                             writers  \\\n",
       "0                                     Aki Kaurismäki   \n",
       "1                                     Aki Kaurismäki   \n",
       "2  Alexandre Rockwell, Quentin Tarantino, Allison...   \n",
       "3                      Jere Cunningham, Lewis Colick   \n",
       "4                    Michael Glawogger, Timo Novotny   \n",
       "\n",
       "                                           producers      music_composer  \n",
       "0                                     Aki Kaurismäki                 NaN  \n",
       "1                                    Mika Kaurismäki                 NaN  \n",
       "2  Alexandre Rockwell, Lawrence Bender, Quentin T...  Combustible Edison  \n",
       "3              Marilyn Vance, Gene Levy, Lloyd Segan      Alan Silvestri  \n",
       "4                     Ulrich Gehmacher, Timo Novotny                 NaN  \n",
       "\n",
       "[5 rows x 25 columns]"
      ]
     },
     "execution_count": 7,
     "metadata": {},
     "output_type": "execute_result"
    }
   ],
   "source": [
    "# Viewing `tmdb_data`\n",
    "tmdb_data.head()"
   ]
  },
  {
   "cell_type": "code",
   "execution_count": 8,
   "metadata": {},
   "outputs": [
    {
     "data": {
      "text/plain": [
       "id                          0.000000\n",
       "title                       0.000734\n",
       "vote_average                0.000105\n",
       "vote_count                  0.000105\n",
       "status                      0.000105\n",
       "release_date                9.757596\n",
       "revenue                     0.000105\n",
       "runtime                     0.000105\n",
       "budget                      0.000105\n",
       "imdb_id                    40.321625\n",
       "original_language           0.000105\n",
       "original_title              0.000839\n",
       "overview                   16.772592\n",
       "popularity                  0.000105\n",
       "tagline                    85.183038\n",
       "genres                     28.745660\n",
       "production_companies       53.719734\n",
       "production_countries       38.775472\n",
       "spoken_languages           38.031494\n",
       "cast                       32.765239\n",
       "director                   17.363790\n",
       "director_of_photography    76.150754\n",
       "writers                    51.557321\n",
       "producers                  68.386118\n",
       "music_composer             90.187562\n",
       "dtype: float64"
      ]
     },
     "execution_count": 8,
     "metadata": {},
     "output_type": "execute_result"
    }
   ],
   "source": [
    "# Applying `null_percentages` to `tmdb_data`\n",
    "null_percentages(tmdb_data)"
   ]
  },
  {
   "cell_type": "markdown",
   "metadata": {},
   "source": [
    "#### Reducing features and dataset\n",
    "\n",
    "Dropping uneeded features and reducing dataset to domestic released movies"
   ]
  },
  {
   "cell_type": "code",
   "execution_count": 9,
   "metadata": {},
   "outputs": [
    {
     "data": {
      "text/plain": [
       "id                       0.000000\n",
       "title                    0.000734\n",
       "vote_average             0.000105\n",
       "vote_count               0.000105\n",
       "status                   0.000105\n",
       "release_date             9.757596\n",
       "revenue                  0.000105\n",
       "runtime                  0.000105\n",
       "budget                   0.000105\n",
       "original_language        0.000105\n",
       "original_title           0.000839\n",
       "popularity               0.000105\n",
       "genres                  28.745660\n",
       "production_companies    53.719734\n",
       "production_countries    38.775472\n",
       "spoken_languages        38.031494\n",
       "cast                    32.765239\n",
       "director                17.363790\n",
       "writers                 51.557321\n",
       "producers               68.386118\n",
       "dtype: float64"
      ]
     },
     "execution_count": 9,
     "metadata": {},
     "output_type": "execute_result"
    }
   ],
   "source": [
    "# Creating a list of uneeded features\n",
    "movie_cols_to_drop = [\n",
    "    'imdb_id','overview', 'tagline', 'director_of_photography', 'music_composer'\n",
    "]\n",
    "\n",
    "# Dropping uneeded features\n",
    "tmdb_data.drop(columns=movie_cols_to_drop,inplace=True)\n",
    "\n",
    "# Reapplying `null_percentages` to `tmdb_data`\n",
    "null_percentages(tmdb_data)"
   ]
  },
  {
   "cell_type": "code",
   "execution_count": 10,
   "metadata": {},
   "outputs": [
    {
     "data": {
      "text/plain": [
       "status\n",
       "Released           938763\n",
       "In Production        4623\n",
       "Planned              4507\n",
       "Post Production      4465\n",
       "Rumored               860\n",
       "Canceled              438\n",
       "Name: count, dtype: int64"
      ]
     },
     "execution_count": 10,
     "metadata": {},
     "output_type": "execute_result"
    }
   ],
   "source": [
    "# Confirming values of `status`\n",
    "tmdb_data['status'].value_counts()"
   ]
  },
  {
   "cell_type": "code",
   "execution_count": 11,
   "metadata": {},
   "outputs": [
    {
     "data": {
      "text/plain": [
       "production_countries\n",
       "United States of America            138379\n",
       "Japan                                36207\n",
       "United Kingdom                       33218\n",
       "France                               31704\n",
       "Germany                              30449\n",
       "                                     ...  \n",
       "Brazil, Italy, France                    1\n",
       "France, Brazil, Argentina                1\n",
       "Turkey, Brazil, Iran, Lebanon            1\n",
       "Germany, Peru, Spain                     1\n",
       "India, Mauritius, United Kingdom         1\n",
       "Name: count, Length: 10378, dtype: int64"
      ]
     },
     "execution_count": 11,
     "metadata": {},
     "output_type": "execute_result"
    }
   ],
   "source": [
    "# Confirming values of `production_countries`\n",
    "tmdb_data['production_countries'].value_counts()"
   ]
  },
  {
   "cell_type": "code",
   "execution_count": 12,
   "metadata": {},
   "outputs": [
    {
     "data": {
      "text/plain": [
       "id                       0.000000\n",
       "title                    0.001479\n",
       "vote_average             0.000000\n",
       "vote_count               0.000000\n",
       "status                   0.000000\n",
       "release_date             1.397935\n",
       "revenue                  0.000000\n",
       "runtime                  0.000000\n",
       "budget                   0.000000\n",
       "original_language        0.000000\n",
       "original_title           0.002218\n",
       "popularity               0.000000\n",
       "genres                   8.094122\n",
       "production_companies    24.679347\n",
       "production_countries     0.000000\n",
       "spoken_languages        21.482801\n",
       "cast                    15.103755\n",
       "director                 9.390779\n",
       "writers                 34.214281\n",
       "producers               49.223411\n",
       "dtype: float64"
      ]
     },
     "execution_count": 12,
     "metadata": {},
     "output_type": "execute_result"
    }
   ],
   "source": [
    "# Reducing dataset to only `Released` movies produced in `United States of America`\n",
    "df_movies = tmdb_data.loc[\n",
    "    (tmdb_data['production_countries'] == 'United States of America') &\n",
    "    (tmdb_data['status'] == 'Released')\n",
    "].copy()\n",
    "\n",
    "# Applying `null_percentages` to `us_tmdb_df`\n",
    "null_percentages(df_movies)"
   ]
  },
  {
   "cell_type": "markdown",
   "metadata": {},
   "source": [
    "### Engineering\n",
    "\n",
    "Engineering the two success target values, converting `rlease_date` to datetime, and reducing the `genres` feature"
   ]
  },
  {
   "cell_type": "markdown",
   "metadata": {},
   "source": [
    "#### Critical success\n",
    "\n",
    "With a rating scale of zero (0) to ten (10), ranges can be established to break a given movie's critical success down by the following scale;\n",
    "\n",
    "* **0 to 2.5**: `panned`\n",
    "* **2.5 to 5**: `alright`\n",
    "* **5 to 7.5**: `well liked`\n",
    "* **7.5 to 10**: `critical success`"
   ]
  },
  {
   "cell_type": "code",
   "execution_count": 13,
   "metadata": {},
   "outputs": [
    {
     "data": {
      "text/plain": [
       "count    135271.000000\n",
       "mean          3.329732\n",
       "std           3.163944\n",
       "min           0.000000\n",
       "25%           0.000000\n",
       "50%           4.000000\n",
       "75%           6.000000\n",
       "max          10.000000\n",
       "Name: vote_average, dtype: float64"
      ]
     },
     "execution_count": 13,
     "metadata": {},
     "output_type": "execute_result"
    }
   ],
   "source": [
    "# Confirming values of `vote_average`\n",
    "df_movies['vote_average'].describe()"
   ]
  },
  {
   "cell_type": "code",
   "execution_count": 14,
   "metadata": {},
   "outputs": [
    {
     "data": {
      "text/html": [
       "<div>\n",
       "<style scoped>\n",
       "    .dataframe tbody tr th:only-of-type {\n",
       "        vertical-align: middle;\n",
       "    }\n",
       "\n",
       "    .dataframe tbody tr th {\n",
       "        vertical-align: top;\n",
       "    }\n",
       "\n",
       "    .dataframe thead th {\n",
       "        text-align: right;\n",
       "    }\n",
       "</style>\n",
       "<table border=\"1\" class=\"dataframe\">\n",
       "  <thead>\n",
       "    <tr style=\"text-align: right;\">\n",
       "      <th></th>\n",
       "      <th>id</th>\n",
       "      <th>title</th>\n",
       "      <th>vote_average</th>\n",
       "      <th>vote_count</th>\n",
       "      <th>status</th>\n",
       "      <th>release_date</th>\n",
       "      <th>revenue</th>\n",
       "      <th>runtime</th>\n",
       "      <th>budget</th>\n",
       "      <th>original_language</th>\n",
       "      <th>...</th>\n",
       "      <th>popularity</th>\n",
       "      <th>genres</th>\n",
       "      <th>production_companies</th>\n",
       "      <th>production_countries</th>\n",
       "      <th>spoken_languages</th>\n",
       "      <th>cast</th>\n",
       "      <th>director</th>\n",
       "      <th>writers</th>\n",
       "      <th>producers</th>\n",
       "      <th>critical_success</th>\n",
       "    </tr>\n",
       "  </thead>\n",
       "  <tbody>\n",
       "    <tr>\n",
       "      <th>2</th>\n",
       "      <td>5</td>\n",
       "      <td>Four Rooms</td>\n",
       "      <td>5.800</td>\n",
       "      <td>2578.0</td>\n",
       "      <td>Released</td>\n",
       "      <td>1995-12-09</td>\n",
       "      <td>4257354.0</td>\n",
       "      <td>98.0</td>\n",
       "      <td>4000000.0</td>\n",
       "      <td>en</td>\n",
       "      <td>...</td>\n",
       "      <td>24.747</td>\n",
       "      <td>Comedy</td>\n",
       "      <td>Miramax, A Band Apart</td>\n",
       "      <td>United States of America</td>\n",
       "      <td>English</td>\n",
       "      <td>Kimberly Blair, Sammi Davis, Paul Skemp, Bruce...</td>\n",
       "      <td>Alexandre Rockwell, Quentin Tarantino, Allison...</td>\n",
       "      <td>Alexandre Rockwell, Quentin Tarantino, Allison...</td>\n",
       "      <td>Alexandre Rockwell, Lawrence Bender, Quentin T...</td>\n",
       "      <td>well liked</td>\n",
       "    </tr>\n",
       "    <tr>\n",
       "      <th>3</th>\n",
       "      <td>6</td>\n",
       "      <td>Judgment Night</td>\n",
       "      <td>6.500</td>\n",
       "      <td>326.0</td>\n",
       "      <td>Released</td>\n",
       "      <td>1993-10-15</td>\n",
       "      <td>12136938.0</td>\n",
       "      <td>109.0</td>\n",
       "      <td>21000000.0</td>\n",
       "      <td>en</td>\n",
       "      <td>...</td>\n",
       "      <td>14.955</td>\n",
       "      <td>Action, Crime, Thriller</td>\n",
       "      <td>Largo Entertainment, JVC, Universal Pictures</td>\n",
       "      <td>United States of America</td>\n",
       "      <td>English</td>\n",
       "      <td>Doug Wert, Michael DeLorenzo, Everlast, Christ...</td>\n",
       "      <td>Stephen Hopkins</td>\n",
       "      <td>Jere Cunningham, Lewis Colick</td>\n",
       "      <td>Marilyn Vance, Gene Levy, Lloyd Segan</td>\n",
       "      <td>well liked</td>\n",
       "    </tr>\n",
       "    <tr>\n",
       "      <th>6</th>\n",
       "      <td>11</td>\n",
       "      <td>Star Wars</td>\n",
       "      <td>8.205</td>\n",
       "      <td>20190.0</td>\n",
       "      <td>Released</td>\n",
       "      <td>1977-05-25</td>\n",
       "      <td>775398007.0</td>\n",
       "      <td>121.0</td>\n",
       "      <td>11000000.0</td>\n",
       "      <td>en</td>\n",
       "      <td>...</td>\n",
       "      <td>170.493</td>\n",
       "      <td>Adventure, Action, Science Fiction</td>\n",
       "      <td>Lucasfilm Ltd., 20th Century Fox</td>\n",
       "      <td>United States of America</td>\n",
       "      <td>English</td>\n",
       "      <td>Anthony Lang, Anthony Daniels, Isaac Grand, Pe...</td>\n",
       "      <td>George Lucas</td>\n",
       "      <td>George Lucas</td>\n",
       "      <td>Gary Kurtz, George Lucas, Rick McCallum</td>\n",
       "      <td>critical success</td>\n",
       "    </tr>\n",
       "    <tr>\n",
       "      <th>7</th>\n",
       "      <td>12</td>\n",
       "      <td>Finding Nemo</td>\n",
       "      <td>7.821</td>\n",
       "      <td>18826.0</td>\n",
       "      <td>Released</td>\n",
       "      <td>2003-05-30</td>\n",
       "      <td>940335536.0</td>\n",
       "      <td>100.0</td>\n",
       "      <td>94000000.0</td>\n",
       "      <td>en</td>\n",
       "      <td>...</td>\n",
       "      <td>124.166</td>\n",
       "      <td>Animation, Family</td>\n",
       "      <td>Pixar</td>\n",
       "      <td>United States of America</td>\n",
       "      <td>English</td>\n",
       "      <td>Alexander Gould, Susan Blu, Michaela Jill Murp...</td>\n",
       "      <td>Andrew Stanton</td>\n",
       "      <td>Bob Peterson, Will Csaklos, Andrew Stanton, Ji...</td>\n",
       "      <td>John Lasseter, Graham Walters</td>\n",
       "      <td>critical success</td>\n",
       "    </tr>\n",
       "    <tr>\n",
       "      <th>8</th>\n",
       "      <td>13</td>\n",
       "      <td>Forrest Gump</td>\n",
       "      <td>8.476</td>\n",
       "      <td>26835.0</td>\n",
       "      <td>Released</td>\n",
       "      <td>1994-06-23</td>\n",
       "      <td>677387716.0</td>\n",
       "      <td>142.0</td>\n",
       "      <td>55000000.0</td>\n",
       "      <td>en</td>\n",
       "      <td>...</td>\n",
       "      <td>112.426</td>\n",
       "      <td>Comedy, Drama, Romance</td>\n",
       "      <td>Paramount Pictures, The Steve Tisch Company, W...</td>\n",
       "      <td>United States of America</td>\n",
       "      <td>English</td>\n",
       "      <td>Jason McGuire, Harold G. Herthum, Steve DeReli...</td>\n",
       "      <td>Robert Zemeckis</td>\n",
       "      <td>Eric Roth, Winston Groom</td>\n",
       "      <td>Steve Tisch, Steve Starkey, Wendy Finerman</td>\n",
       "      <td>critical success</td>\n",
       "    </tr>\n",
       "  </tbody>\n",
       "</table>\n",
       "<p>5 rows × 21 columns</p>\n",
       "</div>"
      ],
      "text/plain": [
       "   id           title  vote_average  vote_count    status release_date  \\\n",
       "2   5      Four Rooms         5.800      2578.0  Released   1995-12-09   \n",
       "3   6  Judgment Night         6.500       326.0  Released   1993-10-15   \n",
       "6  11       Star Wars         8.205     20190.0  Released   1977-05-25   \n",
       "7  12    Finding Nemo         7.821     18826.0  Released   2003-05-30   \n",
       "8  13    Forrest Gump         8.476     26835.0  Released   1994-06-23   \n",
       "\n",
       "       revenue  runtime      budget original_language  ... popularity  \\\n",
       "2    4257354.0     98.0   4000000.0                en  ...     24.747   \n",
       "3   12136938.0    109.0  21000000.0                en  ...     14.955   \n",
       "6  775398007.0    121.0  11000000.0                en  ...    170.493   \n",
       "7  940335536.0    100.0  94000000.0                en  ...    124.166   \n",
       "8  677387716.0    142.0  55000000.0                en  ...    112.426   \n",
       "\n",
       "                               genres  \\\n",
       "2                              Comedy   \n",
       "3             Action, Crime, Thriller   \n",
       "6  Adventure, Action, Science Fiction   \n",
       "7                   Animation, Family   \n",
       "8              Comedy, Drama, Romance   \n",
       "\n",
       "                                production_companies  \\\n",
       "2                              Miramax, A Band Apart   \n",
       "3       Largo Entertainment, JVC, Universal Pictures   \n",
       "6                   Lucasfilm Ltd., 20th Century Fox   \n",
       "7                                              Pixar   \n",
       "8  Paramount Pictures, The Steve Tisch Company, W...   \n",
       "\n",
       "       production_countries spoken_languages  \\\n",
       "2  United States of America          English   \n",
       "3  United States of America          English   \n",
       "6  United States of America          English   \n",
       "7  United States of America          English   \n",
       "8  United States of America          English   \n",
       "\n",
       "                                                cast  \\\n",
       "2  Kimberly Blair, Sammi Davis, Paul Skemp, Bruce...   \n",
       "3  Doug Wert, Michael DeLorenzo, Everlast, Christ...   \n",
       "6  Anthony Lang, Anthony Daniels, Isaac Grand, Pe...   \n",
       "7  Alexander Gould, Susan Blu, Michaela Jill Murp...   \n",
       "8  Jason McGuire, Harold G. Herthum, Steve DeReli...   \n",
       "\n",
       "                                            director  \\\n",
       "2  Alexandre Rockwell, Quentin Tarantino, Allison...   \n",
       "3                                    Stephen Hopkins   \n",
       "6                                       George Lucas   \n",
       "7                                     Andrew Stanton   \n",
       "8                                    Robert Zemeckis   \n",
       "\n",
       "                                             writers  \\\n",
       "2  Alexandre Rockwell, Quentin Tarantino, Allison...   \n",
       "3                      Jere Cunningham, Lewis Colick   \n",
       "6                                       George Lucas   \n",
       "7  Bob Peterson, Will Csaklos, Andrew Stanton, Ji...   \n",
       "8                           Eric Roth, Winston Groom   \n",
       "\n",
       "                                           producers  critical_success  \n",
       "2  Alexandre Rockwell, Lawrence Bender, Quentin T...        well liked  \n",
       "3              Marilyn Vance, Gene Levy, Lloyd Segan        well liked  \n",
       "6            Gary Kurtz, George Lucas, Rick McCallum  critical success  \n",
       "7                      John Lasseter, Graham Walters  critical success  \n",
       "8         Steve Tisch, Steve Starkey, Wendy Finerman  critical success  \n",
       "\n",
       "[5 rows x 21 columns]"
      ]
     },
     "execution_count": 14,
     "metadata": {},
     "output_type": "execute_result"
    }
   ],
   "source": [
    "# Creating bins to rate values of `vote_average`\n",
    "bins = [0, 2.5, 5, 7.5, 10]\n",
    "\n",
    "# Labelling bins\n",
    "critical_success = ['panned', 'alright', 'well liked', 'critical success']\n",
    "\n",
    "# Slicing the data and placing values in `critical_success`\n",
    "df_movies['critical_success'] = pd.cut(\n",
    "    df_movies['vote_average'], bins, labels=critical_success, include_lowest=True\n",
    ")\n",
    "\n",
    "# Confirming binned correctly\n",
    "df_movies.head()"
   ]
  },
  {
   "cell_type": "markdown",
   "metadata": {},
   "source": [
    "#### Financial success\n",
    "\n",
    "Classifying a given movie's financial success can be accomplished by generating a percentage to represent the return on investment (`roi`) calculated as;\n",
    "\n",
    "> ((`revenue`-`budget`)/`budget`) * 100\n",
    "\n",
    "The resulting value can then be compared to industry standard breakpoints to describe the folling classifications; \n",
    "\n",
    "* **Less than 0%**: `failure`\n",
    "* **Exactly 0%**: `broke even`\n",
    "* **Between 0% and 50%**: `modest returns`\n",
    "* **Between 50% and 100%**: `moderate returns`\n",
    "* **Between 100% and 500%**: `excellent returns`\n",
    "* **Over 500%**: `extraordinary returns`\n",
    "\n",
    "*Note: For the purposes of our modeling, only records with a `budget` NOT equal to zero (0) will be retained*"
   ]
  },
  {
   "cell_type": "code",
   "execution_count": 15,
   "metadata": {},
   "outputs": [
    {
     "name": "stdout",
     "output_type": "stream",
     "text": [
      "Total selected records for 'budget' of '0': 119417\n"
     ]
    }
   ],
   "source": [
    "# Confirming total records with a `budget` of `0\n",
    "records_total_feat(df_movies, 'budget', 0)"
   ]
  },
  {
   "cell_type": "code",
   "execution_count": 16,
   "metadata": {},
   "outputs": [
    {
     "name": "stdout",
     "output_type": "stream",
     "text": [
      "Total selected records for 'budget' of '0': 0\n"
     ]
    }
   ],
   "source": [
    "# Selecting only records with a `budget` NOT equal to `0`\n",
    "df_movies = df_movies[df_movies['budget'] != 0].copy()\n",
    "\n",
    "# Confirming new total records with a `budget` of `0`\n",
    "records_total_feat(df_movies, 'budget', 0)"
   ]
  },
  {
   "cell_type": "code",
   "execution_count": 17,
   "metadata": {},
   "outputs": [
    {
     "data": {
      "text/plain": [
       "count    1.585400e+04\n",
       "mean     2.076172e+05\n",
       "std      1.779762e+07\n",
       "min     -2.000000e+02\n",
       "25%     -1.000000e+02\n",
       "50%     -1.000000e+02\n",
       "75%      0.000000e+00\n",
       "max      2.000000e+09\n",
       "Name: roi, dtype: float64"
      ]
     },
     "execution_count": 17,
     "metadata": {},
     "output_type": "execute_result"
    }
   ],
   "source": [
    "# Calculating `roi` as described above\n",
    "df_movies['roi'] = (\n",
    "    (df_movies['revenue'] - df_movies['budget'])/df_movies['budget']\n",
    ") * 100\n",
    "\n",
    "# Confirming values of `roi`\n",
    "df_movies['roi'].describe()"
   ]
  },
  {
   "cell_type": "code",
   "execution_count": 18,
   "metadata": {},
   "outputs": [
    {
     "name": "stdout",
     "output_type": "stream",
     "text": [
      "Total selected records for 'roi' of '0': 133\n"
     ]
    }
   ],
   "source": [
    "# Confirming total records with a `roi` of `0`\n",
    "records_total_feat(df_movies, 'roi', 0)"
   ]
  },
  {
   "cell_type": "code",
   "execution_count": 19,
   "metadata": {},
   "outputs": [
    {
     "data": {
      "text/plain": [
       "financial_success\n",
       "broke even               133\n",
       "failure                    0\n",
       "modest returns             0\n",
       "moderate returns           0\n",
       "excellent returns          0\n",
       "extraordinary returns      0\n",
       "Name: count, dtype: int64"
      ]
     },
     "execution_count": 19,
     "metadata": {},
     "output_type": "execute_result"
    }
   ],
   "source": [
    "# Creating bins to rate values of `roi`\n",
    "bins = [-float('inf'), 0, 50, 100, 500, float('inf')]\n",
    "\n",
    "# Labelling bins\n",
    "financial_success = [\n",
    "    'failure', 'modest returns', 'moderate returns',\n",
    "    'excellent returns', 'extraordinary returns'\n",
    "]\n",
    "\n",
    "# Slicing the data and placing values in `financial_success`\n",
    "df_movies['financial_success'] = pd.cut(\n",
    "    df_movies['roi'], bins, labels=financial_success, include_lowest=True\n",
    ")\n",
    "\n",
    "# Adding classification 'broke even' to `financial_success`\n",
    "df_movies['financial_success'] = df_movies['financial_success'].cat.add_categories('broke even')\n",
    "\n",
    "# Classifying where `roi` equals `0` as `broke even`\n",
    "df_movies.loc[df_movies['roi'] == 0, 'financial_success'] = 'broke even'\n",
    "\n",
    "# Confirming when `roi` is `0`, `financial_success` is 'broke even'\n",
    "df_movies.loc[df_movies['roi'] == 0, 'financial_success'].value_counts()"
   ]
  },
  {
   "cell_type": "markdown",
   "metadata": {},
   "source": [
    "#### Datetime values\n",
    "\n",
    "Converting `release_date` to a datetime value and extracting the year and month for later concatenation"
   ]
  },
  {
   "cell_type": "code",
   "execution_count": 20,
   "metadata": {},
   "outputs": [
    {
     "data": {
      "text/plain": [
       "dtype('O')"
      ]
     },
     "execution_count": 20,
     "metadata": {},
     "output_type": "execute_result"
    }
   ],
   "source": [
    "# Confirming dtype for `release_date`\n",
    "df_movies['release_date'].dtype"
   ]
  },
  {
   "cell_type": "code",
   "execution_count": 21,
   "metadata": {},
   "outputs": [
    {
     "data": {
      "text/plain": [
       "dtype('<M8[ns]')"
      ]
     },
     "execution_count": 21,
     "metadata": {},
     "output_type": "execute_result"
    }
   ],
   "source": [
    "# Converting 'release_date' to datetime\n",
    "df_movies['release_date'] = pd.to_datetime(\n",
    "    df_movies['release_date'], format='%Y-%m-%d', errors='coerce'\n",
    ")\n",
    "\n",
    "# Confirming conversion\n",
    "df_movies['release_date'].dtype"
   ]
  },
  {
   "cell_type": "code",
   "execution_count": 22,
   "metadata": {},
   "outputs": [
    {
     "name": "stdout",
     "output_type": "stream",
     "text": [
      "Total records where `release_date` has a `NaT` value: 366\n"
     ]
    }
   ],
   "source": [
    "# Confirming records with `NaT` (Not a Time) values for `release_date`\n",
    "print(\n",
    "    'Total records where `release_date` has a `NaT` value: ' +\\\n",
    "    str(df_movies['release_date'].isna().sum())\n",
    ")"
   ]
  },
  {
   "cell_type": "code",
   "execution_count": 23,
   "metadata": {},
   "outputs": [
    {
     "name": "stdout",
     "output_type": "stream",
     "text": [
      "Total records where `release_date` has a `NaT` value: 0\n"
     ]
    }
   ],
   "source": [
    "# Droping records where 'release_date' is `NaT`\n",
    "df_movies.dropna(subset=['release_date'], inplace=True)\n",
    "\n",
    "# Reconfirming records with `NaT` (Not a Time) values for `release_date` \n",
    "print(\n",
    "    'Total records where `release_date` has a `NaT` value: ' +\\\n",
    "    str(df_movies['release_date'].isna().sum())\n",
    ")"
   ]
  },
  {
   "cell_type": "code",
   "execution_count": 24,
   "metadata": {},
   "outputs": [],
   "source": [
    "# Extracting year, month, and day from 'release_date'\n",
    "df_movies['released_year'] = df_movies['release_date'].dt.year\n",
    "df_movies['released_month'] = df_movies['release_date'].dt.month\n",
    "df_movies['released_day'] = df_movies['release_date'].dt.day\n",
    "\n",
    "# Converting `released_year`, `released_month`, and `released_day` to integers\n",
    "df_movies['released_year'] = df_movies['released_year'].astype(int)\n",
    "df_movies['released_month'] = df_movies['released_month'].astype(int)\n",
    "df_movies['released_day'] = df_movies['released_day'].astype(int)"
   ]
  },
  {
   "cell_type": "markdown",
   "metadata": {},
   "source": [
    "## Economics Data"
   ]
  },
  {
   "cell_type": "markdown",
   "metadata": {},
   "source": [
    "While classifying economic states is a complex and nuanced issue, it is not unreasonable to draw more broad-strokes generalizations about a given timeframe based on more limited factors. To serve the purposes of our modeling, the following three factors were chosen to highlight the economic status at a given movie's release date;\n",
    "\n",
    "* Consumer Confidence Indicator (CCI)\n",
    "* Consumer Price Index (CPI)\n",
    "* Unemployment Rate\n",
    "\n",
    "These features stand as adequate datapoints to answer three respective questions;\n",
    "\n",
    "* How likely are people to be spending money?\n",
    "* How much do things cost when they do spend money?\n",
    "* How many people have jobs to earn money to spend?\n",
    "\n",
    "As detailed below, this information came as monthly measures over several decades. To create our `Economic Climate` indicator - a classification as to whether or not the economics of a given time were on the better side for consumers - we will need to calculate a rolling 12-month percent change in the mean of those monthly values in order to show if a given feature was on a positive or negative trend for the provided period.\n",
    "\n",
    "---\n",
    "\n",
    "The following datasets are courtesy of __[Kaggle](https://www.kaggle.com/)__.\n",
    "\n",
    "**__['CCI_OECD.csv'](https://www.kaggle.com/datasets/iqbalsyahakbar/cci-oecd)__**\n",
    "\n",
    "*renamed from `DP_LIVE_16112023095843236.csv`*\n",
    "\n",
    "Per the Organisation for Economic Co-operation and Development (OECD);\n",
    "\n",
    "* The CCI is an indication of developments for future households' consumption and saving based on expected financial situation, sentiment regarding the general economic situation, employment status, and capacity for savings\n",
    "* An indicator above `100` indicates an optimistic outlook and a greater likliehood to spend money over cautious saving\n",
    "* An indicator below `100` indicates a pessimistic outlook and both a higher likeliehood to save money and a lower tendency to consume\n",
    "\n",
    "**__['US_inflation_rates.csv'](https://www.kaggle.com/datasets/pavankrishnanarne/us-inflation-dataset-1947-present)__**\n",
    "\n",
    "Per the dataset description;\n",
    "\n",
    "* The CPI is a critical economic indicator for measuring the purchasing power of money over time, measuring the average change over time in the prices paid by urban consumers for goods and services\n",
    "* The CPI is the value at the end of the respective month\n",
    "\n",
    "---\n",
    "\n",
    "The following dataset is courtesy of the __[Economic Policy Institute’s (EPI) State of Working America Data Library](https://www.epi.org/data/)__.\n",
    "\n",
    "**__['Unemployment.csv'](https://www.epi.org/data/#?subject=unemp)__**\n",
    "\n",
    "Per EPI description;\n",
    "\n",
    "* Unemployment is the share of the labor force wihout a job\n",
    "* Monthly percentages calculated as a rolling 12-month average (mean)"
   ]
  },
  {
   "cell_type": "code",
   "execution_count": 25,
   "metadata": {},
   "outputs": [],
   "source": [
    "# Reading in datasets\n",
    "df_unemp = pd.read_csv(\"./Resources/EPI Data Library - Unemployment.csv\")\n",
    "df_cci = pd.read_csv(\"./Resources/CCI_OECD.csv\")\n",
    "df_inflation = pd.read_csv(\"./Resources/US_inflation_rates.csv\")"
   ]
  },
  {
   "cell_type": "markdown",
   "metadata": {},
   "source": [
    "### Defining functions\n",
    "\n",
    "Since each dataset will need similar preprocessing, the following functions will be used to help streamline the flow of the code."
   ]
  },
  {
   "cell_type": "markdown",
   "metadata": {},
   "source": [
    "#### Universal functions\n",
    "\n",
    "Applicable to all datasets\n",
    "\n",
    "**EDA routine**\n",
    "\n",
    "Labelling and displaying pertinant information about a given dataset for the purposes of expedited EDA\n",
    "\n",
    "**Copying datasets**\n",
    "\n",
    "Creating a working copy of a given dataset to preserve the original DF with unneeded features dropped\n",
    "\n",
    "**Renaming needed features**\n",
    "\n",
    "Renaming selected features for a given dataset\n",
    "\n",
    "**Rolling mean and mean percent change**\n",
    "\n",
    "Calculating the rolling 12-month mean and the rolling 12-month percent change for a given feature"
   ]
  },
  {
   "cell_type": "code",
   "execution_count": 26,
   "metadata": {},
   "outputs": [],
   "source": [
    "# Defining a function to display the `.describe()`, `.shape`, and `.dtypes`\n",
    "# for a given DF\n",
    "def eda_routine(df):\n",
    "    print('Describe:')\n",
    "    display(df.describe())\n",
    "    print(f'Shape: {df.shape}\\n')\n",
    "    print(f'Data types:')\n",
    "    display(df.dtypes)\n",
    "\n",
    "# Defining a function to copy a dataset with only the needed features\n",
    "def copy_df(df, features_to_keep):\n",
    "    df_copy = df[features_to_keep].copy()\n",
    "    return df_copy\n",
    "\n",
    "# Defining a function to rename needed features\n",
    "def rename_features(df, feature1, feature1new, feature2, feature2new):\n",
    "    df.rename(columns={\n",
    "        feature1: feature1new,\n",
    "        feature2: feature2new\n",
    "    }, inplace=True)\n",
    "    return df\n",
    "\n",
    "# Defining a function to calculate the rolling 12-month means and percent changes\n",
    "# for a given feature\n",
    "def rolling_calcs(df, feature, feature_mean, feature_pct_chng):\n",
    "    df[feature_mean] = df[feature].rolling(window=12).mean()\n",
    "    df[feature_pct_chng] = df[feature_mean].pct_change(periods=12) * 100\n",
    "    return df"
   ]
  },
  {
   "cell_type": "markdown",
   "metadata": {},
   "source": [
    "### Situational functions\n",
    "\n",
    "Applicable to select datasets\n",
    "\n",
    "#### Datetime indexing\n",
    "\n",
    "Converting the feature containing the raw datetime information into a suitable datetime index\n",
    "\n",
    "*Cannot be used on `Unemployment` dataset*\n",
    "\n",
    "#### Removing '%'\n",
    "\n",
    "Removing the `'%'` from a given feature and converting the remaining `object` dtype to `float`\n",
    "\n",
    "*Specifically for `Unemployment` dataset*"
   ]
  },
  {
   "cell_type": "code",
   "execution_count": 27,
   "metadata": {},
   "outputs": [],
   "source": [
    "# Defining a function to set a `Date` feature as a datetime index\n",
    "def datetime_index(df, datetime_feature):\n",
    "    df[datetime_feature] = pd.to_datetime(df[datetime_feature])\n",
    "    df.set_index(datetime_feature, inplace=True)\n",
    "    df.sort_index(inplace=True)\n",
    "    return df\n",
    "\n",
    "# Defining a function to remove '%' and convert data `float`\n",
    "def convert_percentage(feature):\n",
    "    return float(feature.strip('%'))\n",
    "\n",
    "# Defining a function to apply `convert_percentage`\n",
    "def apply_percentage(df, feature):\n",
    "    df[feature] = df[feature].apply(convert_percentage)\n",
    "    return df"
   ]
  },
  {
   "cell_type": "markdown",
   "metadata": {},
   "source": [
    "### CCI\n",
    "\n",
    "This dataset came with internaitonal records and uneeded features, so only records for US CCI will be retained. Once those records have been selected, the resulting DF will need to be prepared for concatenation with the remainined economic datasets. To do this, the `TIME` feature will be converted to datetime and set as the index."
   ]
  },
  {
   "cell_type": "markdown",
   "metadata": {},
   "source": [
    "#### Initial EDA"
   ]
  },
  {
   "cell_type": "code",
   "execution_count": 28,
   "metadata": {},
   "outputs": [
    {
     "data": {
      "text/html": [
       "<div>\n",
       "<style scoped>\n",
       "    .dataframe tbody tr th:only-of-type {\n",
       "        vertical-align: middle;\n",
       "    }\n",
       "\n",
       "    .dataframe tbody tr th {\n",
       "        vertical-align: top;\n",
       "    }\n",
       "\n",
       "    .dataframe thead th {\n",
       "        text-align: right;\n",
       "    }\n",
       "</style>\n",
       "<table border=\"1\" class=\"dataframe\">\n",
       "  <thead>\n",
       "    <tr style=\"text-align: right;\">\n",
       "      <th></th>\n",
       "      <th>LOCATION</th>\n",
       "      <th>INDICATOR</th>\n",
       "      <th>SUBJECT</th>\n",
       "      <th>MEASURE</th>\n",
       "      <th>FREQUENCY</th>\n",
       "      <th>TIME</th>\n",
       "      <th>Value</th>\n",
       "      <th>Flag Codes</th>\n",
       "    </tr>\n",
       "  </thead>\n",
       "  <tbody>\n",
       "    <tr>\n",
       "      <th>0</th>\n",
       "      <td>NLD</td>\n",
       "      <td>CCI</td>\n",
       "      <td>AMPLITUD</td>\n",
       "      <td>LTRENDIDX</td>\n",
       "      <td>M</td>\n",
       "      <td>1973-01</td>\n",
       "      <td>101.4526</td>\n",
       "      <td>NaN</td>\n",
       "    </tr>\n",
       "    <tr>\n",
       "      <th>1</th>\n",
       "      <td>NLD</td>\n",
       "      <td>CCI</td>\n",
       "      <td>AMPLITUD</td>\n",
       "      <td>LTRENDIDX</td>\n",
       "      <td>M</td>\n",
       "      <td>1973-02</td>\n",
       "      <td>101.4332</td>\n",
       "      <td>NaN</td>\n",
       "    </tr>\n",
       "    <tr>\n",
       "      <th>2</th>\n",
       "      <td>NLD</td>\n",
       "      <td>CCI</td>\n",
       "      <td>AMPLITUD</td>\n",
       "      <td>LTRENDIDX</td>\n",
       "      <td>M</td>\n",
       "      <td>1973-03</td>\n",
       "      <td>101.2753</td>\n",
       "      <td>NaN</td>\n",
       "    </tr>\n",
       "    <tr>\n",
       "      <th>3</th>\n",
       "      <td>NLD</td>\n",
       "      <td>CCI</td>\n",
       "      <td>AMPLITUD</td>\n",
       "      <td>LTRENDIDX</td>\n",
       "      <td>M</td>\n",
       "      <td>1973-04</td>\n",
       "      <td>101.0106</td>\n",
       "      <td>NaN</td>\n",
       "    </tr>\n",
       "    <tr>\n",
       "      <th>4</th>\n",
       "      <td>NLD</td>\n",
       "      <td>CCI</td>\n",
       "      <td>AMPLITUD</td>\n",
       "      <td>LTRENDIDX</td>\n",
       "      <td>M</td>\n",
       "      <td>1973-05</td>\n",
       "      <td>100.8543</td>\n",
       "      <td>NaN</td>\n",
       "    </tr>\n",
       "  </tbody>\n",
       "</table>\n",
       "</div>"
      ],
      "text/plain": [
       "  LOCATION INDICATOR   SUBJECT    MEASURE FREQUENCY     TIME     Value  \\\n",
       "0      NLD       CCI  AMPLITUD  LTRENDIDX         M  1973-01  101.4526   \n",
       "1      NLD       CCI  AMPLITUD  LTRENDIDX         M  1973-02  101.4332   \n",
       "2      NLD       CCI  AMPLITUD  LTRENDIDX         M  1973-03  101.2753   \n",
       "3      NLD       CCI  AMPLITUD  LTRENDIDX         M  1973-04  101.0106   \n",
       "4      NLD       CCI  AMPLITUD  LTRENDIDX         M  1973-05  100.8543   \n",
       "\n",
       "   Flag Codes  \n",
       "0         NaN  \n",
       "1         NaN  \n",
       "2         NaN  \n",
       "3         NaN  \n",
       "4         NaN  "
      ]
     },
     "execution_count": 28,
     "metadata": {},
     "output_type": "execute_result"
    }
   ],
   "source": [
    "# Viewing `df_cci`\n",
    "df_cci.head()"
   ]
  },
  {
   "cell_type": "code",
   "execution_count": 29,
   "metadata": {},
   "outputs": [
    {
     "name": "stdout",
     "output_type": "stream",
     "text": [
      "Describe:\n"
     ]
    },
    {
     "data": {
      "text/html": [
       "<div>\n",
       "<style scoped>\n",
       "    .dataframe tbody tr th:only-of-type {\n",
       "        vertical-align: middle;\n",
       "    }\n",
       "\n",
       "    .dataframe tbody tr th {\n",
       "        vertical-align: top;\n",
       "    }\n",
       "\n",
       "    .dataframe thead th {\n",
       "        text-align: right;\n",
       "    }\n",
       "</style>\n",
       "<table border=\"1\" class=\"dataframe\">\n",
       "  <thead>\n",
       "    <tr style=\"text-align: right;\">\n",
       "      <th></th>\n",
       "      <th>Value</th>\n",
       "      <th>Flag Codes</th>\n",
       "    </tr>\n",
       "  </thead>\n",
       "  <tbody>\n",
       "    <tr>\n",
       "      <th>count</th>\n",
       "      <td>21552.000000</td>\n",
       "      <td>0.0</td>\n",
       "    </tr>\n",
       "    <tr>\n",
       "      <th>mean</th>\n",
       "      <td>100.017942</td>\n",
       "      <td>NaN</td>\n",
       "    </tr>\n",
       "    <tr>\n",
       "      <th>std</th>\n",
       "      <td>1.973255</td>\n",
       "      <td>NaN</td>\n",
       "    </tr>\n",
       "    <tr>\n",
       "      <th>min</th>\n",
       "      <td>86.618690</td>\n",
       "      <td>NaN</td>\n",
       "    </tr>\n",
       "    <tr>\n",
       "      <th>25%</th>\n",
       "      <td>98.897823</td>\n",
       "      <td>NaN</td>\n",
       "    </tr>\n",
       "    <tr>\n",
       "      <th>50%</th>\n",
       "      <td>100.279300</td>\n",
       "      <td>NaN</td>\n",
       "    </tr>\n",
       "    <tr>\n",
       "      <th>75%</th>\n",
       "      <td>101.263550</td>\n",
       "      <td>NaN</td>\n",
       "    </tr>\n",
       "    <tr>\n",
       "      <th>max</th>\n",
       "      <td>108.773100</td>\n",
       "      <td>NaN</td>\n",
       "    </tr>\n",
       "  </tbody>\n",
       "</table>\n",
       "</div>"
      ],
      "text/plain": [
       "              Value  Flag Codes\n",
       "count  21552.000000         0.0\n",
       "mean     100.017942         NaN\n",
       "std        1.973255         NaN\n",
       "min       86.618690         NaN\n",
       "25%       98.897823         NaN\n",
       "50%      100.279300         NaN\n",
       "75%      101.263550         NaN\n",
       "max      108.773100         NaN"
      ]
     },
     "metadata": {},
     "output_type": "display_data"
    },
    {
     "name": "stdout",
     "output_type": "stream",
     "text": [
      "Shape: (21552, 8)\n",
      "\n",
      "Data types:\n"
     ]
    },
    {
     "data": {
      "text/plain": [
       "LOCATION       object\n",
       "INDICATOR      object\n",
       "SUBJECT        object\n",
       "MEASURE        object\n",
       "FREQUENCY      object\n",
       "TIME           object\n",
       "Value         float64\n",
       "Flag Codes    float64\n",
       "dtype: object"
      ]
     },
     "metadata": {},
     "output_type": "display_data"
    }
   ],
   "source": [
    "# Applying `eda_routine` to `df_cci`\n",
    "eda_routine(df_cci)"
   ]
  },
  {
   "cell_type": "markdown",
   "metadata": {},
   "source": [
    "#### Reducing dataset\n",
    "\n",
    "Reducing the dataset to only domestic data"
   ]
  },
  {
   "cell_type": "code",
   "execution_count": 30,
   "metadata": {},
   "outputs": [
    {
     "data": {
      "text/plain": [
       "array(['NLD', 'CHE', 'FRA', 'POL', 'CZE', 'JPN', 'OECDE', 'AUS', 'OECD',\n",
       "       'SWE', 'MEX', 'GBR', 'ZAF', 'USA', 'HUN', 'PRT', 'DNK', 'ESP',\n",
       "       'LUX', 'GRC', 'BRA', 'SVK', 'CHN', 'BEL', 'FIN', 'NZL', 'G-7',\n",
       "       'IDN', 'TUR', 'AUT', 'ITA', 'IRL', 'SVN', 'DEU', 'KOR', 'EST',\n",
       "       'EA19', 'ISR', 'RUS', 'LVA', 'LTU', 'G7M', 'OEU', 'COL', 'CHL',\n",
       "       'CRI', 'IND', 'G-20', 'EU27_2020'], dtype=object)"
      ]
     },
     "execution_count": 30,
     "metadata": {},
     "output_type": "execute_result"
    }
   ],
   "source": [
    "# Confirming values of `LOCATION`\n",
    "df_cci['LOCATION'].unique()"
   ]
  },
  {
   "cell_type": "code",
   "execution_count": 31,
   "metadata": {},
   "outputs": [],
   "source": [
    "# Copying domestic data from `df_cci` to `df_cci_us`\n",
    "df_cci_us = df_cci.loc[df_cci['LOCATION'] == 'USA'].copy()"
   ]
  },
  {
   "cell_type": "markdown",
   "metadata": {},
   "source": [
    "#### Applying defined functions"
   ]
  },
  {
   "cell_type": "code",
   "execution_count": 32,
   "metadata": {},
   "outputs": [
    {
     "data": {
      "text/html": [
       "<div>\n",
       "<style scoped>\n",
       "    .dataframe tbody tr th:only-of-type {\n",
       "        vertical-align: middle;\n",
       "    }\n",
       "\n",
       "    .dataframe tbody tr th {\n",
       "        vertical-align: top;\n",
       "    }\n",
       "\n",
       "    .dataframe thead th {\n",
       "        text-align: right;\n",
       "    }\n",
       "</style>\n",
       "<table border=\"1\" class=\"dataframe\">\n",
       "  <thead>\n",
       "    <tr style=\"text-align: right;\">\n",
       "      <th></th>\n",
       "      <th>CCI Value</th>\n",
       "      <th>CCI Rolling Mean</th>\n",
       "      <th>CCI Rolling Percent Change</th>\n",
       "    </tr>\n",
       "    <tr>\n",
       "      <th>Date</th>\n",
       "      <th></th>\n",
       "      <th></th>\n",
       "      <th></th>\n",
       "    </tr>\n",
       "  </thead>\n",
       "  <tbody>\n",
       "    <tr>\n",
       "      <th>1960-01-01</th>\n",
       "      <td>101.6304</td>\n",
       "      <td>NaN</td>\n",
       "      <td>NaN</td>\n",
       "    </tr>\n",
       "    <tr>\n",
       "      <th>1960-02-01</th>\n",
       "      <td>101.3717</td>\n",
       "      <td>NaN</td>\n",
       "      <td>NaN</td>\n",
       "    </tr>\n",
       "    <tr>\n",
       "      <th>1960-03-01</th>\n",
       "      <td>101.1483</td>\n",
       "      <td>NaN</td>\n",
       "      <td>NaN</td>\n",
       "    </tr>\n",
       "    <tr>\n",
       "      <th>1960-04-01</th>\n",
       "      <td>101.0250</td>\n",
       "      <td>NaN</td>\n",
       "      <td>NaN</td>\n",
       "    </tr>\n",
       "    <tr>\n",
       "      <th>1960-05-01</th>\n",
       "      <td>101.0561</td>\n",
       "      <td>NaN</td>\n",
       "      <td>NaN</td>\n",
       "    </tr>\n",
       "  </tbody>\n",
       "</table>\n",
       "</div>"
      ],
      "text/plain": [
       "            CCI Value  CCI Rolling Mean  CCI Rolling Percent Change\n",
       "Date                                                               \n",
       "1960-01-01   101.6304               NaN                         NaN\n",
       "1960-02-01   101.3717               NaN                         NaN\n",
       "1960-03-01   101.1483               NaN                         NaN\n",
       "1960-04-01   101.0250               NaN                         NaN\n",
       "1960-05-01   101.0561               NaN                         NaN"
      ]
     },
     "metadata": {},
     "output_type": "display_data"
    },
    {
     "data": {
      "text/html": [
       "<div>\n",
       "<style scoped>\n",
       "    .dataframe tbody tr th:only-of-type {\n",
       "        vertical-align: middle;\n",
       "    }\n",
       "\n",
       "    .dataframe tbody tr th {\n",
       "        vertical-align: top;\n",
       "    }\n",
       "\n",
       "    .dataframe thead th {\n",
       "        text-align: right;\n",
       "    }\n",
       "</style>\n",
       "<table border=\"1\" class=\"dataframe\">\n",
       "  <thead>\n",
       "    <tr style=\"text-align: right;\">\n",
       "      <th></th>\n",
       "      <th>CCI Value</th>\n",
       "      <th>CCI Rolling Mean</th>\n",
       "      <th>CCI Rolling Percent Change</th>\n",
       "    </tr>\n",
       "    <tr>\n",
       "      <th>Date</th>\n",
       "      <th></th>\n",
       "      <th></th>\n",
       "      <th></th>\n",
       "    </tr>\n",
       "  </thead>\n",
       "  <tbody>\n",
       "    <tr>\n",
       "      <th>2023-06-01</th>\n",
       "      <td>97.54726</td>\n",
       "      <td>97.009973</td>\n",
       "      <td>-0.720943</td>\n",
       "    </tr>\n",
       "    <tr>\n",
       "      <th>2023-07-01</th>\n",
       "      <td>97.90887</td>\n",
       "      <td>97.153842</td>\n",
       "      <td>-0.314425</td>\n",
       "    </tr>\n",
       "    <tr>\n",
       "      <th>2023-08-01</th>\n",
       "      <td>97.98888</td>\n",
       "      <td>97.282601</td>\n",
       "      <td>0.008370</td>\n",
       "    </tr>\n",
       "    <tr>\n",
       "      <th>2023-09-01</th>\n",
       "      <td>97.82825</td>\n",
       "      <td>97.380064</td>\n",
       "      <td>0.256435</td>\n",
       "    </tr>\n",
       "    <tr>\n",
       "      <th>2023-10-01</th>\n",
       "      <td>97.52642</td>\n",
       "      <td>97.442995</td>\n",
       "      <td>0.444103</td>\n",
       "    </tr>\n",
       "  </tbody>\n",
       "</table>\n",
       "</div>"
      ],
      "text/plain": [
       "            CCI Value  CCI Rolling Mean  CCI Rolling Percent Change\n",
       "Date                                                               \n",
       "2023-06-01   97.54726         97.009973                   -0.720943\n",
       "2023-07-01   97.90887         97.153842                   -0.314425\n",
       "2023-08-01   97.98888         97.282601                    0.008370\n",
       "2023-09-01   97.82825         97.380064                    0.256435\n",
       "2023-10-01   97.52642         97.442995                    0.444103"
      ]
     },
     "metadata": {},
     "output_type": "display_data"
    }
   ],
   "source": [
    "# Copying `df_cci_us` and dropping uneeded features\n",
    "df_cci_form = copy_df(df_cci_us, ['TIME', 'Value'])\n",
    "\n",
    "# Renamining retained features\n",
    "df_cci_form = rename_features(\n",
    "    df_cci_form, 'TIME', 'Date', 'Value', 'CCI Value'\n",
    ")\n",
    "\n",
    "# Converting `Date` to a datetime index\n",
    "df_cci_form = datetime_index(df_cci_form, 'Date')\n",
    "\n",
    "# Calculating rolling 12-month means and percent change in means\n",
    "df_cci_form = rolling_calcs(\n",
    "    df_cci_form, 'CCI Value', 'CCI Rolling Mean', 'CCI Rolling Percent Change'\n",
    ")\n",
    "\n",
    "# Confirming `df_cci_form` ready to concatenate\n",
    "display(df_cci_form.head())\n",
    "display(df_cci_form.tail())"
   ]
  },
  {
   "cell_type": "markdown",
   "metadata": {},
   "source": [
    "### Inflation\n",
    "\n",
    "Seeing as the dataset came with only the needed features, little will be needed to prepare the DF for concatenation with the other economic datasets. `date` will be converted to datetime and set as the index."
   ]
  },
  {
   "cell_type": "markdown",
   "metadata": {},
   "source": [
    "#### Initial EDA"
   ]
  },
  {
   "cell_type": "code",
   "execution_count": 33,
   "metadata": {},
   "outputs": [
    {
     "data": {
      "text/html": [
       "<div>\n",
       "<style scoped>\n",
       "    .dataframe tbody tr th:only-of-type {\n",
       "        vertical-align: middle;\n",
       "    }\n",
       "\n",
       "    .dataframe tbody tr th {\n",
       "        vertical-align: top;\n",
       "    }\n",
       "\n",
       "    .dataframe thead th {\n",
       "        text-align: right;\n",
       "    }\n",
       "</style>\n",
       "<table border=\"1\" class=\"dataframe\">\n",
       "  <thead>\n",
       "    <tr style=\"text-align: right;\">\n",
       "      <th></th>\n",
       "      <th>date</th>\n",
       "      <th>value</th>\n",
       "    </tr>\n",
       "  </thead>\n",
       "  <tbody>\n",
       "    <tr>\n",
       "      <th>0</th>\n",
       "      <td>1947-01-01</td>\n",
       "      <td>21.48</td>\n",
       "    </tr>\n",
       "    <tr>\n",
       "      <th>1</th>\n",
       "      <td>1947-02-01</td>\n",
       "      <td>21.62</td>\n",
       "    </tr>\n",
       "    <tr>\n",
       "      <th>2</th>\n",
       "      <td>1947-03-01</td>\n",
       "      <td>22.00</td>\n",
       "    </tr>\n",
       "    <tr>\n",
       "      <th>3</th>\n",
       "      <td>1947-04-01</td>\n",
       "      <td>22.00</td>\n",
       "    </tr>\n",
       "    <tr>\n",
       "      <th>4</th>\n",
       "      <td>1947-05-01</td>\n",
       "      <td>21.95</td>\n",
       "    </tr>\n",
       "  </tbody>\n",
       "</table>\n",
       "</div>"
      ],
      "text/plain": [
       "         date  value\n",
       "0  1947-01-01  21.48\n",
       "1  1947-02-01  21.62\n",
       "2  1947-03-01  22.00\n",
       "3  1947-04-01  22.00\n",
       "4  1947-05-01  21.95"
      ]
     },
     "execution_count": 33,
     "metadata": {},
     "output_type": "execute_result"
    }
   ],
   "source": [
    "# Viewing `df_inflation`\n",
    "df_inflation.head()"
   ]
  },
  {
   "cell_type": "code",
   "execution_count": 34,
   "metadata": {},
   "outputs": [
    {
     "name": "stdout",
     "output_type": "stream",
     "text": [
      "Describe:\n"
     ]
    },
    {
     "data": {
      "text/html": [
       "<div>\n",
       "<style scoped>\n",
       "    .dataframe tbody tr th:only-of-type {\n",
       "        vertical-align: middle;\n",
       "    }\n",
       "\n",
       "    .dataframe tbody tr th {\n",
       "        vertical-align: top;\n",
       "    }\n",
       "\n",
       "    .dataframe thead th {\n",
       "        text-align: right;\n",
       "    }\n",
       "</style>\n",
       "<table border=\"1\" class=\"dataframe\">\n",
       "  <thead>\n",
       "    <tr style=\"text-align: right;\">\n",
       "      <th></th>\n",
       "      <th>value</th>\n",
       "    </tr>\n",
       "  </thead>\n",
       "  <tbody>\n",
       "    <tr>\n",
       "      <th>count</th>\n",
       "      <td>918.000000</td>\n",
       "    </tr>\n",
       "    <tr>\n",
       "      <th>mean</th>\n",
       "      <td>117.794828</td>\n",
       "    </tr>\n",
       "    <tr>\n",
       "      <th>std</th>\n",
       "      <td>83.736360</td>\n",
       "    </tr>\n",
       "    <tr>\n",
       "      <th>min</th>\n",
       "      <td>21.480000</td>\n",
       "    </tr>\n",
       "    <tr>\n",
       "      <th>25%</th>\n",
       "      <td>32.105000</td>\n",
       "    </tr>\n",
       "    <tr>\n",
       "      <th>50%</th>\n",
       "      <td>106.900000</td>\n",
       "    </tr>\n",
       "    <tr>\n",
       "      <th>75%</th>\n",
       "      <td>188.000000</td>\n",
       "    </tr>\n",
       "    <tr>\n",
       "      <th>max</th>\n",
       "      <td>303.841000</td>\n",
       "    </tr>\n",
       "  </tbody>\n",
       "</table>\n",
       "</div>"
      ],
      "text/plain": [
       "            value\n",
       "count  918.000000\n",
       "mean   117.794828\n",
       "std     83.736360\n",
       "min     21.480000\n",
       "25%     32.105000\n",
       "50%    106.900000\n",
       "75%    188.000000\n",
       "max    303.841000"
      ]
     },
     "metadata": {},
     "output_type": "display_data"
    },
    {
     "name": "stdout",
     "output_type": "stream",
     "text": [
      "Shape: (918, 2)\n",
      "\n",
      "Data types:\n"
     ]
    },
    {
     "data": {
      "text/plain": [
       "date      object\n",
       "value    float64\n",
       "dtype: object"
      ]
     },
     "metadata": {},
     "output_type": "display_data"
    }
   ],
   "source": [
    "# Applying `eda_routine` to `df_inflation`\n",
    "eda_routine(df_inflation)"
   ]
  },
  {
   "cell_type": "markdown",
   "metadata": {},
   "source": [
    "#### Applying defined functions"
   ]
  },
  {
   "cell_type": "code",
   "execution_count": 35,
   "metadata": {},
   "outputs": [
    {
     "data": {
      "text/html": [
       "<div>\n",
       "<style scoped>\n",
       "    .dataframe tbody tr th:only-of-type {\n",
       "        vertical-align: middle;\n",
       "    }\n",
       "\n",
       "    .dataframe tbody tr th {\n",
       "        vertical-align: top;\n",
       "    }\n",
       "\n",
       "    .dataframe thead th {\n",
       "        text-align: right;\n",
       "    }\n",
       "</style>\n",
       "<table border=\"1\" class=\"dataframe\">\n",
       "  <thead>\n",
       "    <tr style=\"text-align: right;\">\n",
       "      <th></th>\n",
       "      <th>CPI Value</th>\n",
       "      <th>CPI Rolling Mean</th>\n",
       "      <th>CPI Rolling Percent Change</th>\n",
       "    </tr>\n",
       "    <tr>\n",
       "      <th>Date</th>\n",
       "      <th></th>\n",
       "      <th></th>\n",
       "      <th></th>\n",
       "    </tr>\n",
       "  </thead>\n",
       "  <tbody>\n",
       "    <tr>\n",
       "      <th>1947-01-01</th>\n",
       "      <td>21.48</td>\n",
       "      <td>NaN</td>\n",
       "      <td>NaN</td>\n",
       "    </tr>\n",
       "    <tr>\n",
       "      <th>1947-02-01</th>\n",
       "      <td>21.62</td>\n",
       "      <td>NaN</td>\n",
       "      <td>NaN</td>\n",
       "    </tr>\n",
       "    <tr>\n",
       "      <th>1947-03-01</th>\n",
       "      <td>22.00</td>\n",
       "      <td>NaN</td>\n",
       "      <td>NaN</td>\n",
       "    </tr>\n",
       "    <tr>\n",
       "      <th>1947-04-01</th>\n",
       "      <td>22.00</td>\n",
       "      <td>NaN</td>\n",
       "      <td>NaN</td>\n",
       "    </tr>\n",
       "    <tr>\n",
       "      <th>1947-05-01</th>\n",
       "      <td>21.95</td>\n",
       "      <td>NaN</td>\n",
       "      <td>NaN</td>\n",
       "    </tr>\n",
       "  </tbody>\n",
       "</table>\n",
       "</div>"
      ],
      "text/plain": [
       "            CPI Value  CPI Rolling Mean  CPI Rolling Percent Change\n",
       "Date                                                               \n",
       "1947-01-01      21.48               NaN                         NaN\n",
       "1947-02-01      21.62               NaN                         NaN\n",
       "1947-03-01      22.00               NaN                         NaN\n",
       "1947-04-01      22.00               NaN                         NaN\n",
       "1947-05-01      21.95               NaN                         NaN"
      ]
     },
     "metadata": {},
     "output_type": "display_data"
    },
    {
     "data": {
      "text/html": [
       "<div>\n",
       "<style scoped>\n",
       "    .dataframe tbody tr th:only-of-type {\n",
       "        vertical-align: middle;\n",
       "    }\n",
       "\n",
       "    .dataframe tbody tr th {\n",
       "        vertical-align: top;\n",
       "    }\n",
       "\n",
       "    .dataframe thead th {\n",
       "        text-align: right;\n",
       "    }\n",
       "</style>\n",
       "<table border=\"1\" class=\"dataframe\">\n",
       "  <thead>\n",
       "    <tr style=\"text-align: right;\">\n",
       "      <th></th>\n",
       "      <th>CPI Value</th>\n",
       "      <th>CPI Rolling Mean</th>\n",
       "      <th>CPI Rolling Percent Change</th>\n",
       "    </tr>\n",
       "    <tr>\n",
       "      <th>Date</th>\n",
       "      <th></th>\n",
       "      <th></th>\n",
       "      <th></th>\n",
       "    </tr>\n",
       "  </thead>\n",
       "  <tbody>\n",
       "    <tr>\n",
       "      <th>2023-02-01</th>\n",
       "      <td>301.648</td>\n",
       "      <td>295.527083</td>\n",
       "      <td>7.706636</td>\n",
       "    </tr>\n",
       "    <tr>\n",
       "      <th>2023-03-01</th>\n",
       "      <td>301.808</td>\n",
       "      <td>296.721750</td>\n",
       "      <td>7.406182</td>\n",
       "    </tr>\n",
       "    <tr>\n",
       "      <th>2023-04-01</th>\n",
       "      <td>302.918</td>\n",
       "      <td>297.914000</td>\n",
       "      <td>7.128724</td>\n",
       "    </tr>\n",
       "    <tr>\n",
       "      <th>2023-05-01</th>\n",
       "      <td>303.294</td>\n",
       "      <td>298.916167</td>\n",
       "      <td>6.758919</td>\n",
       "    </tr>\n",
       "    <tr>\n",
       "      <th>2023-06-01</th>\n",
       "      <td>303.841</td>\n",
       "      <td>299.675583</td>\n",
       "      <td>6.265739</td>\n",
       "    </tr>\n",
       "  </tbody>\n",
       "</table>\n",
       "</div>"
      ],
      "text/plain": [
       "            CPI Value  CPI Rolling Mean  CPI Rolling Percent Change\n",
       "Date                                                               \n",
       "2023-02-01    301.648        295.527083                    7.706636\n",
       "2023-03-01    301.808        296.721750                    7.406182\n",
       "2023-04-01    302.918        297.914000                    7.128724\n",
       "2023-05-01    303.294        298.916167                    6.758919\n",
       "2023-06-01    303.841        299.675583                    6.265739"
      ]
     },
     "metadata": {},
     "output_type": "display_data"
    }
   ],
   "source": [
    "# Copying `df_inflation` and dropping uneeded features\n",
    "df_inflation_form = copy_df(df_inflation, ['date', 'value'])\n",
    "\n",
    "# Renamining retained features\n",
    "df_inflation_form = rename_features(\n",
    "    df_inflation_form, 'date', 'Date', 'value', 'CPI Value'\n",
    ")\n",
    "\n",
    "# Converting `Date` to a datetime index\n",
    "df_inflation_form = datetime_index(df_inflation_form, 'Date')\n",
    "\n",
    "# Calculating rolling 12-month means and percent change in means\n",
    "df_inflation_form = rolling_calcs(\n",
    "    df_inflation_form,\n",
    "    'CPI Value',\n",
    "    'CPI Rolling Mean',\n",
    "    'CPI Rolling Percent Change'\n",
    ")\n",
    "\n",
    "# Confirming `df_inflation_form` ready to concatenate\n",
    "display(df_inflation_form.head())\n",
    "display(df_inflation_form.tail())"
   ]
  },
  {
   "cell_type": "markdown",
   "metadata": {},
   "source": [
    "### Unemployment\n",
    "\n",
    "This dataset came with uneeded features that will need to be dropped, as well as the needed features will need to be converted to `float`. Additionally, the `Date` feature will need to be converted to datetime and set to the index in preparation for concatenation with the other economic datasets."
   ]
  },
  {
   "cell_type": "markdown",
   "metadata": {},
   "source": [
    "#### Initial EDA"
   ]
  },
  {
   "cell_type": "code",
   "execution_count": 36,
   "metadata": {},
   "outputs": [
    {
     "data": {
      "text/html": [
       "<div>\n",
       "<style scoped>\n",
       "    .dataframe tbody tr th:only-of-type {\n",
       "        vertical-align: middle;\n",
       "    }\n",
       "\n",
       "    .dataframe tbody tr th {\n",
       "        vertical-align: top;\n",
       "    }\n",
       "\n",
       "    .dataframe thead th {\n",
       "        text-align: right;\n",
       "    }\n",
       "</style>\n",
       "<table border=\"1\" class=\"dataframe\">\n",
       "  <thead>\n",
       "    <tr style=\"text-align: right;\">\n",
       "      <th></th>\n",
       "      <th>Date</th>\n",
       "      <th>All</th>\n",
       "      <th>Women</th>\n",
       "      <th>Men</th>\n",
       "      <th>Black</th>\n",
       "      <th>Hispanic</th>\n",
       "      <th>White</th>\n",
       "      <th>Black Women</th>\n",
       "      <th>Black Men</th>\n",
       "      <th>Hispanic Women</th>\n",
       "      <th>...</th>\n",
       "      <th>White Men Some college</th>\n",
       "      <th>16-24</th>\n",
       "      <th>25-54</th>\n",
       "      <th>55-64</th>\n",
       "      <th>65+</th>\n",
       "      <th>Advanced degree</th>\n",
       "      <th>Bachelor's degree</th>\n",
       "      <th>High school</th>\n",
       "      <th>Less than HS</th>\n",
       "      <th>Some college</th>\n",
       "    </tr>\n",
       "  </thead>\n",
       "  <tbody>\n",
       "    <tr>\n",
       "      <th>0</th>\n",
       "      <td>Mar-2024</td>\n",
       "      <td>3.7%</td>\n",
       "      <td>3.5%</td>\n",
       "      <td>3.9%</td>\n",
       "      <td>5.8%</td>\n",
       "      <td>4.6%</td>\n",
       "      <td>3.0%</td>\n",
       "      <td>5.5%</td>\n",
       "      <td>6.2%</td>\n",
       "      <td>4.6%</td>\n",
       "      <td>...</td>\n",
       "      <td>2.9%</td>\n",
       "      <td>8.0%</td>\n",
       "      <td>3.2%</td>\n",
       "      <td>2.6%</td>\n",
       "      <td>3.0%</td>\n",
       "      <td>2.0%</td>\n",
       "      <td>2.5%</td>\n",
       "      <td>5.0%</td>\n",
       "      <td>7.7%</td>\n",
       "      <td>3.4%</td>\n",
       "    </tr>\n",
       "    <tr>\n",
       "      <th>1</th>\n",
       "      <td>Feb-2024</td>\n",
       "      <td>3.7%</td>\n",
       "      <td>3.5%</td>\n",
       "      <td>3.8%</td>\n",
       "      <td>5.7%</td>\n",
       "      <td>4.6%</td>\n",
       "      <td>3.0%</td>\n",
       "      <td>5.4%</td>\n",
       "      <td>6.0%</td>\n",
       "      <td>4.6%</td>\n",
       "      <td>...</td>\n",
       "      <td>2.9%</td>\n",
       "      <td>7.9%</td>\n",
       "      <td>3.2%</td>\n",
       "      <td>2.6%</td>\n",
       "      <td>2.9%</td>\n",
       "      <td>1.9%</td>\n",
       "      <td>2.5%</td>\n",
       "      <td>5.0%</td>\n",
       "      <td>7.5%</td>\n",
       "      <td>3.4%</td>\n",
       "    </tr>\n",
       "    <tr>\n",
       "      <th>2</th>\n",
       "      <td>Jan-2024</td>\n",
       "      <td>3.7%</td>\n",
       "      <td>3.5%</td>\n",
       "      <td>3.8%</td>\n",
       "      <td>5.7%</td>\n",
       "      <td>4.7%</td>\n",
       "      <td>2.9%</td>\n",
       "      <td>5.4%</td>\n",
       "      <td>5.9%</td>\n",
       "      <td>4.6%</td>\n",
       "      <td>...</td>\n",
       "      <td>2.9%</td>\n",
       "      <td>7.9%</td>\n",
       "      <td>3.1%</td>\n",
       "      <td>2.6%</td>\n",
       "      <td>2.9%</td>\n",
       "      <td>1.9%</td>\n",
       "      <td>2.4%</td>\n",
       "      <td>4.9%</td>\n",
       "      <td>7.4%</td>\n",
       "      <td>3.4%</td>\n",
       "    </tr>\n",
       "    <tr>\n",
       "      <th>3</th>\n",
       "      <td>Dec-2023</td>\n",
       "      <td>3.6%</td>\n",
       "      <td>3.5%</td>\n",
       "      <td>3.8%</td>\n",
       "      <td>5.7%</td>\n",
       "      <td>4.6%</td>\n",
       "      <td>2.9%</td>\n",
       "      <td>5.5%</td>\n",
       "      <td>5.9%</td>\n",
       "      <td>4.6%</td>\n",
       "      <td>...</td>\n",
       "      <td>2.9%</td>\n",
       "      <td>7.9%</td>\n",
       "      <td>3.1%</td>\n",
       "      <td>2.5%</td>\n",
       "      <td>2.8%</td>\n",
       "      <td>1.9%</td>\n",
       "      <td>2.5%</td>\n",
       "      <td>4.9%</td>\n",
       "      <td>7.4%</td>\n",
       "      <td>3.4%</td>\n",
       "    </tr>\n",
       "    <tr>\n",
       "      <th>4</th>\n",
       "      <td>Nov-2023</td>\n",
       "      <td>3.6%</td>\n",
       "      <td>3.4%</td>\n",
       "      <td>3.8%</td>\n",
       "      <td>5.7%</td>\n",
       "      <td>4.6%</td>\n",
       "      <td>2.9%</td>\n",
       "      <td>5.6%</td>\n",
       "      <td>5.9%</td>\n",
       "      <td>4.5%</td>\n",
       "      <td>...</td>\n",
       "      <td>2.9%</td>\n",
       "      <td>8.0%</td>\n",
       "      <td>3.1%</td>\n",
       "      <td>2.5%</td>\n",
       "      <td>2.8%</td>\n",
       "      <td>1.9%</td>\n",
       "      <td>2.5%</td>\n",
       "      <td>4.8%</td>\n",
       "      <td>7.3%</td>\n",
       "      <td>3.4%</td>\n",
       "    </tr>\n",
       "  </tbody>\n",
       "</table>\n",
       "<p>5 rows × 121 columns</p>\n",
       "</div>"
      ],
      "text/plain": [
       "       Date   All Women   Men Black Hispanic White Black Women Black Men  \\\n",
       "0  Mar-2024  3.7%  3.5%  3.9%  5.8%     4.6%  3.0%        5.5%      6.2%   \n",
       "1  Feb-2024  3.7%  3.5%  3.8%  5.7%     4.6%  3.0%        5.4%      6.0%   \n",
       "2  Jan-2024  3.7%  3.5%  3.8%  5.7%     4.7%  2.9%        5.4%      5.9%   \n",
       "3  Dec-2023  3.6%  3.5%  3.8%  5.7%     4.6%  2.9%        5.5%      5.9%   \n",
       "4  Nov-2023  3.6%  3.4%  3.8%  5.7%     4.6%  2.9%        5.6%      5.9%   \n",
       "\n",
       "  Hispanic Women  ... White Men Some college 16-24 25-54 55-64   65+  \\\n",
       "0           4.6%  ...                   2.9%  8.0%  3.2%  2.6%  3.0%   \n",
       "1           4.6%  ...                   2.9%  7.9%  3.2%  2.6%  2.9%   \n",
       "2           4.6%  ...                   2.9%  7.9%  3.1%  2.6%  2.9%   \n",
       "3           4.6%  ...                   2.9%  7.9%  3.1%  2.5%  2.8%   \n",
       "4           4.5%  ...                   2.9%  8.0%  3.1%  2.5%  2.8%   \n",
       "\n",
       "  Advanced degree Bachelor's degree High school Less than HS Some college  \n",
       "0            2.0%              2.5%        5.0%         7.7%         3.4%  \n",
       "1            1.9%              2.5%        5.0%         7.5%         3.4%  \n",
       "2            1.9%              2.4%        4.9%         7.4%         3.4%  \n",
       "3            1.9%              2.5%        4.9%         7.4%         3.4%  \n",
       "4            1.9%              2.5%        4.8%         7.3%         3.4%  \n",
       "\n",
       "[5 rows x 121 columns]"
      ]
     },
     "execution_count": 36,
     "metadata": {},
     "output_type": "execute_result"
    }
   ],
   "source": [
    "# Viewing `df_unemp`\n",
    "df_unemp.head()"
   ]
  },
  {
   "cell_type": "code",
   "execution_count": 37,
   "metadata": {},
   "outputs": [
    {
     "name": "stdout",
     "output_type": "stream",
     "text": [
      "Describe:\n"
     ]
    },
    {
     "data": {
      "text/html": [
       "<div>\n",
       "<style scoped>\n",
       "    .dataframe tbody tr th:only-of-type {\n",
       "        vertical-align: middle;\n",
       "    }\n",
       "\n",
       "    .dataframe tbody tr th {\n",
       "        vertical-align: top;\n",
       "    }\n",
       "\n",
       "    .dataframe thead th {\n",
       "        text-align: right;\n",
       "    }\n",
       "</style>\n",
       "<table border=\"1\" class=\"dataframe\">\n",
       "  <thead>\n",
       "    <tr style=\"text-align: right;\">\n",
       "      <th></th>\n",
       "      <th>Date</th>\n",
       "      <th>All</th>\n",
       "      <th>Women</th>\n",
       "      <th>Men</th>\n",
       "      <th>Black</th>\n",
       "      <th>Hispanic</th>\n",
       "      <th>White</th>\n",
       "      <th>Black Women</th>\n",
       "      <th>Black Men</th>\n",
       "      <th>Hispanic Women</th>\n",
       "      <th>...</th>\n",
       "      <th>White Men Some college</th>\n",
       "      <th>16-24</th>\n",
       "      <th>25-54</th>\n",
       "      <th>55-64</th>\n",
       "      <th>65+</th>\n",
       "      <th>Advanced degree</th>\n",
       "      <th>Bachelor's degree</th>\n",
       "      <th>High school</th>\n",
       "      <th>Less than HS</th>\n",
       "      <th>Some college</th>\n",
       "    </tr>\n",
       "  </thead>\n",
       "  <tbody>\n",
       "    <tr>\n",
       "      <th>count</th>\n",
       "      <td>544</td>\n",
       "      <td>544</td>\n",
       "      <td>544</td>\n",
       "      <td>544</td>\n",
       "      <td>544</td>\n",
       "      <td>544</td>\n",
       "      <td>544</td>\n",
       "      <td>544</td>\n",
       "      <td>544</td>\n",
       "      <td>544</td>\n",
       "      <td>...</td>\n",
       "      <td>544</td>\n",
       "      <td>544</td>\n",
       "      <td>544</td>\n",
       "      <td>544</td>\n",
       "      <td>544</td>\n",
       "      <td>544</td>\n",
       "      <td>544</td>\n",
       "      <td>544</td>\n",
       "      <td>544</td>\n",
       "      <td>544</td>\n",
       "    </tr>\n",
       "    <tr>\n",
       "      <th>unique</th>\n",
       "      <td>544</td>\n",
       "      <td>68</td>\n",
       "      <td>65</td>\n",
       "      <td>71</td>\n",
       "      <td>132</td>\n",
       "      <td>99</td>\n",
       "      <td>60</td>\n",
       "      <td>130</td>\n",
       "      <td>142</td>\n",
       "      <td>98</td>\n",
       "      <td>...</td>\n",
       "      <td>62</td>\n",
       "      <td>108</td>\n",
       "      <td>58</td>\n",
       "      <td>50</td>\n",
       "      <td>51</td>\n",
       "      <td>27</td>\n",
       "      <td>43</td>\n",
       "      <td>80</td>\n",
       "      <td>112</td>\n",
       "      <td>64</td>\n",
       "    </tr>\n",
       "    <tr>\n",
       "      <th>top</th>\n",
       "      <td>Mar-2024</td>\n",
       "      <td>5.3%</td>\n",
       "      <td>5.4%</td>\n",
       "      <td>5.2%</td>\n",
       "      <td>10.5%</td>\n",
       "      <td>10.5%</td>\n",
       "      <td>4.2%</td>\n",
       "      <td>9.8%</td>\n",
       "      <td>11.4%</td>\n",
       "      <td>11.0%</td>\n",
       "      <td>...</td>\n",
       "      <td>3.7%</td>\n",
       "      <td>10.9%</td>\n",
       "      <td>4.2%</td>\n",
       "      <td>3.1%</td>\n",
       "      <td>3.1%</td>\n",
       "      <td>2.0%</td>\n",
       "      <td>2.5%</td>\n",
       "      <td>5.4%</td>\n",
       "      <td>9.9%</td>\n",
       "      <td>4.7%</td>\n",
       "    </tr>\n",
       "    <tr>\n",
       "      <th>freq</th>\n",
       "      <td>1</td>\n",
       "      <td>26</td>\n",
       "      <td>33</td>\n",
       "      <td>22</td>\n",
       "      <td>18</td>\n",
       "      <td>17</td>\n",
       "      <td>23</td>\n",
       "      <td>14</td>\n",
       "      <td>15</td>\n",
       "      <td>29</td>\n",
       "      <td>...</td>\n",
       "      <td>39</td>\n",
       "      <td>19</td>\n",
       "      <td>34</td>\n",
       "      <td>41</td>\n",
       "      <td>53</td>\n",
       "      <td>72</td>\n",
       "      <td>55</td>\n",
       "      <td>28</td>\n",
       "      <td>20</td>\n",
       "      <td>24</td>\n",
       "    </tr>\n",
       "  </tbody>\n",
       "</table>\n",
       "<p>4 rows × 121 columns</p>\n",
       "</div>"
      ],
      "text/plain": [
       "            Date   All Women   Men  Black Hispanic White Black Women  \\\n",
       "count        544   544   544   544    544      544   544         544   \n",
       "unique       544    68    65    71    132       99    60         130   \n",
       "top     Mar-2024  5.3%  5.4%  5.2%  10.5%    10.5%  4.2%        9.8%   \n",
       "freq           1    26    33    22     18       17    23          14   \n",
       "\n",
       "       Black Men Hispanic Women  ... White Men Some college  16-24 25-54  \\\n",
       "count        544            544  ...                    544    544   544   \n",
       "unique       142             98  ...                     62    108    58   \n",
       "top        11.4%          11.0%  ...                   3.7%  10.9%  4.2%   \n",
       "freq          15             29  ...                     39     19    34   \n",
       "\n",
       "       55-64   65+ Advanced degree Bachelor's degree High school Less than HS  \\\n",
       "count    544   544             544               544         544          544   \n",
       "unique    50    51              27                43          80          112   \n",
       "top     3.1%  3.1%            2.0%              2.5%        5.4%         9.9%   \n",
       "freq      41    53              72                55          28           20   \n",
       "\n",
       "       Some college  \n",
       "count           544  \n",
       "unique           64  \n",
       "top            4.7%  \n",
       "freq             24  \n",
       "\n",
       "[4 rows x 121 columns]"
      ]
     },
     "metadata": {},
     "output_type": "display_data"
    },
    {
     "name": "stdout",
     "output_type": "stream",
     "text": [
      "Shape: (544, 121)\n",
      "\n",
      "Data types:\n"
     ]
    },
    {
     "data": {
      "text/plain": [
       "Date                 object\n",
       "All                  object\n",
       "Women                object\n",
       "Men                  object\n",
       "Black                object\n",
       "                      ...  \n",
       "Advanced degree      object\n",
       "Bachelor's degree    object\n",
       "High school          object\n",
       "Less than HS         object\n",
       "Some college         object\n",
       "Length: 121, dtype: object"
      ]
     },
     "metadata": {},
     "output_type": "display_data"
    }
   ],
   "source": [
    "# Applying `eda_routine` to `df_unemp`\n",
    "eda_routine(df_unemp)"
   ]
  },
  {
   "cell_type": "markdown",
   "metadata": {},
   "source": [
    "#### Applying defined functions (first pass)\n",
    "\n",
    "Given the nature of the `Date` feature in this dataset, the datetime indexing will need to be handled outside of the defined functions"
   ]
  },
  {
   "cell_type": "code",
   "execution_count": 38,
   "metadata": {},
   "outputs": [],
   "source": [
    "# Copying `df_unemp` and dropping unneeded features\n",
    "df_unemp_form = copy_df(df_unemp, ['Date', 'All'])"
   ]
  },
  {
   "cell_type": "markdown",
   "metadata": {},
   "source": [
    "#### Renaming and indexing\n",
    "\n",
    "This dataset only needed one feature, `All`, to be renmaned, therefore the `rename_features` defined function is not applicable\n",
    "\n",
    "Additionally, the `Date` feature will need to be engineered into a workable datetime feature"
   ]
  },
  {
   "cell_type": "code",
   "execution_count": 39,
   "metadata": {},
   "outputs": [],
   "source": [
    "# Renaming the reatined feature\n",
    "df_unemp_form.rename(columns={'All': 'Unemployment Rate (%)'}, inplace=True)"
   ]
  },
  {
   "cell_type": "code",
   "execution_count": 40,
   "metadata": {},
   "outputs": [],
   "source": [
    "# Creating a dictionary of Months\n",
    "month_map = {\n",
    "    'Jan': 1, 'Feb': 2, 'Mar': 3, 'Apr': 4, 'May': 5, 'Jun': 6,\n",
    "    'Jul': 7, 'Aug': 8, 'Sep': 9, 'Oct': 10, 'Nov': 11, 'Dec': 12\n",
    "}\n",
    "\n",
    "# Mapping integer month values to `Date Month`\n",
    "df_unemp_form['Date Month'] = df_unemp_form['Date'].str.slice(0,3).map(month_map)\n",
    "\n",
    "# Slicing `Date Year`\n",
    "df_unemp_form['Date Year'] = df_unemp_form['Date'].str.slice(4,8)\n",
    "\n",
    "# Converting `Date` to datetime using `Date Month` and `Date Year`\n",
    "df_unemp_form['Date'] = pd.to_datetime({\n",
    "    'year': df_unemp_form['Date Year'],\n",
    "    'month': df_unemp_form['Date Month'],\n",
    "    'day': 1\n",
    "})\n",
    "\n",
    "# Dropping engineered features `Date Month` and `Date Year`\n",
    "df_unemp_form.drop(columns=['Date Month', 'Date Year'], inplace=True)\n",
    "\n",
    "# Setting `Date` as index\n",
    "df_unemp_form.set_index('Date', inplace=True)\n",
    "\n",
    "# Ensuring index is sorted with ascending dates\n",
    "df_unemp_form.sort_index(inplace=True)"
   ]
  },
  {
   "cell_type": "markdown",
   "metadata": {},
   "source": [
    "#### Applying defined functions (second pass)"
   ]
  },
  {
   "cell_type": "code",
   "execution_count": 41,
   "metadata": {},
   "outputs": [
    {
     "data": {
      "text/html": [
       "<div>\n",
       "<style scoped>\n",
       "    .dataframe tbody tr th:only-of-type {\n",
       "        vertical-align: middle;\n",
       "    }\n",
       "\n",
       "    .dataframe tbody tr th {\n",
       "        vertical-align: top;\n",
       "    }\n",
       "\n",
       "    .dataframe thead th {\n",
       "        text-align: right;\n",
       "    }\n",
       "</style>\n",
       "<table border=\"1\" class=\"dataframe\">\n",
       "  <thead>\n",
       "    <tr style=\"text-align: right;\">\n",
       "      <th></th>\n",
       "      <th>Unemployment Rate (%)</th>\n",
       "      <th>Unemployment Rate (%) Rolling Mean</th>\n",
       "      <th>Unemployment Rate Rolling Percent Change</th>\n",
       "    </tr>\n",
       "    <tr>\n",
       "      <th>Date</th>\n",
       "      <th></th>\n",
       "      <th></th>\n",
       "      <th></th>\n",
       "    </tr>\n",
       "  </thead>\n",
       "  <tbody>\n",
       "    <tr>\n",
       "      <th>1978-12-01</th>\n",
       "      <td>6.1</td>\n",
       "      <td>NaN</td>\n",
       "      <td>NaN</td>\n",
       "    </tr>\n",
       "    <tr>\n",
       "      <th>1979-01-01</th>\n",
       "      <td>6.1</td>\n",
       "      <td>NaN</td>\n",
       "      <td>NaN</td>\n",
       "    </tr>\n",
       "    <tr>\n",
       "      <th>1979-02-01</th>\n",
       "      <td>6.0</td>\n",
       "      <td>NaN</td>\n",
       "      <td>NaN</td>\n",
       "    </tr>\n",
       "    <tr>\n",
       "      <th>1979-03-01</th>\n",
       "      <td>6.0</td>\n",
       "      <td>NaN</td>\n",
       "      <td>NaN</td>\n",
       "    </tr>\n",
       "    <tr>\n",
       "      <th>1979-04-01</th>\n",
       "      <td>5.9</td>\n",
       "      <td>NaN</td>\n",
       "      <td>NaN</td>\n",
       "    </tr>\n",
       "  </tbody>\n",
       "</table>\n",
       "</div>"
      ],
      "text/plain": [
       "            Unemployment Rate (%)  Unemployment Rate (%) Rolling Mean  \\\n",
       "Date                                                                    \n",
       "1978-12-01                    6.1                                 NaN   \n",
       "1979-01-01                    6.1                                 NaN   \n",
       "1979-02-01                    6.0                                 NaN   \n",
       "1979-03-01                    6.0                                 NaN   \n",
       "1979-04-01                    5.9                                 NaN   \n",
       "\n",
       "            Unemployment Rate Rolling Percent Change  \n",
       "Date                                                  \n",
       "1978-12-01                                       NaN  \n",
       "1979-01-01                                       NaN  \n",
       "1979-02-01                                       NaN  \n",
       "1979-03-01                                       NaN  \n",
       "1979-04-01                                       NaN  "
      ]
     },
     "metadata": {},
     "output_type": "display_data"
    },
    {
     "data": {
      "text/html": [
       "<div>\n",
       "<style scoped>\n",
       "    .dataframe tbody tr th:only-of-type {\n",
       "        vertical-align: middle;\n",
       "    }\n",
       "\n",
       "    .dataframe tbody tr th {\n",
       "        vertical-align: top;\n",
       "    }\n",
       "\n",
       "    .dataframe thead th {\n",
       "        text-align: right;\n",
       "    }\n",
       "</style>\n",
       "<table border=\"1\" class=\"dataframe\">\n",
       "  <thead>\n",
       "    <tr style=\"text-align: right;\">\n",
       "      <th></th>\n",
       "      <th>Unemployment Rate (%)</th>\n",
       "      <th>Unemployment Rate (%) Rolling Mean</th>\n",
       "      <th>Unemployment Rate Rolling Percent Change</th>\n",
       "    </tr>\n",
       "    <tr>\n",
       "      <th>Date</th>\n",
       "      <th></th>\n",
       "      <th></th>\n",
       "      <th></th>\n",
       "    </tr>\n",
       "  </thead>\n",
       "  <tbody>\n",
       "    <tr>\n",
       "      <th>2023-11-01</th>\n",
       "      <td>3.6</td>\n",
       "      <td>3.600000</td>\n",
       "      <td>-17.557252</td>\n",
       "    </tr>\n",
       "    <tr>\n",
       "      <th>2023-12-01</th>\n",
       "      <td>3.6</td>\n",
       "      <td>3.600000</td>\n",
       "      <td>-14.792899</td>\n",
       "    </tr>\n",
       "    <tr>\n",
       "      <th>2024-01-01</th>\n",
       "      <td>3.7</td>\n",
       "      <td>3.608333</td>\n",
       "      <td>-11.812627</td>\n",
       "    </tr>\n",
       "    <tr>\n",
       "      <th>2024-02-01</th>\n",
       "      <td>3.7</td>\n",
       "      <td>3.616667</td>\n",
       "      <td>-9.014675</td>\n",
       "    </tr>\n",
       "    <tr>\n",
       "      <th>2024-03-01</th>\n",
       "      <td>3.7</td>\n",
       "      <td>3.625000</td>\n",
       "      <td>-6.652361</td>\n",
       "    </tr>\n",
       "  </tbody>\n",
       "</table>\n",
       "</div>"
      ],
      "text/plain": [
       "            Unemployment Rate (%)  Unemployment Rate (%) Rolling Mean  \\\n",
       "Date                                                                    \n",
       "2023-11-01                    3.6                            3.600000   \n",
       "2023-12-01                    3.6                            3.600000   \n",
       "2024-01-01                    3.7                            3.608333   \n",
       "2024-02-01                    3.7                            3.616667   \n",
       "2024-03-01                    3.7                            3.625000   \n",
       "\n",
       "            Unemployment Rate Rolling Percent Change  \n",
       "Date                                                  \n",
       "2023-11-01                                -17.557252  \n",
       "2023-12-01                                -14.792899  \n",
       "2024-01-01                                -11.812627  \n",
       "2024-02-01                                 -9.014675  \n",
       "2024-03-01                                 -6.652361  "
      ]
     },
     "metadata": {},
     "output_type": "display_data"
    }
   ],
   "source": [
    "# Applying `apply_percentage` to `Unemployment Rate (%)`\n",
    "df_unemp_form = apply_percentage(df_unemp_form, 'Unemployment Rate (%)')\n",
    "\n",
    "# Calculating rolling 12-month means and percent change in means\n",
    "df_unemp_form = rolling_calcs(\n",
    "    df_unemp_form,\n",
    "    'Unemployment Rate (%)',\n",
    "    'Unemployment Rate (%) Rolling Mean',\n",
    "    'Unemployment Rate Rolling Percent Change',\n",
    ")\n",
    "\n",
    "# Confirming `df_unemp_form` ready to concatenate\n",
    "display(df_unemp_form.head())\n",
    "display(df_unemp_form.tail())"
   ]
  },
  {
   "cell_type": "markdown",
   "metadata": {},
   "source": [
    "## Combined Economics\n",
    "\n",
    "With all datasets set to a monthly datetime index, the relevent features can be combined into one DF, and any NaN records can be dropped."
   ]
  },
  {
   "cell_type": "markdown",
   "metadata": {},
   "source": [
    "#### Concatenation"
   ]
  },
  {
   "cell_type": "code",
   "execution_count": 42,
   "metadata": {},
   "outputs": [
    {
     "name": "stdout",
     "output_type": "stream",
     "text": [
      "CCI:\n",
      "Total records: 766\n",
      "\n",
      "Inflation (CPI):\n",
      "Total records: 918\n",
      "\n",
      "Unemployment:\n",
      "Total records: 544\n"
     ]
    }
   ],
   "source": [
    "# Reconfirming total records and features for datasets\n",
    "print('CCI:')\n",
    "records_total(df_cci_form)\n",
    "print('\\nInflation (CPI):')\n",
    "records_total(df_inflation_form)\n",
    "print('\\nUnemployment:')\n",
    "records_total(df_unemp_form)"
   ]
  },
  {
   "cell_type": "code",
   "execution_count": 43,
   "metadata": {},
   "outputs": [],
   "source": [
    "# Concatenating the economic datasets into `df_economics`\n",
    "df_economics = pd.concat(\n",
    "    [\n",
    "        df_cci_form,\n",
    "        df_inflation_form,\n",
    "        df_unemp_form\n",
    "    ], axis=1, join='outer'\n",
    ")"
   ]
  },
  {
   "cell_type": "markdown",
   "metadata": {},
   "source": [
    "#### `NaN` records"
   ]
  },
  {
   "cell_type": "code",
   "execution_count": 44,
   "metadata": {},
   "outputs": [
    {
     "data": {
      "text/plain": [
       "(927, 9)"
      ]
     },
     "execution_count": 44,
     "metadata": {},
     "output_type": "execute_result"
    }
   ],
   "source": [
    "# Confirming total records and features\n",
    "df_economics.shape"
   ]
  },
  {
   "cell_type": "code",
   "execution_count": 45,
   "metadata": {},
   "outputs": [
    {
     "data": {
      "text/plain": [
       "CCI Value                                   927\n",
       "CCI Rolling Mean                            927\n",
       "CCI Rolling Percent Change                  927\n",
       "CPI Value                                   927\n",
       "CPI Rolling Mean                            927\n",
       "CPI Rolling Percent Change                  927\n",
       "Unemployment Rate (%)                       927\n",
       "Unemployment Rate (%) Rolling Mean          927\n",
       "Unemployment Rate Rolling Percent Change    927\n",
       "dtype: int64"
      ]
     },
     "execution_count": 45,
     "metadata": {},
     "output_type": "execute_result"
    }
   ],
   "source": [
    "# Checking total `NaN` records\n",
    "df_economics.isna().count()"
   ]
  },
  {
   "cell_type": "code",
   "execution_count": 46,
   "metadata": {},
   "outputs": [
    {
     "name": "stdout",
     "output_type": "stream",
     "text": [
      "Total records: 512\n"
     ]
    }
   ],
   "source": [
    "# Dropping `NaN` records\n",
    "df_economics.dropna(inplace=True)\n",
    "\n",
    "# Confirming remaining records\n",
    "records_total(df_economics)"
   ]
  },
  {
   "cell_type": "code",
   "execution_count": 47,
   "metadata": {},
   "outputs": [
    {
     "data": {
      "text/html": [
       "<div>\n",
       "<style scoped>\n",
       "    .dataframe tbody tr th:only-of-type {\n",
       "        vertical-align: middle;\n",
       "    }\n",
       "\n",
       "    .dataframe tbody tr th {\n",
       "        vertical-align: top;\n",
       "    }\n",
       "\n",
       "    .dataframe thead th {\n",
       "        text-align: right;\n",
       "    }\n",
       "</style>\n",
       "<table border=\"1\" class=\"dataframe\">\n",
       "  <thead>\n",
       "    <tr style=\"text-align: right;\">\n",
       "      <th></th>\n",
       "      <th>CCI Value</th>\n",
       "      <th>CCI Rolling Mean</th>\n",
       "      <th>CCI Rolling Percent Change</th>\n",
       "      <th>CPI Value</th>\n",
       "      <th>CPI Rolling Mean</th>\n",
       "      <th>CPI Rolling Percent Change</th>\n",
       "      <th>Unemployment Rate (%)</th>\n",
       "      <th>Unemployment Rate (%) Rolling Mean</th>\n",
       "      <th>Unemployment Rate Rolling Percent Change</th>\n",
       "    </tr>\n",
       "    <tr>\n",
       "      <th>Date</th>\n",
       "      <th></th>\n",
       "      <th></th>\n",
       "      <th></th>\n",
       "      <th></th>\n",
       "      <th></th>\n",
       "      <th></th>\n",
       "      <th></th>\n",
       "      <th></th>\n",
       "      <th></th>\n",
       "    </tr>\n",
       "  </thead>\n",
       "  <tbody>\n",
       "    <tr>\n",
       "      <th>1980-11-01</th>\n",
       "      <td>98.49612</td>\n",
       "      <td>97.382044</td>\n",
       "      <td>-0.349702</td>\n",
       "      <td>85.6</td>\n",
       "      <td>81.591667</td>\n",
       "      <td>13.584687</td>\n",
       "      <td>7.2</td>\n",
       "      <td>6.416667</td>\n",
       "      <td>8.298172</td>\n",
       "    </tr>\n",
       "    <tr>\n",
       "      <th>1980-12-01</th>\n",
       "      <td>98.12267</td>\n",
       "      <td>97.443947</td>\n",
       "      <td>-0.211242</td>\n",
       "      <td>86.4</td>\n",
       "      <td>82.383333</td>\n",
       "      <td>13.501722</td>\n",
       "      <td>7.3</td>\n",
       "      <td>6.533333</td>\n",
       "      <td>10.578279</td>\n",
       "    </tr>\n",
       "    <tr>\n",
       "      <th>1981-01-01</th>\n",
       "      <td>97.97219</td>\n",
       "      <td>97.486225</td>\n",
       "      <td>-0.102107</td>\n",
       "      <td>87.2</td>\n",
       "      <td>83.150000</td>\n",
       "      <td>13.321976</td>\n",
       "      <td>7.4</td>\n",
       "      <td>6.658333</td>\n",
       "      <td>13.012730</td>\n",
       "    </tr>\n",
       "    <tr>\n",
       "      <th>1981-02-01</th>\n",
       "      <td>97.87602</td>\n",
       "      <td>97.537902</td>\n",
       "      <td>0.033358</td>\n",
       "      <td>88.0</td>\n",
       "      <td>83.900000</td>\n",
       "      <td>13.085477</td>\n",
       "      <td>7.5</td>\n",
       "      <td>6.791667</td>\n",
       "      <td>15.439093</td>\n",
       "    </tr>\n",
       "    <tr>\n",
       "      <th>1981-03-01</th>\n",
       "      <td>97.97713</td>\n",
       "      <td>97.643262</td>\n",
       "      <td>0.254283</td>\n",
       "      <td>88.6</td>\n",
       "      <td>84.608333</td>\n",
       "      <td>12.748473</td>\n",
       "      <td>7.6</td>\n",
       "      <td>6.925000</td>\n",
       "      <td>17.705382</td>\n",
       "    </tr>\n",
       "  </tbody>\n",
       "</table>\n",
       "</div>"
      ],
      "text/plain": [
       "            CCI Value  CCI Rolling Mean  CCI Rolling Percent Change  \\\n",
       "Date                                                                  \n",
       "1980-11-01   98.49612         97.382044                   -0.349702   \n",
       "1980-12-01   98.12267         97.443947                   -0.211242   \n",
       "1981-01-01   97.97219         97.486225                   -0.102107   \n",
       "1981-02-01   97.87602         97.537902                    0.033358   \n",
       "1981-03-01   97.97713         97.643262                    0.254283   \n",
       "\n",
       "            CPI Value  CPI Rolling Mean  CPI Rolling Percent Change  \\\n",
       "Date                                                                  \n",
       "1980-11-01       85.6         81.591667                   13.584687   \n",
       "1980-12-01       86.4         82.383333                   13.501722   \n",
       "1981-01-01       87.2         83.150000                   13.321976   \n",
       "1981-02-01       88.0         83.900000                   13.085477   \n",
       "1981-03-01       88.6         84.608333                   12.748473   \n",
       "\n",
       "            Unemployment Rate (%)  Unemployment Rate (%) Rolling Mean  \\\n",
       "Date                                                                    \n",
       "1980-11-01                    7.2                            6.416667   \n",
       "1980-12-01                    7.3                            6.533333   \n",
       "1981-01-01                    7.4                            6.658333   \n",
       "1981-02-01                    7.5                            6.791667   \n",
       "1981-03-01                    7.6                            6.925000   \n",
       "\n",
       "            Unemployment Rate Rolling Percent Change  \n",
       "Date                                                  \n",
       "1980-11-01                                  8.298172  \n",
       "1980-12-01                                 10.578279  \n",
       "1981-01-01                                 13.012730  \n",
       "1981-02-01                                 15.439093  \n",
       "1981-03-01                                 17.705382  "
      ]
     },
     "metadata": {},
     "output_type": "display_data"
    },
    {
     "data": {
      "text/html": [
       "<div>\n",
       "<style scoped>\n",
       "    .dataframe tbody tr th:only-of-type {\n",
       "        vertical-align: middle;\n",
       "    }\n",
       "\n",
       "    .dataframe tbody tr th {\n",
       "        vertical-align: top;\n",
       "    }\n",
       "\n",
       "    .dataframe thead th {\n",
       "        text-align: right;\n",
       "    }\n",
       "</style>\n",
       "<table border=\"1\" class=\"dataframe\">\n",
       "  <thead>\n",
       "    <tr style=\"text-align: right;\">\n",
       "      <th></th>\n",
       "      <th>CCI Value</th>\n",
       "      <th>CCI Rolling Mean</th>\n",
       "      <th>CCI Rolling Percent Change</th>\n",
       "      <th>CPI Value</th>\n",
       "      <th>CPI Rolling Mean</th>\n",
       "      <th>CPI Rolling Percent Change</th>\n",
       "      <th>Unemployment Rate (%)</th>\n",
       "      <th>Unemployment Rate (%) Rolling Mean</th>\n",
       "      <th>Unemployment Rate Rolling Percent Change</th>\n",
       "    </tr>\n",
       "    <tr>\n",
       "      <th>Date</th>\n",
       "      <th></th>\n",
       "      <th></th>\n",
       "      <th></th>\n",
       "      <th></th>\n",
       "      <th></th>\n",
       "      <th></th>\n",
       "      <th></th>\n",
       "      <th></th>\n",
       "      <th></th>\n",
       "    </tr>\n",
       "  </thead>\n",
       "  <tbody>\n",
       "    <tr>\n",
       "      <th>2023-02-01</th>\n",
       "      <td>97.45110</td>\n",
       "      <td>96.811235</td>\n",
       "      <td>-1.949492</td>\n",
       "      <td>301.648</td>\n",
       "      <td>295.527083</td>\n",
       "      <td>7.706636</td>\n",
       "      <td>3.6</td>\n",
       "      <td>3.975000</td>\n",
       "      <td>-37.728460</td>\n",
       "    </tr>\n",
       "    <tr>\n",
       "      <th>2023-03-01</th>\n",
       "      <td>97.34036</td>\n",
       "      <td>96.825241</td>\n",
       "      <td>-1.724352</td>\n",
       "      <td>301.808</td>\n",
       "      <td>296.721750</td>\n",
       "      <td>7.406182</td>\n",
       "      <td>3.6</td>\n",
       "      <td>3.883333</td>\n",
       "      <td>-35.812672</td>\n",
       "    </tr>\n",
       "    <tr>\n",
       "      <th>2023-04-01</th>\n",
       "      <td>97.24804</td>\n",
       "      <td>96.845161</td>\n",
       "      <td>-1.458557</td>\n",
       "      <td>302.918</td>\n",
       "      <td>297.914000</td>\n",
       "      <td>7.128724</td>\n",
       "      <td>3.6</td>\n",
       "      <td>3.808333</td>\n",
       "      <td>-33.863965</td>\n",
       "    </tr>\n",
       "    <tr>\n",
       "      <th>2023-05-01</th>\n",
       "      <td>97.24995</td>\n",
       "      <td>96.898521</td>\n",
       "      <td>-1.128598</td>\n",
       "      <td>303.294</td>\n",
       "      <td>298.916167</td>\n",
       "      <td>6.758919</td>\n",
       "      <td>3.6</td>\n",
       "      <td>3.741667</td>\n",
       "      <td>-32.072617</td>\n",
       "    </tr>\n",
       "    <tr>\n",
       "      <th>2023-06-01</th>\n",
       "      <td>97.54726</td>\n",
       "      <td>97.009973</td>\n",
       "      <td>-0.720943</td>\n",
       "      <td>303.841</td>\n",
       "      <td>299.675583</td>\n",
       "      <td>6.265739</td>\n",
       "      <td>3.6</td>\n",
       "      <td>3.691667</td>\n",
       "      <td>-30.126183</td>\n",
       "    </tr>\n",
       "  </tbody>\n",
       "</table>\n",
       "</div>"
      ],
      "text/plain": [
       "            CCI Value  CCI Rolling Mean  CCI Rolling Percent Change  \\\n",
       "Date                                                                  \n",
       "2023-02-01   97.45110         96.811235                   -1.949492   \n",
       "2023-03-01   97.34036         96.825241                   -1.724352   \n",
       "2023-04-01   97.24804         96.845161                   -1.458557   \n",
       "2023-05-01   97.24995         96.898521                   -1.128598   \n",
       "2023-06-01   97.54726         97.009973                   -0.720943   \n",
       "\n",
       "            CPI Value  CPI Rolling Mean  CPI Rolling Percent Change  \\\n",
       "Date                                                                  \n",
       "2023-02-01    301.648        295.527083                    7.706636   \n",
       "2023-03-01    301.808        296.721750                    7.406182   \n",
       "2023-04-01    302.918        297.914000                    7.128724   \n",
       "2023-05-01    303.294        298.916167                    6.758919   \n",
       "2023-06-01    303.841        299.675583                    6.265739   \n",
       "\n",
       "            Unemployment Rate (%)  Unemployment Rate (%) Rolling Mean  \\\n",
       "Date                                                                    \n",
       "2023-02-01                    3.6                            3.975000   \n",
       "2023-03-01                    3.6                            3.883333   \n",
       "2023-04-01                    3.6                            3.808333   \n",
       "2023-05-01                    3.6                            3.741667   \n",
       "2023-06-01                    3.6                            3.691667   \n",
       "\n",
       "            Unemployment Rate Rolling Percent Change  \n",
       "Date                                                  \n",
       "2023-02-01                                -37.728460  \n",
       "2023-03-01                                -35.812672  \n",
       "2023-04-01                                -33.863965  \n",
       "2023-05-01                                -32.072617  \n",
       "2023-06-01                                -30.126183  "
      ]
     },
     "metadata": {},
     "output_type": "display_data"
    }
   ],
   "source": [
    "# Confirming final economic DF\n",
    "display(df_economics.head())\n",
    "display(df_economics.tail())"
   ]
  },
  {
   "cell_type": "markdown",
   "metadata": {},
   "source": [
    "### Engineering\n",
    "\n",
    "Engineering the economic target values"
   ]
  },
  {
   "cell_type": "markdown",
   "metadata": {},
   "source": [
    "#### Economic Climate\n",
    "\n",
    "As stated, the goal is to create an indicator for `Economic Climate` based on broad-strokes observations of our datasets. Having calculated the rolling 12-month percent change for each feature - based off the rolling 12-month mean - we can look for a positive or negative change in values and flag the movement accordingly. From there, we can make the following simple statements;\n",
    "\n",
    "* For **CCI**, a positive change is \"good\", as it indicates an increase in the likelihood of consumers to spend money\n",
    "* For **CPI**, a negative change is \"good\", as it indicates a decrease in the costs for goods and services\n",
    "* For **Unemployment Rate**, a negative change is \"good\", as it indicates an incrase in the population active in the workforce\n",
    "\n",
    "Therefore, we can interpret movement contrary to those changes as \"bad\". With this simplified view of the features, we can draw a classification as follows;\n",
    "\n",
    "* If **at least two (2) features** have a \"good\" value, we can set `Economic Climate` to `Comfortable to Good`\n",
    "* If **at least two (2) features** have a \"bad\" value, we can set `Economic Climate` to `Lean to Bad`\n",
    "\n",
    "In this way, we can gague whether the ecnomic state at a given rlease date supports or disproves our hypothesis."
   ]
  },
  {
   "cell_type": "code",
   "execution_count": 48,
   "metadata": {},
   "outputs": [
    {
     "data": {
      "text/html": [
       "<div>\n",
       "<style scoped>\n",
       "    .dataframe tbody tr th:only-of-type {\n",
       "        vertical-align: middle;\n",
       "    }\n",
       "\n",
       "    .dataframe tbody tr th {\n",
       "        vertical-align: top;\n",
       "    }\n",
       "\n",
       "    .dataframe thead th {\n",
       "        text-align: right;\n",
       "    }\n",
       "</style>\n",
       "<table border=\"1\" class=\"dataframe\">\n",
       "  <thead>\n",
       "    <tr style=\"text-align: right;\">\n",
       "      <th></th>\n",
       "      <th>CCI Value</th>\n",
       "      <th>CCI Rolling Mean</th>\n",
       "      <th>CCI Rolling Percent Change</th>\n",
       "      <th>CPI Value</th>\n",
       "      <th>CPI Rolling Mean</th>\n",
       "      <th>CPI Rolling Percent Change</th>\n",
       "      <th>Unemployment Rate (%)</th>\n",
       "      <th>Unemployment Rate (%) Rolling Mean</th>\n",
       "      <th>Unemployment Rate Rolling Percent Change</th>\n",
       "    </tr>\n",
       "  </thead>\n",
       "  <tbody>\n",
       "    <tr>\n",
       "      <th>count</th>\n",
       "      <td>512.000000</td>\n",
       "      <td>512.000000</td>\n",
       "      <td>512.000000</td>\n",
       "      <td>512.000000</td>\n",
       "      <td>512.000000</td>\n",
       "      <td>512.000000</td>\n",
       "      <td>512.000000</td>\n",
       "      <td>512.000000</td>\n",
       "      <td>512.000000</td>\n",
       "    </tr>\n",
       "    <tr>\n",
       "      <th>mean</th>\n",
       "      <td>100.031802</td>\n",
       "      <td>100.034274</td>\n",
       "      <td>-0.004062</td>\n",
       "      <td>181.836703</td>\n",
       "      <td>179.483257</td>\n",
       "      <td>3.225757</td>\n",
       "      <td>6.166797</td>\n",
       "      <td>6.198291</td>\n",
       "      <td>0.715998</td>\n",
       "    </tr>\n",
       "    <tr>\n",
       "      <th>std</th>\n",
       "      <td>1.478445</td>\n",
       "      <td>1.395690</td>\n",
       "      <td>0.926392</td>\n",
       "      <td>55.896821</td>\n",
       "      <td>55.382108</td>\n",
       "      <td>2.202968</td>\n",
       "      <td>1.665886</td>\n",
       "      <td>1.601365</td>\n",
       "      <td>18.952825</td>\n",
       "    </tr>\n",
       "    <tr>\n",
       "      <th>min</th>\n",
       "      <td>96.182430</td>\n",
       "      <td>96.807437</td>\n",
       "      <td>-2.603210</td>\n",
       "      <td>85.600000</td>\n",
       "      <td>81.591667</td>\n",
       "      <td>-0.621247</td>\n",
       "      <td>3.600000</td>\n",
       "      <td>3.691667</td>\n",
       "      <td>-39.069767</td>\n",
       "    </tr>\n",
       "    <tr>\n",
       "      <th>25%</th>\n",
       "      <td>98.902748</td>\n",
       "      <td>98.974193</td>\n",
       "      <td>-0.416825</td>\n",
       "      <td>136.150000</td>\n",
       "      <td>134.264583</td>\n",
       "      <td>1.918447</td>\n",
       "      <td>4.900000</td>\n",
       "      <td>4.933333</td>\n",
       "      <td>-9.395503</td>\n",
       "    </tr>\n",
       "    <tr>\n",
       "      <th>50%</th>\n",
       "      <td>100.514100</td>\n",
       "      <td>100.451660</td>\n",
       "      <td>0.030562</td>\n",
       "      <td>178.300000</td>\n",
       "      <td>177.483333</td>\n",
       "      <td>2.802257</td>\n",
       "      <td>5.800000</td>\n",
       "      <td>5.825000</td>\n",
       "      <td>-5.980553</td>\n",
       "    </tr>\n",
       "    <tr>\n",
       "      <th>75%</th>\n",
       "      <td>101.041400</td>\n",
       "      <td>100.966133</td>\n",
       "      <td>0.541288</td>\n",
       "      <td>231.228000</td>\n",
       "      <td>228.997917</td>\n",
       "      <td>3.703088</td>\n",
       "      <td>7.300000</td>\n",
       "      <td>7.287500</td>\n",
       "      <td>8.808169</td>\n",
       "    </tr>\n",
       "    <tr>\n",
       "      <th>max</th>\n",
       "      <td>102.850100</td>\n",
       "      <td>102.629700</td>\n",
       "      <td>2.750711</td>\n",
       "      <td>303.841000</td>\n",
       "      <td>299.675583</td>\n",
       "      <td>13.584687</td>\n",
       "      <td>10.300000</td>\n",
       "      <td>10.091667</td>\n",
       "      <td>95.805740</td>\n",
       "    </tr>\n",
       "  </tbody>\n",
       "</table>\n",
       "</div>"
      ],
      "text/plain": [
       "        CCI Value  CCI Rolling Mean  CCI Rolling Percent Change   CPI Value  \\\n",
       "count  512.000000        512.000000                  512.000000  512.000000   \n",
       "mean   100.031802        100.034274                   -0.004062  181.836703   \n",
       "std      1.478445          1.395690                    0.926392   55.896821   \n",
       "min     96.182430         96.807437                   -2.603210   85.600000   \n",
       "25%     98.902748         98.974193                   -0.416825  136.150000   \n",
       "50%    100.514100        100.451660                    0.030562  178.300000   \n",
       "75%    101.041400        100.966133                    0.541288  231.228000   \n",
       "max    102.850100        102.629700                    2.750711  303.841000   \n",
       "\n",
       "       CPI Rolling Mean  CPI Rolling Percent Change  Unemployment Rate (%)  \\\n",
       "count        512.000000                  512.000000             512.000000   \n",
       "mean         179.483257                    3.225757               6.166797   \n",
       "std           55.382108                    2.202968               1.665886   \n",
       "min           81.591667                   -0.621247               3.600000   \n",
       "25%          134.264583                    1.918447               4.900000   \n",
       "50%          177.483333                    2.802257               5.800000   \n",
       "75%          228.997917                    3.703088               7.300000   \n",
       "max          299.675583                   13.584687              10.300000   \n",
       "\n",
       "       Unemployment Rate (%) Rolling Mean  \\\n",
       "count                          512.000000   \n",
       "mean                             6.198291   \n",
       "std                              1.601365   \n",
       "min                              3.691667   \n",
       "25%                              4.933333   \n",
       "50%                              5.825000   \n",
       "75%                              7.287500   \n",
       "max                             10.091667   \n",
       "\n",
       "       Unemployment Rate Rolling Percent Change  \n",
       "count                                512.000000  \n",
       "mean                                   0.715998  \n",
       "std                                   18.952825  \n",
       "min                                  -39.069767  \n",
       "25%                                   -9.395503  \n",
       "50%                                   -5.980553  \n",
       "75%                                    8.808169  \n",
       "max                                   95.805740  "
      ]
     },
     "execution_count": 48,
     "metadata": {},
     "output_type": "execute_result"
    }
   ],
   "source": [
    "# Confirming ranges and statistics of `df_economics`\n",
    "df_economics.describe()"
   ]
  },
  {
   "cell_type": "code",
   "execution_count": 49,
   "metadata": {},
   "outputs": [
    {
     "data": {
      "text/html": [
       "<div>\n",
       "<style scoped>\n",
       "    .dataframe tbody tr th:only-of-type {\n",
       "        vertical-align: middle;\n",
       "    }\n",
       "\n",
       "    .dataframe tbody tr th {\n",
       "        vertical-align: top;\n",
       "    }\n",
       "\n",
       "    .dataframe thead th {\n",
       "        text-align: right;\n",
       "    }\n",
       "</style>\n",
       "<table border=\"1\" class=\"dataframe\">\n",
       "  <thead>\n",
       "    <tr style=\"text-align: right;\">\n",
       "      <th></th>\n",
       "      <th>CCI Rolling Percent Change Flag</th>\n",
       "      <th>CPI Rolling Percent Change Flag</th>\n",
       "      <th>Unemployment Rate Rolling Percent Change Flag</th>\n",
       "    </tr>\n",
       "    <tr>\n",
       "      <th>Date</th>\n",
       "      <th></th>\n",
       "      <th></th>\n",
       "      <th></th>\n",
       "    </tr>\n",
       "  </thead>\n",
       "  <tbody>\n",
       "    <tr>\n",
       "      <th>1980-11-01</th>\n",
       "      <td>negative</td>\n",
       "      <td>positive</td>\n",
       "      <td>positive</td>\n",
       "    </tr>\n",
       "    <tr>\n",
       "      <th>1980-12-01</th>\n",
       "      <td>negative</td>\n",
       "      <td>positive</td>\n",
       "      <td>positive</td>\n",
       "    </tr>\n",
       "    <tr>\n",
       "      <th>1981-01-01</th>\n",
       "      <td>negative</td>\n",
       "      <td>positive</td>\n",
       "      <td>positive</td>\n",
       "    </tr>\n",
       "    <tr>\n",
       "      <th>1981-02-01</th>\n",
       "      <td>positive</td>\n",
       "      <td>positive</td>\n",
       "      <td>positive</td>\n",
       "    </tr>\n",
       "    <tr>\n",
       "      <th>1981-03-01</th>\n",
       "      <td>positive</td>\n",
       "      <td>positive</td>\n",
       "      <td>positive</td>\n",
       "    </tr>\n",
       "  </tbody>\n",
       "</table>\n",
       "</div>"
      ],
      "text/plain": [
       "           CCI Rolling Percent Change Flag CPI Rolling Percent Change Flag  \\\n",
       "Date                                                                         \n",
       "1980-11-01                        negative                        positive   \n",
       "1980-12-01                        negative                        positive   \n",
       "1981-01-01                        negative                        positive   \n",
       "1981-02-01                        positive                        positive   \n",
       "1981-03-01                        positive                        positive   \n",
       "\n",
       "           Unemployment Rate Rolling Percent Change Flag  \n",
       "Date                                                      \n",
       "1980-11-01                                      positive  \n",
       "1980-12-01                                      positive  \n",
       "1981-01-01                                      positive  \n",
       "1981-02-01                                      positive  \n",
       "1981-03-01                                      positive  "
      ]
     },
     "execution_count": 49,
     "metadata": {},
     "output_type": "execute_result"
    }
   ],
   "source": [
    "# Creating a list of features\n",
    "features_to_flag = [\n",
    "    'CCI Rolling Percent Change',\n",
    "    'CPI Rolling Percent Change',\n",
    "    'Unemployment Rate Rolling Percent Change'\n",
    "]\n",
    "\n",
    "# Looping through `features_to_flag` to assign `positive` and `negative` indicators\n",
    "for col in df_economics[features_to_flag].columns:\n",
    "    new_col = str(col) + ' Flag'\n",
    "    df_economics.loc[df_economics[col] > 0, new_col] = 'positive'\n",
    "    df_economics.loc[df_economics[col] <= 0, new_col] = 'negative'\n",
    "\n",
    "# Creating a of list flagged features\n",
    "flag_cols = [\n",
    "    'CCI Rolling Percent Change Flag',\n",
    "    'CPI Rolling Percent Change Flag',\n",
    "    'Unemployment Rate Rolling Percent Change Flag'\n",
    "]\n",
    "\n",
    "# Confirming indicators applied\n",
    "df_economics[flag_cols].head()"
   ]
  },
  {
   "cell_type": "code",
   "execution_count": 50,
   "metadata": {},
   "outputs": [
    {
     "data": {
      "text/plain": [
       "Economic Climate\n",
       "Lean to Bad            317\n",
       "Comfortable to Good    195\n",
       "Name: count, dtype: int64"
      ]
     },
     "execution_count": 50,
     "metadata": {},
     "output_type": "execute_result"
    }
   ],
   "source": [
    "# Creating a list of conditions and classifications\n",
    "conditions = [\n",
    "    ((df_economics[flag_cols[0]] == 'positive') &   # CCI = 'positive'/good\n",
    "    (df_economics[flag_cols[1]] == 'positive') &    # CPI = 'positive'/bad\n",
    "    (df_economics[flag_cols[2]] == 'positive'),     # Unemplyment = 'positive'/bad\n",
    "    'Lean to Bad'),\n",
    "    ((df_economics[flag_cols[0]] == 'positive') &   # CCI = 'positive'/good\n",
    "    (df_economics[flag_cols[1]] == 'positive') &    # CPI = 'positive'/bad\n",
    "    (df_economics[flag_cols[2]] == 'negative'),     # Unemplyment = 'negative'/good\n",
    "    'Comfortable to Good'),\n",
    "    ((df_economics[flag_cols[0]] == 'positive') &   # CCI = 'positive'/good\n",
    "    (df_economics[flag_cols[1]] == 'negative') &    # CPI = 'negative'/good\n",
    "    (df_economics[flag_cols[2]] == 'positive'),     # Unemplyment = 'positive'/bad\n",
    "    'Comfortable to Good'),\n",
    "    ((df_economics[flag_cols[0]] == 'negative') &   # CCI = 'negative'/bad\n",
    "    (df_economics[flag_cols[1]] == 'positive') &    # CPI = 'positive'/bad\n",
    "    (df_economics[flag_cols[2]] == 'positive'),     # Unemplyment = 'positive'/bad\n",
    "    'Lean to Bad'),\n",
    "    ((df_economics[flag_cols[0]] == 'negative') &   # CCI = 'negative'/bad\n",
    "    (df_economics[flag_cols[1]] == 'negative') &    # CPI = 'negative'/good\n",
    "    (df_economics[flag_cols[2]] == 'positive'),     # Unemplyment = 'positive'/bad\n",
    "    'Lean to Bad'),\n",
    "    ((df_economics[flag_cols[0]] == 'negative') &   # CCI = 'negative'/bad\n",
    "    (df_economics[flag_cols[1]] == 'positive') &    # CPI = 'positive'/bad\n",
    "    (df_economics[flag_cols[2]] == 'negative'),     # Unemplyment = 'negative'/good\n",
    "    'Lean to Bad'),\n",
    "    ((df_economics[flag_cols[0]] == 'positive') &   # CCI = 'positive'/good\n",
    "    (df_economics[flag_cols[1]] == 'negative') &    # CPI = 'negative'/good\n",
    "    (df_economics[flag_cols[2]] == 'negative'),     # Unemplyment = 'negative'/good\n",
    "    'Comfortable to Good'),\n",
    "    ((df_economics[flag_cols[0]] == 'negative') &   # CCI = 'negative'/bad\n",
    "    (df_economics[flag_cols[1]] == 'negative') &    # CPI = 'negative'/good\n",
    "    (df_economics[flag_cols[2]] == 'negative'),     # Unemplyment = 'negative'/good\n",
    "    'Comfortable to Good')\n",
    "]\n",
    "\n",
    "# Declaring `Economic Climate` with a `PLACEHOLDER` value\n",
    "df_economics['Economic Climate'] = 'PLACEHOLDER'\n",
    "\n",
    "# Applying conditions and classifications to `Economic Climate`\n",
    "for condition, classification in conditions:\n",
    "    df_economics.loc[condition, 'Economic Climate'] = classification\n",
    "\n",
    "# Confirming classifications applied\n",
    "df_economics['Economic Climate'].value_counts()"
   ]
  },
  {
   "cell_type": "markdown",
   "metadata": {},
   "source": [
    "### Visualizations\n",
    "\n",
    "Generating visualizations for `df_economics`"
   ]
  },
  {
   "cell_type": "markdown",
   "metadata": {},
   "source": [
    "#### Features and baselines\n",
    "\n",
    "Declaring some helpful lists and values for plotting"
   ]
  },
  {
   "cell_type": "code",
   "execution_count": 51,
   "metadata": {},
   "outputs": [],
   "source": [
    "# Creating a list of features\n",
    "features_to_plot = [\n",
    "    'CCI Value',\n",
    "    'CPI Value',\n",
    "    'Unemployment Rate (%)'\n",
    "]\n",
    "\n",
    "# Creating a value of `0` to show positive and negative values\n",
    "zero_line = pd.DataFrame({\n",
    "    'Date': df_economics.index,\n",
    "    'val': [x for x in 0*df_economics[features_to_flag[2]]]\n",
    "})\n",
    "zero_line.set_index('Date', inplace=True)\n",
    "\n",
    "# Creating a value of `100` to show break point for CCI\n",
    "hundred_line = pd.DataFrame({\n",
    "    'Date': df_economics.index,\n",
    "    'val': [x for x in (0*df_economics[features_to_flag[0]])+100]\n",
    "})\n",
    "hundred_line.set_index('Date', inplace=True)"
   ]
  },
  {
   "cell_type": "markdown",
   "metadata": {},
   "source": [
    "#### CCI"
   ]
  },
  {
   "cell_type": "code",
   "execution_count": 52,
   "metadata": {},
   "outputs": [
    {
     "data": {
      "image/png": "[encoded data removed]",
      "text/plain": [
       "<Figure size 640x480 with 1 Axes>"
      ]
     },
     "metadata": {},
     "output_type": "display_data"
    }
   ],
   "source": [
    "# Visualizing trends for `CCI Value`\n",
    "plt.plot(hundred_line, color='black', linestyle='--')\n",
    "plt.plot(df_economics[features_to_plot[0]], label='CCI', color='blue')\n",
    "plt.title('Values above 100 (visualized)\\n indicate consumers more likely to spend vs save')\n",
    "plt.legend()\n",
    "plt.show()"
   ]
  },
  {
   "cell_type": "code",
   "execution_count": 53,
   "metadata": {},
   "outputs": [
    {
     "data": {
      "image/png": "[encoded data removed]",
      "text/plain": [
       "<Figure size 640x480 with 1 Axes>"
      ]
     },
     "metadata": {},
     "output_type": "display_data"
    }
   ],
   "source": [
    "# Visualizing trends for `CCI Rolling Percent Change`\n",
    "plt.plot(zero_line, color='black', linestyle='--')\n",
    "plt.plot(df_economics[features_to_flag[0]], label='% Changes in CCI', color='blue')\n",
    "plt.legend()\n",
    "plt.show()"
   ]
  },
  {
   "cell_type": "markdown",
   "metadata": {},
   "source": [
    "#### CPI"
   ]
  },
  {
   "cell_type": "code",
   "execution_count": 54,
   "metadata": {},
   "outputs": [
    {
     "data": {
      "image/png": "[encoded data removed]",
      "text/plain": [
       "<Figure size 640x480 with 1 Axes>"
      ]
     },
     "metadata": {},
     "output_type": "display_data"
    }
   ],
   "source": [
    "# Visualizing trends for `CPI Value`\n",
    "plt.plot(df_economics[features_to_plot[1]], label='CPI', color='red')\n",
    "plt.legend()\n",
    "plt.show()"
   ]
  },
  {
   "cell_type": "code",
   "execution_count": 55,
   "metadata": {},
   "outputs": [
    {
     "data": {
      "image/png": "[encoded data removed]",
      "text/plain": [
       "<Figure size 640x480 with 1 Axes>"
      ]
     },
     "metadata": {},
     "output_type": "display_data"
    }
   ],
   "source": [
    "# Visualizing trends for `CPI Rolling Percent Change`\n",
    "plt.plot(zero_line, color='black', linestyle='--')\n",
    "plt.plot(df_economics[features_to_flag[1]], label='% Changes in CPI', color='red')\n",
    "plt.legend()\n",
    "plt.show()"
   ]
  },
  {
   "cell_type": "markdown",
   "metadata": {},
   "source": [
    "#### Unemployment"
   ]
  },
  {
   "cell_type": "code",
   "execution_count": 56,
   "metadata": {},
   "outputs": [
    {
     "data": {
      "image/png": "[encoded data removed]",
      "text/plain": [
       "<Figure size 640x480 with 1 Axes>"
      ]
     },
     "metadata": {},
     "output_type": "display_data"
    }
   ],
   "source": [
    "# Visualizing trends for `Unemployment Rate (%)`\n",
    "plt.plot(df_economics[features_to_plot[2]], label='Unemployment Rate (%)', color='red')\n",
    "plt.legend()\n",
    "plt.show()"
   ]
  },
  {
   "cell_type": "code",
   "execution_count": 57,
   "metadata": {},
   "outputs": [
    {
     "data": {
      "image/png": "[encoded data removed]",
      "text/plain": [
       "<Figure size 640x480 with 1 Axes>"
      ]
     },
     "metadata": {},
     "output_type": "display_data"
    }
   ],
   "source": [
    "# Visualizing trends for `Unemployment Rate Rolling Percent Change`\n",
    "plt.plot(zero_line, color='black', linestyle='--')\n",
    "plt.plot(df_economics[features_to_flag[2]], label='% Changes in Unemployment Rate', color='red')\n",
    "plt.legend()\n",
    "plt.show()"
   ]
  },
  {
   "cell_type": "markdown",
   "metadata": {},
   "source": [
    "#### Economic Climate"
   ]
  },
  {
   "cell_type": "code",
   "execution_count": 58,
   "metadata": {},
   "outputs": [
    {
     "data": {
      "image/png": "[encoded data removed]",
      "text/plain": [
       "<Figure size 640x480 with 1 Axes>"
      ]
     },
     "metadata": {},
     "output_type": "display_data"
    }
   ],
   "source": [
    "# Vizualizing total years classified in `Economic Climate`\n",
    "plt.barh(\n",
    "    y=df_economics['Economic Climate'].value_counts().index,\n",
    "    width=df_economics['Economic Climate'].value_counts()/12,\n",
    "    color=['darkblue', 'darkgreen'],\n",
    "    label=['26.42', '16.25']\n",
    ")\n",
    "plt.title(\n",
    "    'Years from 1981 to 2023 Classified as',\n",
    "    loc='left',\n",
    "    pad=15\n",
    ")\n",
    "plt.legend()\n",
    "plt.show()"
   ]
  },
  {
   "cell_type": "markdown",
   "metadata": {},
   "source": [
    "### Indexing"
   ]
  },
  {
   "cell_type": "code",
   "execution_count": 59,
   "metadata": {},
   "outputs": [],
   "source": [
    "# Resetting the index to recreate `Date` for later concatenation\n",
    "df_economics.reset_index(inplace=True)"
   ]
  },
  {
   "cell_type": "markdown",
   "metadata": {},
   "source": [
    "## Combined Data\n",
    "\n",
    "A combined dataset will need to be prepared for modeling"
   ]
  },
  {
   "cell_type": "markdown",
   "metadata": {},
   "source": [
    "### Merging\n",
    "\n",
    "With both `df_movies` and `df_economics` prepared, the two datasets can be merged into one final working DF"
   ]
  },
  {
   "cell_type": "markdown",
   "metadata": {},
   "source": [
    "#### Indexing\n",
    "\n",
    "The `df_movies` dataset will need to be set to a `Date` index, and the year and month will need to be extracted from the `Date` of the `df_economics` dataset"
   ]
  },
  {
   "cell_type": "code",
   "execution_count": 60,
   "metadata": {},
   "outputs": [],
   "source": [
    "# Creating a 'Date' for a datetime index\n",
    "df_movies['Date'] = pd.to_datetime({\n",
    "    'year': df_movies['released_year'],\n",
    "    'month': df_movies['released_month'],\n",
    "    'day': df_movies['released_day']\n",
    "})\n",
    "\n",
    "# Setting `Date` as index\n",
    "df_movies.set_index('Date', inplace=True)\n",
    "\n",
    "# Ensuring index is sorted with ascending dates\n",
    "df_movies.sort_index(inplace=True)"
   ]
  },
  {
   "cell_type": "code",
   "execution_count": 61,
   "metadata": {},
   "outputs": [],
   "source": [
    "# Creating a `Year` and `Month` for concatenation\n",
    "df_economics['Year'] = df_economics['Date'].dt.strftime('%Y').astype(int)\n",
    "df_economics['Month'] = df_economics['Date'].dt.strftime('%m').astype(int)\n",
    "\n",
    "# Renaming to `Year` and `Month` for concatenation\n",
    "df_movies.rename(columns={\n",
    "'released_year': 'Year',\n",
    "'released_month': 'Month'\n",
    "}, inplace=True)"
   ]
  },
  {
   "cell_type": "markdown",
   "metadata": {},
   "source": [
    "#### Merging\n",
    "\n",
    "Generating the final record counts before and after merging the two datasets"
   ]
  },
  {
   "cell_type": "code",
   "execution_count": 62,
   "metadata": {},
   "outputs": [
    {
     "name": "stdout",
     "output_type": "stream",
     "text": [
      "Total records: 512\n",
      "Total records: 15488\n"
     ]
    }
   ],
   "source": [
    "# Confirming total records before concatenation\n",
    "records_total(df_economics)\n",
    "records_total(df_movies)"
   ]
  },
  {
   "cell_type": "code",
   "execution_count": 63,
   "metadata": {},
   "outputs": [
    {
     "name": "stdout",
     "output_type": "stream",
     "text": [
      "Total records: 12670\n"
     ]
    }
   ],
   "source": [
    "# Combining datasets through concatenation\n",
    "df_combined = pd.merge(df_economics, df_movies, how='left', on=['Year', 'Month'])\n",
    "\n",
    "# Confirming total records after concatenation\n",
    "records_total(df_combined)"
   ]
  },
  {
   "cell_type": "markdown",
   "metadata": {},
   "source": [
    "### EDA\n",
    "\n",
    "Continuing EDA on the compiled DF"
   ]
  },
  {
   "cell_type": "markdown",
   "metadata": {},
   "source": [
    "#### Target value\n",
    "\n",
    "Concatenating the two engineered target values from the `df_movies` dataset with the engineered target from the `df_economics` dataset"
   ]
  },
  {
   "cell_type": "code",
   "execution_count": 64,
   "metadata": {},
   "outputs": [],
   "source": [
    "# Creating the eventual `Target` for modeling\n",
    "df_combined['Target'] = df_combined['critical_success'].astype(str) + ' ' +\\\n",
    "                        df_combined['financial_success'].astype(str) + ' ' +\\\n",
    "                        df_combined['Economic Climate'].astype(str)\n"
   ]
  },
  {
   "cell_type": "markdown",
   "metadata": {},
   "source": [
    "#### Reducing features and dataset\n",
    "\n",
    "Dropping uneeded features and removing `NaN` records"
   ]
  },
  {
   "cell_type": "code",
   "execution_count": 65,
   "metadata": {},
   "outputs": [],
   "source": [
    "# Creating a list of features to drop\n",
    "cols_to_drop = [\n",
    "    'Date',\n",
    "    'CCI Rolling Mean',\n",
    "    'CPI Rolling Mean',\n",
    "    'Unemployment Rate (%) Rolling Mean',\n",
    "    'Year',\n",
    "    'Month',\n",
    "    'cast',\n",
    "    'original_language',\n",
    "    'director',\n",
    "    'writers',\n",
    "    'producers',\n",
    "    'popularity', \n",
    "    'critical_success',\n",
    "    'financial_success',\n",
    "    'release_date',\n",
    "    'released_day',\n",
    "    'production_countries',\n",
    "    'status',\n",
    "    'spoken_languages'\n",
    "]\n",
    "\n",
    "# Dropping unneeded features\n",
    "df_combined.drop(columns=cols_to_drop, inplace=True)"
   ]
  },
  {
   "cell_type": "code",
   "execution_count": 66,
   "metadata": {},
   "outputs": [],
   "source": [
    "# Dropping `NaN` records\n",
    "df_combined.dropna(inplace=True)"
   ]
  },
  {
   "cell_type": "code",
   "execution_count": 67,
   "metadata": {},
   "outputs": [
    {
     "name": "stdout",
     "output_type": "stream",
     "text": [
      "Total records: 10381\n"
     ]
    }
   ],
   "source": [
    "# Confirming total records after concatenation\n",
    "print(f'Total records: {df_combined.shape[0]}')"
   ]
  },
  {
   "cell_type": "markdown",
   "metadata": {},
   "source": [
    "#### Genres\n",
    "\n",
    "Reducing the `genres` feature to a single value for the purposes of visualizations\n",
    "\n",
    "*Note: In the cases where multiple genres are listed for a given movie, only the first listed genre will be retained*"
   ]
  },
  {
   "cell_type": "code",
   "execution_count": 68,
   "metadata": {},
   "outputs": [
    {
     "data": {
      "text/plain": [
       "genres\n",
       "Drama                                  853\n",
       "Comedy                                 694\n",
       "Horror                                 653\n",
       "Documentary                            508\n",
       "Comedy, Drama                          282\n",
       "                                      ... \n",
       "Drama, Mystery, Documentary, Action      1\n",
       "Adventure, Fantasy, Action, Horror       1\n",
       "Music, Drama, Romance, Family            1\n",
       "Family, Comedy, Music, TV Movie          1\n",
       "Animation, Family, Fantasy, Comedy       1\n",
       "Name: count, Length: 1744, dtype: int64"
      ]
     },
     "execution_count": 68,
     "metadata": {},
     "output_type": "execute_result"
    }
   ],
   "source": [
    "# Confirming values of `genres`\n",
    "df_combined['genres'].value_counts()"
   ]
  },
  {
   "cell_type": "code",
   "execution_count": 69,
   "metadata": {},
   "outputs": [],
   "source": [
    "# Creating a working copy of `df_combined` to preserve modeling integirty of dataset\n",
    "df_comb_vis = df_combined.copy()"
   ]
  },
  {
   "cell_type": "code",
   "execution_count": 70,
   "metadata": {},
   "outputs": [
    {
     "data": {
      "text/plain": [
       "genres\n",
       "Drama              3879\n",
       "Comedy             3475\n",
       "Horror             2327\n",
       "Thriller           2161\n",
       "Action             1808\n",
       "Romance            1247\n",
       "Crime              1153\n",
       "Science Fiction    1091\n",
       "Adventure           964\n",
       "Documentary         799\n",
       "Family              782\n",
       "Fantasy             707\n",
       "Mystery             670\n",
       "Animation           432\n",
       "Music               353\n",
       "History             214\n",
       "War                 174\n",
       "TV Movie            170\n",
       "Western             124\n",
       "Name: count, dtype: int64"
      ]
     },
     "execution_count": 70,
     "metadata": {},
     "output_type": "execute_result"
    }
   ],
   "source": [
    "# Splitting strings in `genres` into lists\n",
    "df_comb_vis['genres'] = df_comb_vis['genres'].str.split(',')\n",
    "\n",
    "# Seperating records with multiple `genres` into individual records\n",
    "df_comb_vis = df_comb_vis.explode('genres')\n",
    "\n",
    "# Stripping white spaces from `genres`\n",
    "df_comb_vis['genres'] = df_comb_vis['genres'].str.strip()\n",
    "\n",
    "# Reconfirming values of `genres`\n",
    "df_comb_vis['genres'].value_counts()"
   ]
  },
  {
   "cell_type": "code",
   "execution_count": 71,
   "metadata": {},
   "outputs": [
    {
     "name": "stdout",
     "output_type": "stream",
     "text": [
      "Total records: 19299\n"
     ]
    }
   ],
   "source": [
    "# Identifying duplicate records in `df_comb_vis` by `id`\n",
    "df_comb_dup = df_comb_vis[df_comb_vis.duplicated(subset=['id'], keep=False)]\n",
    "\n",
    "# Confirming total records of `df_comb_dup`\n",
    "records_total(df_comb_dup)"
   ]
  },
  {
   "cell_type": "code",
   "execution_count": 72,
   "metadata": {},
   "outputs": [
    {
     "name": "stdout",
     "output_type": "stream",
     "text": [
      "For `df_comb_dup`:\n",
      "Total records: 0\n",
      "\n",
      "For `df_comb_vis`:\n",
      "Total records: 10381\n"
     ]
    }
   ],
   "source": [
    "# Dropping duplicate records by `id`\n",
    "df_comb_vis = df_comb_vis.drop_duplicates(subset=['id'], keep='first')\n",
    "\n",
    "# Identifying remaining duplicate records in `df_comb_vis` by `id\n",
    "df_comb_dup = df_comb_vis[df_comb_vis.duplicated(subset=['id'], keep=False)]\n",
    "\n",
    "# Confirming total records of `df_comb_dup` and `df_comb_vis`\n",
    "print('For `df_comb_dup`:')\n",
    "records_total(df_comb_dup)\n",
    "print('\\nFor `df_comb_vis`:')\n",
    "records_total(df_comb_vis)"
   ]
  },
  {
   "cell_type": "markdown",
   "metadata": {},
   "source": [
    "#### Visualizations\n",
    "\n",
    "Generating visualizations for `df_combined`"
   ]
  },
  {
   "cell_type": "code",
   "execution_count": 73,
   "metadata": {},
   "outputs": [
    {
     "data": {
      "image/png": "[encoded data removed]",
      "text/plain": [
       "<Figure size 1000x600 with 1 Axes>"
      ]
     },
     "metadata": {},
     "output_type": "display_data"
    }
   ],
   "source": [
    "# Aggregating `roi` on `mean()` by `genres`\n",
    "agg_roi_mean_genre_most = pd.DataFrame(\n",
    "    df_comb_vis.loc[\n",
    "        (df_comb_vis['genres'] != 'TV Movie') &\n",
    "        (df_comb_vis['genres'] != 'Comedy') &\n",
    "        (df_comb_vis['genres'] != 'Action')\n",
    "    ].groupby('genres')['roi'].mean()\n",
    ").reset_index()\n",
    "\n",
    "# Plotting\n",
    "ax = agg_roi_mean_genre_most.plot(\n",
    "    kind='bar', x='genres', y='roi',\n",
    "    figsize=(10, 6), legend=False, color='darkred'\n",
    ")\n",
    "\n",
    "# Adding title and labels\n",
    "plt.title(\"Mean ROI by Genre\\n (Less 'TV Movie', 'Comedy', and 'Action')\")\n",
    "plt.xlabel('Genres')\n",
    "plt.ylabel('MeanROI (%)')\n",
    "plt.xticks(rotation=45, ha='right')\n",
    "\n",
    "# Format the y-axis to avoid scientific notation\n",
    "ax.get_yaxis().set_major_formatter(StrMethodFormatter('{x:,.0f}'))\n",
    "\n",
    "plt.tight_layout()\n",
    "\n",
    "# Show plot\n",
    "plt.show()"
   ]
  },
  {
   "cell_type": "code",
   "execution_count": 74,
   "metadata": {},
   "outputs": [
    {
     "data": {
      "image/png": "[encoded data removed]",
      "text/plain": [
       "<Figure size 1000x600 with 1 Axes>"
      ]
     },
     "metadata": {},
     "output_type": "display_data"
    }
   ],
   "source": [
    "# Aggregating `roi` on `mean()` by `genres`\n",
    "agg_roi_mean_genre_top_3 = pd.DataFrame(\n",
    "    df_comb_vis.loc[\n",
    "        (df_comb_vis['genres'] == 'Comedy') |\n",
    "        (df_comb_vis['genres'] == 'Action')\n",
    "    ].groupby('genres')['roi'].mean()\n",
    ").reset_index()\n",
    "\n",
    "# Plotting\n",
    "ax = agg_roi_mean_genre_top_3.plot(\n",
    "    kind='bar', x='genres', y='roi',\n",
    "    figsize=(10, 6), legend=False, color='darkred'\n",
    ")\n",
    "\n",
    "# Adding title and labels\n",
    "plt.title(\"Mean ROI by Genre\\n ('Comedy' and 'Action' Only)\")\n",
    "plt.xlabel('Genres')\n",
    "plt.ylabel('MeanROI (%)')\n",
    "plt.xticks(rotation=45, ha='right')\n",
    "\n",
    "# Format the y-axis to avoid scientific notation\n",
    "ax.get_yaxis().set_major_formatter(StrMethodFormatter('{x:,.0f}'))\n",
    "\n",
    "plt.tight_layout()\n",
    "\n",
    "# Show plot\n",
    "plt.show()"
   ]
  },
  {
   "cell_type": "code",
   "execution_count": 75,
   "metadata": {},
   "outputs": [
    {
     "data": {
      "image/png": "[encoded data removed]",
      "text/plain": [
       "<Figure size 1000x600 with 1 Axes>"
      ]
     },
     "metadata": {},
     "output_type": "display_data"
    }
   ],
   "source": [
    "# Aggregating `roi` on `mean()` by `genres`\n",
    "agg_roi_mean_genre_top_1 = pd.DataFrame(\n",
    "    df_comb_vis.loc[\n",
    "        (df_comb_vis['genres'] == 'TV Movie')\n",
    "    ].groupby('genres')['roi'].mean()\n",
    ").reset_index()\n",
    "\n",
    "# Plotting\n",
    "ax = agg_roi_mean_genre_top_1.plot(\n",
    "    kind='bar', x='genres', y='roi',\n",
    "    figsize=(10, 6), legend=False, color='darkred'\n",
    ")\n",
    "\n",
    "# Adding title and labels\n",
    "plt.title(\"Mean ROI by Genre\\n ('TV Movie' Only)\")\n",
    "plt.xlabel('Genres')\n",
    "plt.ylabel('MeanROI (%)')\n",
    "plt.xticks(rotation=45, ha='right')\n",
    "\n",
    "# Format the y-axis to avoid scientific notation\n",
    "ax.get_yaxis().set_major_formatter(StrMethodFormatter('{x:,.0f}'))\n",
    "\n",
    "plt.tight_layout()\n",
    "\n",
    "# Show plot\n",
    "plt.show()"
   ]
  },
  {
   "cell_type": "code",
   "execution_count": 76,
   "metadata": {},
   "outputs": [
    {
     "data": {
      "image/png": "[encoded data removed]",
      "text/plain": [
       "<Figure size 1000x600 with 1 Axes>"
      ]
     },
     "metadata": {},
     "output_type": "display_data"
    }
   ],
   "source": [
    "# Aggregating `revenue` on `sum()` by `genres`\n",
    "agg_rev_sum_genre = pd.DataFrame(\n",
    "    df_comb_vis.groupby('genres')['revenue'].sum()\n",
    ").reset_index()\n",
    "\n",
    "# Plotting\n",
    "ax = agg_rev_sum_genre.plot(\n",
    "    kind='bar', x='genres', y='revenue',\n",
    "    figsize=(10, 6), legend=False, color='green'\n",
    ")\n",
    "\n",
    "# Adding title and labels\n",
    "plt.title('Total Revenue by Genre')\n",
    "plt.xlabel('Genres')\n",
    "plt.ylabel('Total Revenue (USD)')\n",
    "plt.xticks(rotation=45, ha='right')\n",
    "\n",
    "# Format the y-axis to avoid scientific notation\n",
    "ax.get_yaxis().set_major_formatter(StrMethodFormatter('{x:,.0f}'))\n",
    "\n",
    "plt.tight_layout()\n",
    "\n",
    "# Show plot\n",
    "plt.show()"
   ]
  },
  {
   "cell_type": "code",
   "execution_count": 77,
   "metadata": {},
   "outputs": [
    {
     "data": {
      "image/png": "[encoded data removed]",
      "text/plain": [
       "<Figure size 1000x600 with 1 Axes>"
      ]
     },
     "metadata": {},
     "output_type": "display_data"
    }
   ],
   "source": [
    "# Aggregating `roi` on `mean()` by `Economic Climate`\n",
    "agg_roi_mean_economy = pd.DataFrame(\n",
    "    df_comb_vis.groupby('Economic Climate')['roi'].mean()\n",
    ").reset_index()\n",
    "\n",
    "# Plotting\n",
    "ax = agg_roi_mean_economy.plot(\n",
    "    kind='bar', x='Economic Climate', y='roi',\n",
    "    figsize=(10, 6), legend=False, color=['darkblue', 'darkred']\n",
    ")\n",
    "\n",
    "# Adding title and labels\n",
    "plt.title('Mean ROI by Economic Climate')\n",
    "plt.xlabel('Economic Climate')\n",
    "plt.ylabel('ROI (%)')\n",
    "plt.xticks(rotation=0)\n",
    "\n",
    "# Format the y-axis to avoid scientific notation\n",
    "ax.get_yaxis().set_major_formatter(StrMethodFormatter('{x:,.0f}'))\n",
    "\n",
    "plt.tight_layout()\n",
    "\n",
    "# Show plot\n",
    "plt.show()"
   ]
  },
  {
   "cell_type": "code",
   "execution_count": 78,
   "metadata": {},
   "outputs": [
    {
     "data": {
      "image/png": "[encoded data removed]",
      "text/plain": [
       "<Figure size 1000x600 with 1 Axes>"
      ]
     },
     "metadata": {},
     "output_type": "display_data"
    }
   ],
   "source": [
    "# Aggregating `revenue` on `sum()` by `Economic Climate`\n",
    "agg_rev_sum_economy = pd.DataFrame(\n",
    "    df_comb_vis.groupby('Economic Climate')['revenue'].sum()\n",
    ").reset_index()\n",
    "\n",
    "# Plotting\n",
    "ax = agg_rev_sum_economy.plot(\n",
    "    kind='bar', x='Economic Climate', y='revenue',\n",
    "    figsize=(10, 6), legend=False, color=['darkblue', 'darkred']\n",
    ")\n",
    "\n",
    "# Adding title and labels\n",
    "plt.title('Total Revenue by Economic Climate')\n",
    "plt.xlabel('Economic Climate')\n",
    "plt.ylabel('Total Revenue (USD)')\n",
    "plt.xticks(rotation=0)\n",
    "\n",
    "# Format the y-axis to avoid scientific notation\n",
    "ax.get_yaxis().set_major_formatter(StrMethodFormatter('{x:,.0f}'))\n",
    "\n",
    "plt.tight_layout()\n",
    "\n",
    "# Show plot\n",
    "plt.show()"
   ]
  },
  {
   "cell_type": "code",
   "execution_count": 79,
   "metadata": {},
   "outputs": [
    {
     "data": {
      "image/png": "[encoded data removed]",
      "text/plain": [
       "<Figure size 1400x800 with 1 Axes>"
      ]
     },
     "metadata": {},
     "output_type": "display_data"
    }
   ],
   "source": [
    "# Aggregating `roi` on `mean()` by `Economic Climate` and `genres`\n",
    "agg_roi_mean_most = pd.DataFrame(\n",
    "    df_comb_vis.loc[\n",
    "        (df_comb_vis['genres'] != 'TV Movie') &\n",
    "        (df_comb_vis['genres'] != 'Comedy') &\n",
    "        (df_comb_vis['genres'] != 'Action')\n",
    "    ].groupby(['Economic Climate', 'genres'])['roi'].mean()\n",
    ").reset_index()\n",
    "\n",
    "# Pivotting the table for plotting\n",
    "pivot_table = agg_roi_mean_most.pivot(index='genres', columns='Economic Climate', values='roi')\n",
    "\n",
    "# Plotting\n",
    "ax = pivot_table.plot(kind='bar', figsize=(14, 8), color=['blue', 'red'])\n",
    "\n",
    "# Adding title and labels\n",
    "plt.title(\"Mean ROI by Genre and Economic Climate\\n (Less 'TV Movie', 'Comedy', and 'Action')\")\n",
    "plt.xlabel('Genres')\n",
    "plt.ylabel('ROI (%)')\n",
    "plt.legend(title='Economic Climate')\n",
    "plt.xticks(rotation=45, ha='right')\n",
    "plt.tight_layout()\n",
    "\n",
    "# Formatting to avoid scientific notation\n",
    "ax.get_yaxis().set_major_formatter(StrMethodFormatter('{x:,.0f}'))\n",
    "\n",
    "# Displaying plot\n",
    "plt.show()"
   ]
  },
  {
   "cell_type": "code",
   "execution_count": 80,
   "metadata": {},
   "outputs": [
    {
     "data": {
      "image/png": "[encoded data removed]",
      "text/plain": [
       "<Figure size 1400x800 with 1 Axes>"
      ]
     },
     "metadata": {},
     "output_type": "display_data"
    }
   ],
   "source": [
    "# Aggregating `roi` on `mean()` by `Economic Climate` and `genres`\n",
    "agg_roi_mean_both_top_3 = pd.DataFrame(\n",
    "    df_comb_vis.loc[\n",
    "        (df_comb_vis['genres'] == 'Comedy') |\n",
    "        (df_comb_vis['genres'] == 'Action')\n",
    "    ].groupby(['Economic Climate', 'genres'])['roi'].mean()\n",
    ").reset_index()\n",
    "\n",
    "# Pivotting the table for plotting\n",
    "pivot_table = agg_roi_mean_both_top_3.pivot(index='genres', columns='Economic Climate', values='roi')\n",
    "\n",
    "# Plotting\n",
    "ax = pivot_table.plot(kind='bar', figsize=(14, 8), color=['blue', 'red'])\n",
    "\n",
    "# Adding title and labels\n",
    "plt.title(\"Mean ROI by Genre and Economic Climate\\n ('Comedy' and 'Action' Only)\")\n",
    "plt.xlabel('Genres')\n",
    "plt.ylabel('ROI (%)')\n",
    "plt.legend(title='Economic Climate')\n",
    "plt.xticks(rotation=45, ha='right')\n",
    "plt.tight_layout()\n",
    "\n",
    "# Formatting to avoid scientific notation\n",
    "ax.get_yaxis().set_major_formatter(StrMethodFormatter('{x:,.0f}'))\n",
    "\n",
    "# Displaying plot\n",
    "plt.show()"
   ]
  },
  {
   "cell_type": "code",
   "execution_count": 81,
   "metadata": {},
   "outputs": [
    {
     "data": {
      "image/png": "[encoded data removed]",
      "text/plain": [
       "<Figure size 2000x800 with 2 Axes>"
      ]
     },
     "metadata": {},
     "output_type": "display_data"
    }
   ],
   "source": [
    "# Aggregating `roi` on `mean()` by `Economic Climate` and `genres`\n",
    "agg_roi_mean_both_top_1_good = pd.DataFrame(\n",
    "    df_comb_vis.loc[\n",
    "        (df_comb_vis['genres'] == 'TV Movie') &\n",
    "        (df_comb_vis['Economic Climate'] == 'Comfortable to Good')\n",
    "    ].groupby(['Economic Climate', 'genres'])['roi'].mean()\n",
    ").reset_index()\n",
    "\n",
    "# Aggregating `roi` on `mean()` by `Economic Climate` and `genres`\n",
    "agg_roi_mean_both_top_1_bad = pd.DataFrame(\n",
    "    df_comb_vis.loc[\n",
    "        (df_comb_vis['genres'] == 'TV Movie') &\n",
    "        (df_comb_vis['Economic Climate'] == 'Lean to Bad')\n",
    "    ].groupby(['Economic Climate', 'genres'])['roi'].mean()\n",
    ").reset_index()\n",
    "\n",
    "# Pivotting the tables for plotting\n",
    "pivot_table_good = agg_roi_mean_both_top_1_good.pivot(index='genres', columns='Economic Climate', values='roi')\n",
    "pivot_table_bad = agg_roi_mean_both_top_1_bad.pivot(index='genres', columns='Economic Climate', values='roi')\n",
    "                                                \n",
    "# Creating subplots\n",
    "fig, axes = plt.subplots(nrows=1, ncols=2, figsize=(20, 8))\n",
    "\n",
    "# Plotting for 'Lean to Bad'\n",
    "ax1 = pivot_table_bad.plot(kind='bar', ax=axes[0], color='red')\n",
    "ax1.set_title(\"Mean ROI by Genre in 'Lean to Bad' Economic Climate\\n ('TV Movie' Only)\")\n",
    "ax1.set_xlabel('Genres')\n",
    "ax1.set_ylabel('ROI (%)')\n",
    "ax1.legend(title='Economic Climate')\n",
    "ax1.set_xticklabels(ax1.get_xticklabels(), rotation=45, ha='right')\n",
    "ax1.get_yaxis().set_major_formatter(StrMethodFormatter('{x:,.0f}'))\n",
    "\n",
    "# Plotting for 'Comfortable to Good'\n",
    "ax2 = pivot_table_good.plot(kind='bar', ax=axes[1], color='blue')\n",
    "ax2.set_title(\"Mean ROI by Genre in 'Comfortable to Good' Economic Climate\\n ('TV Movie' Only)\")\n",
    "ax2.set_xlabel('Genres')\n",
    "ax2.set_ylabel('ROI (%)')\n",
    "ax2.legend(title='Economic Climate')\n",
    "ax2.set_xticklabels(ax2.get_xticklabels(), rotation=45, ha='right')\n",
    "ax2.get_yaxis().set_major_formatter(StrMethodFormatter('{x:,.0f}'))\n",
    "\n",
    "# Adjusting layout\n",
    "plt.tight_layout()\n",
    "\n",
    "# Displaying plot\n",
    "plt.show()"
   ]
  },
  {
   "cell_type": "code",
   "execution_count": 82,
   "metadata": {},
   "outputs": [
    {
     "data": {
      "image/png": "[encoded data removed]",
      "text/plain": [
       "<Figure size 1400x800 with 1 Axes>"
      ]
     },
     "metadata": {},
     "output_type": "display_data"
    }
   ],
   "source": [
    "# Aggregating `revenue` on `sum()` by `Economic Climate` and `genres`\n",
    "agg_rev_sum_both = pd.DataFrame(\n",
    "    df_comb_vis.groupby(['Economic Climate', 'genres'])['revenue'].sum()\n",
    ").reset_index()\n",
    "\n",
    "# Pivotting the table for plotting\n",
    "pivot_table = agg_rev_sum_both.pivot(index='genres', columns='Economic Climate', values='revenue')\n",
    "\n",
    "# Plotting\n",
    "ax = pivot_table.plot(kind='bar', figsize=(14, 8), color=['blue', 'red'])\n",
    "\n",
    "# Adding title and labels\n",
    "plt.title('Total Revenue by Genre and Economic Climate')\n",
    "plt.xlabel('Genres')\n",
    "plt.ylabel('Revenue (USD)')\n",
    "plt.legend(title='Economic Climate')\n",
    "plt.xticks(rotation=45, ha='right')\n",
    "plt.tight_layout()\n",
    "\n",
    "# Formatting to avoid scientific notation\n",
    "ax.get_yaxis().set_major_formatter(StrMethodFormatter('{x:,.0f}'))\n",
    "\n",
    "# Displaying plot\n",
    "plt.show()"
   ]
  },
  {
   "cell_type": "markdown",
   "metadata": {},
   "source": [
    "#### Reducing features\n",
    "\n",
    "Dropping the final uneeded feature before proceeding"
   ]
  },
  {
   "cell_type": "code",
   "execution_count": 83,
   "metadata": {},
   "outputs": [],
   "source": [
    "# Dropping unneeded `Economic Climate`\n",
    "df_combined.drop(columns=['Economic Climate', 'id'], inplace=True)"
   ]
  },
  {
   "cell_type": "markdown",
   "metadata": {},
   "source": [
    "# **Train Test Splitting**"
   ]
  },
  {
   "cell_type": "code",
   "execution_count": null,
   "metadata": {},
   "outputs": [],
   "source": [
    "# Defining features and target\n",
    "X = df_combined.drop(columns='Target')\n",
    "y = df_combined['Target']\n",
    "\n",
    "# Splitting the data into training and testing sets\n",
    "X_train, X_test, y_train, y_test = train_test_split(X, y, random_state=13)"
   ]
  },
  {
   "cell_type": "markdown",
   "metadata": {},
   "source": [
    "# **Scaling and Econding**"
   ]
  },
  {
   "cell_type": "markdown",
   "metadata": {},
   "source": [
    "### Setup\n",
    "\n",
    "Before proceeding to scaling and ecoding, a list of features for each needs to be established"
   ]
  },
  {
   "cell_type": "code",
   "execution_count": null,
   "metadata": {},
   "outputs": [],
   "source": [
    "# Defining features to scale\n",
    "col_to_scale = [\n",
    "    'CCI Value', 'CCI Rolling Percent Change', 'CPI Value',\n",
    "    'CPI Rolling Percent Change', 'Unemployment Rate (%)', \n",
    "    'Unemployment Rate Rolling Percent Change','vote_average', 'vote_count',\n",
    "    'revenue','runtime','budget', 'roi'\n",
    "]\n",
    "\n",
    "# Defining features to encode\n",
    "col_to_encode = [\n",
    "    'CCI Rolling Percent Change Flag', 'CPI Rolling Percent Change Flag',\n",
    "    'Unemployment Rate Rolling Percent Change Flag', 'title', 'original_title',\n",
    "    'genres', 'production_companies'\n",
    "]"
   ]
  },
  {
   "cell_type": "markdown",
   "metadata": {},
   "source": [
    "### Scaling\n",
    "\n",
    "With the presence of positive and negative values within our economics dataset, the `StandardScalar()` was chosen over the `MinMaxScalar()` to retain the nature of our source data"
   ]
  },
  {
   "cell_type": "code",
   "execution_count": null,
   "metadata": {},
   "outputs": [],
   "source": [
    "# Creating an instance for `StandardScalar()`\n",
    "scaler = StandardScaler()\n",
    "\n",
    "# Fitting and transforming to `col_to_scale`\n",
    "X_train_scaled = scaler.fit_transform(X_train[col_to_scale])\n",
    "X_test_scaled = scaler.transform(X_test[col_to_scale])\n",
    "\n",
    "# Converting results to DF for later concatenation\n",
    "X_train_scaled = pd.DataFrame(X_train_scaled, columns=col_to_scale)\n",
    "X_test_scaled = pd.DataFrame(X_test_scaled, columns=col_to_scale)"
   ]
  },
  {
   "cell_type": "markdown",
   "metadata": {},
   "source": [
    "### Encoding\n",
    "\n",
    "Encoding will be accomplished by two encoders; one for the encoded `X` data and one for the `y` target"
   ]
  },
  {
   "cell_type": "markdown",
   "metadata": {},
   "source": [
    "#### OneHotEncoder()\n",
    "\n",
    "For our non-numeric features, `OneHotEncoder()` was selected as the most efficient method to encode our data"
   ]
  },
  {
   "cell_type": "code",
   "execution_count": null,
   "metadata": {},
   "outputs": [],
   "source": [
    "# Creating an instance for `OneHotEncoder()` for `X_train[col_to_encode]`\n",
    "encoder_x = OneHotEncoder(sparse_output=False, handle_unknown='ignore')\n",
    "\n",
    "# Fitting to `col_to_encode`\n",
    "encoder_x.fit(X_train[col_to_encode])\n",
    "\n",
    "# Transforming `X_train[col_to_encode]` and `X_test[col_to_encode]`\n",
    "X_train_encoded = encoder_x.transform(X_train[col_to_encode])\n",
    "X_test_encoded = encoder_x.transform(X_test[col_to_encode])\n",
    "\n",
    "# Converting results to DF for later concatenation\n",
    "X_train_encoded = pd.DataFrame(X_train_encoded, columns=encoder_x.get_feature_names_out())\n",
    "X_test_encoded = pd.DataFrame(X_test_encoded, columns=encoder_x.get_feature_names_out())"
   ]
  },
  {
   "cell_type": "markdown",
   "metadata": {},
   "source": [
    "#### Concatenation\n",
    "\n",
    "Combining the scaled and encoded featuers to a sing set each for training and testing"
   ]
  },
  {
   "cell_type": "code",
   "execution_count": null,
   "metadata": {},
   "outputs": [],
   "source": [
    "# Concatenating the `col_to_scale` with `col_to_encode` for `X_train` and `X_test`\n",
    "X_train = pd.concat([X_train_scaled, X_train_encoded], axis=1)\n",
    "X_test = pd.concat([X_test_scaled, X_test_encoded], axis=1)\n",
    "\n",
    "# Confirming total records after concatenation\n",
    "print(f'Total X records: {X_train.shape[0] + X_test.shape[0]}')"
   ]
  },
  {
   "cell_type": "markdown",
   "metadata": {},
   "source": [
    "#### LabelEncoder()\n",
    "\n",
    "After poorer performance with `OneHotEncoder()`, the `LabelEncoder()` was selected for our `y` target to better serve the purposes of our modeling"
   ]
  },
  {
   "cell_type": "code",
   "execution_count": null,
   "metadata": {},
   "outputs": [],
   "source": [
    "# Creating an instance for `OneHotEncoder()` for `y_train`\n",
    "encoder_y = LabelEncoder()\n",
    "\n",
    "#Fitting\n",
    "encoder_y.fit(y_train.values.ravel())\n",
    "\n",
    "# Transforming `y_train` and `y_test`\n",
    "y_train_encoded = encoder_y.transform(y_train.values.ravel())\n",
    "y_test_encoded = encoder_y.transform(y_test.values.ravel())"
   ]
  },
  {
   "cell_type": "markdown",
   "metadata": {},
   "source": [
    "# **Modeling**\n",
    "\n",
    "Several models will be run to gauge which is best for predicting our `y` target of combined critical and financial success, as well as the economic climate of the time"
   ]
  },
  {
   "cell_type": "markdown",
   "metadata": {},
   "source": [
    "## LogisticRegression()\n",
    "\n",
    "Serving as a baseline, all other modeled results will be compared to the performance of this model"
   ]
  },
  {
   "cell_type": "markdown",
   "metadata": {},
   "source": [
    "### Model"
   ]
  },
  {
   "cell_type": "code",
   "execution_count": null,
   "metadata": {},
   "outputs": [],
   "source": [
    "# Declaring an instace of `LogisticRegression()`\n",
    "logistic_regression_model = LogisticRegression(max_iter=500, solver='lbfgs')"
   ]
  },
  {
   "cell_type": "markdown",
   "metadata": {},
   "source": [
    "### Fit"
   ]
  },
  {
   "cell_type": "code",
   "execution_count": null,
   "metadata": {},
   "outputs": [],
   "source": [
    "# Fiting the model to the training data\n",
    "logistic_regression_model.fit(X_train, y_train_encoded)"
   ]
  },
  {
   "cell_type": "markdown",
   "metadata": {},
   "source": [
    "### Predict"
   ]
  },
  {
   "cell_type": "code",
   "execution_count": null,
   "metadata": {},
   "outputs": [],
   "source": [
    "# Generating predictions using the test data\n",
    "lr_predictions = logistic_regression_model.predict(X_test)\n",
    "\n",
    "# Reviewing predictions\n",
    "lr_predictions"
   ]
  },
  {
   "cell_type": "markdown",
   "metadata": {},
   "source": [
    "### Scoring"
   ]
  },
  {
   "cell_type": "markdown",
   "metadata": {},
   "source": [
    "#### Training and testing scores"
   ]
  },
  {
   "cell_type": "code",
   "execution_count": null,
   "metadata": {},
   "outputs": [],
   "source": [
    "# Displaying model scores\n",
    "print(f'Training score: {logistic_regression_model.score(X_train, y_train_encoded)}')\n",
    "print(f'Testing score: {logistic_regression_model.score(X_test, y_test_encoded)}')"
   ]
  },
  {
   "cell_type": "markdown",
   "metadata": {},
   "source": [
    "#### Accuracy and precision"
   ]
  },
  {
   "cell_type": "code",
   "execution_count": null,
   "metadata": {},
   "outputs": [],
   "source": [
    "# Displaying the accuracy and precision scores\n",
    "print('Accuracy score:')\n",
    "print(accuracy_score(y_test_encoded, lr_predictions))\n",
    "print('\\nPrecision score:')\n",
    "print(precision_score(y_test_encoded, lr_predictions, average='weighted', zero_division=1))"
   ]
  },
  {
   "cell_type": "markdown",
   "metadata": {},
   "source": [
    "### Results\n",
    "\n",
    "Training score: 0.9809890815671163\n",
    "\n",
    "Testing score: 0.7773497688751926\n",
    "\n",
    "* Acc: 0.7773497688751926\n",
    "* Prc: 0.793423523704172"
   ]
  },
  {
   "cell_type": "markdown",
   "metadata": {},
   "source": [
    "## KNeighborsClassifier()"
   ]
  },
  {
   "cell_type": "markdown",
   "metadata": {},
   "source": [
    "### Untuned model"
   ]
  },
  {
   "cell_type": "markdown",
   "metadata": {},
   "source": [
    "#### Model fit predict"
   ]
  },
  {
   "cell_type": "code",
   "execution_count": null,
   "metadata": {},
   "outputs": [],
   "source": [
    "# Creating an untuned instance of `KNeighborsClassifier()`\n",
    "untuned_model = KNeighborsClassifier()\n",
    "\n",
    "# Fiting the model to the training data\n",
    "untuned_model.fit(X_train, y_train_encoded)\n",
    "\n",
    "# Generating predictions using the test data\n",
    "untuned_y_test_pred = untuned_model.predict(X_test)\n",
    "\n",
    "# Displaying model scores\n",
    "print('Accuracy score:')\n",
    "print(accuracy_score(y_test_encoded, untuned_y_test_pred))\n",
    "print('\\nPrecision score:')\n",
    "print(precision_score(y_test_encoded, untuned_y_test_pred, average='weighted', zero_division=0))"
   ]
  },
  {
   "cell_type": "markdown",
   "metadata": {},
   "source": [
    "#### PCA"
   ]
  },
  {
   "cell_type": "code",
   "execution_count": null,
   "metadata": {},
   "outputs": [],
   "source": [
    "# Instantiatin and instance of `PCA` and declaring the number of PCA variables\n",
    "# to retain maximum variance\n",
    "pca = PCA(n_components=1, svd_solver='randomized')\n",
    "X_train_pca = pca.fit_transform(X_train)\n",
    "X_test_pca = pca.transform(X_test)"
   ]
  },
  {
   "cell_type": "markdown",
   "metadata": {},
   "source": [
    "#### PCA model fit predict"
   ]
  },
  {
   "cell_type": "code",
   "execution_count": null,
   "metadata": {},
   "outputs": [],
   "source": [
    "# Creating an untuned instance of `KNeighborsClassifier()`\n",
    "untuned_model = KNeighborsClassifier()\n",
    "\n",
    "# Fiting the model to the PCA training data\n",
    "untuned_model.fit(X_train_pca, y_train_encoded)\n",
    "\n",
    "# Generating predictions using the PCA test data\n",
    "untuned_y_test_pred = untuned_model.predict(X_test_pca)\n",
    "\n",
    "# Displaying model scores\n",
    "print('Accuracy score:')\n",
    "print(accuracy_score(y_test_encoded, untuned_y_test_pred))\n",
    "print('\\nPrecision score:')\n",
    "print(precision_score(y_test_encoded, untuned_y_test_pred, average='weighted', zero_division=0))"
   ]
  },
  {
   "cell_type": "markdown",
   "metadata": {},
   "source": [
    "### Finding best K value"
   ]
  },
  {
   "cell_type": "markdown",
   "metadata": {},
   "source": [
    "#### Visualization\n",
    "\n",
    "Respect the noodle!"
   ]
  },
  {
   "cell_type": "code",
   "execution_count": null,
   "metadata": {},
   "outputs": [],
   "source": [
    "# Create a KNN classfier to loop through different k values to find which has the highest accuracy.\n",
    "# Note: We use only odd numbers because we don't want any ties.\n",
    "train_scores = []\n",
    "test_scores = []\n",
    "for k in range(1, 40, 2):\n",
    "    loop_model = KNeighborsClassifier(n_neighbors=k)\n",
    "    loop_model.fit(X_train, y_train_encoded)\n",
    "    train_score = loop_model.score(X_train, y_train_encoded)\n",
    "    test_score = loop_model.score(X_test, y_test_encoded)\n",
    "    train_scores.append(train_score)\n",
    "    test_scores.append(test_score)\n",
    "    print(f\"k: {k}, Train/Test Score: {train_score:.3f}/{test_score:.3f}\")\n",
    "    \n",
    "# Plotting the results\n",
    "plt.plot(range(1, 40, 2), train_scores, marker='o', label=\"training scores\")\n",
    "plt.plot(range(1, 40, 2), test_scores, marker=\"x\", label=\"testing scores\")\n",
    "plt.xlabel(\"k neighbors\")\n",
    "plt.ylabel(\"accuracy score\")\n",
    "plt.legend()\n",
    "plt.show()"
   ]
  },
  {
   "cell_type": "markdown",
   "metadata": {},
   "source": [
    "#### Best K model fit predict\n",
    "\n",
    "`k=23` was chosen as it provides the best accuracy where the classifier is not overfitting"
   ]
  },
  {
   "cell_type": "code",
   "execution_count": null,
   "metadata": {},
   "outputs": [],
   "source": [
    "# Creating an untuned instance of `KNeighborsClassifier()` using best `k` value\n",
    "loop_model = KNeighborsClassifier(n_neighbors=23)\n",
    "\n",
    "# Fiting the model to the training data\n",
    "loop_model.fit(X_train, y_train_encoded)\n",
    "\n",
    "# Generating predictions using the test data\n",
    "loop_y_test_pred = loop_model.predict(X_test)\n",
    "\n",
    "# Displaying model scores\n",
    "print('Accuracy score:')\n",
    "print(accuracy_score(y_test_encoded, loop_y_test_pred))\n",
    "print('\\nPrecision score:')\n",
    "print(precision_score(y_test_encoded, loop_y_test_pred, average='weighted', zero_division=0))"
   ]
  },
  {
   "cell_type": "markdown",
   "metadata": {},
   "source": [
    "### Grid \n",
    "\n",
    "The grid search below used to hyperparameter tune the KNN Classifier provided a `k` value of **17**, with an accurancy score of **0.6854206807964033**\n",
    "\n",
    "*Note: The code has been commented out code because it took 24min to run*"
   ]
  },
  {
   "cell_type": "code",
   "execution_count": null,
   "metadata": {},
   "outputs": [],
   "source": [
    "# # Create a grid search KNN classifier\n",
    "# grid_model = KNeighborsClassifier()\n",
    "\n",
    "# # Define the parameter grid tuned KNN classifier\n",
    "# param_grid = {'n_neighbors': list(range(1, 25, 2)),\n",
    "#             'weights': ['uniform', 'distance'],\n",
    "#             'leaf_size': [10, 50, 100, 500]\n",
    "# }\n",
    "\n",
    "# # Create a GridSearchCV model\n",
    "# grid = GridSearchCV(grid_model, param_grid, verbose=3)\n",
    "\n",
    "# # Fit the model by using the grid search estimator.\n",
    "# # This will take the KNN model and try each combination of parameters.\n",
    "# grid.fit(X_train, y_train_encoded)\n",
    "\n",
    "# # Best parameter and score\n",
    "# print(f\"Best k: {grid.best_params_['n_neighbors']}\")\n",
    "# print(f\"Best cross-validated accuracy: {grid.best_score_}\")"
   ]
  },
  {
   "cell_type": "markdown",
   "metadata": {},
   "source": [
    "### Results\n",
    "\n",
    "Untuned:\n",
    "\n",
    "* Acc: 0.676040061633282\n",
    "* Prc: 0.6457813274107254\n",
    "\n",
    "PCA untuned:\n",
    "\n",
    "* Acc: 0.24807395993836673\n",
    "* Prc: 0.22671758347128645\n",
    "\n",
    "Loop at k=23:\n",
    "\n",
    "* Acc: 0.6818181818181818\n",
    "* Prc: 0.6316962265350805\n",
    "\n",
    "Best K: 17\n",
    "\n",
    "Cross-validated Acc: 0.6854206807964033"
   ]
  },
  {
   "cell_type": "markdown",
   "metadata": {},
   "source": [
    "## AdaBoostClassifier()"
   ]
  },
  {
   "cell_type": "markdown",
   "metadata": {},
   "source": [
    "### Model"
   ]
  },
  {
   "cell_type": "code",
   "execution_count": null,
   "metadata": {},
   "outputs": [],
   "source": [
    "# Declaring an `AdaBoostClassifier` model\n",
    "ada_model = AdaBoostClassifier(algorithm='SAMME', random_state=1)"
   ]
  },
  {
   "cell_type": "markdown",
   "metadata": {},
   "source": [
    "### Fit"
   ]
  },
  {
   "cell_type": "code",
   "execution_count": null,
   "metadata": {},
   "outputs": [],
   "source": [
    "# Fitting the model\n",
    "ada_model.fit(X_train, y_train_encoded)"
   ]
  },
  {
   "cell_type": "markdown",
   "metadata": {},
   "source": [
    "### Predict"
   ]
  },
  {
   "cell_type": "code",
   "execution_count": null,
   "metadata": {},
   "outputs": [],
   "source": [
    "# Predicting with the model\n",
    "ada_pred = ada_model.predict(X_test)\n",
    "\n",
    "# Reviewing predictions\n",
    "ada_pred"
   ]
  },
  {
   "cell_type": "markdown",
   "metadata": {},
   "source": [
    "### Scoring"
   ]
  },
  {
   "cell_type": "markdown",
   "metadata": {},
   "source": [
    "#### Training and testing scores"
   ]
  },
  {
   "cell_type": "code",
   "execution_count": null,
   "metadata": {},
   "outputs": [],
   "source": [
    "# Displaying model scores\n",
    "print(f'Training score: {ada_model.score(X_train, y_train_encoded)}')\n",
    "print(f'Testing score: {ada_model.score(X_test, y_test_encoded)}')"
   ]
  },
  {
   "cell_type": "markdown",
   "metadata": {},
   "source": [
    "#### Accuracy and precision"
   ]
  },
  {
   "cell_type": "code",
   "execution_count": null,
   "metadata": {},
   "outputs": [],
   "source": [
    "# Displaying the accuracy and precision scores\n",
    "print('Accuracy score:')\n",
    "print(accuracy_score(y_test_encoded, ada_pred))\n",
    "print('\\nPrecision score:')\n",
    "print(precision_score(y_test_encoded, ada_pred, average='weighted', zero_division=0))"
   ]
  },
  {
   "cell_type": "markdown",
   "metadata": {},
   "source": [
    "### Results\n",
    "\n",
    "Training score: 0.3892100192678227\n",
    "\n",
    "Testing score: 0.3709553158705701\n",
    "\n",
    "* Acc: 0.3709553158705701\n",
    "* Prc: 0.16592403022145988"
   ]
  },
  {
   "cell_type": "markdown",
   "metadata": {},
   "source": [
    "## RandomForestClassifier()"
   ]
  },
  {
   "cell_type": "markdown",
   "metadata": {},
   "source": [
    "### Model"
   ]
  },
  {
   "cell_type": "code",
   "execution_count": null,
   "metadata": {},
   "outputs": [],
   "source": [
    "# Declaring an instace of `RandomForestClassifier()`\n",
    "random_forest_model = RandomForestClassifier(random_state=1)"
   ]
  },
  {
   "cell_type": "markdown",
   "metadata": {},
   "source": [
    "### Fit"
   ]
  },
  {
   "cell_type": "code",
   "execution_count": null,
   "metadata": {},
   "outputs": [],
   "source": [
    "# Fiting the model to the training data\n",
    "random_forest_model.fit(X_train, y_train_encoded)"
   ]
  },
  {
   "cell_type": "markdown",
   "metadata": {},
   "source": [
    "### Predict"
   ]
  },
  {
   "cell_type": "code",
   "execution_count": null,
   "metadata": {},
   "outputs": [],
   "source": [
    "# Generating predictions using the test data\n",
    "RFM_pred = random_forest_model.predict(X_test)\n",
    "\n",
    "# Reviewing predictions\n",
    "RFM_pred"
   ]
  },
  {
   "cell_type": "markdown",
   "metadata": {},
   "source": [
    "### Scoring"
   ]
  },
  {
   "cell_type": "markdown",
   "metadata": {},
   "source": [
    "#### Training and testing scores"
   ]
  },
  {
   "cell_type": "code",
   "execution_count": null,
   "metadata": {},
   "outputs": [],
   "source": [
    "# Displaying model scores\n",
    "print(f'Training score: {random_forest_model.score(X_train, y_train_encoded)}')\n",
    "print(f'Testing score: {random_forest_model.score(X_test, y_test_encoded)}')"
   ]
  },
  {
   "cell_type": "markdown",
   "metadata": {},
   "source": [
    "#### Accuracy and precision"
   ]
  },
  {
   "cell_type": "code",
   "execution_count": null,
   "metadata": {},
   "outputs": [],
   "source": [
    "# Displaying the accuracy and precision scores\n",
    "print('Accuracy score:')\n",
    "print(accuracy_score(y_test_encoded, RFM_pred))\n",
    "print('\\nPrecision score:')\n",
    "print(precision_score(y_test_encoded, RFM_pred, average='weighted', zero_division=1))"
   ]
  },
  {
   "cell_type": "markdown",
   "metadata": {},
   "source": [
    "### Results\n",
    "\n",
    "Training score: 1.0\n",
    "\n",
    "Testing score: 0.8035439137134053\n",
    "\n",
    "* Acc: 0.8035439137134053\n",
    "* Prc: 0.8360129287675775"
   ]
  },
  {
   "cell_type": "markdown",
   "metadata": {},
   "source": [
    "## LinearRegression()"
   ]
  },
  {
   "cell_type": "markdown",
   "metadata": {},
   "source": [
    "#### Setup\n",
    "\n",
    "Before proceeding to scaling and ecoding, a list of features for each needs to be established"
   ]
  },
  {
   "cell_type": "code",
   "execution_count": 111,
   "metadata": {},
   "outputs": [],
   "source": [
    "# Defining features to scale\n",
    "col_to_scale_lr = [\n",
    "    'CCI Value', 'CCI Rolling Percent Change', 'CPI Value',\n",
    "    'CPI Rolling Percent Change', 'Unemployment Rate (%)', \n",
    "    'Unemployment Rate Rolling Percent Change','vote_average', 'vote_count',\n",
    "    'revenue','runtime','budget'\n",
    "]\n",
    "\n",
    "# Defining features to encode\n",
    "col_to_encode_lr = [\n",
    "    'CCI Rolling Percent Change Flag', 'CPI Rolling Percent Change Flag',\n",
    "    'Unemployment Rate Rolling Percent Change Flag', 'title', 'original_title',\n",
    "    'genres', 'production_companies'\n",
    "]\n",
    "\n",
    "col_for_X = [\n",
    "    'CCI Value', 'CCI Rolling Percent Change', 'CPI Value',\n",
    "    'CPI Rolling Percent Change', 'Unemployment Rate (%)', \n",
    "    'Unemployment Rate Rolling Percent Change','vote_average', 'vote_count',\n",
    "    'revenue','runtime','budget', 'CCI Rolling Percent Change Flag',\n",
    "    'CPI Rolling Percent Change Flag', 'Unemployment Rate Rolling Percent Change Flag',\n",
    "    'title', 'original_title', 'genres', 'production_companies'\n",
    "]"
   ]
  },
  {
   "cell_type": "markdown",
   "metadata": {},
   "source": [
    "### Train test split\n",
    "\n",
    "Creating a subset of the previous `train_test_split`"
   ]
  },
  {
   "cell_type": "code",
   "execution_count": 109,
   "metadata": {},
   "outputs": [
    {
     "data": {
      "text/plain": [
       "(10381, 20)"
      ]
     },
     "execution_count": 109,
     "metadata": {},
     "output_type": "execute_result"
    }
   ],
   "source": [
    "df_combined.shape"
   ]
  },
  {
   "cell_type": "code",
   "execution_count": 124,
   "metadata": {},
   "outputs": [
    {
     "name": "stdout",
     "output_type": "stream",
     "text": [
      "Shape:  (10381, 18) (10381, 1)\n"
     ]
    }
   ],
   "source": [
    "# Defining features and target\n",
    "X_lr = df_combined[col_for_X]\n",
    "y_lr = df_combined['roi'].values.reshape(-1, 1)\n",
    "\n",
    "# Confirming shapes\n",
    "print(\"Shape: \", X_lr.shape, y_lr.shape)"
   ]
  },
  {
   "cell_type": "code",
   "execution_count": 125,
   "metadata": {},
   "outputs": [],
   "source": [
    "# Splitting the data into training and testing sets\n",
    "X_train_lr, X_test_lr, y_train_lr, y_test_lr = train_test_split(X_lr, y_lr, random_state=13)"
   ]
  },
  {
   "cell_type": "markdown",
   "metadata": {},
   "source": [
    "### Scaling and Encoding"
   ]
  },
  {
   "cell_type": "markdown",
   "metadata": {},
   "source": [
    "#### Scaling\n",
    "\n",
    "With the presence of positive and negative values within our economics dataset, the `StandardScalar()` was chosen over the `MinMaxScalar()` to retain the nature of our source data"
   ]
  },
  {
   "cell_type": "code",
   "execution_count": 126,
   "metadata": {},
   "outputs": [],
   "source": [
    "# Creating an instance for `StandardScalar()`\n",
    "scaler_lr = StandardScaler()\n",
    "\n",
    "# Fitting and transforming to `col_to_scale`\n",
    "X_train_scaled_lr = scaler_lr.fit_transform(X_train_lr[col_to_scale_lr])\n",
    "X_test_scaled_lr = scaler_lr.transform(X_test_lr[col_to_scale_lr])\n",
    "\n",
    "# Converting results to DF for later concatenation\n",
    "X_train_scaled_lr = pd.DataFrame(X_train_scaled_lr, columns=col_to_scale_lr)\n",
    "X_test_scaled_lr = pd.DataFrame(X_test_scaled_lr, columns=col_to_scale_lr)"
   ]
  },
  {
   "cell_type": "markdown",
   "metadata": {},
   "source": [
    "#### OneHotEncoder()\n",
    "\n",
    "For our non-numeric features, `OneHotEncoder()` was selected as the most efficient method to encode our data"
   ]
  },
  {
   "cell_type": "code",
   "execution_count": 127,
   "metadata": {},
   "outputs": [],
   "source": [
    "# Creating an instance for `OneHotEncoder()` for `X_train[col_to_encode]`\n",
    "encoder_x_lr = OneHotEncoder(sparse_output=False, handle_unknown='ignore')\n",
    "\n",
    "# Fitting to `col_to_encode`\n",
    "encoder_x_lr.fit(X_train_lr[col_to_encode_lr])\n",
    "\n",
    "# Transforming `X_train[col_to_encode]` and `X_test[col_to_encode]`\n",
    "X_train_encoded_lr = encoder_x_lr.transform(X_train_lr[col_to_encode_lr])\n",
    "X_test_encoded_lr = encoder_x_lr.transform(X_test_lr[col_to_encode_lr])\n",
    "\n",
    "# Converting results to DF for later concatenation\n",
    "X_train_encoded_lr = pd.DataFrame(X_train_encoded_lr, columns=encoder_x_lr.get_feature_names_out())\n",
    "X_test_encoded_lr = pd.DataFrame(X_test_encoded_lr, columns=encoder_x_lr.get_feature_names_out())"
   ]
  },
  {
   "cell_type": "markdown",
   "metadata": {},
   "source": [
    "#### Concatenation\n",
    "\n",
    "Combining the scaled and encoded featuers to a sing set each for training and testing"
   ]
  },
  {
   "cell_type": "code",
   "execution_count": 128,
   "metadata": {},
   "outputs": [
    {
     "name": "stdout",
     "output_type": "stream",
     "text": [
      "Total X records: 10381\n"
     ]
    }
   ],
   "source": [
    "# Concatenating the `col_to_scale` with `col_to_encode` for `X_train` and `X_test`\n",
    "X_train_lr = pd.concat([X_train_scaled_lr, X_train_encoded_lr], axis=1)\n",
    "X_test_lr = pd.concat([X_test_scaled_lr, X_test_encoded_lr], axis=1)\n",
    "\n",
    "# Confirming total records after concatenation\n",
    "print(f'Total X records: {X_train_lr.shape[0] + X_test_lr.shape[0]}')"
   ]
  },
  {
   "cell_type": "markdown",
   "metadata": {},
   "source": [
    "### Model"
   ]
  },
  {
   "cell_type": "code",
   "execution_count": 129,
   "metadata": {},
   "outputs": [],
   "source": [
    "# # Declaring an instace of `LinearRegression()`\n",
    "model = LinearRegression()"
   ]
  },
  {
   "cell_type": "markdown",
   "metadata": {},
   "source": [
    "### Fit"
   ]
  },
  {
   "cell_type": "code",
   "execution_count": 130,
   "metadata": {},
   "outputs": [
    {
     "data": {
      "text/html": [
       "<style>#sk-container-id-2 {\n",
       "  /* Definition of color scheme common for light and dark mode */\n",
       "  --sklearn-color-text: black;\n",
       "  --sklearn-color-line: gray;\n",
       "  /* Definition of color scheme for unfitted estimators */\n",
       "  --sklearn-color-unfitted-level-0: #fff5e6;\n",
       "  --sklearn-color-unfitted-level-1: #f6e4d2;\n",
       "  --sklearn-color-unfitted-level-2: #ffe0b3;\n",
       "  --sklearn-color-unfitted-level-3: chocolate;\n",
       "  /* Definition of color scheme for fitted estimators */\n",
       "  --sklearn-color-fitted-level-0: #f0f8ff;\n",
       "  --sklearn-color-fitted-level-1: #d4ebff;\n",
       "  --sklearn-color-fitted-level-2: #b3dbfd;\n",
       "  --sklearn-color-fitted-level-3: cornflowerblue;\n",
       "\n",
       "  /* Specific color for light theme */\n",
       "  --sklearn-color-text-on-default-background: var(--sg-text-color, var(--theme-code-foreground, var(--jp-content-font-color1, black)));\n",
       "  --sklearn-color-background: var(--sg-background-color, var(--theme-background, var(--jp-layout-color0, white)));\n",
       "  --sklearn-color-border-box: var(--sg-text-color, var(--theme-code-foreground, var(--jp-content-font-color1, black)));\n",
       "  --sklearn-color-icon: #696969;\n",
       "\n",
       "  @media (prefers-color-scheme: dark) {\n",
       "    /* Redefinition of color scheme for dark theme */\n",
       "    --sklearn-color-text-on-default-background: var(--sg-text-color, var(--theme-code-foreground, var(--jp-content-font-color1, white)));\n",
       "    --sklearn-color-background: var(--sg-background-color, var(--theme-background, var(--jp-layout-color0, #111)));\n",
       "    --sklearn-color-border-box: var(--sg-text-color, var(--theme-code-foreground, var(--jp-content-font-color1, white)));\n",
       "    --sklearn-color-icon: #878787;\n",
       "  }\n",
       "}\n",
       "\n",
       "#sk-container-id-2 {\n",
       "  color: var(--sklearn-color-text);\n",
       "}\n",
       "\n",
       "#sk-container-id-2 pre {\n",
       "  padding: 0;\n",
       "}\n",
       "\n",
       "#sk-container-id-2 input.sk-hidden--visually {\n",
       "  border: 0;\n",
       "  clip: rect(1px 1px 1px 1px);\n",
       "  clip: rect(1px, 1px, 1px, 1px);\n",
       "  height: 1px;\n",
       "  margin: -1px;\n",
       "  overflow: hidden;\n",
       "  padding: 0;\n",
       "  position: absolute;\n",
       "  width: 1px;\n",
       "}\n",
       "\n",
       "#sk-container-id-2 div.sk-dashed-wrapped {\n",
       "  border: 1px dashed var(--sklearn-color-line);\n",
       "  margin: 0 0.4em 0.5em 0.4em;\n",
       "  box-sizing: border-box;\n",
       "  padding-bottom: 0.4em;\n",
       "  background-color: var(--sklearn-color-background);\n",
       "}\n",
       "\n",
       "#sk-container-id-2 div.sk-container {\n",
       "  /* jupyter's `normalize.less` sets `[hidden] { display: none; }`\n",
       "     but bootstrap.min.css set `[hidden] { display: none !important; }`\n",
       "     so we also need the `!important` here to be able to override the\n",
       "     default hidden behavior on the sphinx rendered scikit-learn.org.\n",
       "     See: https://github.com/scikit-learn/scikit-learn/issues/21755 */\n",
       "  display: inline-block !important;\n",
       "  position: relative;\n",
       "}\n",
       "\n",
       "#sk-container-id-2 div.sk-text-repr-fallback {\n",
       "  display: none;\n",
       "}\n",
       "\n",
       "div.sk-parallel-item,\n",
       "div.sk-serial,\n",
       "div.sk-item {\n",
       "  /* draw centered vertical line to link estimators */\n",
       "  background-image: linear-gradient(var(--sklearn-color-text-on-default-background), var(--sklearn-color-text-on-default-background));\n",
       "  background-size: 2px 100%;\n",
       "  background-repeat: no-repeat;\n",
       "  background-position: center center;\n",
       "}\n",
       "\n",
       "/* Parallel-specific style estimator block */\n",
       "\n",
       "#sk-container-id-2 div.sk-parallel-item::after {\n",
       "  content: \"\";\n",
       "  width: 100%;\n",
       "  border-bottom: 2px solid var(--sklearn-color-text-on-default-background);\n",
       "  flex-grow: 1;\n",
       "}\n",
       "\n",
       "#sk-container-id-2 div.sk-parallel {\n",
       "  display: flex;\n",
       "  align-items: stretch;\n",
       "  justify-content: center;\n",
       "  background-color: var(--sklearn-color-background);\n",
       "  position: relative;\n",
       "}\n",
       "\n",
       "#sk-container-id-2 div.sk-parallel-item {\n",
       "  display: flex;\n",
       "  flex-direction: column;\n",
       "}\n",
       "\n",
       "#sk-container-id-2 div.sk-parallel-item:first-child::after {\n",
       "  align-self: flex-end;\n",
       "  width: 50%;\n",
       "}\n",
       "\n",
       "#sk-container-id-2 div.sk-parallel-item:last-child::after {\n",
       "  align-self: flex-start;\n",
       "  width: 50%;\n",
       "}\n",
       "\n",
       "#sk-container-id-2 div.sk-parallel-item:only-child::after {\n",
       "  width: 0;\n",
       "}\n",
       "\n",
       "/* Serial-specific style estimator block */\n",
       "\n",
       "#sk-container-id-2 div.sk-serial {\n",
       "  display: flex;\n",
       "  flex-direction: column;\n",
       "  align-items: center;\n",
       "  background-color: var(--sklearn-color-background);\n",
       "  padding-right: 1em;\n",
       "  padding-left: 1em;\n",
       "}\n",
       "\n",
       "\n",
       "/* Toggleable style: style used for estimator/Pipeline/ColumnTransformer box that is\n",
       "clickable and can be expanded/collapsed.\n",
       "- Pipeline and ColumnTransformer use this feature and define the default style\n",
       "- Estimators will overwrite some part of the style using the `sk-estimator` class\n",
       "*/\n",
       "\n",
       "/* Pipeline and ColumnTransformer style (default) */\n",
       "\n",
       "#sk-container-id-2 div.sk-toggleable {\n",
       "  /* Default theme specific background. It is overwritten whether we have a\n",
       "  specific estimator or a Pipeline/ColumnTransformer */\n",
       "  background-color: var(--sklearn-color-background);\n",
       "}\n",
       "\n",
       "/* Toggleable label */\n",
       "#sk-container-id-2 label.sk-toggleable__label {\n",
       "  cursor: pointer;\n",
       "  display: block;\n",
       "  width: 100%;\n",
       "  margin-bottom: 0;\n",
       "  padding: 0.5em;\n",
       "  box-sizing: border-box;\n",
       "  text-align: center;\n",
       "}\n",
       "\n",
       "#sk-container-id-2 label.sk-toggleable__label-arrow:before {\n",
       "  /* Arrow on the left of the label */\n",
       "  content: \"▸\";\n",
       "  float: left;\n",
       "  margin-right: 0.25em;\n",
       "  color: var(--sklearn-color-icon);\n",
       "}\n",
       "\n",
       "#sk-container-id-2 label.sk-toggleable__label-arrow:hover:before {\n",
       "  color: var(--sklearn-color-text);\n",
       "}\n",
       "\n",
       "/* Toggleable content - dropdown */\n",
       "\n",
       "#sk-container-id-2 div.sk-toggleable__content {\n",
       "  max-height: 0;\n",
       "  max-width: 0;\n",
       "  overflow: hidden;\n",
       "  text-align: left;\n",
       "  /* unfitted */\n",
       "  background-color: var(--sklearn-color-unfitted-level-0);\n",
       "}\n",
       "\n",
       "#sk-container-id-2 div.sk-toggleable__content.fitted {\n",
       "  /* fitted */\n",
       "  background-color: var(--sklearn-color-fitted-level-0);\n",
       "}\n",
       "\n",
       "#sk-container-id-2 div.sk-toggleable__content pre {\n",
       "  margin: 0.2em;\n",
       "  border-radius: 0.25em;\n",
       "  color: var(--sklearn-color-text);\n",
       "  /* unfitted */\n",
       "  background-color: var(--sklearn-color-unfitted-level-0);\n",
       "}\n",
       "\n",
       "#sk-container-id-2 div.sk-toggleable__content.fitted pre {\n",
       "  /* unfitted */\n",
       "  background-color: var(--sklearn-color-fitted-level-0);\n",
       "}\n",
       "\n",
       "#sk-container-id-2 input.sk-toggleable__control:checked~div.sk-toggleable__content {\n",
       "  /* Expand drop-down */\n",
       "  max-height: 200px;\n",
       "  max-width: 100%;\n",
       "  overflow: auto;\n",
       "}\n",
       "\n",
       "#sk-container-id-2 input.sk-toggleable__control:checked~label.sk-toggleable__label-arrow:before {\n",
       "  content: \"▾\";\n",
       "}\n",
       "\n",
       "/* Pipeline/ColumnTransformer-specific style */\n",
       "\n",
       "#sk-container-id-2 div.sk-label input.sk-toggleable__control:checked~label.sk-toggleable__label {\n",
       "  color: var(--sklearn-color-text);\n",
       "  background-color: var(--sklearn-color-unfitted-level-2);\n",
       "}\n",
       "\n",
       "#sk-container-id-2 div.sk-label.fitted input.sk-toggleable__control:checked~label.sk-toggleable__label {\n",
       "  background-color: var(--sklearn-color-fitted-level-2);\n",
       "}\n",
       "\n",
       "/* Estimator-specific style */\n",
       "\n",
       "/* Colorize estimator box */\n",
       "#sk-container-id-2 div.sk-estimator input.sk-toggleable__control:checked~label.sk-toggleable__label {\n",
       "  /* unfitted */\n",
       "  background-color: var(--sklearn-color-unfitted-level-2);\n",
       "}\n",
       "\n",
       "#sk-container-id-2 div.sk-estimator.fitted input.sk-toggleable__control:checked~label.sk-toggleable__label {\n",
       "  /* fitted */\n",
       "  background-color: var(--sklearn-color-fitted-level-2);\n",
       "}\n",
       "\n",
       "#sk-container-id-2 div.sk-label label.sk-toggleable__label,\n",
       "#sk-container-id-2 div.sk-label label {\n",
       "  /* The background is the default theme color */\n",
       "  color: var(--sklearn-color-text-on-default-background);\n",
       "}\n",
       "\n",
       "/* On hover, darken the color of the background */\n",
       "#sk-container-id-2 div.sk-label:hover label.sk-toggleable__label {\n",
       "  color: var(--sklearn-color-text);\n",
       "  background-color: var(--sklearn-color-unfitted-level-2);\n",
       "}\n",
       "\n",
       "/* Label box, darken color on hover, fitted */\n",
       "#sk-container-id-2 div.sk-label.fitted:hover label.sk-toggleable__label.fitted {\n",
       "  color: var(--sklearn-color-text);\n",
       "  background-color: var(--sklearn-color-fitted-level-2);\n",
       "}\n",
       "\n",
       "/* Estimator label */\n",
       "\n",
       "#sk-container-id-2 div.sk-label label {\n",
       "  font-family: monospace;\n",
       "  font-weight: bold;\n",
       "  display: inline-block;\n",
       "  line-height: 1.2em;\n",
       "}\n",
       "\n",
       "#sk-container-id-2 div.sk-label-container {\n",
       "  text-align: center;\n",
       "}\n",
       "\n",
       "/* Estimator-specific */\n",
       "#sk-container-id-2 div.sk-estimator {\n",
       "  font-family: monospace;\n",
       "  border: 1px dotted var(--sklearn-color-border-box);\n",
       "  border-radius: 0.25em;\n",
       "  box-sizing: border-box;\n",
       "  margin-bottom: 0.5em;\n",
       "  /* unfitted */\n",
       "  background-color: var(--sklearn-color-unfitted-level-0);\n",
       "}\n",
       "\n",
       "#sk-container-id-2 div.sk-estimator.fitted {\n",
       "  /* fitted */\n",
       "  background-color: var(--sklearn-color-fitted-level-0);\n",
       "}\n",
       "\n",
       "/* on hover */\n",
       "#sk-container-id-2 div.sk-estimator:hover {\n",
       "  /* unfitted */\n",
       "  background-color: var(--sklearn-color-unfitted-level-2);\n",
       "}\n",
       "\n",
       "#sk-container-id-2 div.sk-estimator.fitted:hover {\n",
       "  /* fitted */\n",
       "  background-color: var(--sklearn-color-fitted-level-2);\n",
       "}\n",
       "\n",
       "/* Specification for estimator info (e.g. \"i\" and \"?\") */\n",
       "\n",
       "/* Common style for \"i\" and \"?\" */\n",
       "\n",
       ".sk-estimator-doc-link,\n",
       "a:link.sk-estimator-doc-link,\n",
       "a:visited.sk-estimator-doc-link {\n",
       "  float: right;\n",
       "  font-size: smaller;\n",
       "  line-height: 1em;\n",
       "  font-family: monospace;\n",
       "  background-color: var(--sklearn-color-background);\n",
       "  border-radius: 1em;\n",
       "  height: 1em;\n",
       "  width: 1em;\n",
       "  text-decoration: none !important;\n",
       "  margin-left: 1ex;\n",
       "  /* unfitted */\n",
       "  border: var(--sklearn-color-unfitted-level-1) 1pt solid;\n",
       "  color: var(--sklearn-color-unfitted-level-1);\n",
       "}\n",
       "\n",
       ".sk-estimator-doc-link.fitted,\n",
       "a:link.sk-estimator-doc-link.fitted,\n",
       "a:visited.sk-estimator-doc-link.fitted {\n",
       "  /* fitted */\n",
       "  border: var(--sklearn-color-fitted-level-1) 1pt solid;\n",
       "  color: var(--sklearn-color-fitted-level-1);\n",
       "}\n",
       "\n",
       "/* On hover */\n",
       "div.sk-estimator:hover .sk-estimator-doc-link:hover,\n",
       ".sk-estimator-doc-link:hover,\n",
       "div.sk-label-container:hover .sk-estimator-doc-link:hover,\n",
       ".sk-estimator-doc-link:hover {\n",
       "  /* unfitted */\n",
       "  background-color: var(--sklearn-color-unfitted-level-3);\n",
       "  color: var(--sklearn-color-background);\n",
       "  text-decoration: none;\n",
       "}\n",
       "\n",
       "div.sk-estimator.fitted:hover .sk-estimator-doc-link.fitted:hover,\n",
       ".sk-estimator-doc-link.fitted:hover,\n",
       "div.sk-label-container:hover .sk-estimator-doc-link.fitted:hover,\n",
       ".sk-estimator-doc-link.fitted:hover {\n",
       "  /* fitted */\n",
       "  background-color: var(--sklearn-color-fitted-level-3);\n",
       "  color: var(--sklearn-color-background);\n",
       "  text-decoration: none;\n",
       "}\n",
       "\n",
       "/* Span, style for the box shown on hovering the info icon */\n",
       ".sk-estimator-doc-link span {\n",
       "  display: none;\n",
       "  z-index: 9999;\n",
       "  position: relative;\n",
       "  font-weight: normal;\n",
       "  right: .2ex;\n",
       "  padding: .5ex;\n",
       "  margin: .5ex;\n",
       "  width: min-content;\n",
       "  min-width: 20ex;\n",
       "  max-width: 50ex;\n",
       "  color: var(--sklearn-color-text);\n",
       "  box-shadow: 2pt 2pt 4pt #999;\n",
       "  /* unfitted */\n",
       "  background: var(--sklearn-color-unfitted-level-0);\n",
       "  border: .5pt solid var(--sklearn-color-unfitted-level-3);\n",
       "}\n",
       "\n",
       ".sk-estimator-doc-link.fitted span {\n",
       "  /* fitted */\n",
       "  background: var(--sklearn-color-fitted-level-0);\n",
       "  border: var(--sklearn-color-fitted-level-3);\n",
       "}\n",
       "\n",
       ".sk-estimator-doc-link:hover span {\n",
       "  display: block;\n",
       "}\n",
       "\n",
       "/* \"?\"-specific style due to the `<a>` HTML tag */\n",
       "\n",
       "#sk-container-id-2 a.estimator_doc_link {\n",
       "  float: right;\n",
       "  font-size: 1rem;\n",
       "  line-height: 1em;\n",
       "  font-family: monospace;\n",
       "  background-color: var(--sklearn-color-background);\n",
       "  border-radius: 1rem;\n",
       "  height: 1rem;\n",
       "  width: 1rem;\n",
       "  text-decoration: none;\n",
       "  /* unfitted */\n",
       "  color: var(--sklearn-color-unfitted-level-1);\n",
       "  border: var(--sklearn-color-unfitted-level-1) 1pt solid;\n",
       "}\n",
       "\n",
       "#sk-container-id-2 a.estimator_doc_link.fitted {\n",
       "  /* fitted */\n",
       "  border: var(--sklearn-color-fitted-level-1) 1pt solid;\n",
       "  color: var(--sklearn-color-fitted-level-1);\n",
       "}\n",
       "\n",
       "/* On hover */\n",
       "#sk-container-id-2 a.estimator_doc_link:hover {\n",
       "  /* unfitted */\n",
       "  background-color: var(--sklearn-color-unfitted-level-3);\n",
       "  color: var(--sklearn-color-background);\n",
       "  text-decoration: none;\n",
       "}\n",
       "\n",
       "#sk-container-id-2 a.estimator_doc_link.fitted:hover {\n",
       "  /* fitted */\n",
       "  background-color: var(--sklearn-color-fitted-level-3);\n",
       "}\n",
       "</style><div id=\"sk-container-id-2\" class=\"sk-top-container\"><div class=\"sk-text-repr-fallback\"><pre>LinearRegression()</pre><b>In a Jupyter environment, please rerun this cell to show the HTML representation or trust the notebook. <br />On GitHub, the HTML representation is unable to render, please try loading this page with nbviewer.org.</b></div><div class=\"sk-container\" hidden><div class=\"sk-item\"><div class=\"sk-estimator fitted sk-toggleable\"><input class=\"sk-toggleable__control sk-hidden--visually\" id=\"sk-estimator-id-2\" type=\"checkbox\" checked><label for=\"sk-estimator-id-2\" class=\"sk-toggleable__label fitted sk-toggleable__label-arrow fitted\">&nbsp;&nbsp;LinearRegression<a class=\"sk-estimator-doc-link fitted\" rel=\"noreferrer\" target=\"_blank\" href=\"https://scikit-learn.org/1.4/modules/generated/sklearn.linear_model.LinearRegression.html\">?<span>Documentation for LinearRegression</span></a><span class=\"sk-estimator-doc-link fitted\">i<span>Fitted</span></span></label><div class=\"sk-toggleable__content fitted\"><pre>LinearRegression()</pre></div> </div></div></div></div>"
      ],
      "text/plain": [
       "LinearRegression()"
      ]
     },
     "execution_count": 130,
     "metadata": {},
     "output_type": "execute_result"
    }
   ],
   "source": [
    "# Fiting the model to the training data subset\n",
    "model.fit(X_train_lr, y_train_lr)"
   ]
  },
  {
   "cell_type": "markdown",
   "metadata": {},
   "source": [
    "### Predict"
   ]
  },
  {
   "cell_type": "code",
   "execution_count": 131,
   "metadata": {},
   "outputs": [
    {
     "data": {
      "text/plain": [
       "array([[ 20382.01842436],\n",
       "       [-28554.4141998 ],\n",
       "       [ 90202.19425459],\n",
       "       ...,\n",
       "       [ 19184.81727413],\n",
       "       [ 12560.84377912],\n",
       "       [-48947.99920675]])"
      ]
     },
     "execution_count": 131,
     "metadata": {},
     "output_type": "execute_result"
    }
   ],
   "source": [
    "# Generating predictions using the test data subset\n",
    "predicted_roi = model.predict(X_test_lr)\n",
    "\n",
    "# Reviewing predictions\n",
    "predicted_roi"
   ]
  },
  {
   "cell_type": "markdown",
   "metadata": {},
   "source": [
    "### Scoring"
   ]
  },
  {
   "cell_type": "code",
   "execution_count": 132,
   "metadata": {},
   "outputs": [
    {
     "name": "stdout",
     "output_type": "stream",
     "text": [
      "Mean Squared Error: 43298644487.0977\n",
      "R2 Score: -0.08725857589736674\n"
     ]
    }
   ],
   "source": [
    "# Displaying model scores\n",
    "print(\"Mean Squared Error:\", mean_squared_error(y_test_lr, predicted_roi))\n",
    "print(\"R2 Score:\", r2_score(y_test_lr, predicted_roi))"
   ]
  },
  {
   "cell_type": "markdown",
   "metadata": {},
   "source": [
    "### Results\n",
    "\n",
    "Mean Squared Error: 43298644487.0977\n",
    "\n",
    "R2 Score: -0.08725857589736674"
   ]
  },
  {
   "cell_type": "markdown",
   "metadata": {},
   "source": [
    "# Additional"
   ]
  },
  {
   "cell_type": "markdown",
   "metadata": {},
   "source": [
    "Things Needed;\n",
    "\n",
    "* Correlations?\n",
    "* More visualizatoins?\n",
    "* Tuning ran models?\n",
    "* Anything else?"
   ]
  },
  {
   "cell_type": "code",
   "execution_count": 134,
   "metadata": {},
   "outputs": [
    {
     "data": {
      "text/plain": [
       "Index(['CCI Value', 'CCI Rolling Percent Change', 'CPI Value',\n",
       "       'CPI Rolling Percent Change', 'Unemployment Rate (%)',\n",
       "       'Unemployment Rate Rolling Percent Change',\n",
       "       'CCI Rolling Percent Change Flag', 'CPI Rolling Percent Change Flag',\n",
       "       'Unemployment Rate Rolling Percent Change Flag', 'title',\n",
       "       'vote_average', 'vote_count', 'revenue', 'runtime', 'budget',\n",
       "       'original_title', 'genres', 'production_companies', 'roi', 'Target'],\n",
       "      dtype='object')"
      ]
     },
     "execution_count": 134,
     "metadata": {},
     "output_type": "execute_result"
    }
   ],
   "source": [
    "df_combined.columns"
   ]
  },
  {
   "cell_type": "code",
   "execution_count": 135,
   "metadata": {},
   "outputs": [
    {
     "data": {
      "text/html": [
       "<div>\n",
       "<style scoped>\n",
       "    .dataframe tbody tr th:only-of-type {\n",
       "        vertical-align: middle;\n",
       "    }\n",
       "\n",
       "    .dataframe tbody tr th {\n",
       "        vertical-align: top;\n",
       "    }\n",
       "\n",
       "    .dataframe thead th {\n",
       "        text-align: right;\n",
       "    }\n",
       "</style>\n",
       "<table border=\"1\" class=\"dataframe\">\n",
       "  <thead>\n",
       "    <tr style=\"text-align: right;\">\n",
       "      <th></th>\n",
       "      <th>roi</th>\n",
       "      <th>revenue</th>\n",
       "      <th>CCI Value</th>\n",
       "      <th>CPI Value</th>\n",
       "      <th>Unemployment Rate (%)</th>\n",
       "    </tr>\n",
       "  </thead>\n",
       "  <tbody>\n",
       "    <tr>\n",
       "      <th>roi</th>\n",
       "      <td>1.000000</td>\n",
       "      <td>-0.004196</td>\n",
       "      <td>0.004489</td>\n",
       "      <td>0.006016</td>\n",
       "      <td>-0.009420</td>\n",
       "    </tr>\n",
       "    <tr>\n",
       "      <th>revenue</th>\n",
       "      <td>-0.004196</td>\n",
       "      <td>1.000000</td>\n",
       "      <td>0.046122</td>\n",
       "      <td>-0.039090</td>\n",
       "      <td>0.006135</td>\n",
       "    </tr>\n",
       "    <tr>\n",
       "      <th>CCI Value</th>\n",
       "      <td>0.004489</td>\n",
       "      <td>0.046122</td>\n",
       "      <td>1.000000</td>\n",
       "      <td>-0.366250</td>\n",
       "      <td>-0.280426</td>\n",
       "    </tr>\n",
       "    <tr>\n",
       "      <th>CPI Value</th>\n",
       "      <td>0.006016</td>\n",
       "      <td>-0.039090</td>\n",
       "      <td>-0.366250</td>\n",
       "      <td>1.000000</td>\n",
       "      <td>-0.281366</td>\n",
       "    </tr>\n",
       "    <tr>\n",
       "      <th>Unemployment Rate (%)</th>\n",
       "      <td>-0.009420</td>\n",
       "      <td>0.006135</td>\n",
       "      <td>-0.280426</td>\n",
       "      <td>-0.281366</td>\n",
       "      <td>1.000000</td>\n",
       "    </tr>\n",
       "  </tbody>\n",
       "</table>\n",
       "</div>"
      ],
      "text/plain": [
       "                            roi   revenue  CCI Value  CPI Value  \\\n",
       "roi                    1.000000 -0.004196   0.004489   0.006016   \n",
       "revenue               -0.004196  1.000000   0.046122  -0.039090   \n",
       "CCI Value              0.004489  0.046122   1.000000  -0.366250   \n",
       "CPI Value              0.006016 -0.039090  -0.366250   1.000000   \n",
       "Unemployment Rate (%) -0.009420  0.006135  -0.280426  -0.281366   \n",
       "\n",
       "                       Unemployment Rate (%)  \n",
       "roi                                -0.009420  \n",
       "revenue                             0.006135  \n",
       "CCI Value                          -0.280426  \n",
       "CPI Value                          -0.281366  \n",
       "Unemployment Rate (%)               1.000000  "
      ]
     },
     "execution_count": 135,
     "metadata": {},
     "output_type": "execute_result"
    }
   ],
   "source": [
    "# Checking correlations for profits and economic indicators\n",
    "df_combined[[\n",
    "    'roi',\n",
    "    'revenue',\n",
    "    'CCI Value',\n",
    "    'CPI Value',\n",
    "    'Unemployment Rate (%)'\n",
    "]].corr()"
   ]
  },
  {
   "cell_type": "markdown",
   "metadata": {},
   "source": [
    "# Findings"
   ]
  },
  {
   "cell_type": "markdown",
   "metadata": {},
   "source": [
    "Best = Random Forest (no surprise there)\n",
    "\n",
    "Hypothesis = Null?"
   ]
  },
  {
   "cell_type": "code",
   "execution_count": null,
   "metadata": {},
   "outputs": [],
   "source": []
  },
  {
   "cell_type": "markdown",
   "metadata": {},
   "source": [
    "# Citations and Licenses"
   ]
  },
  {
   "cell_type": "markdown",
   "metadata": {},
   "source": [
    "## Citaions"
   ]
  },
  {
   "cell_type": "markdown",
   "metadata": {},
   "source": [
    "### **Unemployment.csv**\n",
    "\n",
    "Economic Policy Institute, *State of Working America Data Library*, “Unemployment”, 2024"
   ]
  },
  {
   "cell_type": "markdown",
   "metadata": {},
   "source": [
    "## Licenses"
   ]
  },
  {
   "cell_type": "markdown",
   "metadata": {},
   "source": [
    "### **TMBD_all_movies.csv**\n",
    "\n",
    "Copyright 2024 __[Alan Vourc'h](https://www.kaggle.com/alanvourch)__\n",
    "\n",
    "Licensed under the Apache License, Version 2.0 (the \"License\");\n",
    "You may not use this file except in compliance with the License. You may obtain a copy of the License at\n",
    "\n",
    "> __http://www.apache.org/licenses/LICENSE-2.0__\n",
    "\n",
    "Unless required by applicable law or agreed to in writing, software distributed under the License is distributed on an \"AS IS\" BASIS, WITHOUT WARRANTIES OR CONDITIONS OF ANY KIND, either express or implied. See the License for the specific language governing permissions and limitations under the License."
   ]
  },
  {
   "cell_type": "markdown",
   "metadata": {},
   "source": [
    "### **CCI_OECD.csv** and **US_inflation_rates.csv**\n",
    "\n",
    "CCO: Public Domain"
   ]
  }
 ],
 "metadata": {
  "kernelspec": {
   "display_name": "ai_dev",
   "language": "python",
   "name": "ai_dev"
  },
  "language_info": {
   "codemirror_mode": {
    "name": "ipython",
    "version": 3
   },
   "file_extension": ".py",
   "mimetype": "text/x-python",
   "name": "python",
   "nbconvert_exporter": "python",
   "pygments_lexer": "ipython3",
   "version": "3.10.13"
  }
 },
 "nbformat": 4,
 "nbformat_minor": 4
}
