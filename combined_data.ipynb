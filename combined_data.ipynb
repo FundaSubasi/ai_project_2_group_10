{
 "cells": [
  {
   "cell_type": "markdown",
   "metadata": {},
   "source": [
    "# Combined Datasets"
   ]
  },
  {
   "cell_type": "code",
   "execution_count": 47,
   "metadata": {},
   "outputs": [],
   "source": [
    "# Importing dependencies\n",
    "import pandas as pd\n",
    "import matplotlib.pyplot as plt\n",
    "from sklearn.model_selection import train_test_split\n",
    "from sklearn.preprocessing import StandardScaler, MinMaxScaler, OneHotEncoder, OrdinalEncoder, LabelEncoder\n",
    "from sklearn.linear_model import LogisticRegression\n",
    "from sklearn.metrics import accuracy_score, precision_score"
   ]
  },
  {
   "cell_type": "markdown",
   "metadata": {},
   "source": [
    "# Data\n",
    "\n",
    "Data explanation placeholder\n",
    "\n",
    "(Talk about original two notebooks?)"
   ]
  },
  {
   "cell_type": "code",
   "execution_count": 48,
   "metadata": {},
   "outputs": [],
   "source": [
    "# Reading in data\n",
    "df_movies = pd.read_csv(\"./Resources/movies_data.csv\")"
   ]
  },
  {
   "cell_type": "markdown",
   "metadata": {},
   "source": [
    "### Movie Data"
   ]
  },
  {
   "cell_type": "code",
   "execution_count": null,
   "metadata": {},
   "outputs": [],
   "source": []
  },
  {
   "cell_type": "markdown",
   "metadata": {},
   "source": [
    "# Economics Data"
   ]
  },
  {
   "cell_type": "markdown",
   "metadata": {},
   "source": [
    "While classifying economic states is a complex and nuanced issue, it is not unreasonable to draw more broad-strokes generalizations about a given timeframe based on more limited factors. To serve the purposes of our modelling, the following three factors were chosen to highlight the economic status at a given movie's release date;\n",
    "\n",
    "* Consumer Confidence Indicator (CCI)\n",
    "* Consumer Price Index (CPI)\n",
    "* Unemployment Rate\n",
    "\n",
    "These features are further discussed below, and stand as adequate datapoints to answer three respective questions;\n",
    "\n",
    "* How likely are people to be spending money?\n",
    "* How much do things cost when they do spend money?\n",
    "* How many people have jobs to earn money to spend?\n",
    "\n",
    "As detailed below, this information came as monthly measures over several decades. To create our `Economic Climate` indicator - a classification as to whether or not the economics of a given time were on the better side for consumers - we will need to calculate a rolling 12-month percent change in the mean of those monthly values in order to show if a given feature was on a positive or negative trend for the provided period.\n",
    "\n",
    "---\n",
    "\n",
    "The following datasets are courtesy of __[Kaggle](https://www.kaggle.com/)__.\n",
    "\n",
    "### __['...CCI_OECD.csv'](https://www.kaggle.com/datasets/iqbalsyahakbar/cci-oecd)__\n",
    "\n",
    "*renamed from `DP_LIVE_16112023095843236.csv`*\n",
    "\n",
    "Per the Organisation for Economic Co-operation and Development (OECD);\n",
    "\n",
    "* The CCI is an indication of developments for future households' consumption and saving based on expected financial situation, sentiment regarding the general economic situation, employment status, and capacity for savings\n",
    "* An indicator above `100` indicates an optimistic outlook and a greater likliehood to spend money over cautious saving\n",
    "* An indicator below `100` indicates a pessimistic outlook and both a higher likeliehood to save money and a lower tendency to consume\n",
    "\n",
    "### __['...US_inflation_rates.csv'](https://www.kaggle.com/datasets/pavankrishnanarne/us-inflation-dataset-1947-present)__\n",
    "\n",
    "Per the dataset description;\n",
    "\n",
    "* The CPI is a critical economic indicator for measuring the purchasing power of money over time, measuring the average change over time in the prices paid by urban consumers for goods and services\n",
    "* The CPI is the value at the end of the respective month\n",
    "\n",
    "---\n",
    "\n",
    "The following datasets are courtesy of the __[Economic Policy Institute’s (EPI) State of Working America Data Library](https://www.epi.org/data/)__.\n",
    "\n",
    "### __['...Unemployment.csv'](https://www.epi.org/data/#?subject=unemp)__\n",
    "\n",
    "Per EPI description;\n",
    "\n",
    "* Unemployment is the share of the labor force wihout a job\n",
    "* Monthly percentages calculated as a rolling 12-month average (mean)"
   ]
  },
  {
   "cell_type": "code",
   "execution_count": 49,
   "metadata": {},
   "outputs": [],
   "source": [
    "# Reading in data\n",
    "df_unemp = pd.read_csv(\"./Resources/EPI Data Library - Unemployment.csv\")\n",
    "df_cci = pd.read_csv(\"./Resources/CCI_OECD.csv\")\n",
    "df_inflation = pd.read_csv(\"./Resources/US_inflation_rates.csv\")"
   ]
  },
  {
   "cell_type": "markdown",
   "metadata": {},
   "source": [
    "## Defining functions\n",
    "\n",
    "Since each dataset will need similar preprocessing, the following functions will be used to help streamline the flow and code."
   ]
  },
  {
   "cell_type": "markdown",
   "metadata": {},
   "source": [
    "### Universal functions\n",
    "\n",
    "Applicable to all datasets\n",
    "\n",
    "#### EDA routine\n",
    "\n",
    "Labelling and displaying pertinant information about a given dataset for the purposes of expedited EDA\n",
    "\n",
    "#### Copying datasets\n",
    "\n",
    "Creating a working copy of a given dataset to preserve the original DF with unneeded features dropped\n",
    "\n",
    "#### Renaming needed features\n",
    "\n",
    "Renaming selected features for a given dataset\n",
    "\n",
    "#### Rolling mean and mean percent change\n",
    "\n",
    "Calculating the rolling 12-month mean and the rolling 12-month percent change for a given feature"
   ]
  },
  {
   "cell_type": "code",
   "execution_count": 50,
   "metadata": {},
   "outputs": [],
   "source": [
    "# Defining a function to display the `.describe()`, `.shape`, and `.dtypes`\n",
    "# for a given DF\n",
    "def eda_routine(df):\n",
    "    print('Describe:')\n",
    "    display(df.describe())\n",
    "    print(f'Shape: {df.shape}\\n')\n",
    "    print(f'Data types:')\n",
    "    display(df.dtypes)\n",
    "\n",
    "# Defining a function to copy a dataset with only the needed features\n",
    "def copy_df(df, features_to_keep):\n",
    "    df_copy = df[features_to_keep].copy()\n",
    "    return df_copy\n",
    "\n",
    "# Defining a function to rename needed features\n",
    "def rename_features(df, feature1, feature1new, feature2, feature2new):\n",
    "    df.rename(columns={\n",
    "        feature1: feature1new,\n",
    "        feature2: feature2new\n",
    "    }, inplace=True)\n",
    "    return df\n",
    "\n",
    "# Defining a function to calculate the rolling 12-month means and percent changes\n",
    "# for a given feature\n",
    "def rolling_calcs(df, feature, feature_mean, feature_pct_chng):\n",
    "    df[feature_mean] = df[feature].rolling(window=12).mean()\n",
    "    df[feature_pct_chng] = df[feature_mean].pct_change(periods=12) * 100\n",
    "    return df"
   ]
  },
  {
   "cell_type": "markdown",
   "metadata": {},
   "source": [
    "### Situational functions\n",
    "\n",
    "Applicable to select datasets\n",
    "\n",
    "#### Datetime indexing\n",
    "\n",
    "Converting the feature containing the raw datetime information into a suitable datetime index\n",
    "\n",
    "*Cannot be used on `Unemployment` dataset*\n",
    "\n",
    "#### Removing '%'\n",
    "\n",
    "Removing the `'%'` from a given feature and converting the remaining `object` dtype to `float`\n",
    "\n",
    "*Specigically for `Unemployment` dataset*"
   ]
  },
  {
   "cell_type": "code",
   "execution_count": 51,
   "metadata": {},
   "outputs": [],
   "source": [
    "# Defining a function to set a `Date` feature as a datetime index\n",
    "def datetime_index(df, datetime_feature):\n",
    "    df[datetime_feature] = pd.to_datetime(df[datetime_feature])\n",
    "    df.set_index(datetime_feature, inplace=True)\n",
    "    df.sort_index(inplace=True)\n",
    "    return df\n",
    "\n",
    "# Defining a function to remove '%' and convert data `float`\n",
    "def convert_percentage(feature):\n",
    "    return float(feature.strip('%'))\n",
    "\n",
    "# Defining a function to apply `convert_percentage`\n",
    "def apply_percentage(df, feature):\n",
    "    df[feature] = df[feature].apply(convert_percentage)\n",
    "    return df"
   ]
  },
  {
   "cell_type": "markdown",
   "metadata": {},
   "source": [
    "## CCI\n",
    "\n",
    "#### Preprocessing of the `CCI_OECD.csv` dataset\n",
    "\n",
    "This dataset came with internaitonal records and unneeded features, so only records for US CCI will be retained. Once those records have been selected, the resulting DF will need to be prepared for concatenation with the remainined economic datasets. To do this, the `TIME` feature will be converted to datetime and set as the index."
   ]
  },
  {
   "cell_type": "code",
   "execution_count": 52,
   "metadata": {},
   "outputs": [
    {
     "data": {
      "text/html": [
       "<div>\n",
       "<style scoped>\n",
       "    .dataframe tbody tr th:only-of-type {\n",
       "        vertical-align: middle;\n",
       "    }\n",
       "\n",
       "    .dataframe tbody tr th {\n",
       "        vertical-align: top;\n",
       "    }\n",
       "\n",
       "    .dataframe thead th {\n",
       "        text-align: right;\n",
       "    }\n",
       "</style>\n",
       "<table border=\"1\" class=\"dataframe\">\n",
       "  <thead>\n",
       "    <tr style=\"text-align: right;\">\n",
       "      <th></th>\n",
       "      <th>LOCATION</th>\n",
       "      <th>INDICATOR</th>\n",
       "      <th>SUBJECT</th>\n",
       "      <th>MEASURE</th>\n",
       "      <th>FREQUENCY</th>\n",
       "      <th>TIME</th>\n",
       "      <th>Value</th>\n",
       "      <th>Flag Codes</th>\n",
       "    </tr>\n",
       "  </thead>\n",
       "  <tbody>\n",
       "    <tr>\n",
       "      <th>0</th>\n",
       "      <td>NLD</td>\n",
       "      <td>CCI</td>\n",
       "      <td>AMPLITUD</td>\n",
       "      <td>LTRENDIDX</td>\n",
       "      <td>M</td>\n",
       "      <td>1973-01</td>\n",
       "      <td>101.4526</td>\n",
       "      <td>NaN</td>\n",
       "    </tr>\n",
       "    <tr>\n",
       "      <th>1</th>\n",
       "      <td>NLD</td>\n",
       "      <td>CCI</td>\n",
       "      <td>AMPLITUD</td>\n",
       "      <td>LTRENDIDX</td>\n",
       "      <td>M</td>\n",
       "      <td>1973-02</td>\n",
       "      <td>101.4332</td>\n",
       "      <td>NaN</td>\n",
       "    </tr>\n",
       "    <tr>\n",
       "      <th>2</th>\n",
       "      <td>NLD</td>\n",
       "      <td>CCI</td>\n",
       "      <td>AMPLITUD</td>\n",
       "      <td>LTRENDIDX</td>\n",
       "      <td>M</td>\n",
       "      <td>1973-03</td>\n",
       "      <td>101.2753</td>\n",
       "      <td>NaN</td>\n",
       "    </tr>\n",
       "    <tr>\n",
       "      <th>3</th>\n",
       "      <td>NLD</td>\n",
       "      <td>CCI</td>\n",
       "      <td>AMPLITUD</td>\n",
       "      <td>LTRENDIDX</td>\n",
       "      <td>M</td>\n",
       "      <td>1973-04</td>\n",
       "      <td>101.0106</td>\n",
       "      <td>NaN</td>\n",
       "    </tr>\n",
       "    <tr>\n",
       "      <th>4</th>\n",
       "      <td>NLD</td>\n",
       "      <td>CCI</td>\n",
       "      <td>AMPLITUD</td>\n",
       "      <td>LTRENDIDX</td>\n",
       "      <td>M</td>\n",
       "      <td>1973-05</td>\n",
       "      <td>100.8543</td>\n",
       "      <td>NaN</td>\n",
       "    </tr>\n",
       "  </tbody>\n",
       "</table>\n",
       "</div>"
      ],
      "text/plain": [
       "  LOCATION INDICATOR   SUBJECT    MEASURE FREQUENCY     TIME     Value  \\\n",
       "0      NLD       CCI  AMPLITUD  LTRENDIDX         M  1973-01  101.4526   \n",
       "1      NLD       CCI  AMPLITUD  LTRENDIDX         M  1973-02  101.4332   \n",
       "2      NLD       CCI  AMPLITUD  LTRENDIDX         M  1973-03  101.2753   \n",
       "3      NLD       CCI  AMPLITUD  LTRENDIDX         M  1973-04  101.0106   \n",
       "4      NLD       CCI  AMPLITUD  LTRENDIDX         M  1973-05  100.8543   \n",
       "\n",
       "   Flag Codes  \n",
       "0         NaN  \n",
       "1         NaN  \n",
       "2         NaN  \n",
       "3         NaN  \n",
       "4         NaN  "
      ]
     },
     "execution_count": 52,
     "metadata": {},
     "output_type": "execute_result"
    }
   ],
   "source": [
    "# Viewing `df_cci`\n",
    "df_cci.head()"
   ]
  },
  {
   "cell_type": "markdown",
   "metadata": {},
   "source": [
    "#### Beginning of limited EDA"
   ]
  },
  {
   "cell_type": "code",
   "execution_count": 53,
   "metadata": {},
   "outputs": [
    {
     "data": {
      "text/html": [
       "<div>\n",
       "<style scoped>\n",
       "    .dataframe tbody tr th:only-of-type {\n",
       "        vertical-align: middle;\n",
       "    }\n",
       "\n",
       "    .dataframe tbody tr th {\n",
       "        vertical-align: top;\n",
       "    }\n",
       "\n",
       "    .dataframe thead th {\n",
       "        text-align: right;\n",
       "    }\n",
       "</style>\n",
       "<table border=\"1\" class=\"dataframe\">\n",
       "  <thead>\n",
       "    <tr style=\"text-align: right;\">\n",
       "      <th></th>\n",
       "      <th>Value</th>\n",
       "      <th>Flag Codes</th>\n",
       "    </tr>\n",
       "  </thead>\n",
       "  <tbody>\n",
       "    <tr>\n",
       "      <th>count</th>\n",
       "      <td>21552.000000</td>\n",
       "      <td>0.0</td>\n",
       "    </tr>\n",
       "    <tr>\n",
       "      <th>mean</th>\n",
       "      <td>100.017942</td>\n",
       "      <td>NaN</td>\n",
       "    </tr>\n",
       "    <tr>\n",
       "      <th>std</th>\n",
       "      <td>1.973255</td>\n",
       "      <td>NaN</td>\n",
       "    </tr>\n",
       "    <tr>\n",
       "      <th>min</th>\n",
       "      <td>86.618690</td>\n",
       "      <td>NaN</td>\n",
       "    </tr>\n",
       "    <tr>\n",
       "      <th>25%</th>\n",
       "      <td>98.897823</td>\n",
       "      <td>NaN</td>\n",
       "    </tr>\n",
       "    <tr>\n",
       "      <th>50%</th>\n",
       "      <td>100.279300</td>\n",
       "      <td>NaN</td>\n",
       "    </tr>\n",
       "    <tr>\n",
       "      <th>75%</th>\n",
       "      <td>101.263550</td>\n",
       "      <td>NaN</td>\n",
       "    </tr>\n",
       "    <tr>\n",
       "      <th>max</th>\n",
       "      <td>108.773100</td>\n",
       "      <td>NaN</td>\n",
       "    </tr>\n",
       "  </tbody>\n",
       "</table>\n",
       "</div>"
      ],
      "text/plain": [
       "              Value  Flag Codes\n",
       "count  21552.000000         0.0\n",
       "mean     100.017942         NaN\n",
       "std        1.973255         NaN\n",
       "min       86.618690         NaN\n",
       "25%       98.897823         NaN\n",
       "50%      100.279300         NaN\n",
       "75%      101.263550         NaN\n",
       "max      108.773100         NaN"
      ]
     },
     "execution_count": 53,
     "metadata": {},
     "output_type": "execute_result"
    }
   ],
   "source": [
<<<<<<< HEAD
    "# Applying `eda_routine` to `df_cci`\n",
    "eda_routine(df_cci)"
=======
    "# Beginning EDA on `df_cci`\n",
    "df_cci.describe()"
   ]
  },
  {
   "cell_type": "code",
   "execution_count": 54,
   "metadata": {},
   "outputs": [
    {
     "data": {
      "text/plain": [
       "(21552, 8)"
      ]
     },
     "execution_count": 54,
     "metadata": {},
     "output_type": "execute_result"
    }
   ],
   "source": [
    "# Continuing EDA\n",
    "df_cci.shape"
   ]
  },
  {
   "cell_type": "code",
   "execution_count": 55,
   "metadata": {},
   "outputs": [
    {
     "data": {
      "text/plain": [
       "LOCATION       object\n",
       "INDICATOR      object\n",
       "SUBJECT        object\n",
       "MEASURE        object\n",
       "FREQUENCY      object\n",
       "TIME           object\n",
       "Value         float64\n",
       "Flag Codes    float64\n",
       "dtype: object"
      ]
     },
     "execution_count": 55,
     "metadata": {},
     "output_type": "execute_result"
    }
   ],
   "source": [
    "# Continuing EDA\n",
    "df_cci.dtypes"
>>>>>>> 1dcd1b7b4759f893cb8e37fb38714458c0a8a391
   ]
  },
  {
   "cell_type": "code",
   "execution_count": 56,
   "metadata": {},
   "outputs": [
    {
     "data": {
      "text/plain": [
       "array(['NLD', 'CHE', 'FRA', 'POL', 'CZE', 'JPN', 'OECDE', 'AUS', 'OECD',\n",
       "       'SWE', 'MEX', 'GBR', 'ZAF', 'USA', 'HUN', 'PRT', 'DNK', 'ESP',\n",
       "       'LUX', 'GRC', 'BRA', 'SVK', 'CHN', 'BEL', 'FIN', 'NZL', 'G-7',\n",
       "       'IDN', 'TUR', 'AUT', 'ITA', 'IRL', 'SVN', 'DEU', 'KOR', 'EST',\n",
       "       'EA19', 'ISR', 'RUS', 'LVA', 'LTU', 'G7M', 'OEU', 'COL', 'CHL',\n",
       "       'CRI', 'IND', 'G-20', 'EU27_2020'], dtype=object)"
      ]
     },
     "execution_count": 56,
     "metadata": {},
     "output_type": "execute_result"
    }
   ],
   "source": [
    "# Continuing EDA\n",
    "df_cci['LOCATION'].unique()"
   ]
  },
  {
   "cell_type": "markdown",
   "metadata": {},
   "source": [
    "#### Selecting only domestic data"
   ]
  },
  {
   "cell_type": "code",
   "execution_count": 57,
   "metadata": {},
   "outputs": [],
   "source": [
    "# Copying domestic data from `df_cci` to `df_cci_us` and removing unneeded features\n",
    "df_cci_us = df_cci.loc[df_cci['LOCATION'] == 'USA'].copy()"
   ]
  },
  {
   "cell_type": "markdown",
   "metadata": {},
   "source": [
    "#### Applying defined functions"
   ]
  },
  {
   "cell_type": "code",
   "execution_count": 58,
   "metadata": {},
   "outputs": [
    {
     "data": {
      "text/html": [
       "<div>\n",
       "<style scoped>\n",
       "    .dataframe tbody tr th:only-of-type {\n",
       "        vertical-align: middle;\n",
       "    }\n",
       "\n",
       "    .dataframe tbody tr th {\n",
       "        vertical-align: top;\n",
       "    }\n",
       "\n",
       "    .dataframe thead th {\n",
       "        text-align: right;\n",
       "    }\n",
       "</style>\n",
       "<table border=\"1\" class=\"dataframe\">\n",
       "  <thead>\n",
       "    <tr style=\"text-align: right;\">\n",
       "      <th></th>\n",
       "      <th>CCI Value</th>\n",
       "      <th>CCI Rolling Mean</th>\n",
       "      <th>CCI Rolling Percent Change</th>\n",
       "    </tr>\n",
       "    <tr>\n",
       "      <th>Date</th>\n",
       "      <th></th>\n",
       "      <th></th>\n",
       "      <th></th>\n",
       "    </tr>\n",
       "  </thead>\n",
       "  <tbody>\n",
       "    <tr>\n",
       "      <th>1960-01-01</th>\n",
       "      <td>101.6304</td>\n",
       "      <td>NaN</td>\n",
       "      <td>NaN</td>\n",
       "    </tr>\n",
       "    <tr>\n",
       "      <th>1960-02-01</th>\n",
       "      <td>101.3717</td>\n",
       "      <td>NaN</td>\n",
       "      <td>NaN</td>\n",
       "    </tr>\n",
       "    <tr>\n",
       "      <th>1960-03-01</th>\n",
       "      <td>101.1483</td>\n",
       "      <td>NaN</td>\n",
       "      <td>NaN</td>\n",
       "    </tr>\n",
       "    <tr>\n",
       "      <th>1960-04-01</th>\n",
       "      <td>101.0250</td>\n",
       "      <td>NaN</td>\n",
       "      <td>NaN</td>\n",
       "    </tr>\n",
       "    <tr>\n",
       "      <th>1960-05-01</th>\n",
       "      <td>101.0561</td>\n",
       "      <td>NaN</td>\n",
       "      <td>NaN</td>\n",
       "    </tr>\n",
       "  </tbody>\n",
       "</table>\n",
       "</div>"
      ],
      "text/plain": [
       "            CCI Value  CCI Rolling Mean  CCI Rolling Percent Change\n",
       "Date                                                               \n",
       "1960-01-01   101.6304               NaN                         NaN\n",
       "1960-02-01   101.3717               NaN                         NaN\n",
       "1960-03-01   101.1483               NaN                         NaN\n",
       "1960-04-01   101.0250               NaN                         NaN\n",
       "1960-05-01   101.0561               NaN                         NaN"
      ]
     },
     "metadata": {},
     "output_type": "display_data"
    },
    {
     "data": {
      "text/html": [
       "<div>\n",
       "<style scoped>\n",
       "    .dataframe tbody tr th:only-of-type {\n",
       "        vertical-align: middle;\n",
       "    }\n",
       "\n",
       "    .dataframe tbody tr th {\n",
       "        vertical-align: top;\n",
       "    }\n",
       "\n",
       "    .dataframe thead th {\n",
       "        text-align: right;\n",
       "    }\n",
       "</style>\n",
       "<table border=\"1\" class=\"dataframe\">\n",
       "  <thead>\n",
       "    <tr style=\"text-align: right;\">\n",
       "      <th></th>\n",
       "      <th>CCI Value</th>\n",
       "      <th>CCI Rolling Mean</th>\n",
       "      <th>CCI Rolling Percent Change</th>\n",
       "    </tr>\n",
       "    <tr>\n",
       "      <th>Date</th>\n",
       "      <th></th>\n",
       "      <th></th>\n",
       "      <th></th>\n",
       "    </tr>\n",
       "  </thead>\n",
       "  <tbody>\n",
       "    <tr>\n",
       "      <th>2023-06-01</th>\n",
       "      <td>97.54726</td>\n",
       "      <td>97.009973</td>\n",
       "      <td>-0.720943</td>\n",
       "    </tr>\n",
       "    <tr>\n",
       "      <th>2023-07-01</th>\n",
       "      <td>97.90887</td>\n",
       "      <td>97.153842</td>\n",
       "      <td>-0.314425</td>\n",
       "    </tr>\n",
       "    <tr>\n",
       "      <th>2023-08-01</th>\n",
       "      <td>97.98888</td>\n",
       "      <td>97.282601</td>\n",
       "      <td>0.008370</td>\n",
       "    </tr>\n",
       "    <tr>\n",
       "      <th>2023-09-01</th>\n",
       "      <td>97.82825</td>\n",
       "      <td>97.380064</td>\n",
       "      <td>0.256435</td>\n",
       "    </tr>\n",
       "    <tr>\n",
       "      <th>2023-10-01</th>\n",
       "      <td>97.52642</td>\n",
       "      <td>97.442995</td>\n",
       "      <td>0.444103</td>\n",
       "    </tr>\n",
       "  </tbody>\n",
       "</table>\n",
       "</div>"
      ],
      "text/plain": [
       "            CCI Value  CCI Rolling Mean  CCI Rolling Percent Change\n",
       "Date                                                               \n",
       "2023-06-01   97.54726         97.009973                   -0.720943\n",
       "2023-07-01   97.90887         97.153842                   -0.314425\n",
       "2023-08-01   97.98888         97.282601                    0.008370\n",
       "2023-09-01   97.82825         97.380064                    0.256435\n",
       "2023-10-01   97.52642         97.442995                    0.444103"
      ]
     },
     "metadata": {},
     "output_type": "display_data"
    }
   ],
   "source": [
    "# Copying `df_cci_us` and dropping unneeded features\n",
    "df_cci_form = copy_df(df_cci_us, ['TIME', 'Value'])\n",
    "\n",
    "# Renamining retained features\n",
    "df_cci_form = rename_features(\n",
    "    df_cci_form, 'TIME', 'Date', 'Value', 'CCI Value'\n",
    ")\n",
    "\n",
    "# Converting `Date` to a datetime index\n",
    "df_cci_form = datetime_index(df_cci_form, 'Date')\n",
    "\n",
    "# Calculating rolling 12-month means and percent change in means\n",
    "df_cci_form = rolling_calcs(\n",
    "    df_cci_form, 'CCI Value', 'CCI Rolling Mean', 'CCI Rolling Percent Change'\n",
    ")\n",
    "\n",
    "# Confirming `df_cci_form` ready to concatenate\n",
    "display(df_cci_form.head())\n",
    "display(df_cci_form.tail())"
   ]
  },
  {
   "cell_type": "markdown",
   "metadata": {},
   "source": [
    "## Inflation\n",
    "\n",
    "#### Preprocessing of the `US_inflation_rates.csv` dataset\n",
    "\n",
    "Seeing as the dataset came with only the needed features, little will be needed to prepare the DF for concatenation with the other economic datasets. `date` will be converted to datetime and set as the index."
   ]
  },
  {
   "cell_type": "code",
   "execution_count": 59,
   "metadata": {},
   "outputs": [
    {
     "data": {
      "text/html": [
       "<div>\n",
       "<style scoped>\n",
       "    .dataframe tbody tr th:only-of-type {\n",
       "        vertical-align: middle;\n",
       "    }\n",
       "\n",
       "    .dataframe tbody tr th {\n",
       "        vertical-align: top;\n",
       "    }\n",
       "\n",
       "    .dataframe thead th {\n",
       "        text-align: right;\n",
       "    }\n",
       "</style>\n",
       "<table border=\"1\" class=\"dataframe\">\n",
       "  <thead>\n",
       "    <tr style=\"text-align: right;\">\n",
       "      <th></th>\n",
       "      <th>date</th>\n",
       "      <th>value</th>\n",
       "    </tr>\n",
       "  </thead>\n",
       "  <tbody>\n",
       "    <tr>\n",
       "      <th>0</th>\n",
       "      <td>1947-01-01</td>\n",
       "      <td>21.48</td>\n",
       "    </tr>\n",
       "    <tr>\n",
       "      <th>1</th>\n",
       "      <td>1947-02-01</td>\n",
       "      <td>21.62</td>\n",
       "    </tr>\n",
       "    <tr>\n",
       "      <th>2</th>\n",
       "      <td>1947-03-01</td>\n",
       "      <td>22.00</td>\n",
       "    </tr>\n",
       "    <tr>\n",
       "      <th>3</th>\n",
       "      <td>1947-04-01</td>\n",
       "      <td>22.00</td>\n",
       "    </tr>\n",
       "    <tr>\n",
       "      <th>4</th>\n",
       "      <td>1947-05-01</td>\n",
       "      <td>21.95</td>\n",
       "    </tr>\n",
       "  </tbody>\n",
       "</table>\n",
       "</div>"
      ],
      "text/plain": [
       "         date  value\n",
       "0  1947-01-01  21.48\n",
       "1  1947-02-01  21.62\n",
       "2  1947-03-01  22.00\n",
       "3  1947-04-01  22.00\n",
       "4  1947-05-01  21.95"
      ]
     },
     "execution_count": 59,
     "metadata": {},
     "output_type": "execute_result"
    }
   ],
   "source": [
    "# Viewing `df_inflation`\n",
    "df_inflation.head()"
   ]
  },
  {
   "cell_type": "markdown",
   "metadata": {},
   "source": [
    "#### Beginning of limited EDA"
   ]
  },
  {
   "cell_type": "code",
   "execution_count": 60,
   "metadata": {},
   "outputs": [
    {
     "data": {
      "text/html": [
       "<div>\n",
       "<style scoped>\n",
       "    .dataframe tbody tr th:only-of-type {\n",
       "        vertical-align: middle;\n",
       "    }\n",
       "\n",
       "    .dataframe tbody tr th {\n",
       "        vertical-align: top;\n",
       "    }\n",
       "\n",
       "    .dataframe thead th {\n",
       "        text-align: right;\n",
       "    }\n",
       "</style>\n",
       "<table border=\"1\" class=\"dataframe\">\n",
       "  <thead>\n",
       "    <tr style=\"text-align: right;\">\n",
       "      <th></th>\n",
       "      <th>value</th>\n",
       "    </tr>\n",
       "  </thead>\n",
       "  <tbody>\n",
       "    <tr>\n",
       "      <th>count</th>\n",
       "      <td>918.000000</td>\n",
       "    </tr>\n",
       "    <tr>\n",
       "      <th>mean</th>\n",
       "      <td>117.794828</td>\n",
       "    </tr>\n",
       "    <tr>\n",
       "      <th>std</th>\n",
       "      <td>83.736360</td>\n",
       "    </tr>\n",
       "    <tr>\n",
       "      <th>min</th>\n",
       "      <td>21.480000</td>\n",
       "    </tr>\n",
       "    <tr>\n",
       "      <th>25%</th>\n",
       "      <td>32.105000</td>\n",
       "    </tr>\n",
       "    <tr>\n",
       "      <th>50%</th>\n",
       "      <td>106.900000</td>\n",
       "    </tr>\n",
       "    <tr>\n",
       "      <th>75%</th>\n",
       "      <td>188.000000</td>\n",
       "    </tr>\n",
       "    <tr>\n",
       "      <th>max</th>\n",
       "      <td>303.841000</td>\n",
       "    </tr>\n",
       "  </tbody>\n",
       "</table>\n",
       "</div>"
      ],
      "text/plain": [
       "            value\n",
       "count  918.000000\n",
       "mean   117.794828\n",
       "std     83.736360\n",
       "min     21.480000\n",
       "25%     32.105000\n",
       "50%    106.900000\n",
       "75%    188.000000\n",
       "max    303.841000"
      ]
     },
     "execution_count": 60,
     "metadata": {},
     "output_type": "execute_result"
    }
   ],
   "source": [
<<<<<<< HEAD
    "# Applying `eda_routine` to `df_inflation`\n",
    "eda_routine(df_inflation)"
=======
    "# Beginning of EDA on `df_inflation`\n",
    "df_inflation.describe()"
   ]
  },
  {
   "cell_type": "code",
   "execution_count": 61,
   "metadata": {},
   "outputs": [
    {
     "data": {
      "text/plain": [
       "(918, 2)"
      ]
     },
     "execution_count": 61,
     "metadata": {},
     "output_type": "execute_result"
    }
   ],
   "source": [
    "# Continuing EDA\n",
    "df_inflation.shape"
   ]
  },
  {
   "cell_type": "code",
   "execution_count": 62,
   "metadata": {},
   "outputs": [
    {
     "data": {
      "text/plain": [
       "date      object\n",
       "value    float64\n",
       "dtype: object"
      ]
     },
     "execution_count": 62,
     "metadata": {},
     "output_type": "execute_result"
    }
   ],
   "source": [
    "# Continuing EDA\n",
    "df_inflation.dtypes"
>>>>>>> 1dcd1b7b4759f893cb8e37fb38714458c0a8a391
   ]
  },
  {
   "cell_type": "markdown",
   "metadata": {},
   "source": [
    "#### Applying defined functions"
   ]
  },
  {
   "cell_type": "code",
   "execution_count": 63,
   "metadata": {},
   "outputs": [
    {
     "data": {
      "text/html": [
       "<div>\n",
       "<style scoped>\n",
       "    .dataframe tbody tr th:only-of-type {\n",
       "        vertical-align: middle;\n",
       "    }\n",
       "\n",
       "    .dataframe tbody tr th {\n",
       "        vertical-align: top;\n",
       "    }\n",
       "\n",
       "    .dataframe thead th {\n",
       "        text-align: right;\n",
       "    }\n",
       "</style>\n",
       "<table border=\"1\" class=\"dataframe\">\n",
       "  <thead>\n",
       "    <tr style=\"text-align: right;\">\n",
       "      <th></th>\n",
       "      <th>CPI Value</th>\n",
       "      <th>CPI Rolling Mean</th>\n",
       "      <th>CPI Rolling Percent Change</th>\n",
       "    </tr>\n",
       "    <tr>\n",
       "      <th>Date</th>\n",
       "      <th></th>\n",
       "      <th></th>\n",
       "      <th></th>\n",
       "    </tr>\n",
       "  </thead>\n",
       "  <tbody>\n",
       "    <tr>\n",
       "      <th>1947-01-01</th>\n",
       "      <td>21.48</td>\n",
       "      <td>NaN</td>\n",
       "      <td>NaN</td>\n",
       "    </tr>\n",
       "    <tr>\n",
       "      <th>1947-02-01</th>\n",
       "      <td>21.62</td>\n",
       "      <td>NaN</td>\n",
       "      <td>NaN</td>\n",
       "    </tr>\n",
       "    <tr>\n",
       "      <th>1947-03-01</th>\n",
       "      <td>22.00</td>\n",
       "      <td>NaN</td>\n",
       "      <td>NaN</td>\n",
       "    </tr>\n",
       "    <tr>\n",
       "      <th>1947-04-01</th>\n",
       "      <td>22.00</td>\n",
       "      <td>NaN</td>\n",
       "      <td>NaN</td>\n",
       "    </tr>\n",
       "    <tr>\n",
       "      <th>1947-05-01</th>\n",
       "      <td>21.95</td>\n",
       "      <td>NaN</td>\n",
       "      <td>NaN</td>\n",
       "    </tr>\n",
       "  </tbody>\n",
       "</table>\n",
       "</div>"
      ],
      "text/plain": [
       "            CPI Value  CPI Rolling Mean  CPI Rolling Percent Change\n",
       "Date                                                               \n",
       "1947-01-01      21.48               NaN                         NaN\n",
       "1947-02-01      21.62               NaN                         NaN\n",
       "1947-03-01      22.00               NaN                         NaN\n",
       "1947-04-01      22.00               NaN                         NaN\n",
       "1947-05-01      21.95               NaN                         NaN"
      ]
     },
     "metadata": {},
     "output_type": "display_data"
    },
    {
     "data": {
      "text/html": [
       "<div>\n",
       "<style scoped>\n",
       "    .dataframe tbody tr th:only-of-type {\n",
       "        vertical-align: middle;\n",
       "    }\n",
       "\n",
       "    .dataframe tbody tr th {\n",
       "        vertical-align: top;\n",
       "    }\n",
       "\n",
       "    .dataframe thead th {\n",
       "        text-align: right;\n",
       "    }\n",
       "</style>\n",
       "<table border=\"1\" class=\"dataframe\">\n",
       "  <thead>\n",
       "    <tr style=\"text-align: right;\">\n",
       "      <th></th>\n",
       "      <th>CPI Value</th>\n",
       "      <th>CPI Rolling Mean</th>\n",
       "      <th>CPI Rolling Percent Change</th>\n",
       "    </tr>\n",
       "    <tr>\n",
       "      <th>Date</th>\n",
       "      <th></th>\n",
       "      <th></th>\n",
       "      <th></th>\n",
       "    </tr>\n",
       "  </thead>\n",
       "  <tbody>\n",
       "    <tr>\n",
       "      <th>2023-02-01</th>\n",
       "      <td>301.648</td>\n",
       "      <td>295.527083</td>\n",
       "      <td>7.706636</td>\n",
       "    </tr>\n",
       "    <tr>\n",
       "      <th>2023-03-01</th>\n",
       "      <td>301.808</td>\n",
       "      <td>296.721750</td>\n",
       "      <td>7.406182</td>\n",
       "    </tr>\n",
       "    <tr>\n",
       "      <th>2023-04-01</th>\n",
       "      <td>302.918</td>\n",
       "      <td>297.914000</td>\n",
       "      <td>7.128724</td>\n",
       "    </tr>\n",
       "    <tr>\n",
       "      <th>2023-05-01</th>\n",
       "      <td>303.294</td>\n",
       "      <td>298.916167</td>\n",
       "      <td>6.758919</td>\n",
       "    </tr>\n",
       "    <tr>\n",
       "      <th>2023-06-01</th>\n",
       "      <td>303.841</td>\n",
       "      <td>299.675583</td>\n",
       "      <td>6.265739</td>\n",
       "    </tr>\n",
       "  </tbody>\n",
       "</table>\n",
       "</div>"
      ],
      "text/plain": [
       "            CPI Value  CPI Rolling Mean  CPI Rolling Percent Change\n",
       "Date                                                               \n",
       "2023-02-01    301.648        295.527083                    7.706636\n",
       "2023-03-01    301.808        296.721750                    7.406182\n",
       "2023-04-01    302.918        297.914000                    7.128724\n",
       "2023-05-01    303.294        298.916167                    6.758919\n",
       "2023-06-01    303.841        299.675583                    6.265739"
      ]
     },
     "metadata": {},
     "output_type": "display_data"
    }
   ],
   "source": [
    "# Copying `df_inflation` and dropping unneeded features\n",
    "df_inflation_form = copy_df(df_inflation, ['date', 'value'])\n",
    "\n",
    "# Renamining retained features\n",
    "df_inflation_form = rename_features(\n",
    "    df_inflation_form, 'date', 'Date', 'value', 'CPI Value'\n",
    ")\n",
    "\n",
    "# Converting `Date` to a datetime index\n",
    "df_inflation_form = datetime_index(df_inflation_form, 'Date')\n",
    "\n",
    "# Calculating rolling 12-month means and percent change in means\n",
    "df_inflation_form = rolling_calcs(\n",
    "    df_inflation_form,\n",
    "    'CPI Value',\n",
    "    'CPI Rolling Mean',\n",
    "    'CPI Rolling Percent Change'\n",
    ")\n",
    "\n",
    "# Confirming `df_inflation_form` ready to concatenate\n",
    "display(df_inflation_form.head())\n",
    "display(df_inflation_form.tail())"
   ]
  },
  {
   "cell_type": "markdown",
   "metadata": {},
   "source": [
    "## Unemployment\n",
    "\n",
    "#### Preprocessing of the `Unemployment.csv` dataset\n",
    "\n",
    "This dataset came with unneeded features that will need to be dropped, as well as the needed features will need to be converted to `float`. Additionally, the `Date` feature will need to be converted to datetime and set to the index in preparation for concatenation with the other economic datasets."
   ]
  },
  {
   "cell_type": "code",
   "execution_count": 64,
   "metadata": {},
   "outputs": [
    {
     "data": {
      "text/html": [
       "<div>\n",
       "<style scoped>\n",
       "    .dataframe tbody tr th:only-of-type {\n",
       "        vertical-align: middle;\n",
       "    }\n",
       "\n",
       "    .dataframe tbody tr th {\n",
       "        vertical-align: top;\n",
       "    }\n",
       "\n",
       "    .dataframe thead th {\n",
       "        text-align: right;\n",
       "    }\n",
       "</style>\n",
       "<table border=\"1\" class=\"dataframe\">\n",
       "  <thead>\n",
       "    <tr style=\"text-align: right;\">\n",
       "      <th></th>\n",
       "      <th>Date</th>\n",
       "      <th>All</th>\n",
       "      <th>Women</th>\n",
       "      <th>Men</th>\n",
       "      <th>Black</th>\n",
       "      <th>Hispanic</th>\n",
       "      <th>White</th>\n",
       "      <th>Black Women</th>\n",
       "      <th>Black Men</th>\n",
       "      <th>Hispanic Women</th>\n",
       "      <th>...</th>\n",
       "      <th>White Men Some college</th>\n",
       "      <th>16-24</th>\n",
       "      <th>25-54</th>\n",
       "      <th>55-64</th>\n",
       "      <th>65+</th>\n",
       "      <th>Advanced degree</th>\n",
       "      <th>Bachelor's degree</th>\n",
       "      <th>High school</th>\n",
       "      <th>Less than HS</th>\n",
       "      <th>Some college</th>\n",
       "    </tr>\n",
       "  </thead>\n",
       "  <tbody>\n",
       "    <tr>\n",
       "      <th>0</th>\n",
       "      <td>Mar-2024</td>\n",
       "      <td>3.7%</td>\n",
       "      <td>3.5%</td>\n",
       "      <td>3.9%</td>\n",
       "      <td>5.8%</td>\n",
       "      <td>4.6%</td>\n",
       "      <td>3.0%</td>\n",
       "      <td>5.5%</td>\n",
       "      <td>6.2%</td>\n",
       "      <td>4.6%</td>\n",
       "      <td>...</td>\n",
       "      <td>2.9%</td>\n",
       "      <td>8.0%</td>\n",
       "      <td>3.2%</td>\n",
       "      <td>2.6%</td>\n",
       "      <td>3.0%</td>\n",
       "      <td>2.0%</td>\n",
       "      <td>2.5%</td>\n",
       "      <td>5.0%</td>\n",
       "      <td>7.7%</td>\n",
       "      <td>3.4%</td>\n",
       "    </tr>\n",
       "    <tr>\n",
       "      <th>1</th>\n",
       "      <td>Feb-2024</td>\n",
       "      <td>3.7%</td>\n",
       "      <td>3.5%</td>\n",
       "      <td>3.8%</td>\n",
       "      <td>5.7%</td>\n",
       "      <td>4.6%</td>\n",
       "      <td>3.0%</td>\n",
       "      <td>5.4%</td>\n",
       "      <td>6.0%</td>\n",
       "      <td>4.6%</td>\n",
       "      <td>...</td>\n",
       "      <td>2.9%</td>\n",
       "      <td>7.9%</td>\n",
       "      <td>3.2%</td>\n",
       "      <td>2.6%</td>\n",
       "      <td>2.9%</td>\n",
       "      <td>1.9%</td>\n",
       "      <td>2.5%</td>\n",
       "      <td>5.0%</td>\n",
       "      <td>7.5%</td>\n",
       "      <td>3.4%</td>\n",
       "    </tr>\n",
       "    <tr>\n",
       "      <th>2</th>\n",
       "      <td>Jan-2024</td>\n",
       "      <td>3.7%</td>\n",
       "      <td>3.5%</td>\n",
       "      <td>3.8%</td>\n",
       "      <td>5.7%</td>\n",
       "      <td>4.7%</td>\n",
       "      <td>2.9%</td>\n",
       "      <td>5.4%</td>\n",
       "      <td>5.9%</td>\n",
       "      <td>4.6%</td>\n",
       "      <td>...</td>\n",
       "      <td>2.9%</td>\n",
       "      <td>7.9%</td>\n",
       "      <td>3.1%</td>\n",
       "      <td>2.6%</td>\n",
       "      <td>2.9%</td>\n",
       "      <td>1.9%</td>\n",
       "      <td>2.4%</td>\n",
       "      <td>4.9%</td>\n",
       "      <td>7.4%</td>\n",
       "      <td>3.4%</td>\n",
       "    </tr>\n",
       "    <tr>\n",
       "      <th>3</th>\n",
       "      <td>Dec-2023</td>\n",
       "      <td>3.6%</td>\n",
       "      <td>3.5%</td>\n",
       "      <td>3.8%</td>\n",
       "      <td>5.7%</td>\n",
       "      <td>4.6%</td>\n",
       "      <td>2.9%</td>\n",
       "      <td>5.5%</td>\n",
       "      <td>5.9%</td>\n",
       "      <td>4.6%</td>\n",
       "      <td>...</td>\n",
       "      <td>2.9%</td>\n",
       "      <td>7.9%</td>\n",
       "      <td>3.1%</td>\n",
       "      <td>2.5%</td>\n",
       "      <td>2.8%</td>\n",
       "      <td>1.9%</td>\n",
       "      <td>2.5%</td>\n",
       "      <td>4.9%</td>\n",
       "      <td>7.4%</td>\n",
       "      <td>3.4%</td>\n",
       "    </tr>\n",
       "    <tr>\n",
       "      <th>4</th>\n",
       "      <td>Nov-2023</td>\n",
       "      <td>3.6%</td>\n",
       "      <td>3.4%</td>\n",
       "      <td>3.8%</td>\n",
       "      <td>5.7%</td>\n",
       "      <td>4.6%</td>\n",
       "      <td>2.9%</td>\n",
       "      <td>5.6%</td>\n",
       "      <td>5.9%</td>\n",
       "      <td>4.5%</td>\n",
       "      <td>...</td>\n",
       "      <td>2.9%</td>\n",
       "      <td>8.0%</td>\n",
       "      <td>3.1%</td>\n",
       "      <td>2.5%</td>\n",
       "      <td>2.8%</td>\n",
       "      <td>1.9%</td>\n",
       "      <td>2.5%</td>\n",
       "      <td>4.8%</td>\n",
       "      <td>7.3%</td>\n",
       "      <td>3.4%</td>\n",
       "    </tr>\n",
       "  </tbody>\n",
       "</table>\n",
       "<p>5 rows × 121 columns</p>\n",
       "</div>"
      ],
      "text/plain": [
       "       Date   All Women   Men Black Hispanic White Black Women Black Men  \\\n",
       "0  Mar-2024  3.7%  3.5%  3.9%  5.8%     4.6%  3.0%        5.5%      6.2%   \n",
       "1  Feb-2024  3.7%  3.5%  3.8%  5.7%     4.6%  3.0%        5.4%      6.0%   \n",
       "2  Jan-2024  3.7%  3.5%  3.8%  5.7%     4.7%  2.9%        5.4%      5.9%   \n",
       "3  Dec-2023  3.6%  3.5%  3.8%  5.7%     4.6%  2.9%        5.5%      5.9%   \n",
       "4  Nov-2023  3.6%  3.4%  3.8%  5.7%     4.6%  2.9%        5.6%      5.9%   \n",
       "\n",
       "  Hispanic Women  ... White Men Some college 16-24 25-54 55-64   65+  \\\n",
       "0           4.6%  ...                   2.9%  8.0%  3.2%  2.6%  3.0%   \n",
       "1           4.6%  ...                   2.9%  7.9%  3.2%  2.6%  2.9%   \n",
       "2           4.6%  ...                   2.9%  7.9%  3.1%  2.6%  2.9%   \n",
       "3           4.6%  ...                   2.9%  7.9%  3.1%  2.5%  2.8%   \n",
       "4           4.5%  ...                   2.9%  8.0%  3.1%  2.5%  2.8%   \n",
       "\n",
       "  Advanced degree Bachelor's degree High school Less than HS Some college  \n",
       "0            2.0%              2.5%        5.0%         7.7%         3.4%  \n",
       "1            1.9%              2.5%        5.0%         7.5%         3.4%  \n",
       "2            1.9%              2.4%        4.9%         7.4%         3.4%  \n",
       "3            1.9%              2.5%        4.9%         7.4%         3.4%  \n",
       "4            1.9%              2.5%        4.8%         7.3%         3.4%  \n",
       "\n",
       "[5 rows x 121 columns]"
      ]
     },
     "execution_count": 64,
     "metadata": {},
     "output_type": "execute_result"
    }
   ],
   "source": [
    "# Viewing `df_unemp`\n",
    "df_unemp.head()"
   ]
  },
  {
   "cell_type": "markdown",
   "metadata": {},
   "source": [
    "#### Beginning of limited EDA"
   ]
  },
  {
   "cell_type": "code",
   "execution_count": 65,
   "metadata": {},
   "outputs": [
    {
     "data": {
      "text/html": [
       "<div>\n",
       "<style scoped>\n",
       "    .dataframe tbody tr th:only-of-type {\n",
       "        vertical-align: middle;\n",
       "    }\n",
       "\n",
       "    .dataframe tbody tr th {\n",
       "        vertical-align: top;\n",
       "    }\n",
       "\n",
       "    .dataframe thead th {\n",
       "        text-align: right;\n",
       "    }\n",
       "</style>\n",
       "<table border=\"1\" class=\"dataframe\">\n",
       "  <thead>\n",
       "    <tr style=\"text-align: right;\">\n",
       "      <th></th>\n",
       "      <th>Date</th>\n",
       "      <th>All</th>\n",
       "      <th>Women</th>\n",
       "      <th>Men</th>\n",
       "      <th>Black</th>\n",
       "      <th>Hispanic</th>\n",
       "      <th>White</th>\n",
       "      <th>Black Women</th>\n",
       "      <th>Black Men</th>\n",
       "      <th>Hispanic Women</th>\n",
       "      <th>...</th>\n",
       "      <th>White Men Some college</th>\n",
       "      <th>16-24</th>\n",
       "      <th>25-54</th>\n",
       "      <th>55-64</th>\n",
       "      <th>65+</th>\n",
       "      <th>Advanced degree</th>\n",
       "      <th>Bachelor's degree</th>\n",
       "      <th>High school</th>\n",
       "      <th>Less than HS</th>\n",
       "      <th>Some college</th>\n",
       "    </tr>\n",
       "  </thead>\n",
       "  <tbody>\n",
       "    <tr>\n",
       "      <th>count</th>\n",
       "      <td>544</td>\n",
       "      <td>544</td>\n",
       "      <td>544</td>\n",
       "      <td>544</td>\n",
       "      <td>544</td>\n",
       "      <td>544</td>\n",
       "      <td>544</td>\n",
       "      <td>544</td>\n",
       "      <td>544</td>\n",
       "      <td>544</td>\n",
       "      <td>...</td>\n",
       "      <td>544</td>\n",
       "      <td>544</td>\n",
       "      <td>544</td>\n",
       "      <td>544</td>\n",
       "      <td>544</td>\n",
       "      <td>544</td>\n",
       "      <td>544</td>\n",
       "      <td>544</td>\n",
       "      <td>544</td>\n",
       "      <td>544</td>\n",
       "    </tr>\n",
       "    <tr>\n",
       "      <th>unique</th>\n",
       "      <td>544</td>\n",
       "      <td>68</td>\n",
       "      <td>65</td>\n",
       "      <td>71</td>\n",
       "      <td>132</td>\n",
       "      <td>99</td>\n",
       "      <td>60</td>\n",
       "      <td>130</td>\n",
       "      <td>142</td>\n",
       "      <td>98</td>\n",
       "      <td>...</td>\n",
       "      <td>62</td>\n",
       "      <td>108</td>\n",
       "      <td>58</td>\n",
       "      <td>50</td>\n",
       "      <td>51</td>\n",
       "      <td>27</td>\n",
       "      <td>43</td>\n",
       "      <td>80</td>\n",
       "      <td>112</td>\n",
       "      <td>64</td>\n",
       "    </tr>\n",
       "    <tr>\n",
       "      <th>top</th>\n",
       "      <td>Mar-2024</td>\n",
       "      <td>5.3%</td>\n",
       "      <td>5.4%</td>\n",
       "      <td>5.2%</td>\n",
       "      <td>10.5%</td>\n",
       "      <td>10.5%</td>\n",
       "      <td>4.2%</td>\n",
       "      <td>9.8%</td>\n",
       "      <td>11.4%</td>\n",
       "      <td>11.0%</td>\n",
       "      <td>...</td>\n",
       "      <td>3.7%</td>\n",
       "      <td>10.9%</td>\n",
       "      <td>4.2%</td>\n",
       "      <td>3.1%</td>\n",
       "      <td>3.1%</td>\n",
       "      <td>2.0%</td>\n",
       "      <td>2.5%</td>\n",
       "      <td>5.4%</td>\n",
       "      <td>9.9%</td>\n",
       "      <td>4.7%</td>\n",
       "    </tr>\n",
       "    <tr>\n",
       "      <th>freq</th>\n",
       "      <td>1</td>\n",
       "      <td>26</td>\n",
       "      <td>33</td>\n",
       "      <td>22</td>\n",
       "      <td>18</td>\n",
       "      <td>17</td>\n",
       "      <td>23</td>\n",
       "      <td>14</td>\n",
       "      <td>15</td>\n",
       "      <td>29</td>\n",
       "      <td>...</td>\n",
       "      <td>39</td>\n",
       "      <td>19</td>\n",
       "      <td>34</td>\n",
       "      <td>41</td>\n",
       "      <td>53</td>\n",
       "      <td>72</td>\n",
       "      <td>55</td>\n",
       "      <td>28</td>\n",
       "      <td>20</td>\n",
       "      <td>24</td>\n",
       "    </tr>\n",
       "  </tbody>\n",
       "</table>\n",
       "<p>4 rows × 121 columns</p>\n",
       "</div>"
      ],
      "text/plain": [
       "            Date   All Women   Men  Black Hispanic White Black Women  \\\n",
       "count        544   544   544   544    544      544   544         544   \n",
       "unique       544    68    65    71    132       99    60         130   \n",
       "top     Mar-2024  5.3%  5.4%  5.2%  10.5%    10.5%  4.2%        9.8%   \n",
       "freq           1    26    33    22     18       17    23          14   \n",
       "\n",
       "       Black Men Hispanic Women  ... White Men Some college  16-24 25-54  \\\n",
       "count        544            544  ...                    544    544   544   \n",
       "unique       142             98  ...                     62    108    58   \n",
       "top        11.4%          11.0%  ...                   3.7%  10.9%  4.2%   \n",
       "freq          15             29  ...                     39     19    34   \n",
       "\n",
       "       55-64   65+ Advanced degree Bachelor's degree High school Less than HS  \\\n",
       "count    544   544             544               544         544          544   \n",
       "unique    50    51              27                43          80          112   \n",
       "top     3.1%  3.1%            2.0%              2.5%        5.4%         9.9%   \n",
       "freq      41    53              72                55          28           20   \n",
       "\n",
       "       Some college  \n",
       "count           544  \n",
       "unique           64  \n",
       "top            4.7%  \n",
       "freq             24  \n",
       "\n",
       "[4 rows x 121 columns]"
      ]
     },
     "execution_count": 65,
     "metadata": {},
     "output_type": "execute_result"
    }
   ],
   "source": [
<<<<<<< HEAD
    "# Applying `eda_routine` to `df_unemp`\n",
    "eda_routine(df_unemp)"
=======
    "# Beginning EDA on `df_unemp`\n",
    "df_unemp.describe()"
   ]
  },
  {
   "cell_type": "code",
   "execution_count": 66,
   "metadata": {},
   "outputs": [
    {
     "data": {
      "text/plain": [
       "(544, 121)"
      ]
     },
     "execution_count": 66,
     "metadata": {},
     "output_type": "execute_result"
    }
   ],
   "source": [
    "# Continuing EDA\n",
    "df_unemp.shape"
   ]
  },
  {
   "cell_type": "code",
   "execution_count": 67,
   "metadata": {},
   "outputs": [
    {
     "data": {
      "text/plain": [
       "Date                 object\n",
       "All                  object\n",
       "Women                object\n",
       "Men                  object\n",
       "Black                object\n",
       "                      ...  \n",
       "Advanced degree      object\n",
       "Bachelor's degree    object\n",
       "High school          object\n",
       "Less than HS         object\n",
       "Some college         object\n",
       "Length: 121, dtype: object"
      ]
     },
     "execution_count": 67,
     "metadata": {},
     "output_type": "execute_result"
    }
   ],
   "source": [
    "# Continuing EDA\n",
    "df_unemp.dtypes"
   ]
  },
  {
   "cell_type": "code",
   "execution_count": null,
   "metadata": {},
   "outputs": [],
   "source": []
  },
  {
   "cell_type": "code",
   "execution_count": 68,
   "metadata": {},
   "outputs": [
    {
     "data": {
      "text/html": [
       "<div>\n",
       "<style scoped>\n",
       "    .dataframe tbody tr th:only-of-type {\n",
       "        vertical-align: middle;\n",
       "    }\n",
       "\n",
       "    .dataframe tbody tr th {\n",
       "        vertical-align: top;\n",
       "    }\n",
       "\n",
       "    .dataframe thead th {\n",
       "        text-align: right;\n",
       "    }\n",
       "</style>\n",
       "<table border=\"1\" class=\"dataframe\">\n",
       "  <thead>\n",
       "    <tr style=\"text-align: right;\">\n",
       "      <th></th>\n",
       "      <th>CPI Value</th>\n",
       "      <th>CPI Rolling Mean</th>\n",
       "      <th>CPI Rolling Percent Change</th>\n",
       "    </tr>\n",
       "    <tr>\n",
       "      <th>Date</th>\n",
       "      <th></th>\n",
       "      <th></th>\n",
       "      <th></th>\n",
       "    </tr>\n",
       "  </thead>\n",
       "  <tbody>\n",
       "    <tr>\n",
       "      <th>1947-01-01</th>\n",
       "      <td>21.48</td>\n",
       "      <td>NaN</td>\n",
       "      <td>NaN</td>\n",
       "    </tr>\n",
       "    <tr>\n",
       "      <th>1947-02-01</th>\n",
       "      <td>21.62</td>\n",
       "      <td>NaN</td>\n",
       "      <td>NaN</td>\n",
       "    </tr>\n",
       "    <tr>\n",
       "      <th>1947-03-01</th>\n",
       "      <td>22.00</td>\n",
       "      <td>NaN</td>\n",
       "      <td>NaN</td>\n",
       "    </tr>\n",
       "    <tr>\n",
       "      <th>1947-04-01</th>\n",
       "      <td>22.00</td>\n",
       "      <td>NaN</td>\n",
       "      <td>NaN</td>\n",
       "    </tr>\n",
       "    <tr>\n",
       "      <th>1947-05-01</th>\n",
       "      <td>21.95</td>\n",
       "      <td>NaN</td>\n",
       "      <td>NaN</td>\n",
       "    </tr>\n",
       "  </tbody>\n",
       "</table>\n",
       "</div>"
      ],
      "text/plain": [
       "            CPI Value  CPI Rolling Mean  CPI Rolling Percent Change\n",
       "Date                                                               \n",
       "1947-01-01      21.48               NaN                         NaN\n",
       "1947-02-01      21.62               NaN                         NaN\n",
       "1947-03-01      22.00               NaN                         NaN\n",
       "1947-04-01      22.00               NaN                         NaN\n",
       "1947-05-01      21.95               NaN                         NaN"
      ]
     },
     "metadata": {},
     "output_type": "display_data"
    },
    {
     "data": {
      "text/html": [
       "<div>\n",
       "<style scoped>\n",
       "    .dataframe tbody tr th:only-of-type {\n",
       "        vertical-align: middle;\n",
       "    }\n",
       "\n",
       "    .dataframe tbody tr th {\n",
       "        vertical-align: top;\n",
       "    }\n",
       "\n",
       "    .dataframe thead th {\n",
       "        text-align: right;\n",
       "    }\n",
       "</style>\n",
       "<table border=\"1\" class=\"dataframe\">\n",
       "  <thead>\n",
       "    <tr style=\"text-align: right;\">\n",
       "      <th></th>\n",
       "      <th>CPI Value</th>\n",
       "      <th>CPI Rolling Mean</th>\n",
       "      <th>CPI Rolling Percent Change</th>\n",
       "    </tr>\n",
       "    <tr>\n",
       "      <th>Date</th>\n",
       "      <th></th>\n",
       "      <th></th>\n",
       "      <th></th>\n",
       "    </tr>\n",
       "  </thead>\n",
       "  <tbody>\n",
       "    <tr>\n",
       "      <th>2023-02-01</th>\n",
       "      <td>301.648</td>\n",
       "      <td>295.527083</td>\n",
       "      <td>7.706636</td>\n",
       "    </tr>\n",
       "    <tr>\n",
       "      <th>2023-03-01</th>\n",
       "      <td>301.808</td>\n",
       "      <td>296.721750</td>\n",
       "      <td>7.406182</td>\n",
       "    </tr>\n",
       "    <tr>\n",
       "      <th>2023-04-01</th>\n",
       "      <td>302.918</td>\n",
       "      <td>297.914000</td>\n",
       "      <td>7.128724</td>\n",
       "    </tr>\n",
       "    <tr>\n",
       "      <th>2023-05-01</th>\n",
       "      <td>303.294</td>\n",
       "      <td>298.916167</td>\n",
       "      <td>6.758919</td>\n",
       "    </tr>\n",
       "    <tr>\n",
       "      <th>2023-06-01</th>\n",
       "      <td>303.841</td>\n",
       "      <td>299.675583</td>\n",
       "      <td>6.265739</td>\n",
       "    </tr>\n",
       "  </tbody>\n",
       "</table>\n",
       "</div>"
      ],
      "text/plain": [
       "            CPI Value  CPI Rolling Mean  CPI Rolling Percent Change\n",
       "Date                                                               \n",
       "2023-02-01    301.648        295.527083                    7.706636\n",
       "2023-03-01    301.808        296.721750                    7.406182\n",
       "2023-04-01    302.918        297.914000                    7.128724\n",
       "2023-05-01    303.294        298.916167                    6.758919\n",
       "2023-06-01    303.841        299.675583                    6.265739"
      ]
     },
     "metadata": {},
     "output_type": "display_data"
    }
   ],
   "source": [
    "# Copying `df_inflation` and dropping unneeded features\n",
    "df_inflation_form = copy_df(df_inflation, ['date', 'value'])\n",
    "\n",
    "# Renamining retained features\n",
    "df_inflation_form = rename_features(\n",
    "    df_inflation_form, 'date', 'Date', 'value', 'CPI Value'\n",
    ")\n",
    "\n",
    "# Converting `Date` to a datetime index\n",
    "df_inflation_form = datetime_index(df_inflation_form, 'Date')\n",
    "\n",
    "# Calculating rolling 12-month means and percent change in means\n",
    "df_inflation_form = rolling_calcs(\n",
    "    df_inflation_form,\n",
    "    'CPI Value',\n",
    "    'CPI Rolling Mean',\n",
    "    'CPI Rolling Percent Change'\n",
    ")\n",
    "\n",
    "# Confirming `df_inflation_form` ready to concatenate\n",
    "display(df_inflation_form.head())\n",
    "display(df_inflation_form.tail())"
   ]
  },
  {
   "cell_type": "markdown",
   "metadata": {},
   "source": [
    "## Unemployment\n",
    "\n",
    "#### Preprocessing of the `Unemployment.csv` dataset\n",
    "\n",
    "This dataset came with unneeded features that will need to be dropped, as well as the needed features will need to be converted to `float`. Additionally, the `Date` feature will need to be converted to datetime and set to the index in preparation for concatenation with the other economic datasets."
   ]
  },
  {
   "cell_type": "code",
   "execution_count": 69,
   "metadata": {},
   "outputs": [
    {
     "data": {
      "text/html": [
       "<div>\n",
       "<style scoped>\n",
       "    .dataframe tbody tr th:only-of-type {\n",
       "        vertical-align: middle;\n",
       "    }\n",
       "\n",
       "    .dataframe tbody tr th {\n",
       "        vertical-align: top;\n",
       "    }\n",
       "\n",
       "    .dataframe thead th {\n",
       "        text-align: right;\n",
       "    }\n",
       "</style>\n",
       "<table border=\"1\" class=\"dataframe\">\n",
       "  <thead>\n",
       "    <tr style=\"text-align: right;\">\n",
       "      <th></th>\n",
       "      <th>Date</th>\n",
       "      <th>All</th>\n",
       "      <th>Women</th>\n",
       "      <th>Men</th>\n",
       "      <th>Black</th>\n",
       "      <th>Hispanic</th>\n",
       "      <th>White</th>\n",
       "      <th>Black Women</th>\n",
       "      <th>Black Men</th>\n",
       "      <th>Hispanic Women</th>\n",
       "      <th>...</th>\n",
       "      <th>White Men Some college</th>\n",
       "      <th>16-24</th>\n",
       "      <th>25-54</th>\n",
       "      <th>55-64</th>\n",
       "      <th>65+</th>\n",
       "      <th>Advanced degree</th>\n",
       "      <th>Bachelor's degree</th>\n",
       "      <th>High school</th>\n",
       "      <th>Less than HS</th>\n",
       "      <th>Some college</th>\n",
       "    </tr>\n",
       "  </thead>\n",
       "  <tbody>\n",
       "    <tr>\n",
       "      <th>0</th>\n",
       "      <td>Mar-2024</td>\n",
       "      <td>3.7%</td>\n",
       "      <td>3.5%</td>\n",
       "      <td>3.9%</td>\n",
       "      <td>5.8%</td>\n",
       "      <td>4.6%</td>\n",
       "      <td>3.0%</td>\n",
       "      <td>5.5%</td>\n",
       "      <td>6.2%</td>\n",
       "      <td>4.6%</td>\n",
       "      <td>...</td>\n",
       "      <td>2.9%</td>\n",
       "      <td>8.0%</td>\n",
       "      <td>3.2%</td>\n",
       "      <td>2.6%</td>\n",
       "      <td>3.0%</td>\n",
       "      <td>2.0%</td>\n",
       "      <td>2.5%</td>\n",
       "      <td>5.0%</td>\n",
       "      <td>7.7%</td>\n",
       "      <td>3.4%</td>\n",
       "    </tr>\n",
       "    <tr>\n",
       "      <th>1</th>\n",
       "      <td>Feb-2024</td>\n",
       "      <td>3.7%</td>\n",
       "      <td>3.5%</td>\n",
       "      <td>3.8%</td>\n",
       "      <td>5.7%</td>\n",
       "      <td>4.6%</td>\n",
       "      <td>3.0%</td>\n",
       "      <td>5.4%</td>\n",
       "      <td>6.0%</td>\n",
       "      <td>4.6%</td>\n",
       "      <td>...</td>\n",
       "      <td>2.9%</td>\n",
       "      <td>7.9%</td>\n",
       "      <td>3.2%</td>\n",
       "      <td>2.6%</td>\n",
       "      <td>2.9%</td>\n",
       "      <td>1.9%</td>\n",
       "      <td>2.5%</td>\n",
       "      <td>5.0%</td>\n",
       "      <td>7.5%</td>\n",
       "      <td>3.4%</td>\n",
       "    </tr>\n",
       "    <tr>\n",
       "      <th>2</th>\n",
       "      <td>Jan-2024</td>\n",
       "      <td>3.7%</td>\n",
       "      <td>3.5%</td>\n",
       "      <td>3.8%</td>\n",
       "      <td>5.7%</td>\n",
       "      <td>4.7%</td>\n",
       "      <td>2.9%</td>\n",
       "      <td>5.4%</td>\n",
       "      <td>5.9%</td>\n",
       "      <td>4.6%</td>\n",
       "      <td>...</td>\n",
       "      <td>2.9%</td>\n",
       "      <td>7.9%</td>\n",
       "      <td>3.1%</td>\n",
       "      <td>2.6%</td>\n",
       "      <td>2.9%</td>\n",
       "      <td>1.9%</td>\n",
       "      <td>2.4%</td>\n",
       "      <td>4.9%</td>\n",
       "      <td>7.4%</td>\n",
       "      <td>3.4%</td>\n",
       "    </tr>\n",
       "    <tr>\n",
       "      <th>3</th>\n",
       "      <td>Dec-2023</td>\n",
       "      <td>3.6%</td>\n",
       "      <td>3.5%</td>\n",
       "      <td>3.8%</td>\n",
       "      <td>5.7%</td>\n",
       "      <td>4.6%</td>\n",
       "      <td>2.9%</td>\n",
       "      <td>5.5%</td>\n",
       "      <td>5.9%</td>\n",
       "      <td>4.6%</td>\n",
       "      <td>...</td>\n",
       "      <td>2.9%</td>\n",
       "      <td>7.9%</td>\n",
       "      <td>3.1%</td>\n",
       "      <td>2.5%</td>\n",
       "      <td>2.8%</td>\n",
       "      <td>1.9%</td>\n",
       "      <td>2.5%</td>\n",
       "      <td>4.9%</td>\n",
       "      <td>7.4%</td>\n",
       "      <td>3.4%</td>\n",
       "    </tr>\n",
       "    <tr>\n",
       "      <th>4</th>\n",
       "      <td>Nov-2023</td>\n",
       "      <td>3.6%</td>\n",
       "      <td>3.4%</td>\n",
       "      <td>3.8%</td>\n",
       "      <td>5.7%</td>\n",
       "      <td>4.6%</td>\n",
       "      <td>2.9%</td>\n",
       "      <td>5.6%</td>\n",
       "      <td>5.9%</td>\n",
       "      <td>4.5%</td>\n",
       "      <td>...</td>\n",
       "      <td>2.9%</td>\n",
       "      <td>8.0%</td>\n",
       "      <td>3.1%</td>\n",
       "      <td>2.5%</td>\n",
       "      <td>2.8%</td>\n",
       "      <td>1.9%</td>\n",
       "      <td>2.5%</td>\n",
       "      <td>4.8%</td>\n",
       "      <td>7.3%</td>\n",
       "      <td>3.4%</td>\n",
       "    </tr>\n",
       "  </tbody>\n",
       "</table>\n",
       "<p>5 rows × 121 columns</p>\n",
       "</div>"
      ],
      "text/plain": [
       "       Date   All Women   Men Black Hispanic White Black Women Black Men  \\\n",
       "0  Mar-2024  3.7%  3.5%  3.9%  5.8%     4.6%  3.0%        5.5%      6.2%   \n",
       "1  Feb-2024  3.7%  3.5%  3.8%  5.7%     4.6%  3.0%        5.4%      6.0%   \n",
       "2  Jan-2024  3.7%  3.5%  3.8%  5.7%     4.7%  2.9%        5.4%      5.9%   \n",
       "3  Dec-2023  3.6%  3.5%  3.8%  5.7%     4.6%  2.9%        5.5%      5.9%   \n",
       "4  Nov-2023  3.6%  3.4%  3.8%  5.7%     4.6%  2.9%        5.6%      5.9%   \n",
       "\n",
       "  Hispanic Women  ... White Men Some college 16-24 25-54 55-64   65+  \\\n",
       "0           4.6%  ...                   2.9%  8.0%  3.2%  2.6%  3.0%   \n",
       "1           4.6%  ...                   2.9%  7.9%  3.2%  2.6%  2.9%   \n",
       "2           4.6%  ...                   2.9%  7.9%  3.1%  2.6%  2.9%   \n",
       "3           4.6%  ...                   2.9%  7.9%  3.1%  2.5%  2.8%   \n",
       "4           4.5%  ...                   2.9%  8.0%  3.1%  2.5%  2.8%   \n",
       "\n",
       "  Advanced degree Bachelor's degree High school Less than HS Some college  \n",
       "0            2.0%              2.5%        5.0%         7.7%         3.4%  \n",
       "1            1.9%              2.5%        5.0%         7.5%         3.4%  \n",
       "2            1.9%              2.4%        4.9%         7.4%         3.4%  \n",
       "3            1.9%              2.5%        4.9%         7.4%         3.4%  \n",
       "4            1.9%              2.5%        4.8%         7.3%         3.4%  \n",
       "\n",
       "[5 rows x 121 columns]"
      ]
     },
     "execution_count": 69,
     "metadata": {},
     "output_type": "execute_result"
    }
   ],
   "source": [
    "# Viewing `df_unemp`\n",
    "df_unemp.head()"
   ]
  },
  {
   "cell_type": "markdown",
   "metadata": {},
   "source": [
    "#### Beginning of limited EDA"
   ]
  },
  {
   "cell_type": "code",
   "execution_count": 70,
   "metadata": {},
   "outputs": [
    {
     "data": {
      "text/html": [
       "<div>\n",
       "<style scoped>\n",
       "    .dataframe tbody tr th:only-of-type {\n",
       "        vertical-align: middle;\n",
       "    }\n",
       "\n",
       "    .dataframe tbody tr th {\n",
       "        vertical-align: top;\n",
       "    }\n",
       "\n",
       "    .dataframe thead th {\n",
       "        text-align: right;\n",
       "    }\n",
       "</style>\n",
       "<table border=\"1\" class=\"dataframe\">\n",
       "  <thead>\n",
       "    <tr style=\"text-align: right;\">\n",
       "      <th></th>\n",
       "      <th>Date</th>\n",
       "      <th>All</th>\n",
       "      <th>Women</th>\n",
       "      <th>Men</th>\n",
       "      <th>Black</th>\n",
       "      <th>Hispanic</th>\n",
       "      <th>White</th>\n",
       "      <th>Black Women</th>\n",
       "      <th>Black Men</th>\n",
       "      <th>Hispanic Women</th>\n",
       "      <th>...</th>\n",
       "      <th>White Men Some college</th>\n",
       "      <th>16-24</th>\n",
       "      <th>25-54</th>\n",
       "      <th>55-64</th>\n",
       "      <th>65+</th>\n",
       "      <th>Advanced degree</th>\n",
       "      <th>Bachelor's degree</th>\n",
       "      <th>High school</th>\n",
       "      <th>Less than HS</th>\n",
       "      <th>Some college</th>\n",
       "    </tr>\n",
       "  </thead>\n",
       "  <tbody>\n",
       "    <tr>\n",
       "      <th>count</th>\n",
       "      <td>544</td>\n",
       "      <td>544</td>\n",
       "      <td>544</td>\n",
       "      <td>544</td>\n",
       "      <td>544</td>\n",
       "      <td>544</td>\n",
       "      <td>544</td>\n",
       "      <td>544</td>\n",
       "      <td>544</td>\n",
       "      <td>544</td>\n",
       "      <td>...</td>\n",
       "      <td>544</td>\n",
       "      <td>544</td>\n",
       "      <td>544</td>\n",
       "      <td>544</td>\n",
       "      <td>544</td>\n",
       "      <td>544</td>\n",
       "      <td>544</td>\n",
       "      <td>544</td>\n",
       "      <td>544</td>\n",
       "      <td>544</td>\n",
       "    </tr>\n",
       "    <tr>\n",
       "      <th>unique</th>\n",
       "      <td>544</td>\n",
       "      <td>68</td>\n",
       "      <td>65</td>\n",
       "      <td>71</td>\n",
       "      <td>132</td>\n",
       "      <td>99</td>\n",
       "      <td>60</td>\n",
       "      <td>130</td>\n",
       "      <td>142</td>\n",
       "      <td>98</td>\n",
       "      <td>...</td>\n",
       "      <td>62</td>\n",
       "      <td>108</td>\n",
       "      <td>58</td>\n",
       "      <td>50</td>\n",
       "      <td>51</td>\n",
       "      <td>27</td>\n",
       "      <td>43</td>\n",
       "      <td>80</td>\n",
       "      <td>112</td>\n",
       "      <td>64</td>\n",
       "    </tr>\n",
       "    <tr>\n",
       "      <th>top</th>\n",
       "      <td>Mar-2024</td>\n",
       "      <td>5.3%</td>\n",
       "      <td>5.4%</td>\n",
       "      <td>5.2%</td>\n",
       "      <td>10.5%</td>\n",
       "      <td>10.5%</td>\n",
       "      <td>4.2%</td>\n",
       "      <td>9.8%</td>\n",
       "      <td>11.4%</td>\n",
       "      <td>11.0%</td>\n",
       "      <td>...</td>\n",
       "      <td>3.7%</td>\n",
       "      <td>10.9%</td>\n",
       "      <td>4.2%</td>\n",
       "      <td>3.1%</td>\n",
       "      <td>3.1%</td>\n",
       "      <td>2.0%</td>\n",
       "      <td>2.5%</td>\n",
       "      <td>5.4%</td>\n",
       "      <td>9.9%</td>\n",
       "      <td>4.7%</td>\n",
       "    </tr>\n",
       "    <tr>\n",
       "      <th>freq</th>\n",
       "      <td>1</td>\n",
       "      <td>26</td>\n",
       "      <td>33</td>\n",
       "      <td>22</td>\n",
       "      <td>18</td>\n",
       "      <td>17</td>\n",
       "      <td>23</td>\n",
       "      <td>14</td>\n",
       "      <td>15</td>\n",
       "      <td>29</td>\n",
       "      <td>...</td>\n",
       "      <td>39</td>\n",
       "      <td>19</td>\n",
       "      <td>34</td>\n",
       "      <td>41</td>\n",
       "      <td>53</td>\n",
       "      <td>72</td>\n",
       "      <td>55</td>\n",
       "      <td>28</td>\n",
       "      <td>20</td>\n",
       "      <td>24</td>\n",
       "    </tr>\n",
       "  </tbody>\n",
       "</table>\n",
       "<p>4 rows × 121 columns</p>\n",
       "</div>"
      ],
      "text/plain": [
       "            Date   All Women   Men  Black Hispanic White Black Women  \\\n",
       "count        544   544   544   544    544      544   544         544   \n",
       "unique       544    68    65    71    132       99    60         130   \n",
       "top     Mar-2024  5.3%  5.4%  5.2%  10.5%    10.5%  4.2%        9.8%   \n",
       "freq           1    26    33    22     18       17    23          14   \n",
       "\n",
       "       Black Men Hispanic Women  ... White Men Some college  16-24 25-54  \\\n",
       "count        544            544  ...                    544    544   544   \n",
       "unique       142             98  ...                     62    108    58   \n",
       "top        11.4%          11.0%  ...                   3.7%  10.9%  4.2%   \n",
       "freq          15             29  ...                     39     19    34   \n",
       "\n",
       "       55-64   65+ Advanced degree Bachelor's degree High school Less than HS  \\\n",
       "count    544   544             544               544         544          544   \n",
       "unique    50    51              27                43          80          112   \n",
       "top     3.1%  3.1%            2.0%              2.5%        5.4%         9.9%   \n",
       "freq      41    53              72                55          28           20   \n",
       "\n",
       "       Some college  \n",
       "count           544  \n",
       "unique           64  \n",
       "top            4.7%  \n",
       "freq             24  \n",
       "\n",
       "[4 rows x 121 columns]"
      ]
     },
     "execution_count": 70,
     "metadata": {},
     "output_type": "execute_result"
    }
   ],
   "source": [
    "# Beginning EDA on `df_unemp`\n",
    "df_unemp.describe()"
   ]
  },
  {
   "cell_type": "code",
   "execution_count": 71,
   "metadata": {},
   "outputs": [
    {
     "data": {
      "text/plain": [
       "(544, 121)"
      ]
     },
     "execution_count": 71,
     "metadata": {},
     "output_type": "execute_result"
    }
   ],
   "source": [
    "# Continuing EDA\n",
    "df_unemp.shape"
   ]
  },
  {
   "cell_type": "code",
   "execution_count": 72,
   "metadata": {},
   "outputs": [
    {
     "data": {
      "text/plain": [
       "Date                 object\n",
       "All                  object\n",
       "Women                object\n",
       "Men                  object\n",
       "Black                object\n",
       "                      ...  \n",
       "Advanced degree      object\n",
       "Bachelor's degree    object\n",
       "High school          object\n",
       "Less than HS         object\n",
       "Some college         object\n",
       "Length: 121, dtype: object"
      ]
     },
     "execution_count": 72,
     "metadata": {},
     "output_type": "execute_result"
    }
   ],
   "source": [
    "# Continuing EDA\n",
    "df_unemp.dtypes"
>>>>>>> 1dcd1b7b4759f893cb8e37fb38714458c0a8a391
   ]
  },
  {
   "cell_type": "markdown",
   "metadata": {},
   "source": [
    "#### Applying defined functions (first pass)\n",
    "\n",
    "*Given the nature of the* `Date` *feature in this dataset, the datetime indexing will need to be handled outside of the defined functions*"
   ]
  },
  {
   "cell_type": "code",
   "execution_count": 73,
   "metadata": {},
   "outputs": [],
   "source": [
    "# Copying `df_unemp` and dropping unneeded features\n",
    "df_unemp_form = copy_df(df_unemp, ['Date', 'All'])"
   ]
  },
  {
   "cell_type": "markdown",
   "metadata": {},
   "source": [
    "#### Renaming needed feature\n",
    "\n",
    "*This dataset only needed one feature,* `All`*, to be renmaned, this the* `rename_features` *defined function is not applicable*"
   ]
  },
  {
   "cell_type": "code",
   "execution_count": 74,
   "metadata": {},
   "outputs": [],
   "source": [
    "# Renaming the reatined feature\n",
    "df_unemp_form.rename(columns={'All': 'Unemployment Rate (%)'}, inplace=True)"
   ]
  },
  {
   "cell_type": "markdown",
   "metadata": {},
   "source": [
    "#### Datetime indexing"
   ]
  },
  {
   "cell_type": "code",
   "execution_count": 75,
   "metadata": {},
   "outputs": [],
   "source": [
    "# The `Date` feature will need to be engineered into a workable datetime feature\n",
    "\n",
    "# Creating a dictionary of Months\n",
    "month_map = {\n",
    "    'Jan': 1, 'Feb': 2, 'Mar': 3, 'Apr': 4, 'May': 5, 'Jun': 6,\n",
    "    'Jul': 7, 'Aug': 8, 'Sep': 9, 'Oct': 10, 'Nov': 11, 'Dec': 12\n",
    "}\n",
    "\n",
    "# Mapping integer month values to `Date Month`\n",
    "df_unemp_form['Date Month'] = df_unemp_form['Date'].str.slice(0,3).map(month_map)\n",
    "\n",
    "# Slicing `Date Year`\n",
    "df_unemp_form['Date Year'] = df_unemp_form['Date'].str.slice(4,8)\n",
    "\n",
    "# Converting `Date` to datetime using `Date Month` and `Date Year`\n",
    "df_unemp_form['Date'] = pd.to_datetime({\n",
    "    'year': df_unemp_form['Date Year'],\n",
    "    'month': df_unemp_form['Date Month'],\n",
    "    'day': 1\n",
    "})\n",
    "\n",
    "# Dropping engineered features `Date Month` and `Date Year`\n",
    "df_unemp_form.drop(columns=['Date Month', 'Date Year'], inplace=True)\n",
    "\n",
    "# Setting `Date` as index\n",
    "df_unemp_form.set_index('Date', inplace=True)\n",
    "\n",
    "# Ensuring index is sorted with ascending dates\n",
    "df_unemp_form.sort_index(inplace=True)"
   ]
  },
  {
   "cell_type": "markdown",
   "metadata": {},
   "source": [
    "#### Applying defined functions (second pass)"
   ]
  },
  {
   "cell_type": "code",
   "execution_count": 76,
   "metadata": {},
   "outputs": [
    {
     "data": {
      "text/html": [
       "<div>\n",
       "<style scoped>\n",
       "    .dataframe tbody tr th:only-of-type {\n",
       "        vertical-align: middle;\n",
       "    }\n",
       "\n",
       "    .dataframe tbody tr th {\n",
       "        vertical-align: top;\n",
       "    }\n",
       "\n",
       "    .dataframe thead th {\n",
       "        text-align: right;\n",
       "    }\n",
       "</style>\n",
       "<table border=\"1\" class=\"dataframe\">\n",
       "  <thead>\n",
       "    <tr style=\"text-align: right;\">\n",
       "      <th></th>\n",
       "      <th>Unemployment Rate (%)</th>\n",
       "      <th>Unemployment Rate (%) Rolling Mean</th>\n",
       "      <th>Unemployment Rate Rolling Percent Change</th>\n",
       "    </tr>\n",
       "    <tr>\n",
       "      <th>Date</th>\n",
       "      <th></th>\n",
       "      <th></th>\n",
       "      <th></th>\n",
       "    </tr>\n",
       "  </thead>\n",
       "  <tbody>\n",
       "    <tr>\n",
       "      <th>1978-12-01</th>\n",
       "      <td>6.1</td>\n",
       "      <td>NaN</td>\n",
       "      <td>NaN</td>\n",
       "    </tr>\n",
       "    <tr>\n",
       "      <th>1979-01-01</th>\n",
       "      <td>6.1</td>\n",
       "      <td>NaN</td>\n",
       "      <td>NaN</td>\n",
       "    </tr>\n",
       "    <tr>\n",
       "      <th>1979-02-01</th>\n",
       "      <td>6.0</td>\n",
       "      <td>NaN</td>\n",
       "      <td>NaN</td>\n",
       "    </tr>\n",
       "    <tr>\n",
       "      <th>1979-03-01</th>\n",
       "      <td>6.0</td>\n",
       "      <td>NaN</td>\n",
       "      <td>NaN</td>\n",
       "    </tr>\n",
       "    <tr>\n",
       "      <th>1979-04-01</th>\n",
       "      <td>5.9</td>\n",
       "      <td>NaN</td>\n",
       "      <td>NaN</td>\n",
       "    </tr>\n",
       "  </tbody>\n",
       "</table>\n",
       "</div>"
      ],
      "text/plain": [
       "            Unemployment Rate (%)  Unemployment Rate (%) Rolling Mean  \\\n",
       "Date                                                                    \n",
       "1978-12-01                    6.1                                 NaN   \n",
       "1979-01-01                    6.1                                 NaN   \n",
       "1979-02-01                    6.0                                 NaN   \n",
       "1979-03-01                    6.0                                 NaN   \n",
       "1979-04-01                    5.9                                 NaN   \n",
       "\n",
       "            Unemployment Rate Rolling Percent Change  \n",
       "Date                                                  \n",
       "1978-12-01                                       NaN  \n",
       "1979-01-01                                       NaN  \n",
       "1979-02-01                                       NaN  \n",
       "1979-03-01                                       NaN  \n",
       "1979-04-01                                       NaN  "
      ]
     },
     "metadata": {},
     "output_type": "display_data"
    },
    {
     "data": {
      "text/html": [
       "<div>\n",
       "<style scoped>\n",
       "    .dataframe tbody tr th:only-of-type {\n",
       "        vertical-align: middle;\n",
       "    }\n",
       "\n",
       "    .dataframe tbody tr th {\n",
       "        vertical-align: top;\n",
       "    }\n",
       "\n",
       "    .dataframe thead th {\n",
       "        text-align: right;\n",
       "    }\n",
       "</style>\n",
       "<table border=\"1\" class=\"dataframe\">\n",
       "  <thead>\n",
       "    <tr style=\"text-align: right;\">\n",
       "      <th></th>\n",
       "      <th>Unemployment Rate (%)</th>\n",
       "      <th>Unemployment Rate (%) Rolling Mean</th>\n",
       "      <th>Unemployment Rate Rolling Percent Change</th>\n",
       "    </tr>\n",
       "    <tr>\n",
       "      <th>Date</th>\n",
       "      <th></th>\n",
       "      <th></th>\n",
       "      <th></th>\n",
       "    </tr>\n",
       "  </thead>\n",
       "  <tbody>\n",
       "    <tr>\n",
       "      <th>2023-11-01</th>\n",
       "      <td>3.6</td>\n",
       "      <td>3.600000</td>\n",
       "      <td>-17.557252</td>\n",
       "    </tr>\n",
       "    <tr>\n",
       "      <th>2023-12-01</th>\n",
       "      <td>3.6</td>\n",
       "      <td>3.600000</td>\n",
       "      <td>-14.792899</td>\n",
       "    </tr>\n",
       "    <tr>\n",
       "      <th>2024-01-01</th>\n",
       "      <td>3.7</td>\n",
       "      <td>3.608333</td>\n",
       "      <td>-11.812627</td>\n",
       "    </tr>\n",
       "    <tr>\n",
       "      <th>2024-02-01</th>\n",
       "      <td>3.7</td>\n",
       "      <td>3.616667</td>\n",
       "      <td>-9.014675</td>\n",
       "    </tr>\n",
       "    <tr>\n",
       "      <th>2024-03-01</th>\n",
       "      <td>3.7</td>\n",
       "      <td>3.625000</td>\n",
       "      <td>-6.652361</td>\n",
       "    </tr>\n",
       "  </tbody>\n",
       "</table>\n",
       "</div>"
      ],
      "text/plain": [
       "            Unemployment Rate (%)  Unemployment Rate (%) Rolling Mean  \\\n",
       "Date                                                                    \n",
       "2023-11-01                    3.6                            3.600000   \n",
       "2023-12-01                    3.6                            3.600000   \n",
       "2024-01-01                    3.7                            3.608333   \n",
       "2024-02-01                    3.7                            3.616667   \n",
       "2024-03-01                    3.7                            3.625000   \n",
       "\n",
       "            Unemployment Rate Rolling Percent Change  \n",
       "Date                                                  \n",
       "2023-11-01                                -17.557252  \n",
       "2023-12-01                                -14.792899  \n",
       "2024-01-01                                -11.812627  \n",
       "2024-02-01                                 -9.014675  \n",
       "2024-03-01                                 -6.652361  "
      ]
     },
     "metadata": {},
     "output_type": "display_data"
    }
   ],
   "source": [
    "# Applying `apply_percentage` to `Unemployment Rate (%)`\n",
    "df_unemp_form = apply_percentage(df_unemp_form, 'Unemployment Rate (%)')\n",
    "\n",
    "# Calculating rolling 12-month means and percent change in means\n",
    "df_unemp_form = rolling_calcs(\n",
    "    df_unemp_form,\n",
    "    'Unemployment Rate (%)',\n",
    "    'Unemployment Rate (%) Rolling Mean',\n",
    "    'Unemployment Rate Rolling Percent Change',\n",
    ")\n",
    "\n",
    "# Confirming `df_unemp_form` ready to concatenate\n",
    "display(df_unemp_form.head())\n",
    "display(df_unemp_form.tail())"
   ]
  },
  {
   "cell_type": "markdown",
   "metadata": {},
   "source": [
    "## Combined Economics\n",
    "\n",
    "#### Preprocessing of the `df_economics` DF\n",
    "\n",
    "With all datasets set to a monthly datetime index, the relevent features of all can be combined into one DF, and any NaN records can be dropped."
   ]
  },
  {
   "cell_type": "code",
   "execution_count": 77,
   "metadata": {},
   "outputs": [
    {
     "data": {
      "text/plain": [
       "((766, 3), (918, 3), (544, 3))"
      ]
     },
     "execution_count": 77,
     "metadata": {},
     "output_type": "execute_result"
    }
   ],
   "source": [
    "# Reconfirming total records and features for datasets\n",
    "df_cci_form.shape, df_inflation_form.shape, df_unemp_form.shape"
   ]
  },
  {
   "cell_type": "code",
   "execution_count": 78,
   "metadata": {},
   "outputs": [],
   "source": [
    "# Concatenating the economic datasets into `df_economics`\n",
    "df_economics = pd.concat(\n",
    "    [\n",
    "        df_cci_form,\n",
    "        df_inflation_form,\n",
    "        df_unemp_form\n",
    "    ], axis=1, join='outer'\n",
    ")"
   ]
  },
  {
   "cell_type": "markdown",
   "metadata": {},
   "source": [
    "#### Handling `NaN` rows"
   ]
  },
  {
   "cell_type": "code",
   "execution_count": 79,
   "metadata": {},
   "outputs": [
    {
     "data": {
      "text/plain": [
       "(927, 9)"
      ]
     },
     "execution_count": 79,
     "metadata": {},
     "output_type": "execute_result"
    }
   ],
   "source": [
    "# Confirming total records and features\n",
    "df_economics.shape"
   ]
  },
  {
   "cell_type": "code",
   "execution_count": 80,
   "metadata": {},
   "outputs": [
    {
     "data": {
      "text/plain": [
       "CCI Value                                   927\n",
       "CCI Rolling Mean                            927\n",
       "CCI Rolling Percent Change                  927\n",
       "CPI Value                                   927\n",
       "CPI Rolling Mean                            927\n",
       "CPI Rolling Percent Change                  927\n",
       "Unemployment Rate (%)                       927\n",
       "Unemployment Rate (%) Rolling Mean          927\n",
       "Unemployment Rate Rolling Percent Change    927\n",
       "dtype: int64"
      ]
     },
     "execution_count": 80,
     "metadata": {},
     "output_type": "execute_result"
    }
   ],
   "source": [
    "# Checking total `NaN` records\n",
    "df_economics.isna().count()"
   ]
  },
  {
   "cell_type": "code",
   "execution_count": 81,
   "metadata": {},
   "outputs": [
    {
     "data": {
      "text/plain": [
       "(512, 9)"
      ]
     },
     "execution_count": 81,
     "metadata": {},
     "output_type": "execute_result"
    }
   ],
   "source": [
    "# Dropping `NaN` records\n",
    "df_economics.dropna(inplace=True)\n",
    "\n",
    "# Confirming remaining records\n",
    "df_economics.shape[0]"
   ]
  },
  {
   "cell_type": "code",
   "execution_count": 82,
   "metadata": {},
   "outputs": [
    {
     "data": {
      "text/html": [
       "<div>\n",
       "<style scoped>\n",
       "    .dataframe tbody tr th:only-of-type {\n",
       "        vertical-align: middle;\n",
       "    }\n",
       "\n",
       "    .dataframe tbody tr th {\n",
       "        vertical-align: top;\n",
       "    }\n",
       "\n",
       "    .dataframe thead th {\n",
       "        text-align: right;\n",
       "    }\n",
       "</style>\n",
       "<table border=\"1\" class=\"dataframe\">\n",
       "  <thead>\n",
       "    <tr style=\"text-align: right;\">\n",
       "      <th></th>\n",
       "      <th>CCI Value</th>\n",
       "      <th>CCI Rolling Mean</th>\n",
       "      <th>CCI Rolling Percent Change</th>\n",
       "      <th>CPI Value</th>\n",
       "      <th>CPI Rolling Mean</th>\n",
       "      <th>CPI Rolling Percent Change</th>\n",
       "      <th>Unemployment Rate (%)</th>\n",
       "      <th>Unemployment Rate (%) Rolling Mean</th>\n",
       "      <th>Unemployment Rate Rolling Percent Change</th>\n",
       "    </tr>\n",
       "    <tr>\n",
       "      <th>Date</th>\n",
       "      <th></th>\n",
       "      <th></th>\n",
       "      <th></th>\n",
       "      <th></th>\n",
       "      <th></th>\n",
       "      <th></th>\n",
       "      <th></th>\n",
       "      <th></th>\n",
       "      <th></th>\n",
       "    </tr>\n",
       "  </thead>\n",
       "  <tbody>\n",
       "    <tr>\n",
       "      <th>1980-11-01</th>\n",
       "      <td>98.49612</td>\n",
       "      <td>97.382044</td>\n",
       "      <td>-0.349702</td>\n",
       "      <td>85.6</td>\n",
       "      <td>81.591667</td>\n",
       "      <td>13.584687</td>\n",
       "      <td>7.2</td>\n",
       "      <td>6.416667</td>\n",
       "      <td>8.298172</td>\n",
       "    </tr>\n",
       "    <tr>\n",
       "      <th>1980-12-01</th>\n",
       "      <td>98.12267</td>\n",
       "      <td>97.443947</td>\n",
       "      <td>-0.211242</td>\n",
       "      <td>86.4</td>\n",
       "      <td>82.383333</td>\n",
       "      <td>13.501722</td>\n",
       "      <td>7.3</td>\n",
       "      <td>6.533333</td>\n",
       "      <td>10.578279</td>\n",
       "    </tr>\n",
       "    <tr>\n",
       "      <th>1981-01-01</th>\n",
       "      <td>97.97219</td>\n",
       "      <td>97.486225</td>\n",
       "      <td>-0.102107</td>\n",
       "      <td>87.2</td>\n",
       "      <td>83.150000</td>\n",
       "      <td>13.321976</td>\n",
       "      <td>7.4</td>\n",
       "      <td>6.658333</td>\n",
       "      <td>13.012730</td>\n",
       "    </tr>\n",
       "    <tr>\n",
       "      <th>1981-02-01</th>\n",
       "      <td>97.87602</td>\n",
       "      <td>97.537902</td>\n",
       "      <td>0.033358</td>\n",
       "      <td>88.0</td>\n",
       "      <td>83.900000</td>\n",
       "      <td>13.085477</td>\n",
       "      <td>7.5</td>\n",
       "      <td>6.791667</td>\n",
       "      <td>15.439093</td>\n",
       "    </tr>\n",
       "    <tr>\n",
       "      <th>1981-03-01</th>\n",
       "      <td>97.97713</td>\n",
       "      <td>97.643262</td>\n",
       "      <td>0.254283</td>\n",
       "      <td>88.6</td>\n",
       "      <td>84.608333</td>\n",
       "      <td>12.748473</td>\n",
       "      <td>7.6</td>\n",
       "      <td>6.925000</td>\n",
       "      <td>17.705382</td>\n",
       "    </tr>\n",
       "  </tbody>\n",
       "</table>\n",
       "</div>"
      ],
      "text/plain": [
       "            CCI Value  CCI Rolling Mean  CCI Rolling Percent Change  \\\n",
       "Date                                                                  \n",
       "1980-11-01   98.49612         97.382044                   -0.349702   \n",
       "1980-12-01   98.12267         97.443947                   -0.211242   \n",
       "1981-01-01   97.97219         97.486225                   -0.102107   \n",
       "1981-02-01   97.87602         97.537902                    0.033358   \n",
       "1981-03-01   97.97713         97.643262                    0.254283   \n",
       "\n",
       "            CPI Value  CPI Rolling Mean  CPI Rolling Percent Change  \\\n",
       "Date                                                                  \n",
       "1980-11-01       85.6         81.591667                   13.584687   \n",
       "1980-12-01       86.4         82.383333                   13.501722   \n",
       "1981-01-01       87.2         83.150000                   13.321976   \n",
       "1981-02-01       88.0         83.900000                   13.085477   \n",
       "1981-03-01       88.6         84.608333                   12.748473   \n",
       "\n",
       "            Unemployment Rate (%)  Unemployment Rate (%) Rolling Mean  \\\n",
       "Date                                                                    \n",
       "1980-11-01                    7.2                            6.416667   \n",
       "1980-12-01                    7.3                            6.533333   \n",
       "1981-01-01                    7.4                            6.658333   \n",
       "1981-02-01                    7.5                            6.791667   \n",
       "1981-03-01                    7.6                            6.925000   \n",
       "\n",
       "            Unemployment Rate Rolling Percent Change  \n",
       "Date                                                  \n",
       "1980-11-01                                  8.298172  \n",
       "1980-12-01                                 10.578279  \n",
       "1981-01-01                                 13.012730  \n",
       "1981-02-01                                 15.439093  \n",
       "1981-03-01                                 17.705382  "
      ]
     },
     "metadata": {},
     "output_type": "display_data"
    },
    {
     "data": {
      "text/html": [
       "<div>\n",
       "<style scoped>\n",
       "    .dataframe tbody tr th:only-of-type {\n",
       "        vertical-align: middle;\n",
       "    }\n",
       "\n",
       "    .dataframe tbody tr th {\n",
       "        vertical-align: top;\n",
       "    }\n",
       "\n",
       "    .dataframe thead th {\n",
       "        text-align: right;\n",
       "    }\n",
       "</style>\n",
       "<table border=\"1\" class=\"dataframe\">\n",
       "  <thead>\n",
       "    <tr style=\"text-align: right;\">\n",
       "      <th></th>\n",
       "      <th>CCI Value</th>\n",
       "      <th>CCI Rolling Mean</th>\n",
       "      <th>CCI Rolling Percent Change</th>\n",
       "      <th>CPI Value</th>\n",
       "      <th>CPI Rolling Mean</th>\n",
       "      <th>CPI Rolling Percent Change</th>\n",
       "      <th>Unemployment Rate (%)</th>\n",
       "      <th>Unemployment Rate (%) Rolling Mean</th>\n",
       "      <th>Unemployment Rate Rolling Percent Change</th>\n",
       "    </tr>\n",
       "    <tr>\n",
       "      <th>Date</th>\n",
       "      <th></th>\n",
       "      <th></th>\n",
       "      <th></th>\n",
       "      <th></th>\n",
       "      <th></th>\n",
       "      <th></th>\n",
       "      <th></th>\n",
       "      <th></th>\n",
       "      <th></th>\n",
       "    </tr>\n",
       "  </thead>\n",
       "  <tbody>\n",
       "    <tr>\n",
       "      <th>2023-02-01</th>\n",
       "      <td>97.45110</td>\n",
       "      <td>96.811235</td>\n",
       "      <td>-1.949492</td>\n",
       "      <td>301.648</td>\n",
       "      <td>295.527083</td>\n",
       "      <td>7.706636</td>\n",
       "      <td>3.6</td>\n",
       "      <td>3.975000</td>\n",
       "      <td>-37.728460</td>\n",
       "    </tr>\n",
       "    <tr>\n",
       "      <th>2023-03-01</th>\n",
       "      <td>97.34036</td>\n",
       "      <td>96.825241</td>\n",
       "      <td>-1.724352</td>\n",
       "      <td>301.808</td>\n",
       "      <td>296.721750</td>\n",
       "      <td>7.406182</td>\n",
       "      <td>3.6</td>\n",
       "      <td>3.883333</td>\n",
       "      <td>-35.812672</td>\n",
       "    </tr>\n",
       "    <tr>\n",
       "      <th>2023-04-01</th>\n",
       "      <td>97.24804</td>\n",
       "      <td>96.845161</td>\n",
       "      <td>-1.458557</td>\n",
       "      <td>302.918</td>\n",
       "      <td>297.914000</td>\n",
       "      <td>7.128724</td>\n",
       "      <td>3.6</td>\n",
       "      <td>3.808333</td>\n",
       "      <td>-33.863965</td>\n",
       "    </tr>\n",
       "    <tr>\n",
       "      <th>2023-05-01</th>\n",
       "      <td>97.24995</td>\n",
       "      <td>96.898521</td>\n",
       "      <td>-1.128598</td>\n",
       "      <td>303.294</td>\n",
       "      <td>298.916167</td>\n",
       "      <td>6.758919</td>\n",
       "      <td>3.6</td>\n",
       "      <td>3.741667</td>\n",
       "      <td>-32.072617</td>\n",
       "    </tr>\n",
       "    <tr>\n",
       "      <th>2023-06-01</th>\n",
       "      <td>97.54726</td>\n",
       "      <td>97.009973</td>\n",
       "      <td>-0.720943</td>\n",
       "      <td>303.841</td>\n",
       "      <td>299.675583</td>\n",
       "      <td>6.265739</td>\n",
       "      <td>3.6</td>\n",
       "      <td>3.691667</td>\n",
       "      <td>-30.126183</td>\n",
       "    </tr>\n",
       "  </tbody>\n",
       "</table>\n",
       "</div>"
      ],
      "text/plain": [
       "            CCI Value  CCI Rolling Mean  CCI Rolling Percent Change  \\\n",
       "Date                                                                  \n",
       "2023-02-01   97.45110         96.811235                   -1.949492   \n",
       "2023-03-01   97.34036         96.825241                   -1.724352   \n",
       "2023-04-01   97.24804         96.845161                   -1.458557   \n",
       "2023-05-01   97.24995         96.898521                   -1.128598   \n",
       "2023-06-01   97.54726         97.009973                   -0.720943   \n",
       "\n",
       "            CPI Value  CPI Rolling Mean  CPI Rolling Percent Change  \\\n",
       "Date                                                                  \n",
       "2023-02-01    301.648        295.527083                    7.706636   \n",
       "2023-03-01    301.808        296.721750                    7.406182   \n",
       "2023-04-01    302.918        297.914000                    7.128724   \n",
       "2023-05-01    303.294        298.916167                    6.758919   \n",
       "2023-06-01    303.841        299.675583                    6.265739   \n",
       "\n",
       "            Unemployment Rate (%)  Unemployment Rate (%) Rolling Mean  \\\n",
       "Date                                                                    \n",
       "2023-02-01                    3.6                            3.975000   \n",
       "2023-03-01                    3.6                            3.883333   \n",
       "2023-04-01                    3.6                            3.808333   \n",
       "2023-05-01                    3.6                            3.741667   \n",
       "2023-06-01                    3.6                            3.691667   \n",
       "\n",
       "            Unemployment Rate Rolling Percent Change  \n",
       "Date                                                  \n",
       "2023-02-01                                -37.728460  \n",
       "2023-03-01                                -35.812672  \n",
       "2023-04-01                                -33.863965  \n",
       "2023-05-01                                -32.072617  \n",
       "2023-06-01                                -30.126183  "
      ]
     },
     "metadata": {},
     "output_type": "display_data"
    }
   ],
   "source": [
    "# Confirming final economic DF\n",
    "display(df_economics.head())\n",
    "display(df_economics.tail())"
   ]
  },
  {
   "cell_type": "markdown",
   "metadata": {},
   "source": [
    "## Engineering\n",
    "\n",
    "#### Engineering the economic target value\n",
    "\n",
    "As stated, the goal is to create an indicator for `Economic Climate` based on broad-strokes observations of our datasets. Having calculated the rolling 12-month percent change for each feature - based off the rolling 12-month mean - we can look for a positive or negative change in values and flag the movement accordingly. From there, we can make the following simple statements;\n",
    "\n",
    "* For **CCI**, a positive change is \"good\", as it indicates an increase in the likelihood of consumers to spend money\n",
    "* For **CPI**, a negative change is \"good\", as it indicates a decrease in the costs for goods and services\n",
    "* For **Unemployment Rate**, a negative change is \"good\", as it indicates an incrase in the population active in the workforce\n",
    "\n",
    "Therefore, we can interpret movement contrary to those changes as \"bad\". With this simplified view of the features, we can draw a classification as follows;\n",
    "\n",
    "* If **at least two (2) features** have a \"good\" value, we can set `Economic Climate` to `Comfortable to Good`\n",
    "* If **at least two (2) features** have a \"bad\" value, we can set `Economic Climate` to `Lean to Bad`\n",
    "\n",
    "In this way, we can gague whether the ecnomic state at a given rlease date supports or disproves our hypothesis."
   ]
  },
  {
   "cell_type": "markdown",
   "metadata": {},
   "source": [
    "#### Continued EDA"
   ]
  },
  {
   "cell_type": "code",
   "execution_count": 83,
   "metadata": {},
   "outputs": [
    {
     "data": {
      "text/html": [
       "<div>\n",
       "<style scoped>\n",
       "    .dataframe tbody tr th:only-of-type {\n",
       "        vertical-align: middle;\n",
       "    }\n",
       "\n",
       "    .dataframe tbody tr th {\n",
       "        vertical-align: top;\n",
       "    }\n",
       "\n",
       "    .dataframe thead th {\n",
       "        text-align: right;\n",
       "    }\n",
       "</style>\n",
       "<table border=\"1\" class=\"dataframe\">\n",
       "  <thead>\n",
       "    <tr style=\"text-align: right;\">\n",
       "      <th></th>\n",
       "      <th>CCI Value</th>\n",
       "      <th>CCI Rolling Mean</th>\n",
       "      <th>CCI Rolling Percent Change</th>\n",
       "      <th>CPI Value</th>\n",
       "      <th>CPI Rolling Mean</th>\n",
       "      <th>CPI Rolling Percent Change</th>\n",
       "      <th>Unemployment Rate (%)</th>\n",
       "      <th>Unemployment Rate (%) Rolling Mean</th>\n",
       "      <th>Unemployment Rate Rolling Percent Change</th>\n",
       "    </tr>\n",
       "  </thead>\n",
       "  <tbody>\n",
       "    <tr>\n",
       "      <th>count</th>\n",
       "      <td>512.000000</td>\n",
       "      <td>512.000000</td>\n",
       "      <td>512.000000</td>\n",
       "      <td>512.000000</td>\n",
       "      <td>512.000000</td>\n",
       "      <td>512.000000</td>\n",
       "      <td>512.000000</td>\n",
       "      <td>512.000000</td>\n",
       "      <td>512.000000</td>\n",
       "    </tr>\n",
       "    <tr>\n",
       "      <th>mean</th>\n",
       "      <td>100.031802</td>\n",
       "      <td>100.034274</td>\n",
       "      <td>-0.004062</td>\n",
       "      <td>181.836703</td>\n",
       "      <td>179.483257</td>\n",
       "      <td>3.225757</td>\n",
       "      <td>6.166797</td>\n",
       "      <td>6.198291</td>\n",
       "      <td>0.715998</td>\n",
       "    </tr>\n",
       "    <tr>\n",
       "      <th>std</th>\n",
       "      <td>1.478445</td>\n",
       "      <td>1.395690</td>\n",
       "      <td>0.926392</td>\n",
       "      <td>55.896821</td>\n",
       "      <td>55.382108</td>\n",
       "      <td>2.202968</td>\n",
       "      <td>1.665886</td>\n",
       "      <td>1.601365</td>\n",
       "      <td>18.952825</td>\n",
       "    </tr>\n",
       "    <tr>\n",
       "      <th>min</th>\n",
       "      <td>96.182430</td>\n",
       "      <td>96.807437</td>\n",
       "      <td>-2.603210</td>\n",
       "      <td>85.600000</td>\n",
       "      <td>81.591667</td>\n",
       "      <td>-0.621247</td>\n",
       "      <td>3.600000</td>\n",
       "      <td>3.691667</td>\n",
       "      <td>-39.069767</td>\n",
       "    </tr>\n",
       "    <tr>\n",
       "      <th>25%</th>\n",
       "      <td>98.902748</td>\n",
       "      <td>98.974193</td>\n",
       "      <td>-0.416825</td>\n",
       "      <td>136.150000</td>\n",
       "      <td>134.264583</td>\n",
       "      <td>1.918447</td>\n",
       "      <td>4.900000</td>\n",
       "      <td>4.933333</td>\n",
       "      <td>-9.395503</td>\n",
       "    </tr>\n",
       "    <tr>\n",
       "      <th>50%</th>\n",
       "      <td>100.514100</td>\n",
       "      <td>100.451660</td>\n",
       "      <td>0.030562</td>\n",
       "      <td>178.300000</td>\n",
       "      <td>177.483333</td>\n",
       "      <td>2.802257</td>\n",
       "      <td>5.800000</td>\n",
       "      <td>5.825000</td>\n",
       "      <td>-5.980553</td>\n",
       "    </tr>\n",
       "    <tr>\n",
       "      <th>75%</th>\n",
       "      <td>101.041400</td>\n",
       "      <td>100.966133</td>\n",
       "      <td>0.541288</td>\n",
       "      <td>231.228000</td>\n",
       "      <td>228.997917</td>\n",
       "      <td>3.703088</td>\n",
       "      <td>7.300000</td>\n",
       "      <td>7.287500</td>\n",
       "      <td>8.808169</td>\n",
       "    </tr>\n",
       "    <tr>\n",
       "      <th>max</th>\n",
       "      <td>102.850100</td>\n",
       "      <td>102.629700</td>\n",
       "      <td>2.750711</td>\n",
       "      <td>303.841000</td>\n",
       "      <td>299.675583</td>\n",
       "      <td>13.584687</td>\n",
       "      <td>10.300000</td>\n",
       "      <td>10.091667</td>\n",
       "      <td>95.805740</td>\n",
       "    </tr>\n",
       "  </tbody>\n",
       "</table>\n",
       "</div>"
      ],
      "text/plain": [
       "        CCI Value  CCI Rolling Mean  CCI Rolling Percent Change   CPI Value  \\\n",
       "count  512.000000        512.000000                  512.000000  512.000000   \n",
       "mean   100.031802        100.034274                   -0.004062  181.836703   \n",
       "std      1.478445          1.395690                    0.926392   55.896821   \n",
       "min     96.182430         96.807437                   -2.603210   85.600000   \n",
       "25%     98.902748         98.974193                   -0.416825  136.150000   \n",
       "50%    100.514100        100.451660                    0.030562  178.300000   \n",
       "75%    101.041400        100.966133                    0.541288  231.228000   \n",
       "max    102.850100        102.629700                    2.750711  303.841000   \n",
       "\n",
       "       CPI Rolling Mean  CPI Rolling Percent Change  Unemployment Rate (%)  \\\n",
       "count        512.000000                  512.000000             512.000000   \n",
       "mean         179.483257                    3.225757               6.166797   \n",
       "std           55.382108                    2.202968               1.665886   \n",
       "min           81.591667                   -0.621247               3.600000   \n",
       "25%          134.264583                    1.918447               4.900000   \n",
       "50%          177.483333                    2.802257               5.800000   \n",
       "75%          228.997917                    3.703088               7.300000   \n",
       "max          299.675583                   13.584687              10.300000   \n",
       "\n",
       "       Unemployment Rate (%) Rolling Mean  \\\n",
       "count                          512.000000   \n",
       "mean                             6.198291   \n",
       "std                              1.601365   \n",
       "min                              3.691667   \n",
       "25%                              4.933333   \n",
       "50%                              5.825000   \n",
       "75%                              7.287500   \n",
       "max                             10.091667   \n",
       "\n",
       "       Unemployment Rate Rolling Percent Change  \n",
       "count                                512.000000  \n",
       "mean                                   0.715998  \n",
       "std                                   18.952825  \n",
       "min                                  -39.069767  \n",
       "25%                                   -9.395503  \n",
       "50%                                   -5.980553  \n",
       "75%                                    8.808169  \n",
       "max                                   95.805740  "
      ]
     },
     "execution_count": 83,
     "metadata": {},
     "output_type": "execute_result"
    }
   ],
   "source": [
    "# Continuing EDA\n",
    "df_economics.describe()"
   ]
  },
  {
   "cell_type": "markdown",
   "metadata": {},
   "source": [
    "#### Classifying `Economic Climate`"
   ]
  },
  {
   "cell_type": "code",
   "execution_count": 84,
   "metadata": {},
   "outputs": [
    {
     "data": {
      "text/html": [
       "<div>\n",
       "<style scoped>\n",
       "    .dataframe tbody tr th:only-of-type {\n",
       "        vertical-align: middle;\n",
       "    }\n",
       "\n",
       "    .dataframe tbody tr th {\n",
       "        vertical-align: top;\n",
       "    }\n",
       "\n",
       "    .dataframe thead th {\n",
       "        text-align: right;\n",
       "    }\n",
       "</style>\n",
       "<table border=\"1\" class=\"dataframe\">\n",
       "  <thead>\n",
       "    <tr style=\"text-align: right;\">\n",
       "      <th></th>\n",
       "      <th>CCI Rolling Percent Change Flag</th>\n",
       "      <th>CPI Rolling Percent Change Flag</th>\n",
       "      <th>Unemployment Rate Rolling Percent Change Flag</th>\n",
       "    </tr>\n",
       "    <tr>\n",
       "      <th>Date</th>\n",
       "      <th></th>\n",
       "      <th></th>\n",
       "      <th></th>\n",
       "    </tr>\n",
       "  </thead>\n",
       "  <tbody>\n",
       "    <tr>\n",
       "      <th>1980-11-01</th>\n",
       "      <td>negative</td>\n",
       "      <td>positive</td>\n",
       "      <td>positive</td>\n",
       "    </tr>\n",
       "    <tr>\n",
       "      <th>1980-12-01</th>\n",
       "      <td>negative</td>\n",
       "      <td>positive</td>\n",
       "      <td>positive</td>\n",
       "    </tr>\n",
       "    <tr>\n",
       "      <th>1981-01-01</th>\n",
       "      <td>negative</td>\n",
       "      <td>positive</td>\n",
       "      <td>positive</td>\n",
       "    </tr>\n",
       "    <tr>\n",
       "      <th>1981-02-01</th>\n",
       "      <td>positive</td>\n",
       "      <td>positive</td>\n",
       "      <td>positive</td>\n",
       "    </tr>\n",
       "    <tr>\n",
       "      <th>1981-03-01</th>\n",
       "      <td>positive</td>\n",
       "      <td>positive</td>\n",
       "      <td>positive</td>\n",
       "    </tr>\n",
       "  </tbody>\n",
       "</table>\n",
       "</div>"
      ],
      "text/plain": [
       "           CCI Rolling Percent Change Flag CPI Rolling Percent Change Flag  \\\n",
       "Date                                                                         \n",
       "1980-11-01                        negative                        positive   \n",
       "1980-12-01                        negative                        positive   \n",
       "1981-01-01                        negative                        positive   \n",
       "1981-02-01                        positive                        positive   \n",
       "1981-03-01                        positive                        positive   \n",
       "\n",
       "           Unemployment Rate Rolling Percent Change Flag  \n",
       "Date                                                      \n",
       "1980-11-01                                      positive  \n",
       "1980-12-01                                      positive  \n",
       "1981-01-01                                      positive  \n",
       "1981-02-01                                      positive  \n",
       "1981-03-01                                      positive  "
      ]
     },
     "execution_count": 84,
     "metadata": {},
     "output_type": "execute_result"
    }
   ],
   "source": [
    "# Creating a list of features\n",
    "features_to_flag = [\n",
    "    'CCI Rolling Percent Change',\n",
    "    'CPI Rolling Percent Change',\n",
    "    'Unemployment Rate Rolling Percent Change'\n",
    "]\n",
    "\n",
    "# Looping through `features_to_flag` to assign `positive` and `negative` indicators\n",
    "for col in df_economics[features_to_flag].columns:\n",
    "    new_col = str(col) + ' Flag'\n",
    "    df_economics.loc[df_economics[col] > 0, new_col] = 'positive'\n",
    "    df_economics.loc[df_economics[col] <= 0, new_col] = 'negative'\n",
    "\n",
    "# Creating a list flagged features\n",
    "flag_cols = [\n",
    "    'CCI Rolling Percent Change Flag',\n",
    "    'CPI Rolling Percent Change Flag',\n",
    "    'Unemployment Rate Rolling Percent Change Flag'\n",
    "]\n",
    "\n",
    "# Confirming indicators applied\n",
    "df_economics[flag_cols].head()"
   ]
  },
  {
   "cell_type": "code",
   "execution_count": 85,
   "metadata": {},
   "outputs": [
    {
     "data": {
      "text/plain": [
       "Economic Climate\n",
       "Lean to Bad            317\n",
       "Comfortable to Good    195\n",
       "Name: count, dtype: int64"
      ]
     },
     "execution_count": 85,
     "metadata": {},
     "output_type": "execute_result"
    }
   ],
   "source": [
    "# Creating a list of conditions and classifications\n",
    "conditions = [\n",
    "    ((df_economics[flag_cols[0]] == 'positive') &   # CCI = 'positive'/good\n",
    "    (df_economics[flag_cols[1]] == 'positive') &    # CPI = 'positive'/bad\n",
    "    (df_economics[flag_cols[2]] == 'positive'),     # Unemplyment = 'positive'/bad\n",
    "    'Lean to Bad'),\n",
    "    ((df_economics[flag_cols[0]] == 'positive') &   # CCI = 'positive'/good\n",
    "    (df_economics[flag_cols[1]] == 'positive') &    # CPI = 'positive'/bad\n",
    "    (df_economics[flag_cols[2]] == 'negative'),     # Unemplyment = 'negative'/good\n",
    "    'Comfortable to Good'),\n",
    "    ((df_economics[flag_cols[0]] == 'positive') &   # CCI = 'positive'/good\n",
    "    (df_economics[flag_cols[1]] == 'negative') &    # CPI = 'negative'/good\n",
    "    (df_economics[flag_cols[2]] == 'positive'),     # Unemplyment = 'positive'/bad\n",
    "    'Comfortable to Good'),\n",
    "    ((df_economics[flag_cols[0]] == 'negative') &   # CCI = 'negative'/bad\n",
    "    (df_economics[flag_cols[1]] == 'positive') &    # CPI = 'positive'/bad\n",
    "    (df_economics[flag_cols[2]] == 'positive'),     # Unemplyment = 'positive'/bad\n",
    "    'Lean to Bad'),\n",
    "    ((df_economics[flag_cols[0]] == 'negative') &   # CCI = 'negative'/bad\n",
    "    (df_economics[flag_cols[1]] == 'negative') &    # CPI = 'negative'/good\n",
    "    (df_economics[flag_cols[2]] == 'positive'),     # Unemplyment = 'positive'/bad\n",
    "    'Lean to Bad'),\n",
    "    ((df_economics[flag_cols[0]] == 'negative') &   # CCI = 'negative'/bad\n",
    "    (df_economics[flag_cols[1]] == 'positive') &    # CPI = 'positive'/bad\n",
    "    (df_economics[flag_cols[2]] == 'negative'),     # Unemplyment = 'negative'/good\n",
    "    'Lean to Bad'),\n",
    "    ((df_economics[flag_cols[0]] == 'positive') &   # CCI = 'positive'/good\n",
    "    (df_economics[flag_cols[1]] == 'negative') &    # CPI = 'negative'/good\n",
    "    (df_economics[flag_cols[2]] == 'negative'),     # Unemplyment = 'negative'/good\n",
    "    'Comfortable to Good'),\n",
    "    ((df_economics[flag_cols[0]] == 'negative') &   # CCI = 'negative'/bad\n",
    "    (df_economics[flag_cols[1]] == 'negative') &    # CPI = 'negative'/good\n",
    "    (df_economics[flag_cols[2]] == 'negative'),     # Unemplyment = 'negative'/good\n",
    "    'Comfortable to Good')\n",
    "]\n",
    "\n",
    "# Declaring `Economic Climate` with a `PLACEHOLDER` value\n",
    "df_economics['Economic Climate'] = 'PLACEHOLDER'\n",
    "\n",
    "# Applying conditions and classifications to `Economic Climate`\n",
    "for condition, classification in conditions:\n",
    "    df_economics.loc[condition, 'Economic Climate'] = classification\n",
    "\n",
    "# Confirming classifications applied\n",
    "df_economics['Economic Climate'].value_counts()"
   ]
  },
  {
   "cell_type": "markdown",
   "metadata": {},
   "source": [
    "## Visualizations"
   ]
  },
  {
   "cell_type": "code",
   "execution_count": null,
   "metadata": {},
   "outputs": [],
   "source": [
    "# Creating a list of features\n",
    "features_to_plot = [\n",
    "    'CCI Value',\n",
    "    'CPI Value',\n",
    "    'Unemployment Rate (%)'\n",
    "]\n",
    "\n",
    "# Creating a value of `0` to show positive and negative values\n",
    "zero_line = pd.DataFrame({\n",
    "    'Date': df_economics.index,\n",
    "    'val': [x for x in 0*df_economics[features_to_flag[2]]]\n",
    "})\n",
    "zero_line.set_index('Date', inplace=True)\n",
    "\n",
    "# Creating a value of `100` to show break point for CCI\n",
    "hundred_line = pd.DataFrame({\n",
    "    'Date': df_economics.index,\n",
    "    'val': [x for x in (0*df_economics[features_to_flag[0]])+100]\n",
    "})\n",
    "hundred_line.set_index('Date', inplace=True)"
   ]
  },
  {
   "cell_type": "code",
   "execution_count": null,
   "metadata": {},
   "outputs": [],
   "source": [
    "# Visualizing trends for `CCI Value`\n",
    "plt.plot(hundred_line, color='black', linestyle='--')\n",
    "plt.plot(df_economics[features_to_plot[0]], label='CCI', color='blue')\n",
    "plt.title('Values above 100 (visualized)\\n indicate consumers more likely to spend vs save')\n",
    "plt.legend()\n",
    "plt.show()"
   ]
  },
  {
   "cell_type": "code",
   "execution_count": null,
   "metadata": {},
   "outputs": [],
   "source": [
    "# Visualizing trends for `CCI Rolling Percent Change`\n",
    "plt.plot(zero_line, color='black', linestyle='--')\n",
    "plt.plot(df_economics[features_to_flag[0]], label='% Changes in CCI', color='blue')\n",
    "plt.legend()\n",
    "plt.show()"
   ]
  },
  {
   "cell_type": "code",
   "execution_count": null,
   "metadata": {},
   "outputs": [],
   "source": [
    "# Visualizing trends for `CPI Value`\n",
    "plt.plot(df_economics[features_to_plot[1]], label='CPI', color='red')\n",
    "plt.legend()\n",
    "plt.show()"
   ]
  },
  {
   "cell_type": "code",
   "execution_count": null,
   "metadata": {},
   "outputs": [],
   "source": [
    "# Visualizing trends for `CPI Rolling Percent Change`\n",
    "plt.plot(zero_line, color='black', linestyle='--')\n",
    "plt.plot(df_economics[features_to_flag[1]], label='% Changes in CPI', color='red')\n",
    "plt.legend()\n",
    "plt.show()"
   ]
  },
  {
   "cell_type": "code",
   "execution_count": null,
   "metadata": {},
   "outputs": [],
   "source": [
    "# Visualizing trends for `Unemployment Rate (%)`\n",
    "plt.plot(df_economics[features_to_plot[2]], label='Unemployment Rate (%)', color='red')\n",
    "plt.legend()\n",
    "plt.show()"
   ]
  },
  {
   "cell_type": "code",
   "execution_count": null,
   "metadata": {},
   "outputs": [],
   "source": [
    "# Visualizing trends for `Unemployment Rate Rolling Percent Change`\n",
    "plt.plot(zero_line, color='black', linestyle='--')\n",
    "plt.plot(df_economics[features_to_flag[2]], label='% Changes in Unemployment Rate', color='red')\n",
    "plt.legend()\n",
    "plt.show()"
   ]
  },
  {
   "cell_type": "code",
   "execution_count": null,
   "metadata": {},
   "outputs": [],
   "source": [
    "# Vizualizing total years classified in `Economic Climate`\n",
    "plt.barh(\n",
    "    y=df_economics['Economic Climate'].value_counts().index,\n",
    "    width=df_economics['Economic Climate'].value_counts()/12,\n",
    "    color=['darkblue', 'darkgreen'],\n",
    "    label=['26.42', '16.25']\n",
    ")\n",
    "plt.title(\n",
    "    'Years from 1981 to 2023 Classified as',\n",
    "    loc='left',\n",
    "    pad=15\n",
    ")\n",
    "plt.legend()\n",
    "plt.show()"
   ]
  },
  {
   "cell_type": "markdown",
   "metadata": {},
   "source": [
    "## Indexing"
   ]
  },
  {
   "cell_type": "code",
   "execution_count": 86,
   "metadata": {},
   "outputs": [],
   "source": [
    "# Resetting the index to recreate `Date` for later concatenation\n",
    "df_economics.reset_index(inplace=True)"
   ]
  },
  {
   "cell_type": "markdown",
   "metadata": {},
   "source": [
    "# Combining Data"
   ]
  },
  {
   "cell_type": "code",
   "execution_count": 87,
   "metadata": {},
   "outputs": [],
   "source": [
    "# Creating a 'Date' for a datetime index\n",
    "df_movies['Date'] = pd.to_datetime({\n",
    "    'year': df_movies['released_year'],\n",
    "    'month': df_movies['released_month'],\n",
    "    'day': df_movies['released_day']\n",
    "})\n",
    "\n",
    "# Setting `Date` as index\n",
    "df_movies.set_index('Date', inplace=True)\n",
    "\n",
    "# Ensuring index is sorted with ascending dates\n",
    "df_movies.sort_index(inplace=True)"
   ]
  },
  {
   "cell_type": "code",
   "execution_count": 88,
   "metadata": {},
   "outputs": [],
   "source": [
    "# Creating a `Year` and `Month` for concatenation\n",
    "df_economics['Year'] = df_economics['Date'].dt.strftime('%Y').astype(int)\n",
    "df_economics['Month'] = df_economics['Date'].dt.strftime('%m').astype(int)\n",
    "\n",
    "# Renaming to `Year` and `Month` for concatenation\n",
    "df_movies.rename(columns={\n",
    "'released_year': 'Year',\n",
    "'released_month': 'Month'\n",
    "}, inplace=True)"
   ]
  },
  {
   "cell_type": "code",
   "execution_count": 89,
   "metadata": {},
   "outputs": [
    {
     "name": "stdout",
     "output_type": "stream",
     "text": [
      "Total ecomonic records: 512\n",
      "Total movie records: 15363\n"
     ]
    }
   ],
   "source": [
    "# Confirming total records before concatenation\n",
    "print(f'Total ecomonic records: {df_economics.shape[0]}')\n",
    "print(f'Total movie records: {df_movies.shape[0]}')"
   ]
  },
  {
   "cell_type": "code",
   "execution_count": 90,
   "metadata": {},
   "outputs": [
    {
     "name": "stdout",
     "output_type": "stream",
     "text": [
      "Total records: 12609\n"
     ]
    }
   ],
   "source": [
    "# Combining datasets through concatenation\n",
    "df_combined = pd.merge(df_economics, df_movies, how='left', on=['Year', 'Month'])\n",
    "\n",
    "# Confirming total records after concatenation\n",
    "print(f'Total records: {df_combined.shape[0]}')"
   ]
  },
  {
   "cell_type": "markdown",
   "metadata": {},
   "source": [
    "# EDA"
   ]
  },
  {
   "cell_type": "code",
   "execution_count": 91,
   "metadata": {},
   "outputs": [],
   "source": [
    "# Creating the eventual `Target` for modelling\n",
    "df_combined['Target'] = df_combined['critical_success'] + ' ' +\\\n",
    "                        df_combined['financial_success'] + ' ' +\\\n",
    "                        df_combined['Economic Climate']"
   ]
  },
  {
   "cell_type": "code",
   "execution_count": 92,
   "metadata": {},
   "outputs": [],
   "source": [
    "# Creating a list of features to drop\n",
    "cols_to_drop = [\n",
    "    'Date',\n",
    "    'CCI Rolling Mean',\n",
    "    'CPI Rolling Mean',\n",
    "    'Unemployment Rate (%) Rolling Mean',\n",
    "    'Economic Climate',\n",
    "    'Year',\n",
    "    'Month',\n",
    "    'id',\n",
    "    'cast',\n",
    "    'original_language',\n",
    "    'director',\n",
    "    'writers',\n",
    "    'producers',\n",
    "    'popularity', \n",
    "    'critical_success',\n",
    "    'financial_success',\n",
    "    'release_date',\n",
    "    'released_day',\n",
    "    'production_countries',\n",
    "    'status',\n",
    "    'spoken_languages'\n",
    "]\n",
    "\n",
    "# Dropping unneeded features\n",
    "df_combined.drop(columns=cols_to_drop, inplace=True)"
   ]
  },
  {
   "cell_type": "code",
   "execution_count": 93,
   "metadata": {},
   "outputs": [],
   "source": [
    "# Dropping `NaN` records\n",
    "df_combined.dropna(inplace=True)"
   ]
  },
  {
   "cell_type": "code",
   "execution_count": 94,
   "metadata": {},
   "outputs": [
    {
     "name": "stdout",
     "output_type": "stream",
     "text": [
      "Total records: 10329\n"
     ]
    }
   ],
   "source": [
    "# Confirming total records after concatenation\n",
    "print(f'Total records: {df_combined.shape[0]}')"
   ]
  },
  {
   "cell_type": "markdown",
   "metadata": {},
   "source": [
    "# Train Test Splitting"
   ]
  },
  {
   "cell_type": "code",
   "execution_count": 95,
   "metadata": {},
   "outputs": [],
   "source": [
    "# Defining columns to scale and encode\n",
    "col_to_scale = [\n",
    "    'CCI Value', 'CCI Rolling Percent Change', 'CPI Value',\n",
    "    'CPI Rolling Percent Change', 'Unemployment Rate (%)', \n",
    "    'Unemployment Rate Rolling Percent Change','vote_average', 'vote_count',\n",
    "    'revenue','runtime','budget', 'roi'\n",
    "]\n",
    "\n",
    "col_to_encode = [\n",
    "    'CCI Rolling Percent Change Flag', 'CPI Rolling Percent Change Flag',\n",
    "    'Unemployment Rate Rolling Percent Change Flag', 'title', 'original_title',\n",
    "    'genres', 'production_companies'\n",
    "]\n",
    "\n",
    "# Setup X and y variables\n",
    "X = df_combined.drop(columns='Target')\n",
    "y = df_combined['Target']\n",
    "\n",
    "# Splitting the data into training and testing sets\n",
    "X_train, X_test, y_train, y_test = train_test_split(X, y, random_state=13)"
   ]
  },
  {
   "cell_type": "markdown",
   "metadata": {},
   "source": [
    "# Scaling and Econding"
   ]
  },
  {
   "cell_type": "code",
   "execution_count": 96,
   "metadata": {},
   "outputs": [],
   "source": [
    "# Creating an instance for `StandardScalar()`\n",
    "scaler = StandardScaler()\n",
    "\n",
    "# Fitting and transforming to `col_to_scale`\n",
    "X_train_scaled = scaler.fit_transform(X_train[col_to_scale])\n",
    "X_test_scaled = scaler.transform(X_test[col_to_scale])\n",
    "\n",
    "# Converting results to DF for later concatenation\n",
    "X_train_scaled = pd.DataFrame(X_train_scaled, columns=col_to_scale)\n",
    "X_test_scaled = pd.DataFrame(X_test_scaled, columns=col_to_scale)"
   ]
  },
  {
   "cell_type": "code",
   "execution_count": 97,
   "metadata": {},
   "outputs": [],
   "source": [
    "# Creating an instance for `OneHotEncoder()` for `X_train[col_to_encode]`\n",
    "encoder_x = OneHotEncoder(sparse_output=False, handle_unknown='ignore')\n",
    "\n",
    "# Fitting to `col_to_encode`\n",
    "encoder_x.fit(X_train[col_to_encode])\n",
    "\n",
    "# Creating an instance for `OneHotEncoder()` for `y_train`\n",
    "encoder_y = LabelEncoder()\n",
    "\n",
    "#Fitting\n",
    "encoder_y.fit(y_train.values.reshape(-1,1))\n",
    "\n",
    "# Transforming `X_train[col_to_encode]` and `X_test[col_to_encode]`\n",
    "X_train_encoded = encoder_x.transform(X_train[col_to_encode])\n",
    "X_test_encoded = encoder_x.transform(X_test[col_to_encode])\n",
    "\n",
    "# Transforming `y_train` and `y_test`\n",
    "y_train_encoded = encoder_y.transform(y_train.values.reshape(-1,1))\n",
    "y_test_encoded = encoder_y.transform(y_test.values.reshape(-1,1))\n",
    "\n",
    "# Converting results to DF for later concatenation\n",
    "X_train_encoded = pd.DataFrame(X_train_encoded, columns=encoder_x.get_feature_names_out())\n",
    "X_test_encoded = pd.DataFrame(X_test_encoded, columns=encoder_x.get_feature_names_out())"
   ]
  },
  {
   "cell_type": "code",
   "execution_count": 98,
   "metadata": {},
   "outputs": [],
   "source": [
    "# Concatenating the `col_to_scale` with `col_to_encode` for `X_train` and `X_test`\n",
    "X_train = pd.concat([X_train_scaled, X_train_encoded], axis=1)\n",
    "X_test = pd.concat([X_test_scaled, X_test_encoded], axis=1)"
   ]
  },
  {
   "cell_type": "code",
   "execution_count": 99,
   "metadata": {},
   "outputs": [
    {
     "name": "stdout",
     "output_type": "stream",
     "text": [
      "Total X records: 10329\n"
     ]
    }
   ],
   "source": [
    "# Confirming total records after concatenation\n",
    "print(f'Total X records: {X_train.shape[0] + X_test.shape[0]}')"
   ]
  },
  {
   "cell_type": "markdown",
   "metadata": {},
   "source": [
    "# Modeling\n",
    "\n",
    "Playtime!!"
   ]
  },
  {
   "cell_type": "markdown",
   "metadata": {},
   "source": [
    "# Eric's Space"
   ]
  },
  {
   "cell_type": "code",
   "execution_count": null,
   "metadata": {},
   "outputs": [],
   "source": []
  },
  {
   "cell_type": "markdown",
   "metadata": {},
   "source": [
    "# Funda's Space"
   ]
  },
  {
   "cell_type": "code",
   "execution_count": null,
   "metadata": {},
   "outputs": [],
   "source": []
  },
  {
   "cell_type": "markdown",
   "metadata": {},
   "source": [
    "# Kalvin's Space"
   ]
  },
  {
   "cell_type": "code",
   "execution_count": 100,
   "metadata": {},
   "outputs": [],
   "source": [
    "import matplotlib.pyplot as plt\n",
    "from sklearn.neighbors import KNeighborsClassifier\n",
    "from sklearn.model_selection import GridSearchCV\n",
    "from sklearn.decomposition import PCA\n",
    "from sklearn.metrics import classification_report, balanced_accuracy_score, accuracy_score, precision_score"
   ]
  },
  {
   "cell_type": "code",
   "execution_count": 101,
   "metadata": {},
   "outputs": [
    {
     "name": "stdout",
     "output_type": "stream",
     "text": [
      "0.5714285714285714\n",
      "0.6771244520903508\n"
     ]
    },
    {
     "name": "stderr",
     "output_type": "stream",
     "text": [
      "/opt/anaconda3/envs/ai_dev/lib/python3.10/site-packages/sklearn/metrics/_classification.py:1509: UndefinedMetricWarning: Precision is ill-defined and being set to 0.0 in labels with no predicted samples. Use `zero_division` parameter to control this behavior.\n",
      "  _warn_prf(average, modifier, f\"{metric.capitalize()} is\", len(result))\n"
     ]
    }
   ],
   "source": [
    "# Create a untuned KNN classifier\n",
    "untuned_model = KNeighborsClassifier()\n",
    "\n",
    "## Train the untuned model\n",
    "untuned_model.fit(X_train, y_train_encoded)\n",
    "\n",
    "# Check the model's accuracy on the test set\n",
    "untuned_y_test_pred = untuned_model.predict(X_test)\n",
    "print(accuracy_score(y_test_encoded, untuned_y_test_pred))\n",
    "print(precision_score(y_test_encoded, untuned_y_test_pred, average='weighted'))"
   ]
  },
  {
   "cell_type": "code",
   "execution_count": 102,
   "metadata": {},
   "outputs": [],
   "source": [
    "# Instantiate the PCA instance and declare the number of PCA variables to retain maximum variance\n",
    "pca = PCA(n_components=0.95)\n",
    "X_train_pca = pca.fit_transform(X_train)\n",
    "X_test_pca = pca.transform(X_test)"
   ]
  },
  {
   "cell_type": "code",
   "execution_count": 103,
   "metadata": {},
   "outputs": [
    {
     "name": "stdout",
     "output_type": "stream",
     "text": [
      "0.5044521873790166\n",
      "0.6305949576223405\n"
     ]
    },
    {
     "name": "stderr",
     "output_type": "stream",
     "text": [
      "/opt/anaconda3/envs/ai_dev/lib/python3.10/site-packages/sklearn/metrics/_classification.py:1509: UndefinedMetricWarning: Precision is ill-defined and being set to 0.0 in labels with no predicted samples. Use `zero_division` parameter to control this behavior.\n",
      "  _warn_prf(average, modifier, f\"{metric.capitalize()} is\", len(result))\n"
     ]
    }
   ],
   "source": [
    "# Create a untuned KNN classifier\n",
    "untuned_model = KNeighborsClassifier()\n",
    "\n",
    "## Train the untuned model\n",
    "untuned_model.fit(X_train_pca, y_train_encoded)\n",
    "\n",
    "# Check the model's accuracy on the test set\n",
    "untuned_y_test_pred = untuned_model.predict(X_test_pca)\n",
    "print(accuracy_score(y_test_encoded, untuned_y_test_pred))\n",
    "print(precision_score(y_test_encoded, untuned_y_test_pred, average='weighted'))"
   ]
  },
  {
   "cell_type": "code",
   "execution_count": 104,
   "metadata": {},
   "outputs": [
    {
     "data": {
      "text/plain": [
       "array([1.83478063e-01, 1.34746544e-01, 1.21108707e-01, ...,\n",
       "       2.30375617e-05, 2.30375617e-05, 2.30375617e-05])"
      ]
     },
     "execution_count": 104,
     "metadata": {},
     "output_type": "execute_result"
    }
   ],
   "source": [
    "# Calculate the PCA explained variance ratio\n",
    "pca.explained_variance_ratio_"
   ]
  },
  {
   "cell_type": "code",
   "execution_count": 105,
   "metadata": {},
   "outputs": [
    {
     "name": "stdout",
     "output_type": "stream",
     "text": [
      "k: 1, Train/Test Score: 1.000/0.612\n",
      "k: 3, Train/Test Score: 0.727/0.588\n",
      "k: 5, Train/Test Score: 0.652/0.571\n",
      "k: 7, Train/Test Score: 0.614/0.564\n",
      "k: 9, Train/Test Score: 0.591/0.551\n",
      "k: 11, Train/Test Score: 0.580/0.533\n",
      "k: 13, Train/Test Score: 0.564/0.531\n",
      "k: 15, Train/Test Score: 0.556/0.520\n",
      "k: 17, Train/Test Score: 0.543/0.509\n",
      "k: 19, Train/Test Score: 0.535/0.502\n"
     ]
    },
    {
     "data": {
      "image/png": "iVBORw0KGgoAAAANSUhEUgAAAjcAAAGwCAYAAABVdURTAAAAOXRFWHRTb2Z0d2FyZQBNYXRwbG90bGliIHZlcnNpb24zLjguMCwgaHR0cHM6Ly9tYXRwbG90bGliLm9yZy81sbWrAAAACXBIWXMAAA9hAAAPYQGoP6dpAABq1ElEQVR4nO3dd3hT9eIG8PckHekMdNABhQ42BQotq4PhYIPrCnqvDK9wFVFEUJDrVYYoKiAgylT0Kv4UFVBALlhklj1aVqEUKLTQlNKWDlq6kvP74zSB0DY0JWma9P08z3manJxz8j2kkJfvFERRFEFERERkI2SWLgARERGRKTHcEBERkU1huCEiIiKbwnBDRERENoXhhoiIiGwKww0RERHZFIYbIiIisil2li5AXdNoNEhPT4ebmxsEQbB0cYiIiKgGRFFEQUEB/P39IZMZrptpcOEmPT0dAQEBli4GERER1UJaWhqaNWtm8JgGF27c3NwASH847u7uFi4NERER1UR+fj4CAgJ03+OGNLhwo22Kcnd3Z7ghIiKyMjXpUsIOxURERGRTGG6IiIjIpjDcEBERkU1pcH1uiIjo4Wk0GpSWllq6GGRjHBwcHjjMuyYYboiIyCilpaVISUmBRqOxdFHIxshkMgQFBcHBweGhrsNwQ0RENSaKIlQqFeRyOQICAkzyv2wi4O4kuyqVCs2bN3+oiXYZboiIqMbKy8tRVFQEf39/ODs7W7o4ZGO8vb2Rnp6O8vJy2Nvb1/o6jNxERFRjarUaAB662YCoKtrfK+3vWW0x3BARkdG4Nh+Zg6l+r9gsZSJqjYgjKTnILChGEzcFugd5QC7jX34iIqK6ZtGam71792LYsGHw9/eHIAj47bffHnjOnj17EB4eDoVCgeDgYKxYscL8BX2AbWdUiP5kJ55ffQhv/JSA51cfQvQnO7HtjMrSRSMiImpwLBpuCgsL0blzZ3zxxRc1Oj4lJQWDBw9GTEwM4uPj8e9//xuTJk3C+vXrzVzS6m07o8KEtSegyivW25+RV4wJa08w4BARVUGtEXHwUjZ+T7iOg5eyodaIli6SUQIDA7F48eIaH797924IgoDc3FyzlYnusmiz1KBBgzBo0KAaH79ixQo0b95c9wvVrl07HDt2DAsWLMAzzzxjplJWT60RMXtzIqr6KykCEADM3pyIx9v7somKiKjCtjMqzN6cqPefQj+lAjOHtcfAUD+zvGffvn0RFhZmVCAx5OjRo3Bxcanx8ZGRkVCpVFAqlSZ5fzLMqjoUHzx4EP3799fbN2DAABw7dgxlZWVVnlNSUoL8/Hy9zVSOpORUqrG5lwhAlVeMIyk5JntPIiJrVp9ru0VRRHl5eY2O9fb2NmoovIODA3x9fW2uI3Z1372WZlXhJiMjAz4+Pnr7fHx8UF5ejqysrCrPmTdvHpRKpW4LCAgwWXkyC6oPNrU5jojI2oiiiKLS8hptBcVlmLnpbLW13QAwa1MiCorLanQ9UaxZU9bYsWOxZ88eLFmyBIIgQBAEXLlyRddUtH37dkRERMDR0RH79u3DpUuX8MQTT8DHxweurq7o1q0bduzYoXfN+5ulBEHAV199haeeegrOzs5o1aoVNm3apHv9/mapb7/9Fo0aNcL27dvRrl07uLq6YuDAgVCp7oa78vJyTJo0CY0aNYKnpyemT5+OMWPG4Mknn6z2Xq9evYphw4ahcePGcHFxQYcOHbB161bd62fPnsWQIUPg7u4ONzc3xMTE4NKlSwCkSfTmzJmDZs2awdHREWFhYdi2bZvu3CtXrkAQBPz888/o27cvFAoF1q5dCwD45ptv0K5dOygUCrRt2xbLli3TnVdaWorXXnsNfn5+UCgUCAwMxLx582r02dWW1Y2Wuj/1an+5q0vDM2bMwJQpU3TP8/PzTRZwmrgpTHocEZG1uVOmRvv3t5vkWiKAjPxidJz1Z42OT5wzAM4OD/4aW7JkCS5cuIDQ0FDMmTMHgFTzcuXKFQDAtGnTsGDBAgQHB6NRo0a4du0aBg8ejLlz50KhUOC///0vhg0bhqSkJDRv3rza95k9ezY+/fRTzJ8/H0uXLsU//vEPXL16FR4eHlUeX1RUhAULFuD777+HTCbDCy+8gLfeegs//PADAOCTTz7BDz/8oAsOS5YswW+//YZ+/fpVW4aJEyeitLQUe/fuhYuLCxITE+Hq6goAuH79Onr37o2+ffti586dcHd3x/79+3W1VUuWLMHChQuxcuVKdOnSBWvWrMHw4cNx9uxZtGrVSvce06dPx8KFC/HNN9/A0dERq1evxsyZM/HFF1+gS5cuiI+Px/jx4+Hi4oIxY8bg888/x6ZNm/Dzzz+jefPmSEtLQ1pa2gM/t4dhVeHG19cXGRkZevsyMzNhZ2cHT0/PKs9xdHSEo6OjWcrTPcgDfkoFMvKKq/yfiADAVykNCyciIstQKpVwcHCAs7MzfH19K70+Z84cPP7447rnnp6e6Ny5s+753LlzsXHjRmzatAmvvfZate8zduxYPP/88wCAjz76CEuXLsWRI0cwcODAKo8vKyvDihUrEBISAgB47bXXdOELAJYuXYoZM2bgqaeeAgB88cUXerUwVUlNTcUzzzyDjh07AgCCg4N1r3355ZdQKpX46aefdLP/tm7dWvf6ggULMH36dDz33HMApHC1a9cuLF68GF9++aXuuMmTJ+Ppp5/WPf/ggw+wcOFC3b6goCAkJiZi5cqVGDNmDFJTU9GqVStER0dDEAS0aNHC4D2YglWFm169emHz5s16+/78809EREQ81DTNtSWXCZg5rD0mrD0BAdALONp6pJnD2rMzMRHZLCd7ORLnDKjRsUdScjD2m6MPPO7bF7vV6D+FTvbyGr3vg0REROg9LywsxOzZs7FlyxbdUgB37txBamqqwet06tRJ99jFxQVubm7IzMys9nhnZ2ddsAEAPz8/3fF5eXm4ceMGunfvrntdLpcjPDzc4IKlkyZNwoQJE/Dnn3/isccewzPPPKMrV0JCAmJiYqr8vszPz0d6ejqioqL09kdFReHkyZN6++7987p58ybS0tLw0ksvYfz48br95eXlus7TY8eOxeOPP442bdpg4MCBGDp0aKX+s6Zm0T43t2/fRkJCAhISEgBIQ70TEhJ0v0AzZszA6NGjdce/8soruHr1KqZMmYJz585hzZo1+Prrr/HWW29ZovgAgIGhflj+Qlf4KvWbnhq7OGD5C13N1vOfiKg+EAQBzg52NdpiWnnDT6lAdf/dEyCNmopp5V2j65mqc+79o57efvttrF+/Hh9++CH27duHhIQEdOzYEaWlpQavc39oEATBYBCp6vj7+xFV1xWjOuPGjcPly5cxatQonD59GhEREVi6dCkAwMnJyeC51b3f/fvu/fPS3t/q1at13+cJCQk4c+YMDh06BADo2rUrUlJS8MEHH+DOnTsYMWIE/va3vz2wLA/DouHm2LFj6NKlC7p06QIAmDJlCrp06YL3338fAKBSqfSSclBQELZu3Yrdu3cjLCwMH3zwAT7//HOLDAO/18BQP8RNfwQ/ju+p+9/G012bMtgQEd1DW9sNoFLAMXdtt4ODQ43XK9q3bx/Gjh2Lp556Ch07doSvr6+uf05dUSqV8PHxwZEjR3T71Go14uPjH3huQEAAXnnlFWzYsAFTp07F6tWrAUg1S/v27atyhJO7uzv8/f0RFxent//AgQNo165dte/l4+ODpk2b4vLly2jZsqXeFhQUpHf9kSNHYvXq1Vi3bh3Wr1+PnBzzjSS2aLNU3759DabQb7/9ttK+Pn364MSJE2YsVe3IZQJ6hXgis6A5jqTkYP/FbEsXiYio3tHWdt8/z42vmee5CQwMxOHDh3HlyhW4urpW28kXAFq2bIkNGzZg2LBhEAQB7733nsEaGHN5/fXXMW/ePLRs2RJt27bF0qVLcevWLYM1VpMnT8agQYPQunVr3Lp1Czt37tSFk9deew1Lly7Fc889hxkzZkCpVOLQoUPo3r072rRpg7fffhszZ85ESEgIwsLC8M033yAhIUHXwbk6s2bNwqRJk+Du7o5BgwahpKQEx44dw61btzBlyhQsWrQIfn5+CAsLg0wmwy+//AJfX180atTIlH9ceqyqz401iG7pBQA4p8rXrTNFRER3DQz1w+Ptfet0Pb633noLY8aMQfv27XHnzh2kpKRUe+yiRYvwz3/+E5GRkfDy8sL06dNNOkdaTU2fPh0ZGRkYPXo05HI5/vWvf2HAgAGQy6vva6RWqzFx4kRcu3YN7u7uGDhwIBYtWgRA6ii9c+dOvP322+jTpw/kcjnCwsJ0/WwmTZqE/Px8TJ06FZmZmWjfvj02bdqkN1KqKuPGjYOzszPmz5+PadOmwcXFBR07dsTkyZMBAK6urvjkk0+QnJwMuVyObt26YevWrZDJzNd4JIg1nSjARuTn50OpVCIvLw/u7u5meY8hn+/D2fR8LBrZGU91aWaW9yAisoTi4mKkpKQgKCgICgX/81aXNBoN2rVrhxEjRuCDDz6wdHHMwtDvlzHf31Y1iZ+1iGnlDQDYl1z1xIJEREQPcvXqVaxevRoXLlzA6dOnMWHCBKSkpODvf/+7pYtW7zHcmEFMK6lpal9yVo1n0CQiIrqXTCbDt99+i27duiEqKgqnT5/Gjh07DHbwJQn73JhBeIvGUNjLcLOgBEk3CtDW1zzNX0REZLsCAgKwf/9+SxfDKrHmxgwU9nL0CJJmTI5j0xQREVGdYrgxE23T1F6GGyIiojrFcGMm2k7FR1KyUVxWs4mjiIiI6OEx3JhJax9XNHFzRHGZBsev3rJ0cYiIiBoMhhszEQQB0bqmqZsWLg0REVHDwXBjRr0rmqbYqZiIqGG4cuUKBEHQLQhNlsFwY0ZRFUsxnE3PR9btEguXhoio4erbt69uOQBTGTt2LJ588km9fQEBAVCpVAgNDTXpe5FxGG7MyNvNEe38pDlu9l9k7Q0REXbNA/Z8WvVrez6VXrdicrkcvr6+sLOzrWnkqlpJvD5juDGze2crJiJq8GRyYNeHlQPOnk+l/bLqF4WsrbFjx2LPnj1YsmQJBEGAIAi4cuUKACAxMRGDBw+Gq6srfHx8MGrUKGRl3f33+tdff0XHjh3h5OQET09PPPbYYygsLMSsWbPw3//+F7///rvumrt3767ULLV7924IgoC//voLERERcHZ2RmRkJJKSkvTKOHfuXDRp0gRubm4YN24c3nnnHYSFhVV7T7du3cI//vEPeHt7w8nJCa1atcI333yje/3atWt47rnn4OHhARcXF0RERODw4cO615cvX46QkBA4ODigTZs2+P777/WuLwgCVqxYgSeeeAIuLi6YO3cuAGDz5s0IDw+HQqFAcHAwZs+ejfLyct15s2bNQvPmzeHo6Ah/f39MmjTJqM/KZMQGJi8vTwQg5uXl1cn77b2QKbaYvkXs/mGsqNFo6uQ9iYjM5c6dO2JiYqJ4584daYdGI4olt43b/vpAFGe6Sz+rel7TrYb/pubm5oq9evUSx48fL6pUKlGlUonl5eVienq66OXlJc6YMUM8d+6ceOLECfHxxx8X+/XrJ4qiKKanp4t2dnbiZ599JqakpIinTp0Sv/zyS7GgoEAsKCgQR4wYIQ4cOFB3zZKSEjElJUUEIMbHx4uiKIq7du0SAYg9evQQd+/eLZ49e1aMiYkRIyMjdeVbu3atqFAoxDVr1ohJSUni7NmzRXd3d7Fz587V3tPEiRPFsLAw8ejRo2JKSooYGxsrbtq0SRRFUSwoKBCDg4PFmJgYcd++fWJycrK4bt068cCBA6IoiuKGDRtEe3t78csvvxSTkpLEhQsXinK5XNy5c6fu+gDEJk2aiF9//bV46dIl8cqVK+K2bdtEd3d38dtvvxUvXbok/vnnn2JgYKA4a9YsURRF8ZdffhHd3d3FrVu3ilevXhUPHz4srlq1qkafkVal3697GPP9zVXBzay4TI3Os/9ESbkGsW/2RisfN7O/JxGRuVRatbm0EPjI3zKF+Xc64OBSo0P79u2LsLAwLF68WLfv/fffx+HDh7F9+3bdvmvXriEgIABJSUm4ffs2wsPDceXKFbRo0aLSNceOHYvc3Fz89ttvun1XrlxBUFAQ4uPjERYWht27d6Nfv37YsWMHHn30UQDA1q1bMWTIENy5cwcKhQI9e/ZEREQEvvjiC911oqOjcfv27Wo7Jg8fPhxeXl5Ys2ZNpddWrVqFt956C1euXIGHh0el16OiotChQwesWrVKt2/EiBEoLCzEH3/8AUCquZk8eTIWLVqkO6Z3794YNGgQZsyYodu3du1aTJs2Denp6fjss8+wcuVKnDlzBvb29lWW+0G4KriVUNjL0T1I+uXibMVERPXH8ePHsWvXLri6uuq2tm3bAgAuXbqEzp0749FHH0XHjh3x7LPPYvXq1bh1q3bzlnXq1En32M/PDwCQmZkJAEhKSkL37t31jr//+f0mTJiAn376CWFhYZg2bRoOHDigey0hIQFdunSpMtgAwLlz5xAVFaW3LyoqCufOndPbFxERoff8+PHjmDNnjt6f1/jx46FSqVBUVIRnn30Wd+7cQXBwMMaPH4+NGzfqNVnVJdvq8VRPxbTywr7kLMQl38RL0UGWLg4RkenYO0s1KMaKWwTsnQ/IHQB1KdD7bSD6TePf+yFoNBoMGzYMn3zySaXX/Pz8IJfLERsbiwMHDuDPP//E0qVL8e677+Lw4cMICjLu3/J7azIEQdC9//37tB7UqDJo0CBcvXoVf/zxh65WaOLEiViwYAGcnJweWJ6q3u/+fS4u+rViGo0Gs2fPxtNPP13pegqFQlfjFRsbix07duDVV1/F/PnzsWfPnlrX5NQWa27qgHYphkOXc1BSzqUYiMiGCILUNGTMdvBLKdj0exd476b0c+98ab8x17nvy9gQBwcHqNX6//527doVZ8+eRWBgIFq2bKm3ab/YBUFAVFQUZs+ejfj4eDg4OGDjxo3VXrM22rRpgyNHjujtO3bs2APP8/b2xtixY7F27VosXrxY18zUqVMnJCQkICcnp8rz2rVrh7i4OL19Bw4cQLt27Qy+X9euXZGUlFTpz6ply5aQyaQ44eTkhOHDh+Pzzz/H7t27cfDgQZw+ffqB92JqrLmpA2193eDl6ois2yU4fvUWIkO8LF0kIiLL0I6K6vcu0GeatE/7c9eH+s9NKDAwEIcPH8aVK1fg6uoKDw8PTJw4EatXr8bzzz+Pt99+G15eXrh48SJ++uknrF69GseOHcNff/2F/v37o0mTJjh8+DBu3rypCwGBgYHYvn07kpKS4OnpCaVSWauyvf766xg/fjwiIiIQGRmJdevW4dSpUwgODq72nPfffx/h4eHo0KEDSkpKsGXLFl25nn/+eXz00Ud48sknMW/ePPj5+SE+Ph7+/v7o1asX3n77bYwYMQJdu3bFo48+is2bN2PDhg3YsWOHwXK+//77GDp0KAICAvDss89CJpPh1KlTOH36NObOnYtvv/0WarUaPXr0gLOzM77//ns4OTlV2V/J3FhzUwcEQdANCedsxUTUoGnU+sFGq880ab/GPLXbb731FuRyOdq3bw9vb2+kpqbC398f+/fvh1qtxoABAxAaGoo33ngDSqUSMpkM7u7u2Lt3LwYPHozWrVvjP//5DxYuXIhBgwYBAMaPH482bdogIiIC3t7e2L9/f63K9o9//AMzZszAW2+9ha5duyIlJQVjx46t1KH2Xg4ODpgxYwY6deqE3r17Qy6X46efftK99ueff6JJkyYYPHgwOnbsiI8//hhyuTTM/sknn8SSJUswf/58dOjQAStXrsQ333yDvn37GizngAEDsGXLFsTGxqJbt27o2bMnPvvsM114adSoEVavXo2oqCh06tQJf/31FzZv3gxPT89a/bk8DI6WqiPrj1/D1F9OomNTJTa/Hl1n70tEZEqGRrOQ6Tz++OPw9fWtNP+MrTPVaCk2S9URbc3NmfQ85BSWwsPFwcIlIiKi+qCoqAgrVqzAgAEDIJfL8eOPP2LHjh2IjY21dNGsFpul6kgTdwXa+rpBFLkUAxER3SUIArZu3YqYmBiEh4dj8+bNWL9+PR577DFLF81qseamDkW39ML5jALsS76JYZ0tNOkVERHVK05OTg/szEvGYc1NHYppLQ0Jj0vOeuAcBkRERFQ7DDd1qHugBxzkMqTnFePSzUJLF4eIqNb4HzQyB1P9XjHc1CEnBzm6BTUGAMQl37RwaYiIjKcdTlxaWmrhkpAt0v5eaX/Paot9bupYTCtv7L+YjX3JWRgbxaUYiMi62NnZwdnZGTdv3oS9vb1uZlqih6XRaHDz5k04OzvDzu7h4gnDTR2LbikNCT94ORul5Ro42PEfBiKyHoIgwM/PDykpKbh69aqli0M2RiaToXnz5pXWuTIWw00da+/nDk8XB2QXliI+9RZ6BNf9zI1ERA/DwcEBrVq1YtMUmZyDg4NJagMZbuqYTCYgqqUXNp1Mx77kLIYbIrJKMpmMMxRTvcU2EQvQzla8j5P5ERERmRzDjQXEtJLmuzl1LRe5RazWJSIiMiWGGwvwVSrQqolrxVIM2ZYuDhERkU1huLEQbe1N3EXOd0NERGRKDDcWou13s/cCl2IgIiIyJYYbC+kR7AF7uYDruXeQksWlGIiIiEyF4cZCnB3sENHCAwAQx1FTREREJsNwY0HR9zRNERERkWkw3FhQ74pOxYcuZ6NMrbFwaYiIiGwDw40FdfB3R2Nne9wuKUdCWq6li0NERGQTGG4sSLsUAwDsu8Ah4URERKbAcGNh2qYpLsVARERkGgw3FqbtVHwyLRd5RWUWLg0REZH1Y7ixMP9GTgjxdoFGBA5eZu0NERHRw2K4qQe0SzHsTWa4ISIielgMN/WAdimGfcnsVExERPSwGG7qgZ7BnrCXC0jLuYOr2VyKgYiI6GEw3NQDLo526NK8MQA2TRERET0shpt6ondF01Qcm6aIiIgeCsNNPRFd0an4wMVslHMpBiIiolpjuKknOjZVQulkj4KScpy8lmvp4hAREVkthpt6Qi4TEK1dioH9boiIiGqN4aYeiW7FcENERPSwGG7qEW3NTUJaLvKLuRQDERFRbTDc1CMBHs4I9nKBWiPi4KVsSxeHiIjIKlk83CxbtgxBQUFQKBQIDw/Hvn37DB7/5Zdfol27dnByckKbNm3w3Xff1VFJ60Y0ZysmIiJ6KBYNN+vWrcPkyZPx7rvvIj4+HjExMRg0aBBSU1OrPH758uWYMWMGZs2ahbNnz2L27NmYOHEiNm/eXMclNx/tOlNx7HdDRERUK4IoiqKl3rxHjx7o2rUrli9frtvXrl07PPnkk5g3b16l4yMjIxEVFYX58+fr9k2ePBnHjh1DXFxcle9RUlKCkpIS3fP8/HwEBAQgLy8P7u7uJrwb0ygoLkPYnFioNSL2TeuHAA9nSxeJiIjI4vLz86FUKmv0/W2xmpvS0lIcP34c/fv319vfv39/HDhwoMpzSkpKoFAo9PY5OTnhyJEjKCurugPuvHnzoFQqdVtAQIBpbsBM3BT26Nq8EQCOmiIiIqoNi4WbrKwsqNVq+Pj46O338fFBRkZGlecMGDAAX331FY4fPw5RFHHs2DGsWbMGZWVlyMqqOgjMmDEDeXl5ui0tLc3k92Jq2qYp9rshIiIynsU7FAuCoPdcFMVK+7Tee+89DBo0CD179oS9vT2eeOIJjB07FgAgl8urPMfR0RHu7u56W32n7VS8/2IW1BqLtRoSERFZJYuFGy8vL8jl8kq1NJmZmZVqc7ScnJywZs0aFBUV4cqVK0hNTUVgYCDc3Nzg5eVVF8WuE52aKuGusEN+cTlOcSkGIiIio1gs3Dg4OCA8PByxsbF6+2NjYxEZGWnwXHt7ezRr1gxyuRw//fQThg4dCpnM4pVQJmMnlyEyhLMVExER1YZFE8GUKVPw1VdfYc2aNTh37hzefPNNpKam4pVXXgEg9ZcZPXq07vgLFy5g7dq1SE5OxpEjR/Dcc8/hzJkz+Oijjyx1C2YT05rz3RAREdWGnSXffOTIkcjOzsacOXOgUqkQGhqKrVu3okWLFgAAlUqlN+eNWq3GwoULkZSUBHt7e/Tr1w8HDhxAYGCghe7AfHpXdCqOT81FQXEZ3BT2Fi4RERGRdbDoPDeWYMw4eUvrM38XrmYXYfXoCDzevup+SERERA2BVcxzQw8WUzFqKo5NU0RERDXGcFOPRbfUznfDTsVEREQ1xXBTj/UK8YRcJuByViGu3SqydHGIiIisAsNNPaZ0skdYQCMAXEiTiIiophhu6rnolpzvhoiIyBgMN/Vc74r5bvZf4lIMRERENcFwU891btYIbo52yC0qw5nreZYuDhERUb3HcFPP2cll6BXiCYCzFRMREdUEw40ViGnNIeFEREQ1xXBjBWIqOhWfSL2FwpJyC5eGiIiofmO4sQItPJ0R4OGEMrWIwynZli4OERFRvcZwYwUEQdDNVrz3ApumiIiIDGG4sRK9W2nnu2GnYiIiIkMYbqxEZIgXZAJw6WYh0nPvWLo4RERE9RbDjZVQOtujU7NGALgUAxERkSEMN1ZE1zR1keGGiIioOgw3ViS6ldSpOC75JjRcioGIiKhKDDdWpEvzRnBxkONWURnOpudbujhERET1EsONFbGXy9ArRNs0xVFTREREVWG4sTIx2n43nO+GiIioSgw3VkYbbo5fvYWiUi7FQEREdD+GGysT5OWCpo2cUKrW4HBKjqWLQ0REVO8w3FgZQRDYNEVERGQAw40VitEOCWenYiIiokoYbqxQZIgnBAG4cOM2MvKKLV0cIiKieoXhxgo1dnFAp6ZKAEAcZysmIiLSw3BjpbRNU1wlnIiISB/DjZWKruhUHJecxaUYiIiI7sFwY6W6Nm8MZwc5sgtLcS6DSzEQERFpMdxYKQc7GXoGewIA9iWz3w0REZEWw40V0813w343REREOgw3VkzbqfjolVu4U6q2cGmIiIjqB4YbKxbi7QI/pQKl5RocucKlGIiIiACGG6t271IMcWyaIiIiAsBwY/WidfPdsFMxERERwHBj9aJbekEQgPMZBcjM51IMREREDDdWzsPFAaH+XIqBiIhIi+HGBkTrhoQz3BARETHc2ICYe8KNKHIpBiIiatgYbmxAeIvGcLKXI+t2Cc5nFFi6OERERBbFcGMDHO3k6BHsAYCzFRMRETHc2IgYDgknIiICwHBjM7T9bo6k5KC4jEsxEBFRw1WrcLNv3z688MIL6NWrF65fvw4A+P777xEXF2fSwlHNtWriCh93R5SUa3Dsyi1LF4eIiMhijA4369evx4ABA+Dk5IT4+HiUlJQAAAoKCvDRRx+ZvIBUM4IgILqltmmK/W6IiKjhMjrczJ07FytWrMDq1athb2+v2x8ZGYkTJ06YtHBknN6tpaapvex3Q0REDZjR4SYpKQm9e/eutN/d3R25ubmmKBPVUlRLKdycU+XjZkGJhUtDRERkGUaHGz8/P1y8eLHS/ri4OAQHB5ukUFQ7Xq6OaO/nDgDYz6UYiIiogTI63Lz88st44403cPjwYQiCgPT0dPzwww9466238Oqrr5qjjGSEmNZcioGIiBo2O2NPmDZtGvLy8tCvXz8UFxejd+/ecHR0xFtvvYXXXnvNHGUkI8S09MbKPZexL/kmRFGEIAiWLhIREVGdMircqNVqxMXFYerUqXj33XeRmJgIjUaD9u3bw9XV1VxlJCNEBDaGo50MmQUluHDjNtr4ulm6SERERHXKqGYpuVyOAQMGIC8vD87OzoiIiED37t0ZbOoRhb0cPYI9AXBIOBERNUxG97np2LEjLl++bI6ykInEtGS/GyIiariMDjcffvgh3nrrLWzZsgUqlQr5+fl6G1metlPx4ZRslJRzKQYiImpYjO5QPHDgQADA8OHD9TqrajuvqtX8MrW0Nj5u8HZzxM2CEhy/cguRFTU5REREDYHR4WbXrl3mKAeZkCAIiGnphQ3x17E3OYvhhoiIGhSjm6X69OljcDPWsmXLEBQUBIVCgfDwcOzbt8/g8T/88AM6d+4MZ2dn+Pn54cUXX0R2drbR72vrtE1TcRfZqZiIiBqWWq0Knpubi4ULF2LcuHEYP348Fi1ahLy8PKOvs27dOkyePBnvvvsu4uPjERMTg0GDBiE1NbXK4+Pi4jB69Gi89NJLOHv2LH755RccPXoU48aNq81t2DTtUgxnrucj+zaXYiAioobD6HBz7NgxhISEYNGiRcjJyUFWVhY+++wzhISEGL1w5meffYaXXnoJ48aNQ7t27bB48WIEBARg+fLlVR5/6NAhBAYGYtKkSQgKCkJ0dDRefvllHDt2zNjbsHlN3BRoWzHHTRyXYiAiogbE6HDz5ptvYvjw4bhy5Qo2bNiAjRs3IiUlBUOHDsXkyZNrfJ3S0lIcP34c/fv319vfv39/HDhwoMpzIiMjce3aNWzduhWiKOLGjRv49ddfMWTIkGrfp6SkpMGO6IppVdE0xSHhRETUgNSq5mb69Omws7vbF9nOzg7Tpk0zqgYlKysLarUaPj4+evt9fHyQkZFR5TmRkZH44YcfMHLkSDg4OMDX1xeNGjXC0qVLq32fefPmQalU6raAgIAal9HaxbTyBiDNdyOKooVLQ0REVDeMDjfu7u5V9olJS0uDm5vxU/3fv/aRofWQEhMTMWnSJLz//vs4fvw4tm3bhpSUFLzyyivVXn/GjBnIy8vTbWlpaUaX0Vp1D/KAg50MGfnFuHTztqWLQ0REVCeMHgo+cuRIvPTSS1iwYAEiIyMhCALi4uLw9ttv4/nnn6/xdby8vCCXyyvV0mRmZlaqzdGaN28eoqKi8PbbbwMAOnXqBBcXF8TExGDu3Lnw8/OrdI6joyMcHR2NuEPbobCXo3ugB+IuZmHvhSy0bMJ1poiIyPYZHW4WLFgAQRAwevRolJeXAwDs7e0xYcIEfPzxxzW+joODA8LDwxEbG4unnnpKtz82NhZPPPFElecUFRXpNYcB0npXANjsUo2YVl6Iu5iFfck38c/oIEsXh4iIyOyMbpZycHDAkiVLcOvWLSQkJCA+Ph45OTlYtGiR0TUkU6ZMwVdffYU1a9bg3LlzePPNN5GamqprZpoxYwZGjx6tO37YsGHYsGEDli9fjsuXL2P//v2YNGkSunfvDn9/f2NvpUHQ9rs5dDmHSzEQEVGDYHTNTV5eHtRqNTw8PNCxY0fd/pycHNjZ2cHd3b3G1xo5ciSys7MxZ84cqFQqhIaGYuvWrWjRogUAQKVS6fXvGTt2LAoKCvDFF19g6tSpaNSoER555BF88sknxt5Gg9HW1w1erg7Iul2KE1dz0SvE09JFIiIiMitBNLI9Z9CgQRg2bBheffVVvf0rVqzApk2bsHXrVpMW0NTy8/OhVCqRl5dnVBCzZpN/isdvCemY2C8Ebw9oa+niEBERGc2Y72+jm6UOHz6Mfv36Vdrft29fHD582NjLUR2IvmdIOBERka0zOtyUlJToOhLfq6ysDHfu3DFJoci0tJP5nb6eh1uFpRYuDRERkXkZHW66deuGVatWVdq/YsUKhIeHm6RQZFo+7gq08XGDKAL7L7H2hoiIbJvRHYo//PBDPPbYYzh58iQeffRRAMBff/2Fo0eP4s8//zR5Ack0olt5IelGAfZdyMLQThxZRkREtsvompuoqCgcPHgQAQEB+Pnnn7F582a0bNkSp06dQkxMjDnKSCagW2fqIpdiICIi22Z0zQ0AhIWF4YcffjB1WciMegR5wkEuw/XcO7icVYgQb1dLF4mIiMgsjK65OXHiBE6fPq17/vvvv+PJJ5/Ev//9b5SWsrNqfeXkIEdEYGMAwL4LNy1cGiIiIvMxOty8/PLLuHDhAgDg8uXLGDlyJJydnfHLL79g2rRpJi8gmY52tuK4i+xUTEREtsvocHPhwgWEhYUBAH755Rf06dMH//d//4dvv/0W69evN3X5yIS0/W4OXspGmVpj4dIQERGZh9HhRhRFaDTSF+OOHTswePBgAEBAQACyslgjUJ+193OHh4sDCkvViE/NtXRxiIiIzMLocBMREYG5c+fi+++/x549ezBkyBAAQEpKCnx8fExeQDIdmUxAVEup9mZfMvvdEBGRbTI63CxevBgnTpzAa6+9hnfffRctW7YEAPz666+IjIw0eQHJtLRNU3u5FAMREdkoo4eCd+rUSW+0lNb8+fMhl8tNUigyH91SDNdykVtUikbODhYuERERkWkZXXNTHYVCAXt7e1NdjszET+mElk1coRGBA5eyLV0cIiIikzNZuCHroa294SrhRERkixhuGiBdv5sLN7kUAxER2RyGmwaoR5An7OUCrufewZXsIksXh4iIyKSMDje7d+82QzGoLrk42iG8hbQUQxyHhBMRkY0xOtwMHDgQISEhmDt3LtLS0sxRJqoD2qUYOCSciIhsjdHhJj09HW+88QY2bNiAoKAgDBgwAD///DMXzbQy2n43h7gUAxER2Rijw42HhwcmTZqEEydO4NixY2jTpg0mTpwIPz8/TJo0CSdPnjRHOcnEOvgr0cjZHgUl5TiZlmvp4hAREZnMQ3UoDgsLwzvvvIOJEyeisLAQa9asQXh4OGJiYnD27FlTlZHMQH7PUgxsmiIiIltSq3BTVlaGX3/9FYMHD0aLFi2wfft2fPHFF7hx4wZSUlIQEBCAZ5991tRlJRPrXdE0xU7FRERkS4xefuH111/Hjz/+CAB44YUX8OmnnyI0NFT3uouLCz7++GMEBgaarJBkHtEVnYoT0nKRd6cMSifOME1ERNbP6HCTmJiIpUuX4plnnoGDQ9XrEvn7+2PXrl0PXTgyr6aNnBDs7YLLNwtx8FIWBob6WbpIRERED83ocPPXX389+KJ2dujTp0+tCkR1K6alFy7fLMS+ZIYbIiKyDUb3uZk3bx7WrFlTaf+aNWvwySefmKRQVHe0891wnSkiIrIVRoeblStXom3btpX2d+jQAStWrDBJoaju9AzxhJ1MQGpOEa5mF1q6OERERA/N6HCTkZEBP7/KzRfe3t5QqVQmKRTVHVdHO3RtLi3FwNobIiKyBUaHm4CAAOzfv7/S/v3798Pf398khaK6pZ2teB+HhBMRkQ0wukPxuHHjMHnyZJSVleGRRx4BIHUynjZtGqZOnWryApL5RbfywsLYCzhwKRvlag3s5FwsnoiIrJfR4WbatGnIycnBq6++qltPSqFQYPr06ZgxY4bJC0jm16lZI7gr7JBfXI6T1/J0K4YTERFZI6P/iy4IAj755BPcvHkThw4dwsmTJ5GTk4P333/fHOWjOiCXCYjWzVbMfjdERGTdat3+4Orqim7duiE0NBSOjo6mLBNZQHRL7ZBw9rshIiLrZnSzFAAcPXoUv/zyC1JTU3VNU1obNmwwScGobmk7Fcen5SK/uAzuCi7FQERE1snompuffvoJUVFRSExMxMaNG1FWVobExETs3LkTSqXSHGWkOhDg4YwgLxeoNSIOXcq2dHGIiIhqzehw89FHH2HRokXYsmULHBwcsGTJEpw7dw4jRoxA8+bNzVFGqiPRLbVDwtnvhoiIrJfR4ebSpUsYMmQIAMDR0RGFhYUQBAFvvvkmVq1aZfICUt3RNk3FJt7A7wnXcfBSNtQa0cKlIiIiMo7RfW48PDxQUFAAAGjatCnOnDmDjh07Ijc3F0VFRSYvINWd2yXlAICM/GK88VMCAMBPqcDMYe25qCYREVkNo2tuYmJiEBsbCwAYMWIE3njjDYwfPx7PP/88Hn30UZMXkOrGtjMqTP35ZKX9GXnFmLD2BLad4dIaRERkHYyuufniiy9QXFwMAJgxYwbs7e0RFxeHp59+Gu+9957JC0jmp9aImL05EVU1QIkABACzNyfi8fa+kMuEOi4dERGRcYyquSkvL8fmzZshk0mnyWQyTJs2DZs2bcJnn32Gxo05s601OpKSA1VecbWviwBUecU4kpJTd4UiIiKqJaPCjZ2dHSZMmICSkhJzlYcsILOg+mBTm+OIiIgsyeg+Nz169EB8fLw5ykIW0sRNYdLjiIiILMnoPjevvvoqpk6dimvXriE8PBwuLi56r3fq1MlkhaO60T3IA35KBTLyiqvsdwMAvu4KdA/yqNNyERER1YYgiqJRE5lo+9voXUQQIIoiBEGAWq02WeHMIT8/H0qlEnl5eXB3d7d0ceqNbWdUmLD2BABUGXBa+7ji94nRcHKQ123BiIiIYNz3t9Hh5urVqwZfb9GihTGXq3MMN9XbdkaF2ZsT9ToXe7o6oLC4HMXlGkS19MTXY7pBYc+AQ0REdcus4cbaMdwYptaIOJKSg8yCYjRxk5qiEtJuYfTXR1BYqkZMKy+sHh3BgENERHXKrOHmu+++M/j66NGjjblcnWO4qZ2jV3IwZs0RFJWq0bu1N1aNCmfAISKiOmPWcHP/XDZlZWUoKiqCg4MDnJ2dkZNTv+dCYbipvcOXszH2m6O4U6ZGvzbeWDEqHI52DDhERGR+xnx/Gz0U/NatW3rb7du3kZSUhOjoaPz444+1LjTVfz2CPbFmbDco7GXYlXQTr649gZLy+t2BnIiIGh6jw01VWrVqhY8//hhvvPGGKS5H9VivEKlTsaOdDH+dz8TEH+JRWq6xdLGIiIh0TBJuAEAulyM9Pd1Ul6N6LKqlF74aEwEHOxl2nLuB1388gTI1Aw4REdUPRk/it2nTJr3noihCpVLhiy++QFRUlMkKRvVbTCtvrB4dgfHfHcP2szcw6cd4fP58F9jLTZaXiYiIauWhJ/ETBAHe3t545JFHsHDhQvj5+Zm0gKbGDsWmtSspEy9/dxylag2GdPLDkpFhsGPAISIiEzPm+9vomhuNhs0PdFe/Nk2w/IWueGXtcfxxSgW5IOCzEZ0ZcIiIyGL4DUQP7dF2Plj2j3DYyQRsOpmOt345CbWmQc0NSURE9YjR4eZvf/sbPv7440r758+fj2effdboAixbtgxBQUFQKBQIDw/Hvn37qj127NixEASh0tahQwej35dM6/H2Pvji711hJxPwW0I63v6VAYeIiCzD6HCzZ88eDBkypNL+gQMHYu/evUZda926dZg8eTLeffddxMfHIyYmBoMGDUJqamqVxy9ZsgQqlUq3paWlwcPDo1ahikxvYKgvlj7fBXKZgA0nrmP6+lPQMOAQEVEdMzrc3L59Gw4ODpX229vbIz8/36hrffbZZ3jppZcwbtw4tGvXDosXL0ZAQACWL19e5fFKpRK+vr667dixY7h16xZefPHFat+jpKQE+fn5ehuZz6COfljyXBjkMgG/Hr+GGRtOM+AQEVGdMjrchIaGYt26dZX2//TTT2jfvn2Nr1NaWorjx4+jf//+evv79++PAwcO1OgaX3/9NR577DGDK5HPmzcPSqVStwUEBNS4jFQ7Qzv5Y9HIMMgEYN2xNLz72xkGHCIiqjNGj5Z677338Mwzz+DSpUt45JFHAAB//fUXfvzxR/zyyy81vk5WVhbUajV8fHz09vv4+CAjI+OB56tUKvzvf//D//3f/xk8bsaMGZgyZYrueX5+PgNOHRje2R8ajYgpPyfgxyOpkMuAD54IhSAIli4aERHZOKPDzfDhw/Hbb7/ho48+wq+//gonJyd06tQJO3bsQJ8+fYwuwP1fdqIo1ugL8Ntvv0WjRo3w5JNPGjzO0dERjo6ORpeLHt6TXZpCI4qY+stJrD2UCpkgYPbwDgw4RERkVkaHGwAYMmRIlZ2KjeHl5QW5XF6pliYzM7NSbc79RFHEmjVrMGrUqCr7/1D98XTXZlBrRExbfwrfHbwKmSBg5rD2DDhERGQ2Rve5OXr0KA4fPlxp/+HDh3Hs2LEaX8fBwQHh4eGIjY3V2x8bG4vIyEiD5+7ZswcXL17ESy+9VOP3I8t5NiIAnzzdCQDw7YErmPvHORg5MTYREVGNGR1uJk6ciLS0tEr7r1+/jokTJxp1rSlTpuCrr77CmjVrcO7cObz55ptITU3FK6+8AkDqLzN69OhK53399dfo0aMHQkNDjS0+WciIbgGY93RHAMDXcSmY97/zDDhERGQWRjdLJSYmomvXrpX2d+nSBYmJiUZda+TIkcjOzsacOXOgUqkQGhqKrVu36kY/qVSqSnPe5OXlYf369ViyZImxRScLe757c6g1Iv7z2xms2nsZMkHA9IFt2ERFREQmZfTCmZ6entiyZQt69eqlt//AgQMYMmQIbt26ZdICmhoXzrS87w5ewfu/nwUATOwXgrf6M+AQEZFhxnx/G90s9fjjj2PGjBnIy8vT7cvNzcW///1vPP7448aXlhqc0b0CMWuYNCfSl7suYdGOZAuXiIiIbInRzVILFy5E79690aJFC3Tp0gUAkJCQAB8fH3z//fcmLyDZprFRQVCLwAdbEvH5X8mQCwLeeKyVpYtFREQ2wOhw07RpU5w6dQo//PADTp48CScnJ7z44ot4/vnnYW9vb44yko16KToIGo2ID7eew6IdFyCXAa89woBDREQPp1bz3Li4uOBf//qXqctCDdD43sFQiyI+/t95LPjzAmQyAa/2bWnpYhERkRWrVbgBpFFTqampKC0t1ds/fPjwhy4UNSyv9AmBWiNi/vYkfLotCXJBwMt9QixdLCIislJGh5vLly/jqaeewunTpyEIgm6uEu1oF7VabdoSUoMwsV9LaDQiFsZewLz/nYdcJmBcTLCli0VERFbI6NFSb7zxBoKCgnDjxg04Ozvj7Nmz2Lt3LyIiIrB7924zFJEaitcfbYXJFZ2K5/5xDl/HpVi4REREZI2Mrrk5ePAgdu7cCW9vb8hkMshkMkRHR2PevHmYNGkS4uPjzVFOaiDeeLQV1BoRS3dexAdbEiEXpJFVRERENWV0zY1arYarqysAafHL9PR0AECLFi2QlJRk2tJRgyMIAqY83hqv9pX63MzanIjvD16xbKGIiMiqGF1zExoailOnTiE4OBg9evTAp59+CgcHB6xatQrBwewjQQ9PEAS8PaAN1KKIlXsu473fz0ImE/CPHi0sXTQiIrICRoeb//znPygsLAQAzJ07F0OHDkVMTAw8PT2xbt06kxeQGiZBEPDOwLbQaESs3peCdzeegUwQ8Hz35pYuGhER1XNGry1VlZycHDRu3Ngq1gfi2lLWRRRFfLDlHNbslzoXf/pMJ4zoFmDhUhERUV0z69pSVfHw8LCKYEPWRxAEvDe0HcZGBgIApm84hV+PX7NsoYiIqF4zSbghMidBEDBzWHuM7tUCogi8/etJbIxnwCEioqox3JBVEAQBs4d3wD96NIcoAlN/PonfE65bulhERFQPMdyQ1RAEAR88EYrnuwdAIwJvrkvA5pPpli4WERHVMww3ZFVkMgEfPtkRIyOkgDN5XQL+OKWydLGIiKgeYbghqyOTCZj3dEf8LbwZ1BoRk36Kx7YzDDhERCRhuCGrJJMJ+OSZTni6S1OoNSJe+794bD+bYeliERFRPcBwQ1ZLLhMw/9nOeDLMH+UaEa/93wnsSLxh6WIREZGFMdyQVZPLBCx4tjOGdfZHmVrEhB+OY+f5G1BrRBy8lI3fE67j4KVsqDUPPVclERFZCaOXXyCqb+zkMiwa0RkaUcQfp1T413fH4aaww62iMt0xfkoFZg5rj4GhfhYsKRER1QXW3JBNsJPLsHhkGLoENEK5RtQLNgCQkVeMCWtPsOMxEVEDwHBDNkMmCFDlFVf5mrZRavbmRDZRERHZOIYbshlHUnKQkV91uAGkgKPKK8aRlJy6KxQREdU5hhuyGZkF1Qeb2hxHRETWieGGbEYTN0WNjtt6WoUbBmp4iIjIujHckM3oHuQBP6UCwgOO2372Bnp/uguzN59lLQ4RkQ1iuCGbIZcJmDmsPQBUCjhCxTb50VaIaNEYJeUafLP/CmI+2YUPtiTiZkFJXReXiIjMRBBFsUENHcnPz4dSqUReXh7c3d0tXRwyg21nVJi9OVFv5NS989yIooi4i1lYFHsBJ1JzAQAKexlG9WyBl/uEwMvV0UIlJyKi6hjz/c1wQzZJrRFxJCUHmQXFaOKmQPcgD8hl+vU5oihib7IUchLScgEATvZyjI5sgZd7h8DDxcECJScioqow3BjAcEP3E0URuy/cxOLYCzh5LQ8A4Owgx5jIQPwrJhiNGXKIiCyO4cYAhhuqjiiK2Hk+E4t3JOP0dSnkuDjIMTYqEONjgtHImSGHiMhSGG4MYLihBxFFETvOZWLxjgs4m54PAHB1tMOLUYEYFx0MpbO9hUtIRNTwMNwYwHBDNSWKIv5MvIHFO5JxTiWFHDdHO/wzOgj/jA6C0okhh4iorjDcGMBwQ8bSaET8mZiBxTuScT6jAADgprDDuOhgvBgdCHcFQw4Rkbkx3BjAcEO1pdGI+N+ZDCz56wIu3LgNAHBX2GF8TDDGRgXCjSGHiMhsGG4MYLihh6XRiPjjtApL/krGxUwp5DRytsf4mGCMiQyEq6OdhUtIRGR7GG4MYLghU1FrRGw5lY4lfyXj8s1CAEBjZ3uM7x2MMb0C4cKQQ0RkMgw3BjDckKmpNSI2n0zH538l43KWFHI8XBzwr97BGN2rBZwdGHKIiB4Ww40BDDdkLuVqDTZVhJwr2UUAAC9XB7zcOwQv9GwBJwe5hUtIRGS9GG4MYLghcytXa7Ax/jqW7ryI1BxtyHHEK32C8ULPFlDYM+QQERmL4cYAhhuqK2VqDTaeuI7Pdybj2q07AABvN0dM6BOCv/dozpBDRGQEhhsDGG6orpWpNVh//BqW7ryI67lSyGni5ohX+4bgue4MOURENcFwYwDDDVlKabkGvx6/hi933Q05vu4KvNovBCO7BcDRjiGHiKg6DDcGMNyQpZWUq/HLMSnkqPKKAQB+SgUm9muJEREBcLCT6Y5Va0QcSclBZkExmrgp0D3IA3KZYKmiExFZDMONAQw3VF+UlKux7mgavtx1ETfySwAATRs5YWK/lvhbeDPsPH8Dszcn6gIQIIWgmcPaY2Con6WKTURkEQw3BjDcUH1TXKbGT0dSsWz3JWQWSCHHw9kBOUWllY7V1tksf6ErAw4RNSjGfH/LDL5KD7ZrHrDn06pf2/Op9DqRAQp7OcZGBWHvtH54f2h7eLlWHWwAQPs/kdmbE6HWNKj/lxAR1RjDzcOSyYFdH1YOOHs+lfbL2EmUakZhL8c/o4Ow8NnOBo8TAajyinEkJaduCkZEZGU4L/zD6jNN+rnrQ+B2JjDwYyDuM+l5v3fvvk5UQ7l3ymp03P6LWegW2Bh2cv4fhYjoXgw3ptBnGqAuBfbOB46ulvZ1fBaInGTZcpFVauKmqNFxX+y6iP87korH2/lgYKgvIlt6cjg5ERHYodh0F1adBFb21t9n7wK0egxoNxxo9TigUJru/chmqTUioj/ZiYy8YlT3l9PJXg4HOwF5d8p1+1wd7fBI2yYYGOqLPq29uSo5EdkUjpYywGzhRtfHxg7QlAOO7kBJ/t3XZfZAcF+g3VCgzRDA1dt07002Z9sZFSasPQEAegHn3tFSj7XzwZErOdh+JgPbzmbohpMDgKOdDDGtvDEw1BePtWuCRs4OdVd4IiIzYLgxwCzhRhtstH1stM/DXwScPYBzm4GsC3ePF2RAQE+g3TAp7DRqbppykE3ZdkZV43luNBoRJ6/lYtvZDGw7k4GrFauSA4BcJqBXsCcGhPpiQHsfNHGvWbMXEVF9wnBjgMnDzf3Bprr9N5OkkHN+C5Aer38N305S01W7oYB3W0DgDLQkqc0MxaIoIulGAbadkYLO+YwC3WuCAHRt3hgDO/hiQAdfNPd0NvctEBGZhFWFm2XLlmH+/PlQqVTo0KEDFi9ejJiYmGqPLykpwZw5c7B27VpkZGSgWbNmePfdd/HPf/6zRu9n8nCza5403LuqUVF7PgU0aqDfDP39uWnA+T+koHN1PyBq7r7m2RJoO1QKO/5dABlHwtDDuZJViO1npaar+NRcvdfa+7ljYKgvBob6olUTVwgM1kRUT1lNuFm3bh1GjRqFZcuWISoqCitXrsRXX32FxMRENG9edVPNE088gRs3bmDu3Llo2bIlMjMzUV5ejsjIyBq9Z72bobgwC0j6n1Src3mXNOpKy81fqs1pOxRoEQXI2UGUHk5GXjFiE6Wgc+hyjt5EgMFeLujfQQo6nZspGXSIqF6xmnDTo0cPdO3aFcuXL9fta9euHZ588knMm1d5Zt9t27bhueeew+XLl+Hh4VGr96x34eZexfnAxVjg3BYg+U+g9Pbd15waA20GS0EnpB9g72S5cpJNuFVYih3nbmD72QzsTc5CafndGkQ/pQIDKpquOJcOEdUHVhFuSktL4ezsjF9++QVPPfWUbv8bb7yBhIQE7Nmzp9I5r776Ki5cuICIiAh8//33cHFxwfDhw/HBBx/AyanqL/uSkhKUlNwdRZKfn4+AgID6GW7uVVYMpOyRanSStgJF2Xdf4xBzMrHbJeXYnZSJbWcysOt8JgpL1brXPFwcOJcOEVmcMeHGYu0cWVlZUKvV8PHx0dvv4+ODjIyMKs+5fPky4uLioFAosHHjRmRlZeHVV19FTk4O1qxZU+U58+bNw+zZs01efrOzVwCtB0ibuhxIOyQFnXNbgPxrQOLv0sYh5mQCro52GNrJH0M7+aO4TI39F7Ow7UwGYs/dQE5hKdYdS8O6Y2lwdbRDv7ZNMLCDL/q24Vw6RFQ/WazmJj09HU2bNsWBAwfQq1cv3f4PP/wQ33//Pc6fP1/pnP79+2Pfvn3IyMiAUinVVmzYsAF/+9vfUFhYWGXtjdXW3FRHFKXRVue3SEEnK+meFwWgea+7/XQat7BYMck2lKs11c6l42AnQ+8azqVTm1FfRET3soqaGy8vL8jl8kq1NJmZmZVqc7T8/PzQtGlTXbABpD46oiji2rVraNWqVaVzHB0d4ejoaNrCW5IgAE27Stuj7wM3LwDnN0u1OunxQOoBadv+bw4xp4dmJ5chMsQLkSFemDmsQ6W5dHacu4Ed524YnEvHmPl6iIhMweIdisPDw7Fs2TLdvvbt2+OJJ56oskPxqlWrMHnyZGRmZsLV1RUA8Pvvv+Ppp5/G7du3q+13c6963aH4YdVoiPkwwL8rh5jTQ6npXDoKezne//1MpWUk7p1pmQGHiGrCKjoUA3eHgq9YsQK9evXCqlWrsHr1apw9exYtWrTAjBkzcP36dXz33XcAgNu3b6Ndu3bo2bMnZs+ejaysLIwbNw59+vTB6tWra/SeNh1u7qUdYn5+C3BpZ+Uh5m2HSEFHO8S8NvP1EFUwNJdOdQQAvkoF4qY/wiYqInogq2iWAoCRI0ciOzsbc+bMgUqlQmhoKLZu3YoWLaS+IiqVCqmpqbrjXV1dERsbi9dffx0RERHw9PTEiBEjMHfuXEvdQv3l4gV0HSVtJQVAcqzUdJX8J1CQLq1efnT13SHm5aXAmV+kc6ubaZmoGoFeLni5Twhe7hOim0tn3dE0nEnPr/YcEYCq4tgBHXw5rw4RmYzFZyiuaw2m5qY6hoaYy+wBTRnQ7glg+OfAkVVVLy1BVAO/J1zHGz8l1OhYN4Udgr1cEOTlgmBvVwRVPA7ycuGILCICYEU1N2QBVQ4x3yKFnfxr0jHnfpc2APALA9ybAlnJUr8d/u+aaqiJW80X6CwoLsfJa3k4eS2v0mu+7gop6Hi7INjLBcHeLgjyckWzxk6w5+SCRFQF1tyQRBQBVYIUcvZ9BlTqAgqpCatZdyCgGxDQQ+qY7Oha1yUlK6HWiIj+ZCcy8oqr+m3S9bnZMaUPrufeweWbhUjJKsTlm7eRkiU9zi4sreJMiZ1MQHNP50o1PsFeLvB2c2QzF5GNYc0NGU8QpIU6k2MBiIDcHlCXAc17AhCkYeZ3bgHJ26UNAAQZ4NNBCjrNugMB3YHGgazdIQCAXCZg5rD2mLD2BATox2Xtb8jMYe3h4miH1j5uaO3jVukauUWluqCjCz9ZhUjJuo3iMg0u35T238/V0U6vaSvY2wXBXq4I9HKGm8K+1vfE+XqIrANrbuiuezsP95mm/zxqMnDjNJB25O6mbca6l4v33aAT0F0KTFwHq0Ezxzw3Go2IjPziu2HnZiEuZ0k1Pmk5RdAY+FetiZujLvBINT2uCPJ2QUBjZzjYVd/Mxfl6iCzLaoaCWwLDTTXuDzYP2g8AedeBa0eAtKPSz/QEqUPyvWR20mSCAT2k5qxm3QFlM9buNDB1WeNRWq5Bas7dmh5trc/lrEJk3S6p9jy5TEBAYye9Ds3aGp/41Ft49YcTnK+HyIIYbgxguKmGKea5KSsGVCeBtMMVoecIcPtG5ePc/O8GnYAegF8nwM6GZpGmeiu/uAwpes1bd/v4FN2zWOj97m9Wu/81ztdDZH4MNwYw3NQhUQRyU4FrR6XAk3YEyDgNiPd9icgdAf8woFm3iuasHoCbr0WKTA2TKIrILCjBJW1n5nsC0NXsQoPNXFqv9QvBM+EBaOHhDBlDDpHJMdwYwHBjYaWFUudkbb+da0f059rRUja/22+nWTfAt6PUyZmojm04cQ1Tfj5Z4+PdFHbo2FSJTs0aoVMzJTo2VaJZYyeO3iJ6SBwtRfWXgwsQGC1tgFS7k3P5btBJOwJkJgJ5qdJ25lfpODsnabHQZhXD0AO6S7Mw34/LSJCJ+Slr1iG+ZRMXpOXcQUFxOQ5cysaBS3dDe2Nne3Rs1gidmirRsZkSnZop4euuYOAhMhOGG7IsQQA8Q6Qt7HlpX3E+cP343easa0eB4jxpMdCr+++e6xGsP+9Ok/ZSsNn1ofQ6l5EgE+ge5AE/peKB8/Vsn9wHGlFE8o3bOH09F6eu5eH09TycU+XjVlEZ9l64ib0XburO83J11NXsdGomhR5jJj4kouqxWYrqP40GyE6+228n7QiQlVT5OAdXoGk4oCmXQlD0m8BjswyP+CKqgW1nVJiw9gSAqufrMTRaqqRcjaSMAinsXMvDqet5uHCjAOoqOvL4KRX3hJ1G6NhUCQ8XBxPfDZF1Yp8bAxhubMSdW8C143dHZl07BpTerv54rzZAUAzg6gO4NtH/6dIEsOMXCBlmynluisvUSFTlS2HnWh5OX89FcuZtVPWvcbPGThU1PFIfntCmSiid2P+MGh6GGwMYbmyURg1knrvbbyftCJBzqebnOzUGXH0rB5/7Hzs1BmRcz6ihMud8PYUl5Tibno9T13Jx+rpUy3M5q/LsywAQ5OVyt4anqRIdmirhauQCo5xtmawNw40BDDcNhLYpSrvSeasB0nw6t28AtzOlnwU3gMJMqRmrpmR2Uk2PwRBU8fNh1t1ix2iCNC/Pmet3m7NOX8tDak5RpeMEAQjxdtXrsNzeTwknB3mV1+Vsy2SNOFqKGrbqlpFoFgEMX6p/rEYjNXHdvqEffPQeV/y8kyMFoYJ0aXsQe5fqQ5DbPbVELt6Vh7mzYzQBcFfYIzLEC5Ehd0cG3ioslWp2rudJtTzX8pCeV4yLmbdxMfM2NsRfByDNuNyqiauu/06npkq09XPDrvOZmLC28mzLGXnFmLD2BGdbJpvAmhuyLbVZRqKmykuBwptVB5/7H5dV/t+1Qc6elWt/biQCl/4Cwv4ORE8BTq8H9sxjx2iq5GZBCc5cv9t/5+S1PNwsqLzUhLR0loDyamYl5GzLVJ+xWcoAhhsbV1+ac0puGwhB94ahzMozNhvi5ge0fBTw6Qj4hkqrsjs1Nt99kNW6kV+Mk2m5FTU8Uk1PTmFpjc4dEd4M3YM94d9IAX+lE3yVCijsq27iIqorDDcGMNxQvaLRSM1d1TWF3b4BpOxD9SsbAXBvVhF0KsKOb0dpDiAZv4zoLlEU8e2BK5i9ObFW53u5OsBP6QT/RgrdT/9GTrrHTdwUrO0hs2KfGyJrIZNJMy27eEnB5H57PgVS9gJyB0BdCnR4GvBsCdw4A2SckWZxzr8mbRe23T3Pzglo0q4i9FTU8jRpDzg1qrNbo/pFEAS09a3Zf+j6tvZCuQZIz7sDVW4x7pSpkXW7FFm3pf4+VbGTCfBxV+jCj18jBZpWhB8/pfS4kbO9yWdl5qgvqgrDDVF9VV3H6H7vAs//KB1zJ1dariLjDHDjNHDjrNRXp/wOkH5C2u6lbH63OcsnVKrlaRzE4e0NRE1nW/56bHddQBBFEblFZUjPu4P03GKoKn6m597RPc7IL0a5RsT13Du4nnsHwK0q319hL4O/0qmixkeq+blbEyQ9dnao+dcSR31RddgsRVQfPUzHaI1aWq8rQxt2Kmp58q9Vfby9s1Sro23a8u0oPVfw74ctepjZlquj1oi4WVCC6xWBR5VbfPdxnhSEsm7XrL+P0sleCjoV4cevot+PNhD5KhWwl8t093H/F9jD3AfVb+xzYwDDDVkFc3SMvnNLCjv31vJkngPKi6s+vlELKejoanlCgUaBrOWxAZao8SguU+NGfkXoqaj5Sc/T1gRJ+wpKHjznlCAA3q4OuFVUhjI1R301JAw3BjDcEN1DXS7N5Kyt3dH+rG4eHwdX/Voen1DApz3g6Fb18fVl9BpVUh/7quQXl0nB557Ao3ucVwxVbjFK1ZoaX+/l3sEY0skPrX3cONrLBjDcGMBwQ1QDRTn3BJ6zUk1P5nlAXXnuFABSv517A49vqFTzs3e++eYdogZHoxGRXViKn46mYuGfF2p8nkwAAr1c0M7XHW193dDWT/rZrLGTyTs4k/kw3BjAcENUS+pyaXX2G2cr+vNUBJ8CVdXHO7hJTVqaMuD6caDrWGDgR8DBLxls6KEcvJSN51cfeuBxHfzdocorrnZ+H1dHO7TxddMFnna+bmjt6wZ3BRcmrY8YbgxguCEyscKsyrU8N5OkoevVCegBRE0GWvTiJIRkNLVGRPQnOx846itu+iOQCcDN2yU4ryrA+Yx8nFcV4FxGAS5mFlTbZ6dpIye083NDW193tK34GejpDDs5+5tZEsONAQw3RHVAXQZkXdCv5bm0s4oDBakZq0UkEBgFtIiS5vwheoCHHfVVptbg8s1CKfBkFOC8Svp5byfreznaydDax01X09OuomnL09XRRHdED8JwYwDDDZEFaPvYyO2l4OPfRVqiIju58rHebaWw0yIKCIyWFhklqoI5Rn3lFpXqhZ3zGQVIyijAnbKql0nxdnPUhZ02Pm5o6+eGlk1c4WhnXAfm+tjBu75huDGA4YaojhmajLDrGODqfuDqAelnZhVLA3iEVNTsREuBp1FA3d8D1Vt1EQo0GhGpOUU4n5GPc9rmrYwCXM2ueoFcuUxAiLfLPc1aUtOWn1JRZQdmTkZYMww3BjDcENUhYycjLMwGUg8AV/ZLYSfjNCqtq9WouRRyWkRJTVmNg6TJT4jqWGFJOS7cKNDV9Jyr+JlfXPV8Pe4KO13HZe2IravZRXhzXQInI6wBhhsDGG6I6tDDznNzJxdIPQRcjZNqd9ITKq+i7uZf0V8nEmgRDXi1YtghixFFEaq8YiRlFOBcRQfm8xn5uHSzEGqNcV+3nIxQH8ONAQw3RFaspABIO1xRs3NAGmKuKdM/xsX7btAJjAK823FWZbK4knI1LmbexnlVAZJuFOCcKh+nruUh707ZA8/1UyoQ6OkCX6UCPu4K+Lo7wsddAR+lAr7uCni7OcK+AYzkYrgxgOGGyIaUFgHXjt7ts3PtaOXlJJwaVzRjVXRS9u0o1SYRWdjvCdfxxk8JD30dQQA8XRzhq3SEr7sCTdyl0CM9doRvRQhSOpl+Vfb7mbMPlDHf31wVnIisl4MzENxH2gCgvESqzbm6X6rdSTssral1fou0AYCjEmje824nZb/O0iguojrWxE1Ro+P+M6QdPF0dkJFXghv5xbiRL63EnpkvPS/XiMi6XYKs2yU4cz2/2us42skqan6kWh8fN8e7tUFKBXzcpDBU26Uq6lPHaNbcEJHtUpdJ/XSuVnRQTj0ElNz3j7+9CxDQvaLfTjTQtCtgd9/cJVwji8zAmMkIq6v90C5JcW/ouZFX8bMi/GTkFyO36MHNX1qNne2lZq97g5C7VCuk3e/p4gDZPWWqi1Xa2SxlAMMNUQOmUQMZp6RmLO2IrOJc/WPsFECzbndHYzXrBhxYajtrZDGo1SsPOxlhTRWXqZGZX1IReiqCUN7dGqCMihBUWl6zhUnt5QKauEmhp4mbI/YmZ6GotOq5gEzVMZrhxgCGGyLS0WikuXWuHpBGZF3ZDxRl6R8jdwCahksdG64eAGLeAh59zzqDDWD88Hwyu/rSnCOKIvLulElBJ08bgkp0tUE3CoqRkVeC7MIS1CY5/Di+J3qFeNa6fAw3BjDcEFG1RFFaNkLbZ+fq/moWBhUAiNIcO95tAJmd1G9H7gDI7AG5XQ0eV2yVHjtIxz3wsX3F+2ofG9FPwtDEigw2FmFNMxSXqTXILKjo/5NXjNhzN7DhxPUHnrfkuTA8Eda01u/LcGMAww0R1ZgoAjmX747GurIfyEu1dKmqIVQTeqp5nJ8O5F4FBBkgaoBOI4G+M6RJEjmajIxQ01Xa67LmhqOliIiqIwiAZ4i0dR11t4ZDZgdoyoG2w4DW/aUV0NXl0pw7NX5cJl2jto8rdd0UAXWJtBlDrOhjcWqdtMkdAI9gwLOlNCGiZ0vAs5X02NnDFH+qZGO6B3nAT6l4YMfo7kF19/vDcENEVBPVNeX4dbJMU45GXU0AKpN+PujxmQ1A4m+AIJdmfXbxBorzpXB087y03c/J477QU/HYI7jyCDNqMOQyATOHtceEtSe0DbY62oa1mcPa12kzG8MNEdGDVNUnRftz14f6z+uKTA7InAB7J+PP3fOpFGzuD2p9ZwCdnwOyLgLZF6VV27OSpcf514E7OcC1I9J2L0EmNWfpanla3n3s7s/lMBqAgaF+WP5C10odo30tNM8Nww0R0YNo1FV3ttU+11Q9BLZeelBQE2TS81aP6Z9XWghkX5ICT/alitCTLAWh0gLg1hVpu7hD/zx7F8Az+G7Tlmeriqa+loCC/R5tycBQPzze3rdedIxmh2IioobE1PPciCJwO1O/lif7ovT41pXKC53ey9W3ommropZH28zVqIU0Mqwu74PqPXYoJiKiqhn6wq9N05ogAG4+0hYYrf9aeak0Iktby5N9saLJKxkovAnczpC2q3H658nsAY8g/X492mYuFy/pPWXyqpsE762ZogaL4YaIiMzDzkEKJl6tKr92J/duM5cu/FySAlB5sTTfUNaFyucplHdreYL6SEHm9g2g/9zqZ5KmBofNUkREVH9oNED+Nf1anqyK4JOXhspD4O/TOAho9bh+x2b3ZoBMVifFJ/PhJH4GMNwQEVmpsjt3a3e0nZmzk6WV4A2xc7rbiVnXzFXRsdmpUZ0UnR4e+9wQEZHtsXcCfEOlTWvPp1K4kdtLc/i0GSwFGF2n5hSg/A5w44y03c/Fu/Lwda9WQONA6ZpklRhuiIjIOhlaI+v5H6Vj1OX3dGq+r8bn9g2pY3PhTSD1gP61BbkUcO6fsNCzFeDahHP31HMMN0REZH1qOrGi3O7uEhr3K86/O3RdW9Oj7dhcVgTkXJK2+zm6V1xTO3dPyN1Ozg7Oxt0Hh7SbBcMNERFZH1NMrKhwB5p2lTa9a2uk1eDv7cysfZybCpTkA+nx0nY/92ZS2NHW8mibu5QBVS9IyiHtZsEOxURERDVVViz147m3lkf7+M6t6s+TO1bfqfnoV9U3r3FIuw5HSxnAcENERGZRmF15Ta7si0DOZWlh0+o4e0ojuvKv3V3ItMPTQPfxgEsTwNVbagpr4P18GG4MYLghIqI6pVFLzVl6/Xoq5vEpSK/ZNeSO0sguV28p8Bh67OxRdROYleNQcCIiovpCJpeWk/ComGDwXiW3pU7L+z6TVmoXZICokfruyO2BwixpYVJ1iVSzk3/twe8nyABnL2lUl4tXRe1PNY9dvKWZpB9WPesYzXBDRERkKY6uwIXtUrCprs9NaVHFkPUsoDBTWqhUO4T9/sd3cqRwVJgpbTWhaFRR+1MRdgw9dnSt+hr1rGO0xcPNsmXLMH/+fKhUKnTo0AGLFy9GTExMlcfu3r0b/fr1q7T/3LlzaNu2rbmLSkREZFo1HdLu0AJo3OLB11OXAUXZFaEnUwpE1T0uvAloyoHiXGnLTn7w9e2dqw8/7Z+SylyYBfR9p3JH6Tpk0XCzbt06TJ48GcuWLUNUVBRWrlyJQYMGITExEc2bN6/2vKSkJL32Nm9v77ooLhERkWmZYkj7veT2gJuvtD3wvTVSqNHV/mQCt29W/7j8jjT/T+5VaavOkZXSBlhsxJdFOxT36NEDXbt2xfLly3X72rVrhyeffBLz5s2rdLy25ubWrVto1KhRjd6jpKQEJSUluuf5+fkICAhgh2IiIqKaEkWgtLCaAFQRjrSPsy9K58gdgPdumqwIVtGhuLS0FMePH8c777yjt79///44cOBANWdJunTpguLiYrRv3x7/+c9/qmyq0po3bx5mz55tkjITERE1SIIg9bdxdAU8gqs/TtvMJneQhr/v+dQiNTcWWwM+KysLarUaPj4+evt9fHyQkZFR5Tl+fn5YtWoV1q9fjw0bNqBNmzZ49NFHsXfv3mrfZ8aMGcjLy9NtaWlpJr0PIiIign7/ofduSj93fSjtr2MW71As3DcpkSiKlfZptWnTBm3atNE979WrF9LS0rBgwQL07t27ynMcHR3h6OhougITERGRvpp2jK4jFgs3Xl5ekMvllWppMjMzK9XmGNKzZ0+sXbvW1MUjIiKimjJ1x+iHZLFw4+DggPDwcMTGxuKpp57S7Y+NjcUTTzxR4+vEx8fDz8/PHEUkIiKimjA0QZ8F+txYtFlqypQpGDVqFCIiItCrVy+sWrUKqampeOWVVwBI/WWuX7+O7777DgCwePFiBAYGokOHDigtLcXatWuxfv16rF+/3pK3QURERPWIRcPNyJEjkZ2djTlz5kClUiE0NBRbt25FixbSREUqlQqpqam640tLS/HWW2/h+vXrcHJyQocOHfDHH39g8ODBlroFIiIiqme4cCYRERHVe8Z8f1tsKDgRERGROTDcEBERkU1huCEiIiKbwnBDRERENoXhhoiIiGwKww0RERHZFIYbIiIisikWXzizrmmn9cnPz7dwSYiIiKimtN/bNZmer8GFm4KCAgBAQECAhUtCRERExiooKIBSqTR4TIOboVij0SA9PR1ubm4QBMHSxakT+fn5CAgIQFpaWoOalbmh3jfQcO+9od43wHtviPfe0O5bFEUUFBTA398fMpnhXjUNruZGJpOhWbNmli6GRbi7uzeIvwD3a6j3DTTce2+o9w3w3hvivTek+35QjY0WOxQTERGRTWG4ISIiIpvCcNMAODo6YubMmXB0dLR0UepUQ71voOHee0O9b4D33hDvvaHed000uA7FREREZNtYc0NEREQ2heGGiIiIbArDDREREdkUhhsiIiKyKQw3VmzevHno1q0b3Nzc0KRJEzz55JNISkoyeM7u3bshCEKl7fz583VUatOYNWtWpXvw9fU1eM6ePXsQHh4OhUKB4OBgrFixoo5Ka1qBgYFVfoYTJ06s8nhr/cz37t2LYcOGwd/fH4Ig4LffftN7XRRFzJo1C/7+/nByckLfvn1x9uzZB153/fr1aN++PRwdHdG+fXts3LjRTHdQe4buvaysDNOnT0fHjh3h4uICf39/jB49Gunp6Qav+e2331b5e1BcXGzmuzHOgz73sWPHVrqHnj17PvC69f1zf9B9V/XZCYKA+fPnV3tNa/nMzYHhxort2bMHEydOxKFDhxAbG4vy8nL0798fhYWFDzw3KSkJKpVKt7Vq1aoOSmxaHTp00LuH06dPV3tsSkoKBg8ejJiYGMTHx+Pf//43Jk2ahPXr19dhiU3j6NGjevcdGxsLAHj22WcNnmdtn3lhYSE6d+6ML774osrXP/30U3z22Wf44osvcPToUfj6+uLxxx/XrR9XlYMHD2LkyJEYNWoUTp48iVGjRmHEiBE4fPiwuW6jVgzde1FREU6cOIH33nsPJ06cwIYNG3DhwgUMHz78gdd1d3fX+x1QqVRQKBTmuIVae9DnDgADBw7Uu4etW7cavKY1fO4Puu/7P7c1a9ZAEAQ888wzBq9rDZ+5WYhkMzIzM0UA4p49e6o9ZteuXSIA8datW3VXMDOYOXOm2Llz5xofP23aNLFt27Z6+15++WWxZ8+eJi5Z3XvjjTfEkJAQUaPRVPm6LXzmAMSNGzfqnms0GtHX11f8+OOPdfuKi4tFpVIprlixotrrjBgxQhw4cKDevgEDBojPPfecyctsKvffe1WOHDkiAhCvXr1a7THffPONqFQqTVs4M6vq3seMGSM+8cQTRl3H2j73mnzmTzzxhPjII48YPMYaP3NTYc2NDcnLywMAeHh4PPDYLl26wM/PD48++ih27dpl7qKZRXJyMvz9/REUFITnnnsOly9frvbYgwcPon///nr7BgwYgGPHjqGsrMzcRTWb0tJSrF27Fv/85z8fuBCsLXzmWikpKcjIyND7TB0dHdGnTx8cOHCg2vOq+z0wdI41yMvLgyAIaNSokcHjbt++jRYtWqBZs2YYOnQo4uPj66aAJrZ79240adIErVu3xvjx45GZmWnweFv73G/cuIE//vgDL7300gOPtZXP3FgMNzZCFEVMmTIF0dHRCA0NrfY4Pz8/rFq1CuvXr8eGDRvQpk0bPProo9i7d28dlvbh9ejRA9999x22b9+O1atXIyMjA5GRkcjOzq7y+IyMDPj4+Ojt8/HxQXl5ObKysuqiyGbx22+/ITc3F2PHjq32GFv5zO+VkZEBAFV+ptrXqjvP2HPqu+LiYrzzzjv4+9//bnDxxLZt2+Lbb7/Fpk2b8OOPP0KhUCAqKgrJycl1WNqHN2jQIPzwww/YuXMnFi5ciKNHj+KRRx5BSUlJtefY2uf+3//+F25ubnj66acNHmcrn3ltNLhVwW3Va6+9hlOnTiEuLs7gcW3atEGbNm10z3v16oW0tDQsWLAAvXv3NncxTWbQoEG6xx07dkSvXr0QEhKC//73v5gyZUqV59xfsyFWTM79oBqP+uzrr7/GoEGD4O/vX+0xtvKZV6Wqz/RBn2dtzqmvysrK8Nxzz0Gj0WDZsmUGj+3Zs6dex9uoqCh07doVS5cuxeeff27uoprMyJEjdY9DQ0MRERGBFi1a4I8//jD4ZW9Ln/uaNWvwj3/844F9Z2zlM68N1tzYgNdffx2bNm3Crl270KxZM6PP79mzp9UneRcXF3Ts2LHa+/D19a30v7TMzEzY2dnB09OzLopoclevXsWOHTswbtw4o8+19s9cOzKuqs/0/v+h33+esefUV2VlZRgxYgRSUlIQGxtrsNamKjKZDN26dbPq3wNAqpls0aKFwfuwpc993759SEpKqtXfe1v5zGuC4caKiaKI1157DRs2bMDOnTsRFBRUq+vEx8fDz8/PxKWrWyUlJTh37ly199GrVy/dqCKtP//8ExEREbC3t6+LIprcN998gyZNmmDIkCFGn2vtn3lQUBB8fX31PtPS0lLs2bMHkZGR1Z5X3e+BoXPqI22wSU5Oxo4dO2oV0EVRREJCglX/HgBAdnY20tLSDN6HrXzugFRbGx4ejs6dOxt9rq185jViub7M9LAmTJggKpVKcffu3aJKpdJtRUVFumPeeecdcdSoUbrnixYtEjdu3CheuHBBPHPmjPjOO++IAMT169db4hZqberUqeLu3bvFy5cvi4cOHRKHDh0qurm5iVeuXBFFsfJ9X758WXR2dhbffPNNMTExUfz6669Fe3t78ddff7XULTwUtVotNm/eXJw+fXql12zlMy8oKBDj4+PF+Ph4EYD42WefifHx8boRQR9//LGoVCrFDRs2iKdPnxaff/550c/PT8zPz9ddY9SoUeI777yje75//35RLpeLH3/8sXju3Dnx448/Fu3s7MRDhw7V+f0ZYujey8rKxOHDh4vNmjUTExIS9P7ul5SU6K5x/73PmjVL3LZtm3jp0iUxPj5efPHFF0U7Ozvx8OHDlrjFahm694KCAnHq1KnigQMHxJSUFHHXrl1ir169xKZNm1r95/6g33dRFMW8vDzR2dlZXL58eZXXsNbP3BwYbqwYgCq3b775RnfMmDFjxD59+uief/LJJ2JISIioUCjExo0bi9HR0eIff/xR94V/SCNHjhT9/PxEe3t70d/fX3z66afFs2fP6l6//75FURR3794tdunSRXRwcBADAwOr/QfCGmzfvl0EICYlJVV6zVY+c+0Q9vu3MWPGiKIoDQefOXOm6OvrKzo6Ooq9e/cWT58+rXeNPn366I7X+uWXX8Q2bdqI9vb2Ytu2betlyDN07ykpKdX+3d+1a5fuGvff++TJk8XmzZuLDg4Oore3t9i/f3/xwIEDdX9zD2Do3ouKisT+/fuL3t7eor29vdi8eXNxzJgxYmpqqt41rPFzf9DvuyiK4sqVK0UnJycxNze3ymtY62duDoIoVvSqJCIiIrIB7HNDRERENoXhhoiIiGwKww0RERHZFIYbIiIisikMN0RERGRTGG6IiIjIpjDcEBERkU1huCEiIiKbwnBDREbr27cvJk+eXOfvKwgCfvvttxofv3v3bgiCgNzc3GqPmTVrFsLCwh66bERUf9hZugBERDWlUqnQuHFjSxeDiOo5hhsishq+vr6WLkKNlZWVWe2K80TWjs1SRPTQtm3bBqVSie+++67K17XNQ3/99RciIiLg7OyMyMhIJCUl6R23efNmhIeHQ6FQIDg4GLNnz0Z5ebnu9fubpQ4cOICwsDAoFApERETgt99+gyAISEhI0Lvu8ePHDb4vAKxcuRIBAQFwdnbGs88+q9eUpdFoMGfOHDRr1gyOjo4ICwvDtm3bdK9fuXIFgiDg559/Rt++faFQKLB27VpcvXoVw4YNQ+PGjeHi4oIOHTpg69atRvzJElFtMNwQ0UP56aefMGLECHz33XcYPXq0wWPfffddLFy4EMeOHYOdnR3++c9/6l7bvn07XnjhBUyaNAmJiYlYuXIlvv32W3z44YdVXqugoADDhg1Dx44dceLECXzwwQeYPn260e8LABcvXsTPP/+MzZs3Y9u2bUhISMDEiRN1ry9ZsgQLFy7EggULcOrUKQwYMADDhw9HcnKy3nWmT5+OSZMm4dy5cxgwYAAmTpyIkpIS7N27F6dPn8Ynn3wCV1dXg39GRGQCll6WnIisT58+fcQ33nhD/PLLL0WlUinu3LnT4PG7du0SAYg7duzQ7fvjjz9EAOKdO3dEURTFmJgY8aOPPtI77/vvvxf9/Px0zwGIGzduFEVRFJcvXy56enrqzhdFUVy9erUIQIyPj6/x+86cOVOUy+ViWlqa7pj//e9/okwmE1UqlSiKoujv7y9++OGHemXr1q2b+Oqrr4qiKIopKSkiAHHx4sV6x3Ts2FGcNWuWwT8bIjI99rkholpZv349bty4gbi4OHTv3r1G53Tq1En32M/PDwCQmZmJ5s2b4/jx4zh69KheTY1arUZxcTGKiorg7Oysd62kpCR06tQJCoVCt6+6chh6XwBo3rw5mjVrpjumV69e0Gg0SEpKgrOzM9LT0xEVFaV3zaioKJw8eVJvX0REhN7zSZMmYcKECfjzzz/x2GOP4ZlnntErCxGZB5uliKhWwsLC4O3tjW+++QaiKNbonHs72AqCAEDqz6L9OXv2bCQkJOi206dPIzk5WS/AaImiqLvGvfuMfd+qaI+59/pVvdf9+1xcXPSejxs3DpcvX8aoUaNw+vRpREREYOnSpdW+LxGZBsMNEdVKSEgIdu3ahd9//x2vv/76Q1+va9euSEpKQsuWLSttMlnlf6ratm2LU6dOoaSkRLfv2LFjtXrv1NRUpKen654fPHgQMpkMrVu3hru7O/z9/REXF6d3zoEDB9CuXbsHXjsgIACvvPIKNmzYgKlTp2L16tW1KiMR1RybpYio1lq3bo1du3ahb9++sLOzw+LFi2t9rffffx9Dhw5FQEAAnn32WchkMpw6dQqnT5/G3LlzKx3/97//He+++y7+9a9/4Z133kFqaioWLFgAoHIty4MoFAqMGTMGCxYsQH5+PiZNmoQRI0bohp6//fbbmDlzJkJCQhAWFoZvvvkGCQkJ+OGHHwxed/LkyRg0aBBat26NW7duYefOnTUKRET0cBhuiOihtGnTBjt37kTfvn0hl8uxcOHCWl1nwIAB2LJlC+bMmYNPP/0U9vb2aNu2LcaNG1fl8e7u7ti8eTMmTJiAsLAwdOzYEe+//z7+/ve/V9mMZUjLli3x9NNPY/DgwcjJycHgwYOxbNky3euTJk1Cfn4+pk6diszMTLRv3x6bNm1Cq1atDF5XrVZj4sSJuHbtGtzd3TFw4EAsWrTIqLIRkfEEsaaN5URE9dwPP/yAF198EXl5eXBycrJ0cYjIQlhzQ0RW67vvvkNwcDCaNm2KkydPYvr06RgxYgSDDVEDx3BDRFYrIyMD77//PjIyMuDn54dnn3222kn/iKjhYLMUERER2RQOBSciIiKbwnBDRERENoXhhoiIiGwKww0RERHZFIYbIiIisikMN0RERGRTGG6IiIjIpjDcEBERkU35f/GXG8vnwI2xAAAAAElFTkSuQmCC",
      "text/plain": [
       "<Figure size 640x480 with 1 Axes>"
      ]
     },
     "metadata": {},
     "output_type": "display_data"
    }
   ],
   "source": [
    "# Create a KNN classfier to loop through different k values to find which has the highest accuracy.\n",
    "# Note: We use only odd numbers because we don't want any ties.\n",
    "train_scores = []\n",
    "test_scores = []\n",
    "for k in range(1, 20, 2):\n",
    "    loop_model = KNeighborsClassifier(n_neighbors=k)\n",
    "    loop_model.fit(X_train, y_train_encoded)\n",
    "    train_score = loop_model.score(X_train, y_train_encoded)\n",
    "    test_score = loop_model.score(X_test, y_test_encoded)\n",
    "    train_scores.append(train_score)\n",
    "    test_scores.append(test_score)\n",
    "    print(f\"k: {k}, Train/Test Score: {train_score:.3f}/{test_score:.3f}\")\n",
    "    \n",
    "# Plot the results\n",
    "plt.plot(range(1, 20, 2), train_scores, marker='o', label=\"training scores\")\n",
    "plt.plot(range(1, 20, 2), test_scores, marker=\"x\", label=\"testing scores\")\n",
    "plt.xlabel(\"k neighbors\")\n",
    "plt.ylabel(\"accuracy score\")\n",
    "plt.legend()\n",
    "plt.show()"
   ]
  },
  {
   "cell_type": "code",
   "execution_count": 106,
   "metadata": {},
   "outputs": [
    {
     "name": "stdout",
     "output_type": "stream",
     "text": [
      "0.5880758807588076\n",
      "0.6615851819137343\n"
     ]
    },
    {
     "name": "stderr",
     "output_type": "stream",
     "text": [
      "/opt/anaconda3/envs/ai_dev/lib/python3.10/site-packages/sklearn/metrics/_classification.py:1509: UndefinedMetricWarning: Precision is ill-defined and being set to 0.0 in labels with no predicted samples. Use `zero_division` parameter to control this behavior.\n",
      "  _warn_prf(average, modifier, f\"{metric.capitalize()} is\", len(result))\n"
     ]
    }
   ],
   "source": [
    "# Selected the best k, and refit the KNN classifier by using that k value.\n",
    "# Note that k: 3 provides the best accuracy where the classifier starts to stablize\n",
    "loop_model = KNeighborsClassifier(n_neighbors=3)\n",
    "loop_model.fit(X_train, y_train_encoded)\n",
    "\n",
    "# Check the model's accuracy on the test set\n",
    "loop_y_test_pred = loop_model.predict(X_test)\n",
    "print(accuracy_score(y_test_encoded, loop_y_test_pred))\n",
    "print(precision_score(y_test_encoded, loop_y_test_pred, average='weighted'))"
   ]
  },
  {
   "cell_type": "code",
   "execution_count": 107,
   "metadata": {},
   "outputs": [
    {
     "data": {
      "text/plain": [
       "' The grid search below used to hyperparameter tune the KNN Classifier provided a k value = 1, with an accurancy score of .578. \\nThe code has been commented out code because it took 24min to run.'"
      ]
     },
     "execution_count": 107,
     "metadata": {},
     "output_type": "execute_result"
    }
   ],
   "source": [
    "''' The grid search below used to hyperparameter tune the KNN Classifier provided a k value = 1, with an accurancy score of .578. \n",
    "The code has been commented out code because it took 24min to run.'''\n",
    "\n",
    "# # Create a grid search KNN classifier\n",
    "# grid_model = KNeighborsClassifier()\n",
    "\n",
    "# # Define the parameter grid tuned KNN classifier\n",
    "# param_grid = {'n_neighbors': list(range(1, 25, 2)),\n",
    "#             'weights': ['uniform', 'distance'],\n",
    "#             'leaf_size': [10, 50, 100, 500]\n",
    "# }\n",
    "\n",
    "# # Create a GridSearchCV model\n",
    "# grid = GridSearchCV(grid_model, param_grid, verbose=3)\n",
    "\n",
    "# # Fit the model by using the grid search estimator.\n",
    "# # This will take the KNN model and try each combination of parameters.\n",
    "# grid.fit(X_train, y_train_encoded)\n",
    "\n",
    "# # Best parameter and score\n",
    "# print(f\"Best k: {grid.best_params_['n_neighbors']}\")\n",
    "# print(f\"Best cross-validated accuracy: {grid.best_score_}\")"
   ]
  },
  {
   "cell_type": "markdown",
   "metadata": {},
   "source": [
    "# Odele's Space"
   ]
  },
  {
   "cell_type": "markdown",
   "metadata": {},
   "source": [
    "#### Peta-Gaye's LR modelling"
   ]
  },
  {
   "cell_type": "code",
   "execution_count": null,
   "metadata": {},
   "outputs": [],
   "source": [
    "# Declare a logistic regression model.\n",
    "logistic_regression_model = LogisticRegression()"
   ]
  },
  {
   "cell_type": "code",
   "execution_count": null,
   "metadata": {},
   "outputs": [],
   "source": [
    "# Fit and save the logistic regression model using the training data\n",
    "df_combined_lr_model = logistic_regression_model.fit(X_train, y_train_encoded)"
   ]
  },
  {
   "cell_type": "code",
   "execution_count": null,
   "metadata": {},
   "outputs": [],
   "source": [
    "# Generate predictions from the logistic regression model using the test data\n",
    "lr_predictions = logistic_regression_model.predict(X_test)\n",
    "\n",
    "# Review the predictions\n",
    "lr_predictions"
   ]
  },
  {
   "cell_type": "code",
   "execution_count": null,
   "metadata": {},
   "outputs": [],
   "source": [
    "# Display the accuracy score for the test dataset.\n",
    "accuracy_score(y_test_encoded, lr_predictions)"
   ]
  },
  {
   "cell_type": "code",
   "execution_count": null,
   "metadata": {},
   "outputs": [],
   "source": [
    "# Display the precision score for the test dataset.\n",
    "precision_score(y_test_encoded, lr_predictions, average='weighted')"
   ]
  },
  {
   "cell_type": "markdown",
   "metadata": {},
   "source": [
    "#### End Peta-Gaye's LR modelling"
   ]
  },
  {
   "cell_type": "markdown",
   "metadata": {},
   "source": [
    "# Peta's Space"
   ]
  },
  {
   "cell_type": "code",
   "execution_count": null,
   "metadata": {},
   "outputs": [],
   "source": []
  },
  {
   "cell_type": "markdown",
   "metadata": {},
   "source": [
    "# Vadim's Space"
   ]
  },
  {
   "cell_type": "code",
   "execution_count": null,
   "metadata": {},
   "outputs": [],
   "source": []
  },
  {
   "cell_type": "markdown",
   "metadata": {},
   "source": [
    "# Findings"
   ]
  },
  {
   "cell_type": "code",
   "execution_count": null,
   "metadata": {},
   "outputs": [],
   "source": []
  },
  {
   "cell_type": "markdown",
   "metadata": {},
   "source": [
    "# Additional"
   ]
  },
  {
   "cell_type": "code",
   "execution_count": null,
   "metadata": {},
   "outputs": [],
   "source": []
  }
 ],
 "metadata": {
  "kernelspec": {
   "display_name": "ai_dev",
   "language": "python",
   "name": "ai_dev"
  },
  "language_info": {
   "codemirror_mode": {
    "name": "ipython",
    "version": 3
   },
   "file_extension": ".py",
   "mimetype": "text/x-python",
   "name": "python",
   "nbconvert_exporter": "python",
   "pygments_lexer": "ipython3",
   "version": "3.10.13"
  }
 },
 "nbformat": 4,
 "nbformat_minor": 4
}
