{
 "cells": [
  {
   "cell_type": "markdown",
   "metadata": {},
   "source": [
    "# Economics Tie-In\n",
    "\n",
    "It's considered general knowledge that the worse state the economy/country is in, the better the entertainment industry does. But is this true? Can we see any sort of relationship between the state of the film industry and the standings of average means in the US?\n",
    "\n",
    "To find out, we will be using two datasets (one for average wages by metric, and one for unemployment rates by metric) to create one economic DataFrame (DF) from which we can draw our comparrisons."
   ]
  },
  {
   "cell_type": "code",
   "execution_count": null,
   "metadata": {},
   "outputs": [],
   "source": [
    "# Importing dependencies\n",
    "import pandas as pd\n",
    "import matplotlib.pyplot as plt"
   ]
  },
  {
   "cell_type": "markdown",
   "metadata": {},
   "source": [
    "# Data\n",
    "\n",
    "---\n",
    "\n",
    "The following datasets are courtesy of __[Kaggle](https://www.kaggle.com/)__.\n",
    "\n",
    "### __['...CCI_OECD.csv'](https://www.kaggle.com/datasets/iqbalsyahakbar/cci-oecd)__\n",
    "\n",
    "*renamed from `DP_LIVE_16112023095843236.csv`*\n",
    "\n",
    "Per the Organisation for Economic Co-operation and Development (OECD);\n",
    "\n",
    "* The Consumer Confidence Indicator (CCI) is an indication of developments for future households' consumption and saving based on expected financial situation, sentiment regarding the general economic situation, employment status, and capacity for savings\n",
    "* An indicator above `100` indicates an optimistic outlook and a greater likliehood to spend money over cautious saving\n",
    "* An indicator below `100` indicates a pessimistic outlook and both a higher likeliehood to save money and a lower tendency to consume\n",
    "\n",
    "### __['...US_inflation_rates.csv'](https://www.kaggle.com/datasets/pavankrishnanarne/us-inflation-dataset-1947-present)__\n",
    "\n",
    "Per the dataset description;\n",
    "\n",
    "* The Consumer Price Index (CPI) is a critical economic indicator for measuring the purchasing power of money over time, measuring the average change over time in the prices paid by urban consumers for goods and services\n",
    "* The CPI is the value at the end of the respective month\n",
    "\n",
    "### __['...public_debt.csv'](https://www.kaggle.com/datasets/pavankrishnanarne/us-public-debt-quarterly-data-1996-present)__\n",
    "\n",
    "Per the dataset description;\n",
    "\n",
    "* Public debt, or government debt, represents the total outstanding bonds and other securities of a country's central government\n",
    "* The provided `value` represents the quarterly US public debt in billions of US Dollars (USD)\n",
    "\n",
    "---\n",
    "\n",
    "The following datasets are courtesy of the __[Economic Policy Institute’s (EPI) State of Working America Data Library](https://www.epi.org/data/)__.\n",
    "\n",
    "### __['...Medianaverage hourly wages.csv'](https://www.epi.org/data/#?subject=wage-avg)__\n",
    "\n",
    "Per EPI description;\n",
    "\n",
    "* Wages adjusted to 2023 dollars by the Consumer Price Index for All Urban Consumers Research Series\n",
    "* `Median Wage` is the hourly wage in the middle of the wage distribution\n",
    "* `Average Wage` is the calculated mean of all wages\n",
    "\n",
    "### __['...Unemployment.csv'](https://www.epi.org/data/#?subject=unemp)__\n",
    "\n",
    "Per EPI description;\n",
    "\n",
    "* Unemployment is the share of the labor force wihout a job\n",
    "* Monthly percentages calculated as a rolling 12-month average (mean)"
   ]
  },
  {
   "cell_type": "code",
   "execution_count": null,
   "metadata": {},
   "outputs": [],
   "source": [
    "# Reading in data\n",
    "df_hourly_wages = pd.read_csv(\"./Resources/EPI Data Library - Medianaverage hourly wages.csv\")\n",
    "df_unemp = pd.read_csv(\"./Resources/EPI Data Library - Unemployment.csv\")\n",
    "df_cci = pd.read_csv(\"./Resources/CCI_OECD.csv\")\n",
    "df_inflation = pd.read_csv(\"./Resources/US_inflation_rates.csv\")\n",
    "df_public_debt = pd.read_csv(\"./Resources/public_debt.csv\")"
   ]
  },
  {
   "cell_type": "markdown",
   "metadata": {},
   "source": [
    "# Defining functions\n",
    "\n",
    "Since each dataset will need similar preprocessing, the following functions will be used to help streamline the flow and code."
   ]
  },
  {
   "cell_type": "markdown",
   "metadata": {},
   "source": [
    "### Universal functions\n",
    "\n",
    "Applicable to all datasets\n",
    "\n",
    "#### Copying datasets\n",
    "\n",
    "Creating a working copy of a given dataset to preserve the original DF with unneeded features dropped\n",
    "\n",
    "#### Renaming needed features\n",
    "\n",
    "Renaming selected features for a given dataset\n",
    "\n",
    "#### Rolling mean and mean percent change\n",
    "\n",
    "Calculating the rolling 12-month mean and the rolling 12-month percent change for a given feature"
   ]
  },
  {
   "cell_type": "code",
   "execution_count": null,
   "metadata": {},
   "outputs": [],
   "source": [
    "# Defining a function to copy a dataset with only the needed features\n",
    "def copy_df(df, features_to_keep):\n",
    "    df_copy = df[features_to_keep].copy()\n",
    "    return df_copy\n",
    "\n",
    "# Defining a function to rename needed features\n",
    "def rename_features(df, feature1, feature1new, feature2, feature2new):\n",
    "    df.rename(columns={\n",
    "        feature1: feature1new,\n",
    "        feature2: feature2new\n",
    "    }, inplace=True)\n",
    "    return df\n",
    "\n",
    "# Defining a function to calculate the rolling 12-month means and percent changes\n",
    "# for a given feature\n",
    "def rolling_calcs(df, feature, feature_mean, feature_pct_chng):\n",
    "    df[feature_mean] = df[feature].rolling(window=12).mean()\n",
    "    df[feature_pct_chng] = df[feature_mean].pct_change(periods=12) * 100\n",
    "    return df"
   ]
  },
  {
   "cell_type": "markdown",
   "metadata": {},
   "source": [
    "### Situational functions\n",
    "\n",
    "Applicable to select datasets\n",
    "\n",
    "#### Datetime indexing\n",
    "\n",
    "Converting the feature containing the raw datetime information into a suitable datetime index\n",
    "\n",
    "*Cannot be used on `Hourly Wages` or `Unemployment` datasets*\n",
    "\n",
    "#### Forward filling\n",
    "\n",
    "Resampling by using quarterly or annual data to fill in the missing months of a datetime index\n",
    "\n",
    "*For `Public Debt` and `Hourly Wages` datasets*\n",
    "\n",
    "#### Removing '$'\n",
    "\n",
    "Removing the `'$'` from a given feature and converting the remaining `object` dtype to `float`\n",
    "\n",
    "*Sepcifically for `Hourly Wages` dataset*\n",
    "\n",
    "#### Removing '%'\n",
    "\n",
    "Removing the `'%'` from a given feature and converting the remaining `object` dtype to `float`\n",
    "\n",
    "*Specigically for `Unemployment` dataset*"
   ]
  },
  {
   "cell_type": "code",
   "execution_count": null,
   "metadata": {},
   "outputs": [],
   "source": [
    "# Defining a function to set a `Date` feature as a datetime index\n",
    "def datetime_index(df, datetime_feature):\n",
    "    df[datetime_feature] = pd.to_datetime(df[datetime_feature])\n",
    "    df.set_index(datetime_feature, inplace=True)\n",
    "    df.sort_index(inplace=True)\n",
    "    return df\n",
    "\n",
    "# Defining a function to resample missing months by forward filling the datetime index\n",
    "def forward_fill(df):\n",
    "    df = df.resample('MS').ffill()\n",
    "    return df\n",
    "\n",
    "# Defining a function to remove '$' and convert data to `float`\n",
    "def convert_dollars(feature):\n",
    "    if isinstance(feature, str):\n",
    "        return float(feature.strip('$'))\n",
    "    return feature\n",
    "\n",
    "# Defining a function to apply `convert_dollars`\n",
    "def apply_dollars(df, feature):\n",
    "    df[feature] = df[feature].apply(convert_dollars)\n",
    "    return df\n",
    "\n",
    "# Defining a function to remove '%' and convert data `float`\n",
    "def convert_percentage(feature):\n",
    "    return float(feature.strip('%'))\n",
    "\n",
    "# Defining a function to apply `convert_percentage`\n",
    "def apply_percentage(df, feature):\n",
    "    df[feature] = df[feature].apply(convert_percentage)\n",
    "    return df"
   ]
  },
  {
   "cell_type": "markdown",
   "metadata": {},
   "source": [
    "# CCI\n",
    "\n",
    "#### Preprocessing of the `CCI_OECD.csv` dataset\n",
    "\n",
    "This dataset came with internaitonal records and unneeded features, so only records for US CCI will be retained. Once those records have been selected, the resulting DF will need to be prepared for concatenation with the remainined economic datasets. To do this, the `TIME` feature will be converted to datetime and set as the index."
   ]
  },
  {
   "cell_type": "code",
   "execution_count": null,
   "metadata": {},
   "outputs": [],
   "source": [
    "# Viewing `df_cci`\n",
    "df_cci.head()"
   ]
  },
  {
   "cell_type": "markdown",
   "metadata": {},
   "source": [
    "#### Beginning of limited EDA"
   ]
  },
  {
   "cell_type": "code",
   "execution_count": null,
   "metadata": {},
   "outputs": [],
   "source": [
    "# Beginning EDA on `df_cci`\n",
    "df_cci.describe()"
   ]
  },
  {
   "cell_type": "code",
   "execution_count": null,
   "metadata": {},
   "outputs": [],
   "source": [
    "# Continuing EDA\n",
    "df_cci.shape"
   ]
  },
  {
   "cell_type": "code",
   "execution_count": null,
   "metadata": {},
   "outputs": [],
   "source": [
    "# Continuing EDA\n",
    "df_cci.dtypes"
   ]
  },
  {
   "cell_type": "code",
   "execution_count": null,
   "metadata": {},
   "outputs": [],
   "source": [
    "# Continuing EDA\n",
    "df_cci['LOCATION'].unique()"
   ]
  },
  {
   "cell_type": "markdown",
   "metadata": {},
   "source": [
    "#### Selecting only domestic data"
   ]
  },
  {
   "cell_type": "code",
   "execution_count": null,
   "metadata": {},
   "outputs": [],
   "source": [
    "# Copying domestic data from `df_cci` to `df_cci_us` and removing unneeded features\n",
    "df_cci_us = df_cci.loc[df_cci['LOCATION'] == 'USA'].copy()"
   ]
  },
  {
   "cell_type": "markdown",
   "metadata": {},
   "source": [
    "#### Applying defined functions"
   ]
  },
  {
   "cell_type": "code",
   "execution_count": null,
   "metadata": {},
   "outputs": [],
   "source": [
    "# Copying `df_cci_us` and dropping unneeded features\n",
    "df_cci_form = copy_df(df_cci_us, ['TIME', 'Value'])\n",
    "\n",
    "# Renamining retained features\n",
    "df_cci_form = rename_features(\n",
    "    df_cci_form, 'TIME', 'Date', 'Value', 'CCI Value'\n",
    ")\n",
    "\n",
    "# Converting `Date` to a datetime index\n",
    "df_cci_form = datetime_index(df_cci_form, 'Date')\n",
    "\n",
    "# Calculating rolling 12-month means and percent change in means\n",
    "df_cci_form = rolling_calcs(\n",
    "    df_cci_form, 'CCI Value', 'CCI Rolling Mean', 'CCI Rolling Percent Change'\n",
    ")\n",
    "\n",
    "# Confirming `df_cci_form` ready to concatenate\n",
    "display(df_cci_form.head())\n",
    "display(df_cci_form.tail())"
   ]
  },
  {
   "cell_type": "markdown",
   "metadata": {},
   "source": [
    "# Inflation\n",
    "\n",
    "#### Preprocessing of the `US_inflation_rates.csv` dataset\n",
    "\n",
    "Seeing as the dataset came with only the needed features, little will be needed to prepare the DF for concatenation with the other economic datasets. `date` will be converted to datetime and set as the index."
   ]
  },
  {
   "cell_type": "code",
   "execution_count": null,
   "metadata": {},
   "outputs": [],
   "source": [
    "# Viewing `df_inflation`\n",
    "df_inflation.head()"
   ]
  },
  {
   "cell_type": "markdown",
   "metadata": {},
   "source": [
    "#### Beginning on limited EDA"
   ]
  },
  {
   "cell_type": "code",
   "execution_count": null,
   "metadata": {},
   "outputs": [],
   "source": [
    "# Beginning of EDA on `df_inflation`\n",
    "df_inflation.describe()"
   ]
  },
  {
   "cell_type": "code",
   "execution_count": null,
   "metadata": {},
   "outputs": [],
   "source": [
    "# Continuing EDA\n",
    "df_inflation.shape"
   ]
  },
  {
   "cell_type": "code",
   "execution_count": null,
   "metadata": {},
   "outputs": [],
   "source": [
    "# Continuing EDA\n",
    "df_inflation.dtypes"
   ]
  },
  {
   "cell_type": "markdown",
   "metadata": {},
   "source": [
    "#### Applying defined functions"
   ]
  },
  {
   "cell_type": "code",
   "execution_count": null,
   "metadata": {},
   "outputs": [],
   "source": [
    "df_inflation.columns"
   ]
  },
  {
   "cell_type": "code",
   "execution_count": null,
   "metadata": {},
   "outputs": [],
   "source": [
    "# Copying `df_inflation` and dropping unneeded features\n",
    "df_inflation_form = copy_df(df_inflation, ['date', 'value'])\n",
    "\n",
    "# Renamining retained features\n",
    "df_inflation_form = rename_features(\n",
    "    df_inflation_form, 'date', 'Date', 'value', 'CPI Value'\n",
    ")\n",
    "\n",
    "# Converting `Date` to a datetime index\n",
    "df_inflation_form = datetime_index(df_inflation_form, 'Date')\n",
    "\n",
    "# Calculating rolling 12-month means and percent change in means\n",
    "df_inflation_form = rolling_calcs(\n",
    "    df_inflation_form,\n",
    "    'CPI Value',\n",
    "    'CPI Rolling Mean',\n",
    "    'CPI Rolling Percent Change'\n",
    ")\n",
    "\n",
    "# Confirming `df_inflation_form` ready to concatenate\n",
    "display(df_inflation_form.head())\n",
    "display(df_inflation_form.tail())"
   ]
  },
  {
   "cell_type": "markdown",
   "metadata": {},
   "source": [
    "# Public Debt\n",
    "\n",
    "#### Preprocessing of the `public_debt.csv` dataset\n",
    "\n",
    "Since this datset came as quarterly values, both converting `date` to datetime and the index will be necessary to resample for the missing months. Once the values are forward filled, the DF will be ready to concatenate with the other economic datasets."
   ]
  },
  {
   "cell_type": "code",
   "execution_count": null,
   "metadata": {},
   "outputs": [],
   "source": [
    "# Viewing `df_public_debt`\n",
    "df_public_debt.head()"
   ]
  },
  {
   "cell_type": "markdown",
   "metadata": {},
   "source": [
    "#### Beginning of limited EDA"
   ]
  },
  {
   "cell_type": "code",
   "execution_count": null,
   "metadata": {},
   "outputs": [],
   "source": [
    "# Beginning of EDA on `df_public_debt`\n",
    "df_public_debt.describe()"
   ]
  },
  {
   "cell_type": "code",
   "execution_count": null,
   "metadata": {},
   "outputs": [],
   "source": [
    "# Continuing EDA\n",
    "df_public_debt.shape"
   ]
  },
  {
   "cell_type": "code",
   "execution_count": null,
   "metadata": {},
   "outputs": [],
   "source": [
    "# Continuing EDA\n",
    "df_public_debt.dtypes"
   ]
  },
  {
   "cell_type": "markdown",
   "metadata": {},
   "source": [
    "#### Applying defined functions"
   ]
  },
  {
   "cell_type": "code",
   "execution_count": null,
   "metadata": {},
   "outputs": [],
   "source": [
    "# Copying `df_public_debt` and dropping unneeded features\n",
    "df_public_debt_form = copy_df(df_public_debt, ['date', 'value'])\n",
    "\n",
    "# Renamining retained features\n",
    "df_public_debt_form = rename_features(\n",
    "    df_public_debt_form, 'date', 'Date', 'value', 'Public Debt (bil USD)'\n",
    ")\n",
    "\n",
    "# Converting `Date` to a datetime index\n",
    "df_public_debt_form = datetime_index(df_public_debt_form, 'Date')\n",
    "\n",
    "# Forward filling missing months\n",
    "df_public_debt_form = forward_fill(df_public_debt_form)\n",
    "\n",
    "# Calculating rolling 12-month means and percent change in means\n",
    "df_public_debt_form = rolling_calcs(\n",
    "    df_public_debt_form,\n",
    "    'Public Debt (bil USD)',\n",
    "    'Public Debt (bil USD) Rolling Mean',\n",
    "    'Public Debt Rolling Percent Change'\n",
    ")\n",
    "\n",
    "# Confirming `df_public_debt_form` ready to concatenate\n",
    "display(df_public_debt_form.head())\n",
    "display(df_public_debt_form.tail())"
   ]
  },
  {
   "cell_type": "markdown",
   "metadata": {},
   "source": [
    "## Hourly Wages\n",
    "\n",
    "#### Preprocessing of the `Medianaverage hourly wages.csv` dataset\n",
    "\n",
    "This dataset came with unneeded features that will need to be dropped, as well as the needed features will need to be converted to `float`. Additionally, as an annual measures of mean and median wages, the `Date` feature will need to be converted to datetime and set to the index in order to resample for the missing months. Once the values are forward filled, the DF will be ready to concatenate with with other economic datasets."
   ]
  },
  {
   "cell_type": "code",
   "execution_count": null,
   "metadata": {},
   "outputs": [],
   "source": [
    "# Viewing `df_hourly_wages`\n",
    "df_hourly_wages.head()"
   ]
  },
  {
   "cell_type": "markdown",
   "metadata": {},
   "source": [
    "#### Beginning of limited EDA"
   ]
  },
  {
   "cell_type": "code",
   "execution_count": null,
   "metadata": {},
   "outputs": [],
   "source": [
    "# Beginning EDA on `df_hourly_wages`\n",
    "df_hourly_wages.describe()"
   ]
  },
  {
   "cell_type": "code",
   "execution_count": null,
   "metadata": {},
   "outputs": [],
   "source": [
    "# Continuing EDA\n",
    "df_hourly_wages.shape"
   ]
  },
  {
   "cell_type": "code",
   "execution_count": null,
   "metadata": {},
   "outputs": [],
   "source": [
    "# Continuing EDA\n",
    "df_hourly_wages.dtypes"
   ]
  },
  {
   "cell_type": "markdown",
   "metadata": {},
   "source": [
    "#### Applying defined functions (first pass)\n",
    "\n",
    "*Given the nature of the* `Date` *feature in this dataset, the datetime indexing will need to be handled outside of the defined functions*"
   ]
  },
  {
   "cell_type": "code",
   "execution_count": null,
   "metadata": {},
   "outputs": [],
   "source": [
    "# Copying `df_hourly_wages` and dropping unneeded features\n",
    "df_wages_form = copy_df(df_hourly_wages, ['Date', 'Median', 'Average'])\n",
    "\n",
    "# Renamining retained features\n",
    "df_wages_form = rename_features(\n",
    "    df_wages_form,\n",
    "    'Median',\n",
    "    'Median Annual Hourly Wage (USD)',\n",
    "    'Average',\n",
    "    'Mean Annual Hourly Wage (USD)'\n",
    ")"
   ]
  },
  {
   "cell_type": "markdown",
   "metadata": {},
   "source": [
    "#### Datetime indexing"
   ]
  },
  {
   "cell_type": "code",
   "execution_count": null,
   "metadata": {},
   "outputs": [],
   "source": [
    "# Converting `Date` to datetime\n",
    "df_wages_form['Date'] = pd.to_datetime(df_wages_form['Date'], format='%Y')\n",
    "\n",
    "# Setting `Date` as index\n",
    "df_wages_form.set_index('Date', inplace=True)\n",
    "\n",
    "# Ensuring index is sorted with ascending dates\n",
    "df_wages_form.sort_index(inplace=True)"
   ]
  },
  {
   "cell_type": "markdown",
   "metadata": {},
   "source": [
    "#### Applying defined functions (second pass)"
   ]
  },
  {
   "cell_type": "code",
   "execution_count": null,
   "metadata": {},
   "outputs": [],
   "source": [
    "# Forward filling missing months\n",
    "df_wages_form = forward_fill(df_wages_form)\n",
    "\n",
    "# Applying `apply_dollars` to `Median Annual...`\n",
    "df_wages_form = apply_dollars(df_wages_form, 'Median Annual Hourly Wage (USD)')\n",
    "\n",
    "# Applying `apply_dollars` to `Mean Annual...`\n",
    "df_wages_form = apply_dollars(df_wages_form, 'Mean Annual Hourly Wage (USD)')\n",
    "\n",
    "# Calculating rolling 12-month means and percent change in means\n",
    "df_wages_form = rolling_calcs(\n",
    "    df_wages_form,\n",
    "    'Median Annual Hourly Wage (USD)',\n",
    "    'Median Annual Hourly Wage (USD) Rolling Mean',\n",
    "    'Median Annual Hourly Wage Rolling Percent Change'\n",
    ")\n",
    "\n",
    "# Calculating rolling 12-month means and percent change in means\n",
    "df_wages_form = rolling_calcs(\n",
    "    df_wages_form,\n",
    "    'Mean Annual Hourly Wage (USD)',\n",
    "    'Mean Annual Hourly Wage (USD) Rolling Mean',\n",
    "    'Mean Annual Hourly Wage Rolling Percent Change'\n",
    ")\n",
    "\n",
    "# Confirming `df_public_debt_form` ready to concatenate\n",
    "display(df_wages_form.head())\n",
    "display(df_wages_form.tail())"
   ]
  },
  {
   "cell_type": "markdown",
   "metadata": {},
   "source": [
    "## Unemployment\n",
    "\n",
    "#### Preprocessing of the `Unemployment.csv` dataset\n",
    "\n",
    "This dataset came with unneeded features that will need to be dropped, as well as the needed features will need to be converted to `float`. Additionally, the `Date` feature will need to be converted to datetime and set to the index in preparation for concatenation with the other economic datasets."
   ]
  },
  {
   "cell_type": "code",
   "execution_count": null,
   "metadata": {},
   "outputs": [],
   "source": [
    "# Viewing `df_unemp`\n",
    "df_unemp.head()"
   ]
  },
  {
   "cell_type": "markdown",
   "metadata": {},
   "source": [
    "#### Beginning of limited EDA"
   ]
  },
  {
   "cell_type": "code",
   "execution_count": null,
   "metadata": {},
   "outputs": [],
   "source": [
    "# Beginning EDA on `df_unemp`\n",
    "df_unemp.describe()"
   ]
  },
  {
   "cell_type": "code",
   "execution_count": null,
   "metadata": {},
   "outputs": [],
   "source": [
    "# Continuing EDA\n",
    "df_unemp.shape"
   ]
  },
  {
   "cell_type": "code",
   "execution_count": null,
   "metadata": {},
   "outputs": [],
   "source": [
    "# Continuing EDA\n",
    "df_unemp.dtypes"
   ]
  },
  {
   "cell_type": "markdown",
   "metadata": {},
   "source": [
    "#### Applying defined functions (first pass)\n",
    "\n",
    "*Given the nature of the* `Date` *feature in this dataset, the datetime indexing will need to be handled outside of the defined functions*"
   ]
  },
  {
   "cell_type": "code",
   "execution_count": null,
   "metadata": {},
   "outputs": [],
   "source": [
    "# Copying `df_unemp` and dropping unneeded features\n",
    "df_unemp_form = copy_df(df_unemp, ['Date', 'All'])"
   ]
  },
  {
   "cell_type": "markdown",
   "metadata": {},
   "source": [
    "#### Renaming needed feature\n",
    "\n",
    "*This dataset only needed one feature,* `All`*, to be renmaned, this the* `rename_features` *defined function is not applicable*"
   ]
  },
  {
   "cell_type": "code",
   "execution_count": null,
   "metadata": {},
   "outputs": [],
   "source": [
    "# Renaming the reatined feature\n",
    "df_unemp_form.rename(columns={'All': 'Unemployment Rate (%)'}, inplace=True)"
   ]
  },
  {
   "cell_type": "markdown",
   "metadata": {},
   "source": [
    "#### Datetime indexing"
   ]
  },
  {
   "cell_type": "code",
   "execution_count": null,
   "metadata": {},
   "outputs": [],
   "source": [
    "# The `Date` feature will need to be engineered into a workable datetime feature\n",
    "\n",
    "# Creating a dictionary of Months\n",
    "month_map = {\n",
    "    'Jan': 1, 'Feb': 2, 'Mar': 3, 'Apr': 4, 'May': 5, 'Jun': 6,\n",
    "    'Jul': 7, 'Aug': 8, 'Sep': 9, 'Oct': 10, 'Nov': 11, 'Dec': 12\n",
    "}\n",
    "\n",
    "# Mapping integer month values to `Date Month`\n",
    "df_unemp_form['Date Month'] = df_unemp_form['Date'].str.slice(0,3).map(month_map)\n",
    "\n",
    "# Slicing `Date Year`\n",
    "df_unemp_form['Date Year'] = df_unemp_form['Date'].str.slice(4,8)\n",
    "\n",
    "# Converting `Date` to datetime using `Date Month` and `Date Year`\n",
    "df_unemp_form['Date'] = pd.to_datetime({\n",
    "    'year': df_unemp_form['Date Year'],\n",
    "    'month': df_unemp_form['Date Month'],\n",
    "    'day': 1\n",
    "})\n",
    "\n",
    "# Dropping engineered features `Date Month` and `Date Year`\n",
    "df_unemp_form.drop(columns=['Date Month', 'Date Year'], inplace=True)\n",
    "\n",
    "# Setting `Date` as index\n",
    "df_unemp_form.set_index('Date', inplace=True)\n",
    "\n",
    "# Ensuring index is sorted with ascending dates\n",
    "df_unemp_form.sort_index(inplace=True)"
   ]
  },
  {
   "cell_type": "markdown",
   "metadata": {},
   "source": [
    "#### Applying defined functions (second pass)"
   ]
  },
  {
   "cell_type": "code",
   "execution_count": null,
   "metadata": {},
   "outputs": [],
   "source": [
    "# Applying `apply_percentage` to `Unemployment Rate (%)`\n",
    "df_unemp_form = apply_percentage(df_unemp_form, 'Unemployment Rate (%)')\n",
    "\n",
    "# Calculating rolling 12-month means and percent change in means\n",
    "df_unemp_form = rolling_calcs(\n",
    "    df_unemp_form,\n",
    "    'Unemployment Rate (%)',\n",
    "    'Unemployment Rate (%) Rolling Mean',\n",
    "    'Unemployment Rate Rolling Percent Change',\n",
    ")\n",
    "\n",
    "# Confirming `df_unemp_form` ready to concatenate\n",
    "display(df_unemp_form.head())\n",
    "display(df_unemp_form.tail())"
   ]
  },
  {
   "cell_type": "markdown",
   "metadata": {},
   "source": [
    "## Combined Economics\n",
    "\n",
    "#### Preprocessing of the `df_economics` DF\n",
    "\n",
    "With all datasets set to a monthly datetime index, the relevent features of all can be combined into one DF, and any NaN records can be dropped."
   ]
  },
  {
   "cell_type": "code",
   "execution_count": null,
   "metadata": {},
   "outputs": [],
   "source": [
    "df_cci_form.shape, df_inflation_form.shape, df_public_debt_form.shape, df_wages_form.shape, df_unemp_form.shape"
   ]
  },
  {
   "cell_type": "code",
   "execution_count": null,
   "metadata": {},
   "outputs": [],
   "source": [
    "# Concatenating the five economic datasets into `df_economics`\n",
    "df_economics = pd.concat(\n",
    "    [\n",
    "        df_cci_form,\n",
    "        df_inflation_form,\n",
    "        df_public_debt_form,\n",
    "        df_wages_form,\n",
    "        df_unemp_form\n",
    "    ], axis=1, join='outer'\n",
    ")"
   ]
  },
  {
   "cell_type": "markdown",
   "metadata": {},
   "source": [
    "#### Handling `NaN` rows"
   ]
  },
  {
   "cell_type": "code",
   "execution_count": null,
   "metadata": {},
   "outputs": [],
   "source": [
    "# Confirming total records\n",
    "df_economics.shape"
   ]
  },
  {
   "cell_type": "code",
   "execution_count": null,
   "metadata": {},
   "outputs": [],
   "source": [
    "df_economics.head(36)"
   ]
  },
  {
   "cell_type": "code",
   "execution_count": null,
   "metadata": {},
   "outputs": [],
   "source": [
    "df_economics.tail(36)"
   ]
  },
  {
   "cell_type": "code",
   "execution_count": null,
   "metadata": {},
   "outputs": [],
   "source": [
    "# Checking total `NaN` rows\n",
    "df_economics.isna().count()"
   ]
  },
  {
   "cell_type": "code",
   "execution_count": null,
   "metadata": {},
   "outputs": [],
   "source": [
    "# Dropping `NaN` rows\n",
    "df_economics.dropna(inplace=True)\n",
    "\n",
    "# Confirming remaining records\n",
    "df_economics.shape"
   ]
  },
  {
   "cell_type": "code",
   "execution_count": null,
   "metadata": {},
   "outputs": [],
   "source": [
    "# Confirming final economic DF\n",
    "display(df_economics.head())\n",
    "display(df_economics.tail())"
   ]
  },
  {
   "cell_type": "markdown",
   "metadata": {},
   "source": [
    "## Proof of Concept\n",
    "\n",
    "#### Engineering the economic target value\n",
    "\n",
    "As a feature will need to be engineered for the final modelling, the following cells will be used to test the scaling and thresholds for classification as a proof of concept prior to merging the economic and movie datasets. A working DF will be used so that `df_economics` may be retained and untouched for modeling as a complete dataset.\n",
    "\n",
    "For the purposes of this feature engineering, we will be looking to classify `Economic State` by the following definitions;\n",
    "\n",
    "* Boom - Strong economic growth, low unemployment, high consumer confidence, and stable or increasing wages\n",
    "* Expansion - Economic growth is positive, but not as robust as during a Boom\n",
    "* Recession - Economic growth is negative, rising unemployment, and decreasing consumer confidence\n",
    "* Contraction - Economic growth is negative, but not as severe as a Recession\n",
    "* Recovery - Economic growth is starting to pick up after a Recession or Contraction\n",
    "* Stagnation - Economic grown is very low or unmoving, with high unemployment and low consumer confidence\n",
    "\n",
    "Given the data present in the `df_economics` dataset, we can interpret the values and trends in rolling windows to make this classification possible.\n",
    "\n",
    "* **CCI Value**: Values over `100` indicate stronger consumer confidence, and values below `100` indicate stronger consumer caution. Trends will help distinguish between `Boom`, `Recession`, `Stagnation`, and the states between.\n",
    "* **CPI Value**: Represents inflation. Increasing CPI might indicate inflationary pressures seen during Boom periods, while stable or decreasing CPI could indicate lower economic activity associated with Recession or Contraction.\n",
    "* **Quarterly Public Debt**: Higher public debt might indicate economic stress and government borrowing to stimulate the economy, often seen in Recession or Contraction. Lower or stable public debt might be seen in Boom or Expansion periods.\n",
    "* **Annual Hourly Median Wage**: Increasing median wages are associated with Boom or Expansion, while stagnant or decreasing median wages might be seen in Recession or Contraction.\n",
    "* **Annual Hourly Mean Wage**: Similar to median wages, increasing mean wages indicate Boom or Expansion, while stagnant or decreasing mean wages might be seen in Recession or Contraction.\n",
    "* **Monthly Unemployment Rate**: Lower unemployment rates are associated with Boom or Expansion, while higher unemployment rates are seen in Recession or Contraction.\n",
    "\n",
    "By using a rolling 12-month window, we can illustrate the trends for each feature in any given month, and create the feature `Economic State`."
   ]
  },
  {
   "cell_type": "markdown",
   "metadata": {},
   "source": [
    "#### Continued EDA"
   ]
  },
  {
   "cell_type": "code",
   "execution_count": null,
   "metadata": {},
   "outputs": [],
   "source": [
    "# Creating the working DF `df_eco_test` as a copy of `df_economics`\n",
    "df_eco_test = df_economics.copy()\n",
    "\n",
    "# Viewing `df_eco_test`\n",
    "df_eco_test.head()"
   ]
  },
  {
   "cell_type": "code",
   "execution_count": null,
   "metadata": {},
   "outputs": [],
   "source": [
    "# Continuing EDA\n",
    "df_eco_test.describe()"
   ]
  },
  {
   "cell_type": "markdown",
   "metadata": {},
   "source": [
    "#### Classifying `Economic State`"
   ]
  },
  {
   "cell_type": "code",
   "execution_count": null,
   "metadata": {},
   "outputs": [],
   "source": [
    "df_eco_test.columns"
   ]
  },
  {
   "cell_type": "code",
   "execution_count": null,
   "metadata": {},
   "outputs": [],
   "source": [
    "df_eco_test[[\n",
    "    'CCI Rolling Percent Change',\n",
    "    'CPI Rolling Percent Change',\n",
    "    'Public Debt Rolling Percent Change',\n",
    "    'Median Annual Hourly Wage Rolling Percent Change',\n",
    "    'Mean Annual Hourly Wage Rolling Percent Change',\n",
    "    'Unemployment Rate Rolling Percent Change'\n",
    "]].describe()"
   ]
  },
  {
   "cell_type": "code",
   "execution_count": null,
   "metadata": {},
   "outputs": [],
   "source": [
    "# Assigning `Economic State` flags per feature\n",
    "\n",
    "# Declaring a list of features to assign flags\n",
    "features_to_flag = [\n",
    "    'CCI Rolling Percent Change',\n",
    "    'CPI Rolling Percent Change',\n",
    "    'Public Debt Rolling Percent Change',\n",
    "    'Median Annual Hourly Wage Rolling Percent Change',\n",
    "    'Mean Annual Hourly Wage Rolling Percent Change',\n",
    "    'Unemployment Rate Rolling Percent Change'\n",
    "]\n",
    "\n",
    "# Defining a function to flag each feature in `features_to_flag`\n",
    "def flag_economics(df, features_to_flag):\n",
    "    for col in df[features_to_flag].columns:\n",
    "        new_col = str(col) + ' Flag'\n",
    "        mean = df[col].mean()\n",
    "        stnd = df[col].std()\n",
    "        str_pos = mean + (1.5 * stnd)\n",
    "        mod_pos = mean + (0.5 * stnd)\n",
    "        mod_neg = mean - (0.5 * stnd)\n",
    "        str_neg = mean - (1.5 * stnd)\n",
    "        df[new_col] = 'neutral'\n",
    "        df.loc[df[col] >= str_pos, new_col] = 'strong positive'\n",
    "        df.loc[(df[col] < str_pos) & (df[col] >= mod_pos), new_col] = 'moderate positive'\n",
    "        df.loc[(df[col] < mod_pos) & (df[col] > mod_neg), new_col] = 'neutral'\n",
    "        df.loc[(df[col] <= mod_neg) & (df[col] > str_neg), new_col] = 'moderate negative'\n",
    "        df.loc[df[col] <= str_neg, new_col] = 'strong negative'\n",
    "    return df\n",
    "\n",
    "# Applying `flag_economics`\n",
    "df_eco_test_2 = flag_economics(df_eco_test, features_to_flag)"
   ]
  },
  {
   "cell_type": "code",
   "execution_count": null,
   "metadata": {},
   "outputs": [],
   "source": [
    "flag_cols = [\n",
    "    'CCI Rolling Percent Change Flag',\n",
    "    'CPI Rolling Percent Change Flag',\n",
    "    'Public Debt Rolling Percent Change Flag',\n",
    "    'Median Annual Hourly Wage Rolling Percent Change Flag',\n",
    "    'Mean Annual Hourly Wage Rolling Percent Change Flag',\n",
    "    'Unemployment Rate Rolling Percent Change Flag'\n",
    "]"
   ]
  },
  {
   "cell_type": "code",
   "execution_count": null,
   "metadata": {},
   "outputs": [],
   "source": [
    "df_eco_test_2[flag_cols].head()"
   ]
  },
  {
   "cell_type": "code",
   "execution_count": null,
   "metadata": {},
   "outputs": [],
   "source": [
    "for col in flag_cols:\n",
    "    display(df_eco_test_2[col].value_counts())"
   ]
  },
  {
   "cell_type": "code",
   "execution_count": null,
   "metadata": {},
   "outputs": [],
   "source": [
    "# if:\n",
    "#     Boom\n",
    "#     CCI = Strong Positive\n",
    "#     CPI = Moderate Positive OR Neutral\n",
    "#     Public Debt = Neutral\n",
    "#     Wages = Strong Positive\n",
    "#     Unemployment = Strong Negative\n",
    "# elif:\n",
    "#     Expansion\n",
    "#     CCI = Moderate Positive\n",
    "#     CPI = Neutral\n",
    "#     Public Debt = Neutral\n",
    "#     Wages = Moderate Positive\n",
    "#     Unemployment = Moderate Negative\n",
    "# elif:\n",
    "#     Recession\n",
    "#     CCI = Strong Negative\n",
    "#     CPI = Strong Negative\n",
    "#     Public Debt = Strong Positive\n",
    "#     Wages = Moderate OR Strong Negative\n",
    "#     Unemployment = Strong Positive\n",
    "# elif:\n",
    "#     Contraction\n",
    "#     CCI = Moderate Negative\n",
    "#     CPI = Moderate OR Strong Negative\n",
    "#     Public Debt = Strong Positive\n",
    "#     Wages = Moderate OR Strong Negative\n",
    "#     Unemployment = Strong Positive\n",
    "# elif:\n",
    "#     Recovery\n",
    "#     CCI = Neutral OR Moderate Positive\n",
    "#     CPI = Neutral\n",
    "#     Public Debt = Neutral\n",
    "#     Wages = Moderate Positive\n",
    "#     Unemployment = Moderate Negative\n",
    "# elif:\n",
    "#     Stagnation\n",
    "#     CCI = Neutral\n",
    "#     CPI = Neutral\n",
    "#     Public Debt = Neutral\n",
    "#     Wages = Neutral\n",
    "#     Unemployment = Strong Negative\n",
    "# else:\n",
    "#     Unknown\n",
    "\n",
    "# Boom                                      Tot: 0\n",
    "# df_eco_test_2[flag_cols].loc[\n",
    "#     (df_eco_test_2[flag_cols[0]] == 'strong positive') &\n",
    "#     (df_eco_test_2[flag_cols[1]] == 'moderate positive') |\n",
    "#     (df_eco_test_2[flag_cols[1]] == 'neutral') &\n",
    "#     (df_eco_test_2[flag_cols[2]] == 'neutral') &\n",
    "#     (df_eco_test_2[flag_cols[3]] == 'strong positive') &\n",
    "#     (df_eco_test_2[flag_cols[4]] == 'strong positive') &\n",
    "#     (df_eco_test_2[flag_cols[5]] == 'strong negative')\n",
    "# ].shape\n",
    "\n",
    "# Expansion                                 Tot: 0\n",
    "# df_eco_test_2[flag_cols].loc[\n",
    "#     (df_eco_test_2[flag_cols[0]] == 'moderate positive') &\n",
    "#     (df_eco_test_2[flag_cols[1]] == 'neutral') &\n",
    "#     (df_eco_test_2[flag_cols[2]] == 'neutral') &\n",
    "#     (df_eco_test_2[flag_cols[3]] == 'moderate positive') &\n",
    "#     (df_eco_test_2[flag_cols[4]] == 'moderate positive') &\n",
    "#     (df_eco_test_2[flag_cols[5]] == 'moderate negative')\n",
    "# ].shape\n",
    "\n",
    "# Recession                                 Tot: 14\n",
    "# df_eco_test_2[flag_cols].loc[\n",
    "#     (df_eco_test_2[flag_cols[0]] == 'strong negative') &\n",
    "#     (df_eco_test_2[flag_cols[1]] == 'strong negative') &\n",
    "#     (df_eco_test_2[flag_cols[2]] == 'strong positive') &\n",
    "#     (df_eco_test_2[flag_cols[3]] == 'moderate negative') |\n",
    "#     (df_eco_test_2[flag_cols[3]] == 'strong negative') &\n",
    "#     (df_eco_test_2[flag_cols[4]] == 'moderate negative') |\n",
    "#     (df_eco_test_2[flag_cols[4]] == 'strong negative') &\n",
    "#     (df_eco_test_2[flag_cols[5]] == 'strong positive')\n",
    "# ].shape\n",
    "\n",
    "# Contraction                               Tot: 28\n",
    "# df_eco_test_2[flag_cols].loc[\n",
    "#     (df_eco_test_2[flag_cols[0]] == 'moderate negative') &\n",
    "#     (df_eco_test_2[flag_cols[1]] == 'moderate negative') |\n",
    "#     (df_eco_test_2[flag_cols[1]] == 'strong negative') &\n",
    "#     (df_eco_test_2[flag_cols[2]] == 'strong positive') &\n",
    "#     (df_eco_test_2[flag_cols[3]] == 'moderate negative') |\n",
    "#     (df_eco_test_2[flag_cols[3]] == 'strong negative') &\n",
    "#     (df_eco_test_2[flag_cols[4]] == 'moderate negative') |\n",
    "#     (df_eco_test_2[flag_cols[4]] == 'strong negative') &\n",
    "#     (df_eco_test_2[flag_cols[5]] == 'strong positive')\n",
    "# ].shape\n",
    "\n",
    "# Recovery                                  Tot: 245\n",
    "# df_eco_test_2[flag_cols].loc[\n",
    "#     (df_eco_test_2[flag_cols[0]] == 'neutral') |\n",
    "#     (df_eco_test_2[flag_cols[0]] == 'moderate positive') &\n",
    "#     (df_eco_test_2[flag_cols[1]] == 'neutral') &\n",
    "#     (df_eco_test_2[flag_cols[2]] == 'neutral') &\n",
    "#     (df_eco_test_2[flag_cols[3]] == 'moderate positive') &\n",
    "#     (df_eco_test_2[flag_cols[4]] == 'moderate positive') &\n",
    "#     (df_eco_test_2[flag_cols[5]] == 'moderate negative')\n",
    "# ].shape\n",
    "\n",
    "# Stagnation                                Tot: 0\n",
    "# df_eco_test_2[flag_cols].loc[\n",
    "#     (df_eco_test_2[flag_cols[0]] == 'neutral') &\n",
    "#     (df_eco_test_2[flag_cols[1]] == 'neutral') &\n",
    "#     (df_eco_test_2[flag_cols[2]] == 'neutral') &\n",
    "#     (df_eco_test_2[flag_cols[3]] == 'neutral') &\n",
    "#     (df_eco_test_2[flag_cols[4]] == 'neutral') &\n",
    "#     (df_eco_test_2[flag_cols[5]] == 'strong negative')\n",
    "# ].shape\n",
    "\n",
    "# df_eco_test_2[flag_cols].loc[\n",
    "#     (df_eco_test_2[flag_cols[0]] == 'strong positive') |\n",
    "#     (df_eco_test_2[flag_cols[0]] == 'moderate positive') |\n",
    "#     (df_eco_test_2[flag_cols[0]] == 'neutral') |\n",
    "#     (df_eco_test_2[flag_cols[0]] == 'moderate negative') |\n",
    "#     (df_eco_test_2[flag_cols[0]] == 'strong negative')\n",
    "# ]\n",
    "\n",
    "# df_eco_test_2[flag_cols].loc[\n",
    "#     (df_eco_test_2[flag_cols[1]] == 'strong positive') |\n",
    "#     (df_eco_test_2[flag_cols[1]] == 'moderate positive') |\n",
    "#     (df_eco_test_2[flag_cols[1]] == 'neutral') |\n",
    "#     (df_eco_test_2[flag_cols[1]] == 'moderate negative') |\n",
    "#     (df_eco_test_2[flag_cols[1]] == 'strong negative')\n",
    "# ]\n",
    "\n",
    "# df_eco_test_2[flag_cols].loc[\n",
    "#     (df_eco_test_2[flag_cols[2]] == 'strong positive') |\n",
    "#     (df_eco_test_2[flag_cols[2]] == 'moderate positive') |\n",
    "#     (df_eco_test_2[flag_cols[2]] == 'neutral') |\n",
    "#     (df_eco_test_2[flag_cols[2]] == 'moderate negative') |\n",
    "#     (df_eco_test_2[flag_cols[2]] == 'strong negative')\n",
    "# ]\n",
    "\n",
    "# df_eco_test_2[flag_cols].loc[\n",
    "#     (df_eco_test_2[flag_cols[3]] == 'strong positive') |\n",
    "#     (df_eco_test_2[flag_cols[3]] == 'moderate positive') |\n",
    "#     (df_eco_test_2[flag_cols[3]] == 'neutral') |\n",
    "#     (df_eco_test_2[flag_cols[3]] == 'moderate negative') |\n",
    "#     (df_eco_test_2[flag_cols[3]] == 'strong negative')\n",
    "# ]\n",
    "\n",
    "# df_eco_test_2[flag_cols].loc[\n",
    "#     (df_eco_test_2[flag_cols[4]] == 'strong positive') |\n",
    "#     (df_eco_test_2[flag_cols[4]] == 'moderate positive') |\n",
    "#     (df_eco_test_2[flag_cols[4]] == 'neutral') |\n",
    "#     (df_eco_test_2[flag_cols[4]] == 'moderate negative') |\n",
    "#     (df_eco_test_2[flag_cols[4]] == 'strong negative')\n",
    "# ]\n",
    "\n",
    "# df_eco_test_2[flag_cols].loc[\n",
    "#     (df_eco_test_2[flag_cols[5]] == 'strong positive') |\n",
    "#     (df_eco_test_2[flag_cols[5]] == 'moderate positive') |\n",
    "#     (df_eco_test_2[flag_cols[5]] == 'neutral') |\n",
    "#     (df_eco_test_2[flag_cols[5]] == 'moderate negative') |\n",
    "#     (df_eco_test_2[flag_cols[5]] == 'strong negative')\n",
    "# ]"
   ]
  },
  {
   "cell_type": "code",
   "execution_count": null,
   "metadata": {},
   "outputs": [],
   "source": []
  }
 ],
 "metadata": {
  "kernelspec": {
   "display_name": "ai_dev",
   "language": "python",
   "name": "ai_dev"
  },
  "language_info": {
   "codemirror_mode": {
    "name": "ipython",
    "version": 3
   },
   "file_extension": ".py",
   "mimetype": "text/x-python",
   "name": "python",
   "nbconvert_exporter": "python",
   "pygments_lexer": "ipython3",
   "version": "3.10.13"
  }
 },
 "nbformat": 4,
 "nbformat_minor": 2
}
